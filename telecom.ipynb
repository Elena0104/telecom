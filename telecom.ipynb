{
 "cells": [
  {
   "cell_type": "markdown",
   "metadata": {},
   "source": [
    "###  Изучаем общую информацию "
   ]
  },
  {
   "cell_type": "markdown",
   "metadata": {},
   "source": [
    "  У нас имеются данные 500 пользователей компании телекома за 2018 год, которые пользуются одним из тарифов \"Смарт\" или \"Ультра\". Наша задача сделать предварительный анализ тарифов, для корректировки рекламного бюджета, и определить какой из тарифов приносит больше денег.\n",
    "  "
   ]
  },
  {
   "cell_type": "code",
   "execution_count": 1,
   "metadata": {},
   "outputs": [],
   "source": [
    "import pandas as pd"
   ]
  },
  {
   "cell_type": "code",
   "execution_count": 2,
   "metadata": {},
   "outputs": [],
   "source": [
    "import matplotlib.pyplot as plt"
   ]
  },
  {
   "cell_type": "code",
   "execution_count": 3,
   "metadata": {},
   "outputs": [],
   "source": [
    "import numpy as np\n"
   ]
  },
  {
   "cell_type": "code",
   "execution_count": 4,
   "metadata": {},
   "outputs": [],
   "source": [
    "from scipy.stats import ttest_ind"
   ]
  },
  {
   "cell_type": "code",
   "execution_count": 5,
   "metadata": {},
   "outputs": [],
   "source": [
    "from math import factorial"
   ]
  },
  {
   "cell_type": "code",
   "execution_count": 6,
   "metadata": {},
   "outputs": [],
   "source": [
    "calls = pd.read_csv('/datasets/calls.csv')"
   ]
  },
  {
   "cell_type": "code",
   "execution_count": 7,
   "metadata": {},
   "outputs": [],
   "source": [
    "internet = pd.read_csv('/datasets/internet.csv')"
   ]
  },
  {
   "cell_type": "code",
   "execution_count": 8,
   "metadata": {},
   "outputs": [],
   "source": [
    "messages = pd.read_csv('/datasets/messages.csv')"
   ]
  },
  {
   "cell_type": "code",
   "execution_count": 9,
   "metadata": {},
   "outputs": [],
   "source": [
    "tariffs = pd.read_csv('/datasets/tariffs.csv')"
   ]
  },
  {
   "cell_type": "code",
   "execution_count": 10,
   "metadata": {},
   "outputs": [],
   "source": [
    "users = pd.read_csv('/datasets/users.csv')"
   ]
  },
  {
   "cell_type": "code",
   "execution_count": 11,
   "metadata": {},
   "outputs": [
    {
     "data": {
      "text/html": [
       "<div>\n",
       "<style scoped>\n",
       "    .dataframe tbody tr th:only-of-type {\n",
       "        vertical-align: middle;\n",
       "    }\n",
       "\n",
       "    .dataframe tbody tr th {\n",
       "        vertical-align: top;\n",
       "    }\n",
       "\n",
       "    .dataframe thead th {\n",
       "        text-align: right;\n",
       "    }\n",
       "</style>\n",
       "<table border=\"1\" class=\"dataframe\">\n",
       "  <thead>\n",
       "    <tr style=\"text-align: right;\">\n",
       "      <th></th>\n",
       "      <th>user_id</th>\n",
       "      <th>age</th>\n",
       "      <th>churn_date</th>\n",
       "      <th>city</th>\n",
       "      <th>first_name</th>\n",
       "      <th>last_name</th>\n",
       "      <th>reg_date</th>\n",
       "      <th>tariff</th>\n",
       "    </tr>\n",
       "  </thead>\n",
       "  <tbody>\n",
       "    <tr>\n",
       "      <th>0</th>\n",
       "      <td>1000</td>\n",
       "      <td>52</td>\n",
       "      <td>NaN</td>\n",
       "      <td>Краснодар</td>\n",
       "      <td>Рафаил</td>\n",
       "      <td>Верещагин</td>\n",
       "      <td>2018-05-25</td>\n",
       "      <td>ultra</td>\n",
       "    </tr>\n",
       "    <tr>\n",
       "      <th>1</th>\n",
       "      <td>1001</td>\n",
       "      <td>41</td>\n",
       "      <td>NaN</td>\n",
       "      <td>Москва</td>\n",
       "      <td>Иван</td>\n",
       "      <td>Ежов</td>\n",
       "      <td>2018-11-01</td>\n",
       "      <td>smart</td>\n",
       "    </tr>\n",
       "    <tr>\n",
       "      <th>2</th>\n",
       "      <td>1002</td>\n",
       "      <td>59</td>\n",
       "      <td>NaN</td>\n",
       "      <td>Стерлитамак</td>\n",
       "      <td>Евгений</td>\n",
       "      <td>Абрамович</td>\n",
       "      <td>2018-06-17</td>\n",
       "      <td>smart</td>\n",
       "    </tr>\n",
       "    <tr>\n",
       "      <th>3</th>\n",
       "      <td>1003</td>\n",
       "      <td>23</td>\n",
       "      <td>NaN</td>\n",
       "      <td>Москва</td>\n",
       "      <td>Белла</td>\n",
       "      <td>Белякова</td>\n",
       "      <td>2018-08-17</td>\n",
       "      <td>ultra</td>\n",
       "    </tr>\n",
       "    <tr>\n",
       "      <th>4</th>\n",
       "      <td>1004</td>\n",
       "      <td>68</td>\n",
       "      <td>NaN</td>\n",
       "      <td>Новокузнецк</td>\n",
       "      <td>Татьяна</td>\n",
       "      <td>Авдеенко</td>\n",
       "      <td>2018-05-14</td>\n",
       "      <td>ultra</td>\n",
       "    </tr>\n",
       "    <tr>\n",
       "      <th>5</th>\n",
       "      <td>1005</td>\n",
       "      <td>67</td>\n",
       "      <td>NaN</td>\n",
       "      <td>Набережные Челны</td>\n",
       "      <td>Афанасий</td>\n",
       "      <td>Горлов</td>\n",
       "      <td>2018-01-25</td>\n",
       "      <td>smart</td>\n",
       "    </tr>\n",
       "    <tr>\n",
       "      <th>6</th>\n",
       "      <td>1006</td>\n",
       "      <td>21</td>\n",
       "      <td>NaN</td>\n",
       "      <td>Ульяновск</td>\n",
       "      <td>Леонид</td>\n",
       "      <td>Ермолаев</td>\n",
       "      <td>2018-02-26</td>\n",
       "      <td>smart</td>\n",
       "    </tr>\n",
       "    <tr>\n",
       "      <th>7</th>\n",
       "      <td>1007</td>\n",
       "      <td>65</td>\n",
       "      <td>NaN</td>\n",
       "      <td>Москва</td>\n",
       "      <td>Юна</td>\n",
       "      <td>Березина</td>\n",
       "      <td>2018-04-19</td>\n",
       "      <td>smart</td>\n",
       "    </tr>\n",
       "    <tr>\n",
       "      <th>8</th>\n",
       "      <td>1008</td>\n",
       "      <td>63</td>\n",
       "      <td>NaN</td>\n",
       "      <td>Челябинск</td>\n",
       "      <td>Рустэм</td>\n",
       "      <td>Пономарёв</td>\n",
       "      <td>2018-12-19</td>\n",
       "      <td>smart</td>\n",
       "    </tr>\n",
       "    <tr>\n",
       "      <th>9</th>\n",
       "      <td>1009</td>\n",
       "      <td>24</td>\n",
       "      <td>NaN</td>\n",
       "      <td>Пермь</td>\n",
       "      <td>Василиса</td>\n",
       "      <td>Блинова</td>\n",
       "      <td>2018-03-22</td>\n",
       "      <td>smart</td>\n",
       "    </tr>\n",
       "  </tbody>\n",
       "</table>\n",
       "</div>"
      ],
      "text/plain": [
       "   user_id  age churn_date              city first_name  last_name  \\\n",
       "0     1000   52        NaN         Краснодар     Рафаил  Верещагин   \n",
       "1     1001   41        NaN            Москва       Иван       Ежов   \n",
       "2     1002   59        NaN       Стерлитамак    Евгений  Абрамович   \n",
       "3     1003   23        NaN            Москва      Белла   Белякова   \n",
       "4     1004   68        NaN       Новокузнецк    Татьяна   Авдеенко   \n",
       "5     1005   67        NaN  Набережные Челны   Афанасий     Горлов   \n",
       "6     1006   21        NaN         Ульяновск     Леонид   Ермолаев   \n",
       "7     1007   65        NaN            Москва        Юна   Березина   \n",
       "8     1008   63        NaN         Челябинск     Рустэм  Пономарёв   \n",
       "9     1009   24        NaN             Пермь   Василиса    Блинова   \n",
       "\n",
       "     reg_date tariff  \n",
       "0  2018-05-25  ultra  \n",
       "1  2018-11-01  smart  \n",
       "2  2018-06-17  smart  \n",
       "3  2018-08-17  ultra  \n",
       "4  2018-05-14  ultra  \n",
       "5  2018-01-25  smart  \n",
       "6  2018-02-26  smart  \n",
       "7  2018-04-19  smart  \n",
       "8  2018-12-19  smart  \n",
       "9  2018-03-22  smart  "
      ]
     },
     "execution_count": 11,
     "metadata": {},
     "output_type": "execute_result"
    }
   ],
   "source": [
    "users.head(10)"
   ]
  },
  {
   "cell_type": "code",
   "execution_count": 12,
   "metadata": {
    "scrolled": true
   },
   "outputs": [
    {
     "name": "stdout",
     "output_type": "stream",
     "text": [
      "<class 'pandas.core.frame.DataFrame'>\n",
      "RangeIndex: 202607 entries, 0 to 202606\n",
      "Data columns (total 4 columns):\n",
      " #   Column     Non-Null Count   Dtype  \n",
      "---  ------     --------------   -----  \n",
      " 0   id         202607 non-null  object \n",
      " 1   call_date  202607 non-null  object \n",
      " 2   duration   202607 non-null  float64\n",
      " 3   user_id    202607 non-null  int64  \n",
      "dtypes: float64(1), int64(1), object(2)\n",
      "memory usage: 6.2+ MB\n"
     ]
    }
   ],
   "source": [
    "calls.info()"
   ]
  },
  {
   "cell_type": "code",
   "execution_count": 13,
   "metadata": {},
   "outputs": [],
   "source": [
    "#меняем формат столбца 'call_date'\n",
    "calls['call_date'] = pd.to_datetime(calls['call_date'], format='%Y-%m-%d') "
   ]
  },
  {
   "cell_type": "code",
   "execution_count": 14,
   "metadata": {},
   "outputs": [
    {
     "data": {
      "text/html": [
       "<div>\n",
       "<style scoped>\n",
       "    .dataframe tbody tr th:only-of-type {\n",
       "        vertical-align: middle;\n",
       "    }\n",
       "\n",
       "    .dataframe tbody tr th {\n",
       "        vertical-align: top;\n",
       "    }\n",
       "\n",
       "    .dataframe thead th {\n",
       "        text-align: right;\n",
       "    }\n",
       "</style>\n",
       "<table border=\"1\" class=\"dataframe\">\n",
       "  <thead>\n",
       "    <tr style=\"text-align: right;\">\n",
       "      <th></th>\n",
       "      <th>Unnamed: 0</th>\n",
       "      <th>id</th>\n",
       "      <th>mb_used</th>\n",
       "      <th>session_date</th>\n",
       "      <th>user_id</th>\n",
       "    </tr>\n",
       "  </thead>\n",
       "  <tbody>\n",
       "    <tr>\n",
       "      <th>0</th>\n",
       "      <td>0</td>\n",
       "      <td>1000_0</td>\n",
       "      <td>112.95</td>\n",
       "      <td>2018-11-25</td>\n",
       "      <td>1000</td>\n",
       "    </tr>\n",
       "    <tr>\n",
       "      <th>1</th>\n",
       "      <td>1</td>\n",
       "      <td>1000_1</td>\n",
       "      <td>1052.81</td>\n",
       "      <td>2018-09-07</td>\n",
       "      <td>1000</td>\n",
       "    </tr>\n",
       "    <tr>\n",
       "      <th>2</th>\n",
       "      <td>2</td>\n",
       "      <td>1000_2</td>\n",
       "      <td>1197.26</td>\n",
       "      <td>2018-06-25</td>\n",
       "      <td>1000</td>\n",
       "    </tr>\n",
       "    <tr>\n",
       "      <th>3</th>\n",
       "      <td>3</td>\n",
       "      <td>1000_3</td>\n",
       "      <td>550.27</td>\n",
       "      <td>2018-08-22</td>\n",
       "      <td>1000</td>\n",
       "    </tr>\n",
       "    <tr>\n",
       "      <th>4</th>\n",
       "      <td>4</td>\n",
       "      <td>1000_4</td>\n",
       "      <td>302.56</td>\n",
       "      <td>2018-09-24</td>\n",
       "      <td>1000</td>\n",
       "    </tr>\n",
       "    <tr>\n",
       "      <th>5</th>\n",
       "      <td>5</td>\n",
       "      <td>1000_5</td>\n",
       "      <td>399.97</td>\n",
       "      <td>2018-10-02</td>\n",
       "      <td>1000</td>\n",
       "    </tr>\n",
       "    <tr>\n",
       "      <th>6</th>\n",
       "      <td>6</td>\n",
       "      <td>1000_6</td>\n",
       "      <td>540.08</td>\n",
       "      <td>2018-09-07</td>\n",
       "      <td>1000</td>\n",
       "    </tr>\n",
       "    <tr>\n",
       "      <th>7</th>\n",
       "      <td>7</td>\n",
       "      <td>1000_7</td>\n",
       "      <td>415.70</td>\n",
       "      <td>2018-07-11</td>\n",
       "      <td>1000</td>\n",
       "    </tr>\n",
       "    <tr>\n",
       "      <th>8</th>\n",
       "      <td>8</td>\n",
       "      <td>1000_8</td>\n",
       "      <td>505.40</td>\n",
       "      <td>2018-10-08</td>\n",
       "      <td>1000</td>\n",
       "    </tr>\n",
       "    <tr>\n",
       "      <th>9</th>\n",
       "      <td>9</td>\n",
       "      <td>1000_9</td>\n",
       "      <td>345.54</td>\n",
       "      <td>2018-09-03</td>\n",
       "      <td>1000</td>\n",
       "    </tr>\n",
       "  </tbody>\n",
       "</table>\n",
       "</div>"
      ],
      "text/plain": [
       "   Unnamed: 0      id  mb_used session_date  user_id\n",
       "0           0  1000_0   112.95   2018-11-25     1000\n",
       "1           1  1000_1  1052.81   2018-09-07     1000\n",
       "2           2  1000_2  1197.26   2018-06-25     1000\n",
       "3           3  1000_3   550.27   2018-08-22     1000\n",
       "4           4  1000_4   302.56   2018-09-24     1000\n",
       "5           5  1000_5   399.97   2018-10-02     1000\n",
       "6           6  1000_6   540.08   2018-09-07     1000\n",
       "7           7  1000_7   415.70   2018-07-11     1000\n",
       "8           8  1000_8   505.40   2018-10-08     1000\n",
       "9           9  1000_9   345.54   2018-09-03     1000"
      ]
     },
     "execution_count": 14,
     "metadata": {},
     "output_type": "execute_result"
    }
   ],
   "source": [
    "internet.head(10)"
   ]
  },
  {
   "cell_type": "code",
   "execution_count": 15,
   "metadata": {},
   "outputs": [
    {
     "name": "stdout",
     "output_type": "stream",
     "text": [
      "<class 'pandas.core.frame.DataFrame'>\n",
      "RangeIndex: 149396 entries, 0 to 149395\n",
      "Data columns (total 5 columns):\n",
      " #   Column        Non-Null Count   Dtype  \n",
      "---  ------        --------------   -----  \n",
      " 0   Unnamed: 0    149396 non-null  int64  \n",
      " 1   id            149396 non-null  object \n",
      " 2   mb_used       149396 non-null  float64\n",
      " 3   session_date  149396 non-null  object \n",
      " 4   user_id       149396 non-null  int64  \n",
      "dtypes: float64(1), int64(2), object(2)\n",
      "memory usage: 5.7+ MB\n"
     ]
    }
   ],
   "source": [
    "internet.info()"
   ]
  },
  {
   "cell_type": "code",
   "execution_count": 16,
   "metadata": {},
   "outputs": [],
   "source": [
    "#меняем формат столбца 'session_date'\n",
    "internet['session_date'] =  pd.to_datetime(internet['session_date'], format='%Y-%m-%d')"
   ]
  },
  {
   "cell_type": "code",
   "execution_count": 17,
   "metadata": {},
   "outputs": [
    {
     "data": {
      "text/html": [
       "<div>\n",
       "<style scoped>\n",
       "    .dataframe tbody tr th:only-of-type {\n",
       "        vertical-align: middle;\n",
       "    }\n",
       "\n",
       "    .dataframe tbody tr th {\n",
       "        vertical-align: top;\n",
       "    }\n",
       "\n",
       "    .dataframe thead th {\n",
       "        text-align: right;\n",
       "    }\n",
       "</style>\n",
       "<table border=\"1\" class=\"dataframe\">\n",
       "  <thead>\n",
       "    <tr style=\"text-align: right;\">\n",
       "      <th></th>\n",
       "      <th>id</th>\n",
       "      <th>message_date</th>\n",
       "      <th>user_id</th>\n",
       "    </tr>\n",
       "  </thead>\n",
       "  <tbody>\n",
       "    <tr>\n",
       "      <th>0</th>\n",
       "      <td>1000_0</td>\n",
       "      <td>2018-06-27</td>\n",
       "      <td>1000</td>\n",
       "    </tr>\n",
       "    <tr>\n",
       "      <th>1</th>\n",
       "      <td>1000_1</td>\n",
       "      <td>2018-10-08</td>\n",
       "      <td>1000</td>\n",
       "    </tr>\n",
       "    <tr>\n",
       "      <th>2</th>\n",
       "      <td>1000_2</td>\n",
       "      <td>2018-08-04</td>\n",
       "      <td>1000</td>\n",
       "    </tr>\n",
       "    <tr>\n",
       "      <th>3</th>\n",
       "      <td>1000_3</td>\n",
       "      <td>2018-06-16</td>\n",
       "      <td>1000</td>\n",
       "    </tr>\n",
       "    <tr>\n",
       "      <th>4</th>\n",
       "      <td>1000_4</td>\n",
       "      <td>2018-12-05</td>\n",
       "      <td>1000</td>\n",
       "    </tr>\n",
       "    <tr>\n",
       "      <th>5</th>\n",
       "      <td>1000_5</td>\n",
       "      <td>2018-06-20</td>\n",
       "      <td>1000</td>\n",
       "    </tr>\n",
       "    <tr>\n",
       "      <th>6</th>\n",
       "      <td>1000_6</td>\n",
       "      <td>2018-11-19</td>\n",
       "      <td>1000</td>\n",
       "    </tr>\n",
       "    <tr>\n",
       "      <th>7</th>\n",
       "      <td>1000_7</td>\n",
       "      <td>2018-10-29</td>\n",
       "      <td>1000</td>\n",
       "    </tr>\n",
       "    <tr>\n",
       "      <th>8</th>\n",
       "      <td>1000_8</td>\n",
       "      <td>2018-06-25</td>\n",
       "      <td>1000</td>\n",
       "    </tr>\n",
       "    <tr>\n",
       "      <th>9</th>\n",
       "      <td>1000_9</td>\n",
       "      <td>2018-12-18</td>\n",
       "      <td>1000</td>\n",
       "    </tr>\n",
       "  </tbody>\n",
       "</table>\n",
       "</div>"
      ],
      "text/plain": [
       "       id message_date  user_id\n",
       "0  1000_0   2018-06-27     1000\n",
       "1  1000_1   2018-10-08     1000\n",
       "2  1000_2   2018-08-04     1000\n",
       "3  1000_3   2018-06-16     1000\n",
       "4  1000_4   2018-12-05     1000\n",
       "5  1000_5   2018-06-20     1000\n",
       "6  1000_6   2018-11-19     1000\n",
       "7  1000_7   2018-10-29     1000\n",
       "8  1000_8   2018-06-25     1000\n",
       "9  1000_9   2018-12-18     1000"
      ]
     },
     "execution_count": 17,
     "metadata": {},
     "output_type": "execute_result"
    }
   ],
   "source": [
    "messages.head(10)"
   ]
  },
  {
   "cell_type": "code",
   "execution_count": 18,
   "metadata": {},
   "outputs": [
    {
     "name": "stdout",
     "output_type": "stream",
     "text": [
      "<class 'pandas.core.frame.DataFrame'>\n",
      "RangeIndex: 123036 entries, 0 to 123035\n",
      "Data columns (total 3 columns):\n",
      " #   Column        Non-Null Count   Dtype \n",
      "---  ------        --------------   ----- \n",
      " 0   id            123036 non-null  object\n",
      " 1   message_date  123036 non-null  object\n",
      " 2   user_id       123036 non-null  int64 \n",
      "dtypes: int64(1), object(2)\n",
      "memory usage: 2.8+ MB\n"
     ]
    }
   ],
   "source": [
    "messages.info()"
   ]
  },
  {
   "cell_type": "code",
   "execution_count": 19,
   "metadata": {},
   "outputs": [],
   "source": [
    "#меняем формат столбца 'message_date'\n",
    "messages['message_date'] = pd.to_datetime(messages['message_date'], format='%Y-%m-%d')"
   ]
  },
  {
   "cell_type": "code",
   "execution_count": 20,
   "metadata": {},
   "outputs": [
    {
     "data": {
      "text/html": [
       "<div>\n",
       "<style scoped>\n",
       "    .dataframe tbody tr th:only-of-type {\n",
       "        vertical-align: middle;\n",
       "    }\n",
       "\n",
       "    .dataframe tbody tr th {\n",
       "        vertical-align: top;\n",
       "    }\n",
       "\n",
       "    .dataframe thead th {\n",
       "        text-align: right;\n",
       "    }\n",
       "</style>\n",
       "<table border=\"1\" class=\"dataframe\">\n",
       "  <thead>\n",
       "    <tr style=\"text-align: right;\">\n",
       "      <th></th>\n",
       "      <th>messages_included</th>\n",
       "      <th>mb_per_month_included</th>\n",
       "      <th>minutes_included</th>\n",
       "      <th>rub_monthly_fee</th>\n",
       "      <th>rub_per_gb</th>\n",
       "      <th>rub_per_message</th>\n",
       "      <th>rub_per_minute</th>\n",
       "      <th>tariff_name</th>\n",
       "    </tr>\n",
       "  </thead>\n",
       "  <tbody>\n",
       "    <tr>\n",
       "      <th>0</th>\n",
       "      <td>50</td>\n",
       "      <td>15360</td>\n",
       "      <td>500</td>\n",
       "      <td>550</td>\n",
       "      <td>200</td>\n",
       "      <td>3</td>\n",
       "      <td>3</td>\n",
       "      <td>smart</td>\n",
       "    </tr>\n",
       "    <tr>\n",
       "      <th>1</th>\n",
       "      <td>1000</td>\n",
       "      <td>30720</td>\n",
       "      <td>3000</td>\n",
       "      <td>1950</td>\n",
       "      <td>150</td>\n",
       "      <td>1</td>\n",
       "      <td>1</td>\n",
       "      <td>ultra</td>\n",
       "    </tr>\n",
       "  </tbody>\n",
       "</table>\n",
       "</div>"
      ],
      "text/plain": [
       "   messages_included  mb_per_month_included  minutes_included  \\\n",
       "0                 50                  15360               500   \n",
       "1               1000                  30720              3000   \n",
       "\n",
       "   rub_monthly_fee  rub_per_gb  rub_per_message  rub_per_minute tariff_name  \n",
       "0              550         200                3               3       smart  \n",
       "1             1950         150                1               1       ultra  "
      ]
     },
     "execution_count": 20,
     "metadata": {},
     "output_type": "execute_result"
    }
   ],
   "source": [
    "tariffs.head()"
   ]
  },
  {
   "cell_type": "code",
   "execution_count": 21,
   "metadata": {},
   "outputs": [
    {
     "data": {
      "text/html": [
       "<div>\n",
       "<style scoped>\n",
       "    .dataframe tbody tr th:only-of-type {\n",
       "        vertical-align: middle;\n",
       "    }\n",
       "\n",
       "    .dataframe tbody tr th {\n",
       "        vertical-align: top;\n",
       "    }\n",
       "\n",
       "    .dataframe thead th {\n",
       "        text-align: right;\n",
       "    }\n",
       "</style>\n",
       "<table border=\"1\" class=\"dataframe\">\n",
       "  <thead>\n",
       "    <tr style=\"text-align: right;\">\n",
       "      <th></th>\n",
       "      <th>messages_included</th>\n",
       "      <th>mb_per_month_included</th>\n",
       "      <th>minutes_included</th>\n",
       "      <th>rub_monthly_fee</th>\n",
       "      <th>rub_per_gb</th>\n",
       "      <th>rub_per_message</th>\n",
       "      <th>rub_per_minute</th>\n",
       "      <th>tariff</th>\n",
       "    </tr>\n",
       "  </thead>\n",
       "  <tbody>\n",
       "    <tr>\n",
       "      <th>0</th>\n",
       "      <td>50</td>\n",
       "      <td>15360</td>\n",
       "      <td>500</td>\n",
       "      <td>550</td>\n",
       "      <td>200</td>\n",
       "      <td>3</td>\n",
       "      <td>3</td>\n",
       "      <td>smart</td>\n",
       "    </tr>\n",
       "    <tr>\n",
       "      <th>1</th>\n",
       "      <td>1000</td>\n",
       "      <td>30720</td>\n",
       "      <td>3000</td>\n",
       "      <td>1950</td>\n",
       "      <td>150</td>\n",
       "      <td>1</td>\n",
       "      <td>1</td>\n",
       "      <td>ultra</td>\n",
       "    </tr>\n",
       "  </tbody>\n",
       "</table>\n",
       "</div>"
      ],
      "text/plain": [
       "   messages_included  mb_per_month_included  minutes_included  \\\n",
       "0                 50                  15360               500   \n",
       "1               1000                  30720              3000   \n",
       "\n",
       "   rub_monthly_fee  rub_per_gb  rub_per_message  rub_per_minute tariff  \n",
       "0              550         200                3               3  smart  \n",
       "1             1950         150                1               1  ultra  "
      ]
     },
     "execution_count": 21,
     "metadata": {},
     "output_type": "execute_result"
    }
   ],
   "source": [
    "tariffs = tariffs.rename(columns={'tariff_name':'tariff'})\n",
    "tariffs"
   ]
  },
  {
   "cell_type": "code",
   "execution_count": 22,
   "metadata": {},
   "outputs": [
    {
     "name": "stdout",
     "output_type": "stream",
     "text": [
      "<class 'pandas.core.frame.DataFrame'>\n",
      "RangeIndex: 2 entries, 0 to 1\n",
      "Data columns (total 8 columns):\n",
      " #   Column                 Non-Null Count  Dtype \n",
      "---  ------                 --------------  ----- \n",
      " 0   messages_included      2 non-null      int64 \n",
      " 1   mb_per_month_included  2 non-null      int64 \n",
      " 2   minutes_included       2 non-null      int64 \n",
      " 3   rub_monthly_fee        2 non-null      int64 \n",
      " 4   rub_per_gb             2 non-null      int64 \n",
      " 5   rub_per_message        2 non-null      int64 \n",
      " 6   rub_per_minute         2 non-null      int64 \n",
      " 7   tariff                 2 non-null      object\n",
      "dtypes: int64(7), object(1)\n",
      "memory usage: 256.0+ bytes\n"
     ]
    }
   ],
   "source": [
    "tariffs.info()"
   ]
  },
  {
   "cell_type": "code",
   "execution_count": 23,
   "metadata": {
    "scrolled": true
   },
   "outputs": [
    {
     "data": {
      "text/html": [
       "<div>\n",
       "<style scoped>\n",
       "    .dataframe tbody tr th:only-of-type {\n",
       "        vertical-align: middle;\n",
       "    }\n",
       "\n",
       "    .dataframe tbody tr th {\n",
       "        vertical-align: top;\n",
       "    }\n",
       "\n",
       "    .dataframe thead th {\n",
       "        text-align: right;\n",
       "    }\n",
       "</style>\n",
       "<table border=\"1\" class=\"dataframe\">\n",
       "  <thead>\n",
       "    <tr style=\"text-align: right;\">\n",
       "      <th></th>\n",
       "      <th>user_id</th>\n",
       "      <th>age</th>\n",
       "      <th>churn_date</th>\n",
       "      <th>city</th>\n",
       "      <th>first_name</th>\n",
       "      <th>last_name</th>\n",
       "      <th>reg_date</th>\n",
       "      <th>tariff</th>\n",
       "    </tr>\n",
       "  </thead>\n",
       "  <tbody>\n",
       "    <tr>\n",
       "      <th>0</th>\n",
       "      <td>1000</td>\n",
       "      <td>52</td>\n",
       "      <td>NaN</td>\n",
       "      <td>Краснодар</td>\n",
       "      <td>Рафаил</td>\n",
       "      <td>Верещагин</td>\n",
       "      <td>2018-05-25</td>\n",
       "      <td>ultra</td>\n",
       "    </tr>\n",
       "    <tr>\n",
       "      <th>1</th>\n",
       "      <td>1001</td>\n",
       "      <td>41</td>\n",
       "      <td>NaN</td>\n",
       "      <td>Москва</td>\n",
       "      <td>Иван</td>\n",
       "      <td>Ежов</td>\n",
       "      <td>2018-11-01</td>\n",
       "      <td>smart</td>\n",
       "    </tr>\n",
       "    <tr>\n",
       "      <th>2</th>\n",
       "      <td>1002</td>\n",
       "      <td>59</td>\n",
       "      <td>NaN</td>\n",
       "      <td>Стерлитамак</td>\n",
       "      <td>Евгений</td>\n",
       "      <td>Абрамович</td>\n",
       "      <td>2018-06-17</td>\n",
       "      <td>smart</td>\n",
       "    </tr>\n",
       "    <tr>\n",
       "      <th>3</th>\n",
       "      <td>1003</td>\n",
       "      <td>23</td>\n",
       "      <td>NaN</td>\n",
       "      <td>Москва</td>\n",
       "      <td>Белла</td>\n",
       "      <td>Белякова</td>\n",
       "      <td>2018-08-17</td>\n",
       "      <td>ultra</td>\n",
       "    </tr>\n",
       "    <tr>\n",
       "      <th>4</th>\n",
       "      <td>1004</td>\n",
       "      <td>68</td>\n",
       "      <td>NaN</td>\n",
       "      <td>Новокузнецк</td>\n",
       "      <td>Татьяна</td>\n",
       "      <td>Авдеенко</td>\n",
       "      <td>2018-05-14</td>\n",
       "      <td>ultra</td>\n",
       "    </tr>\n",
       "    <tr>\n",
       "      <th>5</th>\n",
       "      <td>1005</td>\n",
       "      <td>67</td>\n",
       "      <td>NaN</td>\n",
       "      <td>Набережные Челны</td>\n",
       "      <td>Афанасий</td>\n",
       "      <td>Горлов</td>\n",
       "      <td>2018-01-25</td>\n",
       "      <td>smart</td>\n",
       "    </tr>\n",
       "    <tr>\n",
       "      <th>6</th>\n",
       "      <td>1006</td>\n",
       "      <td>21</td>\n",
       "      <td>NaN</td>\n",
       "      <td>Ульяновск</td>\n",
       "      <td>Леонид</td>\n",
       "      <td>Ермолаев</td>\n",
       "      <td>2018-02-26</td>\n",
       "      <td>smart</td>\n",
       "    </tr>\n",
       "    <tr>\n",
       "      <th>7</th>\n",
       "      <td>1007</td>\n",
       "      <td>65</td>\n",
       "      <td>NaN</td>\n",
       "      <td>Москва</td>\n",
       "      <td>Юна</td>\n",
       "      <td>Березина</td>\n",
       "      <td>2018-04-19</td>\n",
       "      <td>smart</td>\n",
       "    </tr>\n",
       "    <tr>\n",
       "      <th>8</th>\n",
       "      <td>1008</td>\n",
       "      <td>63</td>\n",
       "      <td>NaN</td>\n",
       "      <td>Челябинск</td>\n",
       "      <td>Рустэм</td>\n",
       "      <td>Пономарёв</td>\n",
       "      <td>2018-12-19</td>\n",
       "      <td>smart</td>\n",
       "    </tr>\n",
       "    <tr>\n",
       "      <th>9</th>\n",
       "      <td>1009</td>\n",
       "      <td>24</td>\n",
       "      <td>NaN</td>\n",
       "      <td>Пермь</td>\n",
       "      <td>Василиса</td>\n",
       "      <td>Блинова</td>\n",
       "      <td>2018-03-22</td>\n",
       "      <td>smart</td>\n",
       "    </tr>\n",
       "  </tbody>\n",
       "</table>\n",
       "</div>"
      ],
      "text/plain": [
       "   user_id  age churn_date              city first_name  last_name  \\\n",
       "0     1000   52        NaN         Краснодар     Рафаил  Верещагин   \n",
       "1     1001   41        NaN            Москва       Иван       Ежов   \n",
       "2     1002   59        NaN       Стерлитамак    Евгений  Абрамович   \n",
       "3     1003   23        NaN            Москва      Белла   Белякова   \n",
       "4     1004   68        NaN       Новокузнецк    Татьяна   Авдеенко   \n",
       "5     1005   67        NaN  Набережные Челны   Афанасий     Горлов   \n",
       "6     1006   21        NaN         Ульяновск     Леонид   Ермолаев   \n",
       "7     1007   65        NaN            Москва        Юна   Березина   \n",
       "8     1008   63        NaN         Челябинск     Рустэм  Пономарёв   \n",
       "9     1009   24        NaN             Пермь   Василиса    Блинова   \n",
       "\n",
       "     reg_date tariff  \n",
       "0  2018-05-25  ultra  \n",
       "1  2018-11-01  smart  \n",
       "2  2018-06-17  smart  \n",
       "3  2018-08-17  ultra  \n",
       "4  2018-05-14  ultra  \n",
       "5  2018-01-25  smart  \n",
       "6  2018-02-26  smart  \n",
       "7  2018-04-19  smart  \n",
       "8  2018-12-19  smart  \n",
       "9  2018-03-22  smart  "
      ]
     },
     "execution_count": 23,
     "metadata": {},
     "output_type": "execute_result"
    }
   ],
   "source": [
    "users.head(10)"
   ]
  },
  {
   "cell_type": "code",
   "execution_count": 24,
   "metadata": {},
   "outputs": [
    {
     "name": "stdout",
     "output_type": "stream",
     "text": [
      "<class 'pandas.core.frame.DataFrame'>\n",
      "RangeIndex: 500 entries, 0 to 499\n",
      "Data columns (total 8 columns):\n",
      " #   Column      Non-Null Count  Dtype \n",
      "---  ------      --------------  ----- \n",
      " 0   user_id     500 non-null    int64 \n",
      " 1   age         500 non-null    int64 \n",
      " 2   churn_date  38 non-null     object\n",
      " 3   city        500 non-null    object\n",
      " 4   first_name  500 non-null    object\n",
      " 5   last_name   500 non-null    object\n",
      " 6   reg_date    500 non-null    object\n",
      " 7   tariff      500 non-null    object\n",
      "dtypes: int64(2), object(6)\n",
      "memory usage: 31.4+ KB\n"
     ]
    }
   ],
   "source": [
    "users.info()"
   ]
  },
  {
   "cell_type": "code",
   "execution_count": 25,
   "metadata": {},
   "outputs": [],
   "source": [
    "#меняем формат столбца 'reg_date'\n",
    "users['reg_date'] = pd.to_datetime(users['reg_date'], format='%Y-%m-%d')"
   ]
  },
  {
   "cell_type": "code",
   "execution_count": 26,
   "metadata": {},
   "outputs": [
    {
     "data": {
      "text/plain": [
       "id           0\n",
       "call_date    0\n",
       "duration     0\n",
       "user_id      0\n",
       "dtype: int64"
      ]
     },
     "execution_count": 26,
     "metadata": {},
     "output_type": "execute_result"
    }
   ],
   "source": [
    "#проверяем пропуски\n",
    "calls.isna().sum()"
   ]
  },
  {
   "cell_type": "code",
   "execution_count": 27,
   "metadata": {},
   "outputs": [
    {
     "data": {
      "text/plain": [
       "Unnamed: 0      0\n",
       "id              0\n",
       "mb_used         0\n",
       "session_date    0\n",
       "user_id         0\n",
       "dtype: int64"
      ]
     },
     "execution_count": 27,
     "metadata": {},
     "output_type": "execute_result"
    }
   ],
   "source": [
    "#проверяем пропуски\n",
    "internet.isna().sum()"
   ]
  },
  {
   "cell_type": "code",
   "execution_count": 28,
   "metadata": {},
   "outputs": [
    {
     "data": {
      "text/plain": [
       "id              0\n",
       "message_date    0\n",
       "user_id         0\n",
       "dtype: int64"
      ]
     },
     "execution_count": 28,
     "metadata": {},
     "output_type": "execute_result"
    }
   ],
   "source": [
    "#проверяем пропуски\n",
    "messages.isna().sum()"
   ]
  },
  {
   "cell_type": "code",
   "execution_count": 29,
   "metadata": {},
   "outputs": [
    {
     "data": {
      "text/plain": [
       "messages_included        0\n",
       "mb_per_month_included    0\n",
       "minutes_included         0\n",
       "rub_monthly_fee          0\n",
       "rub_per_gb               0\n",
       "rub_per_message          0\n",
       "rub_per_minute           0\n",
       "tariff                   0\n",
       "dtype: int64"
      ]
     },
     "execution_count": 29,
     "metadata": {},
     "output_type": "execute_result"
    }
   ],
   "source": [
    "#проверяем пропуски\n",
    "tariffs.isna().sum()"
   ]
  },
  {
   "cell_type": "code",
   "execution_count": 30,
   "metadata": {
    "scrolled": true
   },
   "outputs": [
    {
     "data": {
      "text/plain": [
       "user_id         0\n",
       "age             0\n",
       "churn_date    462\n",
       "city            0\n",
       "first_name      0\n",
       "last_name       0\n",
       "reg_date        0\n",
       "tariff          0\n",
       "dtype: int64"
      ]
     },
     "execution_count": 30,
     "metadata": {},
     "output_type": "execute_result"
    }
   ],
   "source": [
    "#проверяем пропуски\n",
    "users.isna().sum()"
   ]
  },
  {
   "cell_type": "code",
   "execution_count": 31,
   "metadata": {},
   "outputs": [
    {
     "data": {
      "text/plain": [
       "<AxesSubplot:>"
      ]
     },
     "execution_count": 31,
     "metadata": {},
     "output_type": "execute_result"
    },
    {
     "data": {
      "image/png": "[encoded data removed]",
      "text/plain": [
       "<Figure size 432x288 with 1 Axes>"
      ]
     },
     "metadata": {
      "needs_background": "light"
     },
     "output_type": "display_data"
    }
   ],
   "source": [
    "calls.duration.hist(bins=20)"
   ]
  },
  {
   "cell_type": "code",
   "execution_count": 32,
   "metadata": {},
   "outputs": [
    {
     "data": {
      "text/plain": [
       "<AxesSubplot:>"
      ]
     },
     "execution_count": 32,
     "metadata": {},
     "output_type": "execute_result"
    },
    {
     "data": {
      "image/png": "[encoded data removed]",
      "text/plain": [
       "<Figure size 432x288 with 1 Axes>"
      ]
     },
     "metadata": {
      "needs_background": "light"
     },
     "output_type": "display_data"
    }
   ],
   "source": [
    "internet.mb_used.hist(bins=20)"
   ]
  },
  {
   "cell_type": "markdown",
   "metadata": {},
   "source": [
    "####  Вывод\n",
    " Извлекли информацию из файлов. Где нужно изменили тип данных и название столбца, проверили пропуски."
   ]
  },
  {
   "cell_type": "markdown",
   "metadata": {},
   "source": [
    "###  Подготавливаем данные"
   ]
  },
  {
   "cell_type": "code",
   "execution_count": 33,
   "metadata": {},
   "outputs": [
    {
     "data": {
      "text/html": [
       "<div>\n",
       "<style scoped>\n",
       "    .dataframe tbody tr th:only-of-type {\n",
       "        vertical-align: middle;\n",
       "    }\n",
       "\n",
       "    .dataframe tbody tr th {\n",
       "        vertical-align: top;\n",
       "    }\n",
       "\n",
       "    .dataframe thead th {\n",
       "        text-align: right;\n",
       "    }\n",
       "</style>\n",
       "<table border=\"1\" class=\"dataframe\">\n",
       "  <thead>\n",
       "    <tr style=\"text-align: right;\">\n",
       "      <th></th>\n",
       "      <th>id</th>\n",
       "      <th>call_date</th>\n",
       "      <th>duration</th>\n",
       "      <th>user_id</th>\n",
       "      <th>month</th>\n",
       "    </tr>\n",
       "  </thead>\n",
       "  <tbody>\n",
       "    <tr>\n",
       "      <th>0</th>\n",
       "      <td>1000_0</td>\n",
       "      <td>2018-07-25</td>\n",
       "      <td>0.00</td>\n",
       "      <td>1000</td>\n",
       "      <td>7</td>\n",
       "    </tr>\n",
       "    <tr>\n",
       "      <th>1</th>\n",
       "      <td>1000_1</td>\n",
       "      <td>2018-08-17</td>\n",
       "      <td>0.00</td>\n",
       "      <td>1000</td>\n",
       "      <td>8</td>\n",
       "    </tr>\n",
       "    <tr>\n",
       "      <th>2</th>\n",
       "      <td>1000_2</td>\n",
       "      <td>2018-06-11</td>\n",
       "      <td>2.85</td>\n",
       "      <td>1000</td>\n",
       "      <td>6</td>\n",
       "    </tr>\n",
       "    <tr>\n",
       "      <th>3</th>\n",
       "      <td>1000_3</td>\n",
       "      <td>2018-09-21</td>\n",
       "      <td>13.80</td>\n",
       "      <td>1000</td>\n",
       "      <td>9</td>\n",
       "    </tr>\n",
       "    <tr>\n",
       "      <th>4</th>\n",
       "      <td>1000_4</td>\n",
       "      <td>2018-12-15</td>\n",
       "      <td>5.18</td>\n",
       "      <td>1000</td>\n",
       "      <td>12</td>\n",
       "    </tr>\n",
       "  </tbody>\n",
       "</table>\n",
       "</div>"
      ],
      "text/plain": [
       "       id  call_date  duration  user_id  month\n",
       "0  1000_0 2018-07-25      0.00     1000      7\n",
       "1  1000_1 2018-08-17      0.00     1000      8\n",
       "2  1000_2 2018-06-11      2.85     1000      6\n",
       "3  1000_3 2018-09-21     13.80     1000      9\n",
       "4  1000_4 2018-12-15      5.18     1000     12"
      ]
     },
     "execution_count": 33,
     "metadata": {},
     "output_type": "execute_result"
    }
   ],
   "source": [
    "#создаем столбец с информацией о месяце \n",
    "calls['month'] = pd.DatetimeIndex(calls['call_date']).month\n",
    "calls.head()"
   ]
  },
  {
   "cell_type": "code",
   "execution_count": 34,
   "metadata": {},
   "outputs": [
    {
     "data": {
      "text/html": [
       "<div>\n",
       "<style scoped>\n",
       "    .dataframe tbody tr th:only-of-type {\n",
       "        vertical-align: middle;\n",
       "    }\n",
       "\n",
       "    .dataframe tbody tr th {\n",
       "        vertical-align: top;\n",
       "    }\n",
       "\n",
       "    .dataframe thead th {\n",
       "        text-align: right;\n",
       "    }\n",
       "</style>\n",
       "<table border=\"1\" class=\"dataframe\">\n",
       "  <thead>\n",
       "    <tr style=\"text-align: right;\">\n",
       "      <th></th>\n",
       "      <th>user_id</th>\n",
       "      <th>month</th>\n",
       "      <th>calls_count</th>\n",
       "      <th>calls_sum</th>\n",
       "    </tr>\n",
       "  </thead>\n",
       "  <tbody>\n",
       "    <tr>\n",
       "      <th>0</th>\n",
       "      <td>1000</td>\n",
       "      <td>5</td>\n",
       "      <td>22</td>\n",
       "      <td>150.06</td>\n",
       "    </tr>\n",
       "    <tr>\n",
       "      <th>1</th>\n",
       "      <td>1000</td>\n",
       "      <td>6</td>\n",
       "      <td>43</td>\n",
       "      <td>158.90</td>\n",
       "    </tr>\n",
       "    <tr>\n",
       "      <th>2</th>\n",
       "      <td>1000</td>\n",
       "      <td>7</td>\n",
       "      <td>47</td>\n",
       "      <td>318.80</td>\n",
       "    </tr>\n",
       "    <tr>\n",
       "      <th>3</th>\n",
       "      <td>1000</td>\n",
       "      <td>8</td>\n",
       "      <td>52</td>\n",
       "      <td>389.87</td>\n",
       "    </tr>\n",
       "    <tr>\n",
       "      <th>4</th>\n",
       "      <td>1000</td>\n",
       "      <td>9</td>\n",
       "      <td>58</td>\n",
       "      <td>440.14</td>\n",
       "    </tr>\n",
       "    <tr>\n",
       "      <th>...</th>\n",
       "      <td>...</td>\n",
       "      <td>...</td>\n",
       "      <td>...</td>\n",
       "      <td>...</td>\n",
       "    </tr>\n",
       "    <tr>\n",
       "      <th>3169</th>\n",
       "      <td>1498</td>\n",
       "      <td>10</td>\n",
       "      <td>41</td>\n",
       "      <td>232.63</td>\n",
       "    </tr>\n",
       "    <tr>\n",
       "      <th>3170</th>\n",
       "      <td>1499</td>\n",
       "      <td>9</td>\n",
       "      <td>9</td>\n",
       "      <td>64.65</td>\n",
       "    </tr>\n",
       "    <tr>\n",
       "      <th>3171</th>\n",
       "      <td>1499</td>\n",
       "      <td>10</td>\n",
       "      <td>68</td>\n",
       "      <td>429.91</td>\n",
       "    </tr>\n",
       "    <tr>\n",
       "      <th>3172</th>\n",
       "      <td>1499</td>\n",
       "      <td>11</td>\n",
       "      <td>74</td>\n",
       "      <td>576.50</td>\n",
       "    </tr>\n",
       "    <tr>\n",
       "      <th>3173</th>\n",
       "      <td>1499</td>\n",
       "      <td>12</td>\n",
       "      <td>69</td>\n",
       "      <td>465.16</td>\n",
       "    </tr>\n",
       "  </tbody>\n",
       "</table>\n",
       "<p>3174 rows × 4 columns</p>\n",
       "</div>"
      ],
      "text/plain": [
       "      user_id  month  calls_count  calls_sum\n",
       "0        1000      5           22     150.06\n",
       "1        1000      6           43     158.90\n",
       "2        1000      7           47     318.80\n",
       "3        1000      8           52     389.87\n",
       "4        1000      9           58     440.14\n",
       "...       ...    ...          ...        ...\n",
       "3169     1498     10           41     232.63\n",
       "3170     1499      9            9      64.65\n",
       "3171     1499     10           68     429.91\n",
       "3172     1499     11           74     576.50\n",
       "3173     1499     12           69     465.16\n",
       "\n",
       "[3174 rows x 4 columns]"
      ]
     },
     "execution_count": 34,
     "metadata": {},
     "output_type": "execute_result"
    }
   ],
   "source": [
    "call_count=calls.groupby(['user_id', 'month'], as_index=False).agg(calls_count=('id', 'count'),calls_sum=('duration', 'sum'))\n",
    "call_count"
   ]
  },
  {
   "cell_type": "code",
   "execution_count": 35,
   "metadata": {},
   "outputs": [
    {
     "data": {
      "text/html": [
       "<div>\n",
       "<style scoped>\n",
       "    .dataframe tbody tr th:only-of-type {\n",
       "        vertical-align: middle;\n",
       "    }\n",
       "\n",
       "    .dataframe tbody tr th {\n",
       "        vertical-align: top;\n",
       "    }\n",
       "\n",
       "    .dataframe thead th {\n",
       "        text-align: right;\n",
       "    }\n",
       "</style>\n",
       "<table border=\"1\" class=\"dataframe\">\n",
       "  <thead>\n",
       "    <tr style=\"text-align: right;\">\n",
       "      <th></th>\n",
       "      <th>id</th>\n",
       "      <th>message_date</th>\n",
       "      <th>user_id</th>\n",
       "      <th>month</th>\n",
       "    </tr>\n",
       "  </thead>\n",
       "  <tbody>\n",
       "    <tr>\n",
       "      <th>0</th>\n",
       "      <td>1000_0</td>\n",
       "      <td>2018-06-27</td>\n",
       "      <td>1000</td>\n",
       "      <td>6</td>\n",
       "    </tr>\n",
       "    <tr>\n",
       "      <th>1</th>\n",
       "      <td>1000_1</td>\n",
       "      <td>2018-10-08</td>\n",
       "      <td>1000</td>\n",
       "      <td>10</td>\n",
       "    </tr>\n",
       "    <tr>\n",
       "      <th>2</th>\n",
       "      <td>1000_2</td>\n",
       "      <td>2018-08-04</td>\n",
       "      <td>1000</td>\n",
       "      <td>8</td>\n",
       "    </tr>\n",
       "    <tr>\n",
       "      <th>3</th>\n",
       "      <td>1000_3</td>\n",
       "      <td>2018-06-16</td>\n",
       "      <td>1000</td>\n",
       "      <td>6</td>\n",
       "    </tr>\n",
       "    <tr>\n",
       "      <th>4</th>\n",
       "      <td>1000_4</td>\n",
       "      <td>2018-12-05</td>\n",
       "      <td>1000</td>\n",
       "      <td>12</td>\n",
       "    </tr>\n",
       "  </tbody>\n",
       "</table>\n",
       "</div>"
      ],
      "text/plain": [
       "       id message_date  user_id  month\n",
       "0  1000_0   2018-06-27     1000      6\n",
       "1  1000_1   2018-10-08     1000     10\n",
       "2  1000_2   2018-08-04     1000      8\n",
       "3  1000_3   2018-06-16     1000      6\n",
       "4  1000_4   2018-12-05     1000     12"
      ]
     },
     "execution_count": 35,
     "metadata": {},
     "output_type": "execute_result"
    }
   ],
   "source": [
    "# выделим отдельно столбец с месяцем в таблице messages\n",
    "messages['month'] = pd.DatetimeIndex(messages['message_date']).month\n",
    "messages.head()"
   ]
  },
  {
   "cell_type": "code",
   "execution_count": 36,
   "metadata": {},
   "outputs": [
    {
     "data": {
      "text/html": [
       "<div>\n",
       "<style scoped>\n",
       "    .dataframe tbody tr th:only-of-type {\n",
       "        vertical-align: middle;\n",
       "    }\n",
       "\n",
       "    .dataframe tbody tr th {\n",
       "        vertical-align: top;\n",
       "    }\n",
       "\n",
       "    .dataframe thead th {\n",
       "        text-align: right;\n",
       "    }\n",
       "</style>\n",
       "<table border=\"1\" class=\"dataframe\">\n",
       "  <thead>\n",
       "    <tr style=\"text-align: right;\">\n",
       "      <th></th>\n",
       "      <th>user_id</th>\n",
       "      <th>month</th>\n",
       "      <th>messages_sum</th>\n",
       "    </tr>\n",
       "  </thead>\n",
       "  <tbody>\n",
       "    <tr>\n",
       "      <th>0</th>\n",
       "      <td>1000</td>\n",
       "      <td>5</td>\n",
       "      <td>22</td>\n",
       "    </tr>\n",
       "    <tr>\n",
       "      <th>1</th>\n",
       "      <td>1000</td>\n",
       "      <td>6</td>\n",
       "      <td>60</td>\n",
       "    </tr>\n",
       "    <tr>\n",
       "      <th>2</th>\n",
       "      <td>1000</td>\n",
       "      <td>7</td>\n",
       "      <td>75</td>\n",
       "    </tr>\n",
       "    <tr>\n",
       "      <th>3</th>\n",
       "      <td>1000</td>\n",
       "      <td>8</td>\n",
       "      <td>81</td>\n",
       "    </tr>\n",
       "    <tr>\n",
       "      <th>4</th>\n",
       "      <td>1000</td>\n",
       "      <td>9</td>\n",
       "      <td>57</td>\n",
       "    </tr>\n",
       "    <tr>\n",
       "      <th>...</th>\n",
       "      <td>...</td>\n",
       "      <td>...</td>\n",
       "      <td>...</td>\n",
       "    </tr>\n",
       "    <tr>\n",
       "      <th>2712</th>\n",
       "      <td>1498</td>\n",
       "      <td>10</td>\n",
       "      <td>42</td>\n",
       "    </tr>\n",
       "    <tr>\n",
       "      <th>2713</th>\n",
       "      <td>1499</td>\n",
       "      <td>9</td>\n",
       "      <td>11</td>\n",
       "    </tr>\n",
       "    <tr>\n",
       "      <th>2714</th>\n",
       "      <td>1499</td>\n",
       "      <td>10</td>\n",
       "      <td>48</td>\n",
       "    </tr>\n",
       "    <tr>\n",
       "      <th>2715</th>\n",
       "      <td>1499</td>\n",
       "      <td>11</td>\n",
       "      <td>59</td>\n",
       "    </tr>\n",
       "    <tr>\n",
       "      <th>2716</th>\n",
       "      <td>1499</td>\n",
       "      <td>12</td>\n",
       "      <td>66</td>\n",
       "    </tr>\n",
       "  </tbody>\n",
       "</table>\n",
       "<p>2717 rows × 3 columns</p>\n",
       "</div>"
      ],
      "text/plain": [
       "      user_id  month  messages_sum\n",
       "0        1000      5            22\n",
       "1        1000      6            60\n",
       "2        1000      7            75\n",
       "3        1000      8            81\n",
       "4        1000      9            57\n",
       "...       ...    ...           ...\n",
       "2712     1498     10            42\n",
       "2713     1499      9            11\n",
       "2714     1499     10            48\n",
       "2715     1499     11            59\n",
       "2716     1499     12            66\n",
       "\n",
       "[2717 rows x 3 columns]"
      ]
     },
     "execution_count": 36,
     "metadata": {},
     "output_type": "execute_result"
    }
   ],
   "source": [
    "message_sum = messages.groupby(['user_id', 'month'], as_index=False) \\\n",
    "                .agg(messages_sum=('id', 'count'))\n",
    "message_sum"
   ]
  },
  {
   "cell_type": "code",
   "execution_count": 37,
   "metadata": {},
   "outputs": [
    {
     "data": {
      "text/html": [
       "<div>\n",
       "<style scoped>\n",
       "    .dataframe tbody tr th:only-of-type {\n",
       "        vertical-align: middle;\n",
       "    }\n",
       "\n",
       "    .dataframe tbody tr th {\n",
       "        vertical-align: top;\n",
       "    }\n",
       "\n",
       "    .dataframe thead th {\n",
       "        text-align: right;\n",
       "    }\n",
       "</style>\n",
       "<table border=\"1\" class=\"dataframe\">\n",
       "  <thead>\n",
       "    <tr style=\"text-align: right;\">\n",
       "      <th></th>\n",
       "      <th>Unnamed: 0</th>\n",
       "      <th>id</th>\n",
       "      <th>mb_used</th>\n",
       "      <th>session_date</th>\n",
       "      <th>user_id</th>\n",
       "      <th>month</th>\n",
       "    </tr>\n",
       "  </thead>\n",
       "  <tbody>\n",
       "    <tr>\n",
       "      <th>0</th>\n",
       "      <td>0</td>\n",
       "      <td>1000_0</td>\n",
       "      <td>112.95</td>\n",
       "      <td>2018-11-25</td>\n",
       "      <td>1000</td>\n",
       "      <td>11</td>\n",
       "    </tr>\n",
       "    <tr>\n",
       "      <th>1</th>\n",
       "      <td>1</td>\n",
       "      <td>1000_1</td>\n",
       "      <td>1052.81</td>\n",
       "      <td>2018-09-07</td>\n",
       "      <td>1000</td>\n",
       "      <td>9</td>\n",
       "    </tr>\n",
       "    <tr>\n",
       "      <th>2</th>\n",
       "      <td>2</td>\n",
       "      <td>1000_2</td>\n",
       "      <td>1197.26</td>\n",
       "      <td>2018-06-25</td>\n",
       "      <td>1000</td>\n",
       "      <td>6</td>\n",
       "    </tr>\n",
       "    <tr>\n",
       "      <th>3</th>\n",
       "      <td>3</td>\n",
       "      <td>1000_3</td>\n",
       "      <td>550.27</td>\n",
       "      <td>2018-08-22</td>\n",
       "      <td>1000</td>\n",
       "      <td>8</td>\n",
       "    </tr>\n",
       "    <tr>\n",
       "      <th>4</th>\n",
       "      <td>4</td>\n",
       "      <td>1000_4</td>\n",
       "      <td>302.56</td>\n",
       "      <td>2018-09-24</td>\n",
       "      <td>1000</td>\n",
       "      <td>9</td>\n",
       "    </tr>\n",
       "  </tbody>\n",
       "</table>\n",
       "</div>"
      ],
      "text/plain": [
       "   Unnamed: 0      id  mb_used session_date  user_id  month\n",
       "0           0  1000_0   112.95   2018-11-25     1000     11\n",
       "1           1  1000_1  1052.81   2018-09-07     1000      9\n",
       "2           2  1000_2  1197.26   2018-06-25     1000      6\n",
       "3           3  1000_3   550.27   2018-08-22     1000      8\n",
       "4           4  1000_4   302.56   2018-09-24     1000      9"
      ]
     },
     "execution_count": 37,
     "metadata": {},
     "output_type": "execute_result"
    }
   ],
   "source": [
    "#выделим отдельно столбец с месяцем\n",
    "internet['month'] = pd.DatetimeIndex(internet['session_date']).month\n",
    "internet.head()"
   ]
  },
  {
   "cell_type": "code",
   "execution_count": 38,
   "metadata": {},
   "outputs": [
    {
     "data": {
      "text/html": [
       "<div>\n",
       "<style scoped>\n",
       "    .dataframe tbody tr th:only-of-type {\n",
       "        vertical-align: middle;\n",
       "    }\n",
       "\n",
       "    .dataframe tbody tr th {\n",
       "        vertical-align: top;\n",
       "    }\n",
       "\n",
       "    .dataframe thead th {\n",
       "        text-align: right;\n",
       "    }\n",
       "</style>\n",
       "<table border=\"1\" class=\"dataframe\">\n",
       "  <thead>\n",
       "    <tr style=\"text-align: right;\">\n",
       "      <th></th>\n",
       "      <th>user_id</th>\n",
       "      <th>month</th>\n",
       "      <th>mb_used_sum</th>\n",
       "    </tr>\n",
       "  </thead>\n",
       "  <tbody>\n",
       "    <tr>\n",
       "      <th>0</th>\n",
       "      <td>1000</td>\n",
       "      <td>5</td>\n",
       "      <td>2253.49</td>\n",
       "    </tr>\n",
       "    <tr>\n",
       "      <th>1</th>\n",
       "      <td>1000</td>\n",
       "      <td>6</td>\n",
       "      <td>23233.77</td>\n",
       "    </tr>\n",
       "    <tr>\n",
       "      <th>2</th>\n",
       "      <td>1000</td>\n",
       "      <td>7</td>\n",
       "      <td>14003.64</td>\n",
       "    </tr>\n",
       "    <tr>\n",
       "      <th>3</th>\n",
       "      <td>1000</td>\n",
       "      <td>8</td>\n",
       "      <td>14055.93</td>\n",
       "    </tr>\n",
       "    <tr>\n",
       "      <th>4</th>\n",
       "      <td>1000</td>\n",
       "      <td>9</td>\n",
       "      <td>14568.91</td>\n",
       "    </tr>\n",
       "    <tr>\n",
       "      <th>...</th>\n",
       "      <td>...</td>\n",
       "      <td>...</td>\n",
       "      <td>...</td>\n",
       "    </tr>\n",
       "    <tr>\n",
       "      <th>3198</th>\n",
       "      <td>1498</td>\n",
       "      <td>10</td>\n",
       "      <td>20579.36</td>\n",
       "    </tr>\n",
       "    <tr>\n",
       "      <th>3199</th>\n",
       "      <td>1499</td>\n",
       "      <td>9</td>\n",
       "      <td>1845.75</td>\n",
       "    </tr>\n",
       "    <tr>\n",
       "      <th>3200</th>\n",
       "      <td>1499</td>\n",
       "      <td>10</td>\n",
       "      <td>17788.51</td>\n",
       "    </tr>\n",
       "    <tr>\n",
       "      <th>3201</th>\n",
       "      <td>1499</td>\n",
       "      <td>11</td>\n",
       "      <td>17963.31</td>\n",
       "    </tr>\n",
       "    <tr>\n",
       "      <th>3202</th>\n",
       "      <td>1499</td>\n",
       "      <td>12</td>\n",
       "      <td>13055.58</td>\n",
       "    </tr>\n",
       "  </tbody>\n",
       "</table>\n",
       "<p>3203 rows × 3 columns</p>\n",
       "</div>"
      ],
      "text/plain": [
       "      user_id  month  mb_used_sum\n",
       "0        1000      5      2253.49\n",
       "1        1000      6     23233.77\n",
       "2        1000      7     14003.64\n",
       "3        1000      8     14055.93\n",
       "4        1000      9     14568.91\n",
       "...       ...    ...          ...\n",
       "3198     1498     10     20579.36\n",
       "3199     1499      9      1845.75\n",
       "3200     1499     10     17788.51\n",
       "3201     1499     11     17963.31\n",
       "3202     1499     12     13055.58\n",
       "\n",
       "[3203 rows x 3 columns]"
      ]
     },
     "execution_count": 38,
     "metadata": {},
     "output_type": "execute_result"
    }
   ],
   "source": [
    "internet_sum = internet.groupby(['user_id', 'month'], as_index=False) \\\n",
    "                .agg(mb_used_sum=('mb_used', 'sum'))\n",
    "internet_sum"
   ]
  },
  {
   "cell_type": "code",
   "execution_count": 39,
   "metadata": {},
   "outputs": [
    {
     "data": {
      "text/html": [
       "<div>\n",
       "<style scoped>\n",
       "    .dataframe tbody tr th:only-of-type {\n",
       "        vertical-align: middle;\n",
       "    }\n",
       "\n",
       "    .dataframe tbody tr th {\n",
       "        vertical-align: top;\n",
       "    }\n",
       "\n",
       "    .dataframe thead th {\n",
       "        text-align: right;\n",
       "    }\n",
       "</style>\n",
       "<table border=\"1\" class=\"dataframe\">\n",
       "  <thead>\n",
       "    <tr style=\"text-align: right;\">\n",
       "      <th></th>\n",
       "      <th>user_id</th>\n",
       "      <th>month</th>\n",
       "      <th>calls_count</th>\n",
       "      <th>calls_sum</th>\n",
       "      <th>messages_sum</th>\n",
       "    </tr>\n",
       "  </thead>\n",
       "  <tbody>\n",
       "    <tr>\n",
       "      <th>0</th>\n",
       "      <td>1000</td>\n",
       "      <td>5</td>\n",
       "      <td>22.0</td>\n",
       "      <td>150.06</td>\n",
       "      <td>22.0</td>\n",
       "    </tr>\n",
       "    <tr>\n",
       "      <th>1</th>\n",
       "      <td>1000</td>\n",
       "      <td>6</td>\n",
       "      <td>43.0</td>\n",
       "      <td>158.90</td>\n",
       "      <td>60.0</td>\n",
       "    </tr>\n",
       "    <tr>\n",
       "      <th>2</th>\n",
       "      <td>1000</td>\n",
       "      <td>7</td>\n",
       "      <td>47.0</td>\n",
       "      <td>318.80</td>\n",
       "      <td>75.0</td>\n",
       "    </tr>\n",
       "    <tr>\n",
       "      <th>3</th>\n",
       "      <td>1000</td>\n",
       "      <td>8</td>\n",
       "      <td>52.0</td>\n",
       "      <td>389.87</td>\n",
       "      <td>81.0</td>\n",
       "    </tr>\n",
       "    <tr>\n",
       "      <th>4</th>\n",
       "      <td>1000</td>\n",
       "      <td>9</td>\n",
       "      <td>58.0</td>\n",
       "      <td>440.14</td>\n",
       "      <td>57.0</td>\n",
       "    </tr>\n",
       "    <tr>\n",
       "      <th>...</th>\n",
       "      <td>...</td>\n",
       "      <td>...</td>\n",
       "      <td>...</td>\n",
       "      <td>...</td>\n",
       "      <td>...</td>\n",
       "    </tr>\n",
       "    <tr>\n",
       "      <th>3208</th>\n",
       "      <td>1489</td>\n",
       "      <td>8</td>\n",
       "      <td>NaN</td>\n",
       "      <td>NaN</td>\n",
       "      <td>17.0</td>\n",
       "    </tr>\n",
       "    <tr>\n",
       "      <th>3209</th>\n",
       "      <td>1489</td>\n",
       "      <td>9</td>\n",
       "      <td>NaN</td>\n",
       "      <td>NaN</td>\n",
       "      <td>32.0</td>\n",
       "    </tr>\n",
       "    <tr>\n",
       "      <th>3210</th>\n",
       "      <td>1489</td>\n",
       "      <td>10</td>\n",
       "      <td>NaN</td>\n",
       "      <td>NaN</td>\n",
       "      <td>21.0</td>\n",
       "    </tr>\n",
       "    <tr>\n",
       "      <th>3211</th>\n",
       "      <td>1489</td>\n",
       "      <td>11</td>\n",
       "      <td>NaN</td>\n",
       "      <td>NaN</td>\n",
       "      <td>20.0</td>\n",
       "    </tr>\n",
       "    <tr>\n",
       "      <th>3212</th>\n",
       "      <td>1489</td>\n",
       "      <td>12</td>\n",
       "      <td>NaN</td>\n",
       "      <td>NaN</td>\n",
       "      <td>35.0</td>\n",
       "    </tr>\n",
       "  </tbody>\n",
       "</table>\n",
       "<p>3213 rows × 5 columns</p>\n",
       "</div>"
      ],
      "text/plain": [
       "      user_id  month  calls_count  calls_sum  messages_sum\n",
       "0        1000      5         22.0     150.06          22.0\n",
       "1        1000      6         43.0     158.90          60.0\n",
       "2        1000      7         47.0     318.80          75.0\n",
       "3        1000      8         52.0     389.87          81.0\n",
       "4        1000      9         58.0     440.14          57.0\n",
       "...       ...    ...          ...        ...           ...\n",
       "3208     1489      8          NaN        NaN          17.0\n",
       "3209     1489      9          NaN        NaN          32.0\n",
       "3210     1489     10          NaN        NaN          21.0\n",
       "3211     1489     11          NaN        NaN          20.0\n",
       "3212     1489     12          NaN        NaN          35.0\n",
       "\n",
       "[3213 rows x 5 columns]"
      ]
     },
     "execution_count": 39,
     "metadata": {},
     "output_type": "execute_result"
    }
   ],
   "source": [
    "call_with_message= call_count.merge(message_sum, on=['user_id', 'month'],how='outer')\n",
    "call_with_message"
   ]
  },
  {
   "cell_type": "code",
   "execution_count": 40,
   "metadata": {},
   "outputs": [
    {
     "data": {
      "text/html": [
       "<div>\n",
       "<style scoped>\n",
       "    .dataframe tbody tr th:only-of-type {\n",
       "        vertical-align: middle;\n",
       "    }\n",
       "\n",
       "    .dataframe tbody tr th {\n",
       "        vertical-align: top;\n",
       "    }\n",
       "\n",
       "    .dataframe thead th {\n",
       "        text-align: right;\n",
       "    }\n",
       "</style>\n",
       "<table border=\"1\" class=\"dataframe\">\n",
       "  <thead>\n",
       "    <tr style=\"text-align: right;\">\n",
       "      <th></th>\n",
       "      <th>user_id</th>\n",
       "      <th>month</th>\n",
       "      <th>calls_count</th>\n",
       "      <th>calls_sum</th>\n",
       "      <th>messages_sum</th>\n",
       "      <th>mb_used_sum</th>\n",
       "    </tr>\n",
       "  </thead>\n",
       "  <tbody>\n",
       "    <tr>\n",
       "      <th>0</th>\n",
       "      <td>1000</td>\n",
       "      <td>5</td>\n",
       "      <td>22.0</td>\n",
       "      <td>150.06</td>\n",
       "      <td>22.0</td>\n",
       "      <td>2253.49</td>\n",
       "    </tr>\n",
       "    <tr>\n",
       "      <th>1</th>\n",
       "      <td>1000</td>\n",
       "      <td>6</td>\n",
       "      <td>43.0</td>\n",
       "      <td>158.90</td>\n",
       "      <td>60.0</td>\n",
       "      <td>23233.77</td>\n",
       "    </tr>\n",
       "    <tr>\n",
       "      <th>2</th>\n",
       "      <td>1000</td>\n",
       "      <td>7</td>\n",
       "      <td>47.0</td>\n",
       "      <td>318.80</td>\n",
       "      <td>75.0</td>\n",
       "      <td>14003.64</td>\n",
       "    </tr>\n",
       "    <tr>\n",
       "      <th>3</th>\n",
       "      <td>1000</td>\n",
       "      <td>8</td>\n",
       "      <td>52.0</td>\n",
       "      <td>389.87</td>\n",
       "      <td>81.0</td>\n",
       "      <td>14055.93</td>\n",
       "    </tr>\n",
       "    <tr>\n",
       "      <th>4</th>\n",
       "      <td>1000</td>\n",
       "      <td>9</td>\n",
       "      <td>58.0</td>\n",
       "      <td>440.14</td>\n",
       "      <td>57.0</td>\n",
       "      <td>14568.91</td>\n",
       "    </tr>\n",
       "    <tr>\n",
       "      <th>...</th>\n",
       "      <td>...</td>\n",
       "      <td>...</td>\n",
       "      <td>...</td>\n",
       "      <td>...</td>\n",
       "      <td>...</td>\n",
       "      <td>...</td>\n",
       "    </tr>\n",
       "    <tr>\n",
       "      <th>3209</th>\n",
       "      <td>1489</td>\n",
       "      <td>9</td>\n",
       "      <td>NaN</td>\n",
       "      <td>NaN</td>\n",
       "      <td>32.0</td>\n",
       "      <td>17206.30</td>\n",
       "    </tr>\n",
       "    <tr>\n",
       "      <th>3210</th>\n",
       "      <td>1489</td>\n",
       "      <td>10</td>\n",
       "      <td>NaN</td>\n",
       "      <td>NaN</td>\n",
       "      <td>21.0</td>\n",
       "      <td>19559.44</td>\n",
       "    </tr>\n",
       "    <tr>\n",
       "      <th>3211</th>\n",
       "      <td>1489</td>\n",
       "      <td>11</td>\n",
       "      <td>NaN</td>\n",
       "      <td>NaN</td>\n",
       "      <td>20.0</td>\n",
       "      <td>17491.56</td>\n",
       "    </tr>\n",
       "    <tr>\n",
       "      <th>3212</th>\n",
       "      <td>1489</td>\n",
       "      <td>12</td>\n",
       "      <td>NaN</td>\n",
       "      <td>NaN</td>\n",
       "      <td>35.0</td>\n",
       "      <td>17322.51</td>\n",
       "    </tr>\n",
       "    <tr>\n",
       "      <th>3213</th>\n",
       "      <td>1476</td>\n",
       "      <td>4</td>\n",
       "      <td>NaN</td>\n",
       "      <td>NaN</td>\n",
       "      <td>NaN</td>\n",
       "      <td>530.78</td>\n",
       "    </tr>\n",
       "  </tbody>\n",
       "</table>\n",
       "<p>3214 rows × 6 columns</p>\n",
       "</div>"
      ],
      "text/plain": [
       "      user_id  month  calls_count  calls_sum  messages_sum  mb_used_sum\n",
       "0        1000      5         22.0     150.06          22.0      2253.49\n",
       "1        1000      6         43.0     158.90          60.0     23233.77\n",
       "2        1000      7         47.0     318.80          75.0     14003.64\n",
       "3        1000      8         52.0     389.87          81.0     14055.93\n",
       "4        1000      9         58.0     440.14          57.0     14568.91\n",
       "...       ...    ...          ...        ...           ...          ...\n",
       "3209     1489      9          NaN        NaN          32.0     17206.30\n",
       "3210     1489     10          NaN        NaN          21.0     19559.44\n",
       "3211     1489     11          NaN        NaN          20.0     17491.56\n",
       "3212     1489     12          NaN        NaN          35.0     17322.51\n",
       "3213     1476      4          NaN        NaN           NaN       530.78\n",
       "\n",
       "[3214 rows x 6 columns]"
      ]
     },
     "execution_count": 40,
     "metadata": {},
     "output_type": "execute_result"
    }
   ],
   "source": [
    "call_with_message_and_internet=call_with_message.merge(internet_sum, on=['user_id', 'month'],how='outer')\n",
    "call_with_message_and_internet"
   ]
  },
  {
   "cell_type": "code",
   "execution_count": 41,
   "metadata": {},
   "outputs": [
    {
     "data": {
      "text/html": [
       "<div>\n",
       "<style scoped>\n",
       "    .dataframe tbody tr th:only-of-type {\n",
       "        vertical-align: middle;\n",
       "    }\n",
       "\n",
       "    .dataframe tbody tr th {\n",
       "        vertical-align: top;\n",
       "    }\n",
       "\n",
       "    .dataframe thead th {\n",
       "        text-align: right;\n",
       "    }\n",
       "</style>\n",
       "<table border=\"1\" class=\"dataframe\">\n",
       "  <thead>\n",
       "    <tr style=\"text-align: right;\">\n",
       "      <th></th>\n",
       "      <th>user_id</th>\n",
       "      <th>month</th>\n",
       "      <th>calls_count</th>\n",
       "      <th>calls_sum</th>\n",
       "      <th>messages_sum</th>\n",
       "      <th>mb_used_sum</th>\n",
       "    </tr>\n",
       "  </thead>\n",
       "  <tbody>\n",
       "    <tr>\n",
       "      <th>0</th>\n",
       "      <td>1000</td>\n",
       "      <td>5</td>\n",
       "      <td>22.0</td>\n",
       "      <td>150.06</td>\n",
       "      <td>22.0</td>\n",
       "      <td>2253.49</td>\n",
       "    </tr>\n",
       "    <tr>\n",
       "      <th>1</th>\n",
       "      <td>1000</td>\n",
       "      <td>6</td>\n",
       "      <td>43.0</td>\n",
       "      <td>158.90</td>\n",
       "      <td>60.0</td>\n",
       "      <td>23233.77</td>\n",
       "    </tr>\n",
       "    <tr>\n",
       "      <th>2</th>\n",
       "      <td>1000</td>\n",
       "      <td>7</td>\n",
       "      <td>47.0</td>\n",
       "      <td>318.80</td>\n",
       "      <td>75.0</td>\n",
       "      <td>14003.64</td>\n",
       "    </tr>\n",
       "    <tr>\n",
       "      <th>3</th>\n",
       "      <td>1000</td>\n",
       "      <td>8</td>\n",
       "      <td>52.0</td>\n",
       "      <td>389.87</td>\n",
       "      <td>81.0</td>\n",
       "      <td>14055.93</td>\n",
       "    </tr>\n",
       "    <tr>\n",
       "      <th>4</th>\n",
       "      <td>1000</td>\n",
       "      <td>9</td>\n",
       "      <td>58.0</td>\n",
       "      <td>440.14</td>\n",
       "      <td>57.0</td>\n",
       "      <td>14568.91</td>\n",
       "    </tr>\n",
       "    <tr>\n",
       "      <th>...</th>\n",
       "      <td>...</td>\n",
       "      <td>...</td>\n",
       "      <td>...</td>\n",
       "      <td>...</td>\n",
       "      <td>...</td>\n",
       "      <td>...</td>\n",
       "    </tr>\n",
       "    <tr>\n",
       "      <th>3209</th>\n",
       "      <td>1489</td>\n",
       "      <td>9</td>\n",
       "      <td>0.0</td>\n",
       "      <td>0.00</td>\n",
       "      <td>32.0</td>\n",
       "      <td>17206.30</td>\n",
       "    </tr>\n",
       "    <tr>\n",
       "      <th>3210</th>\n",
       "      <td>1489</td>\n",
       "      <td>10</td>\n",
       "      <td>0.0</td>\n",
       "      <td>0.00</td>\n",
       "      <td>21.0</td>\n",
       "      <td>19559.44</td>\n",
       "    </tr>\n",
       "    <tr>\n",
       "      <th>3211</th>\n",
       "      <td>1489</td>\n",
       "      <td>11</td>\n",
       "      <td>0.0</td>\n",
       "      <td>0.00</td>\n",
       "      <td>20.0</td>\n",
       "      <td>17491.56</td>\n",
       "    </tr>\n",
       "    <tr>\n",
       "      <th>3212</th>\n",
       "      <td>1489</td>\n",
       "      <td>12</td>\n",
       "      <td>0.0</td>\n",
       "      <td>0.00</td>\n",
       "      <td>35.0</td>\n",
       "      <td>17322.51</td>\n",
       "    </tr>\n",
       "    <tr>\n",
       "      <th>3213</th>\n",
       "      <td>1476</td>\n",
       "      <td>4</td>\n",
       "      <td>0.0</td>\n",
       "      <td>0.00</td>\n",
       "      <td>0.0</td>\n",
       "      <td>530.78</td>\n",
       "    </tr>\n",
       "  </tbody>\n",
       "</table>\n",
       "<p>3214 rows × 6 columns</p>\n",
       "</div>"
      ],
      "text/plain": [
       "      user_id  month  calls_count  calls_sum  messages_sum  mb_used_sum\n",
       "0        1000      5         22.0     150.06          22.0      2253.49\n",
       "1        1000      6         43.0     158.90          60.0     23233.77\n",
       "2        1000      7         47.0     318.80          75.0     14003.64\n",
       "3        1000      8         52.0     389.87          81.0     14055.93\n",
       "4        1000      9         58.0     440.14          57.0     14568.91\n",
       "...       ...    ...          ...        ...           ...          ...\n",
       "3209     1489      9          0.0       0.00          32.0     17206.30\n",
       "3210     1489     10          0.0       0.00          21.0     19559.44\n",
       "3211     1489     11          0.0       0.00          20.0     17491.56\n",
       "3212     1489     12          0.0       0.00          35.0     17322.51\n",
       "3213     1476      4          0.0       0.00           0.0       530.78\n",
       "\n",
       "[3214 rows x 6 columns]"
      ]
     },
     "execution_count": 41,
     "metadata": {},
     "output_type": "execute_result"
    }
   ],
   "source": [
    "call_with_message_and_internet=call_with_message_and_internet.fillna(0)\n",
    "call_with_message_and_internet"
   ]
  },
  {
   "cell_type": "code",
   "execution_count": 42,
   "metadata": {},
   "outputs": [
    {
     "data": {
      "text/html": [
       "<div>\n",
       "<style scoped>\n",
       "    .dataframe tbody tr th:only-of-type {\n",
       "        vertical-align: middle;\n",
       "    }\n",
       "\n",
       "    .dataframe tbody tr th {\n",
       "        vertical-align: top;\n",
       "    }\n",
       "\n",
       "    .dataframe thead th {\n",
       "        text-align: right;\n",
       "    }\n",
       "</style>\n",
       "<table border=\"1\" class=\"dataframe\">\n",
       "  <thead>\n",
       "    <tr style=\"text-align: right;\">\n",
       "      <th></th>\n",
       "      <th>user_id</th>\n",
       "      <th>month</th>\n",
       "      <th>calls_count</th>\n",
       "      <th>calls_sum</th>\n",
       "      <th>messages_sum</th>\n",
       "      <th>mb_used_sum</th>\n",
       "      <th>tariff</th>\n",
       "      <th>city</th>\n",
       "    </tr>\n",
       "  </thead>\n",
       "  <tbody>\n",
       "    <tr>\n",
       "      <th>0</th>\n",
       "      <td>1000</td>\n",
       "      <td>5</td>\n",
       "      <td>22.0</td>\n",
       "      <td>150.06</td>\n",
       "      <td>22.0</td>\n",
       "      <td>2253.49</td>\n",
       "      <td>ultra</td>\n",
       "      <td>Краснодар</td>\n",
       "    </tr>\n",
       "    <tr>\n",
       "      <th>1</th>\n",
       "      <td>1000</td>\n",
       "      <td>6</td>\n",
       "      <td>43.0</td>\n",
       "      <td>158.90</td>\n",
       "      <td>60.0</td>\n",
       "      <td>23233.77</td>\n",
       "      <td>ultra</td>\n",
       "      <td>Краснодар</td>\n",
       "    </tr>\n",
       "    <tr>\n",
       "      <th>2</th>\n",
       "      <td>1000</td>\n",
       "      <td>7</td>\n",
       "      <td>47.0</td>\n",
       "      <td>318.80</td>\n",
       "      <td>75.0</td>\n",
       "      <td>14003.64</td>\n",
       "      <td>ultra</td>\n",
       "      <td>Краснодар</td>\n",
       "    </tr>\n",
       "    <tr>\n",
       "      <th>3</th>\n",
       "      <td>1000</td>\n",
       "      <td>8</td>\n",
       "      <td>52.0</td>\n",
       "      <td>389.87</td>\n",
       "      <td>81.0</td>\n",
       "      <td>14055.93</td>\n",
       "      <td>ultra</td>\n",
       "      <td>Краснодар</td>\n",
       "    </tr>\n",
       "    <tr>\n",
       "      <th>4</th>\n",
       "      <td>1000</td>\n",
       "      <td>9</td>\n",
       "      <td>58.0</td>\n",
       "      <td>440.14</td>\n",
       "      <td>57.0</td>\n",
       "      <td>14568.91</td>\n",
       "      <td>ultra</td>\n",
       "      <td>Краснодар</td>\n",
       "    </tr>\n",
       "    <tr>\n",
       "      <th>...</th>\n",
       "      <td>...</td>\n",
       "      <td>...</td>\n",
       "      <td>...</td>\n",
       "      <td>...</td>\n",
       "      <td>...</td>\n",
       "      <td>...</td>\n",
       "      <td>...</td>\n",
       "      <td>...</td>\n",
       "    </tr>\n",
       "    <tr>\n",
       "      <th>3209</th>\n",
       "      <td>1489</td>\n",
       "      <td>9</td>\n",
       "      <td>0.0</td>\n",
       "      <td>0.00</td>\n",
       "      <td>32.0</td>\n",
       "      <td>17206.30</td>\n",
       "      <td>smart</td>\n",
       "      <td>Санкт-Петербург</td>\n",
       "    </tr>\n",
       "    <tr>\n",
       "      <th>3210</th>\n",
       "      <td>1489</td>\n",
       "      <td>10</td>\n",
       "      <td>0.0</td>\n",
       "      <td>0.00</td>\n",
       "      <td>21.0</td>\n",
       "      <td>19559.44</td>\n",
       "      <td>smart</td>\n",
       "      <td>Санкт-Петербург</td>\n",
       "    </tr>\n",
       "    <tr>\n",
       "      <th>3211</th>\n",
       "      <td>1489</td>\n",
       "      <td>11</td>\n",
       "      <td>0.0</td>\n",
       "      <td>0.00</td>\n",
       "      <td>20.0</td>\n",
       "      <td>17491.56</td>\n",
       "      <td>smart</td>\n",
       "      <td>Санкт-Петербург</td>\n",
       "    </tr>\n",
       "    <tr>\n",
       "      <th>3212</th>\n",
       "      <td>1489</td>\n",
       "      <td>12</td>\n",
       "      <td>0.0</td>\n",
       "      <td>0.00</td>\n",
       "      <td>35.0</td>\n",
       "      <td>17322.51</td>\n",
       "      <td>smart</td>\n",
       "      <td>Санкт-Петербург</td>\n",
       "    </tr>\n",
       "    <tr>\n",
       "      <th>3213</th>\n",
       "      <td>1476</td>\n",
       "      <td>4</td>\n",
       "      <td>0.0</td>\n",
       "      <td>0.00</td>\n",
       "      <td>0.0</td>\n",
       "      <td>530.78</td>\n",
       "      <td>ultra</td>\n",
       "      <td>Москва</td>\n",
       "    </tr>\n",
       "  </tbody>\n",
       "</table>\n",
       "<p>3214 rows × 8 columns</p>\n",
       "</div>"
      ],
      "text/plain": [
       "      user_id  month  calls_count  calls_sum  messages_sum  mb_used_sum  \\\n",
       "0        1000      5         22.0     150.06          22.0      2253.49   \n",
       "1        1000      6         43.0     158.90          60.0     23233.77   \n",
       "2        1000      7         47.0     318.80          75.0     14003.64   \n",
       "3        1000      8         52.0     389.87          81.0     14055.93   \n",
       "4        1000      9         58.0     440.14          57.0     14568.91   \n",
       "...       ...    ...          ...        ...           ...          ...   \n",
       "3209     1489      9          0.0       0.00          32.0     17206.30   \n",
       "3210     1489     10          0.0       0.00          21.0     19559.44   \n",
       "3211     1489     11          0.0       0.00          20.0     17491.56   \n",
       "3212     1489     12          0.0       0.00          35.0     17322.51   \n",
       "3213     1476      4          0.0       0.00           0.0       530.78   \n",
       "\n",
       "     tariff             city  \n",
       "0     ultra        Краснодар  \n",
       "1     ultra        Краснодар  \n",
       "2     ultra        Краснодар  \n",
       "3     ultra        Краснодар  \n",
       "4     ultra        Краснодар  \n",
       "...     ...              ...  \n",
       "3209  smart  Санкт-Петербург  \n",
       "3210  smart  Санкт-Петербург  \n",
       "3211  smart  Санкт-Петербург  \n",
       "3212  smart  Санкт-Петербург  \n",
       "3213  ultra           Москва  \n",
       "\n",
       "[3214 rows x 8 columns]"
      ]
     },
     "execution_count": 42,
     "metadata": {},
     "output_type": "execute_result"
    }
   ],
   "source": [
    "data_with_tariff=call_with_message_and_internet.merge(users[['user_id','tariff', 'city']], on='user_id',how='left')\n",
    "data_with_tariff"
   ]
  },
  {
   "cell_type": "code",
   "execution_count": 43,
   "metadata": {},
   "outputs": [
    {
     "data": {
      "text/html": [
       "<div>\n",
       "<style scoped>\n",
       "    .dataframe tbody tr th:only-of-type {\n",
       "        vertical-align: middle;\n",
       "    }\n",
       "\n",
       "    .dataframe tbody tr th {\n",
       "        vertical-align: top;\n",
       "    }\n",
       "\n",
       "    .dataframe thead th {\n",
       "        text-align: right;\n",
       "    }\n",
       "</style>\n",
       "<table border=\"1\" class=\"dataframe\">\n",
       "  <thead>\n",
       "    <tr style=\"text-align: right;\">\n",
       "      <th></th>\n",
       "      <th>user_id</th>\n",
       "      <th>month</th>\n",
       "      <th>calls_count</th>\n",
       "      <th>calls_sum</th>\n",
       "      <th>messages_sum</th>\n",
       "      <th>mb_used_sum</th>\n",
       "      <th>tariff</th>\n",
       "      <th>city</th>\n",
       "      <th>messages_included</th>\n",
       "      <th>mb_per_month_included</th>\n",
       "      <th>minutes_included</th>\n",
       "      <th>rub_monthly_fee</th>\n",
       "      <th>rub_per_gb</th>\n",
       "      <th>rub_per_message</th>\n",
       "      <th>rub_per_minute</th>\n",
       "    </tr>\n",
       "  </thead>\n",
       "  <tbody>\n",
       "    <tr>\n",
       "      <th>0</th>\n",
       "      <td>1000</td>\n",
       "      <td>5</td>\n",
       "      <td>22.0</td>\n",
       "      <td>150.06</td>\n",
       "      <td>22.0</td>\n",
       "      <td>2253.49</td>\n",
       "      <td>ultra</td>\n",
       "      <td>Краснодар</td>\n",
       "      <td>1000</td>\n",
       "      <td>30720</td>\n",
       "      <td>3000</td>\n",
       "      <td>1950</td>\n",
       "      <td>150</td>\n",
       "      <td>1</td>\n",
       "      <td>1</td>\n",
       "    </tr>\n",
       "    <tr>\n",
       "      <th>1</th>\n",
       "      <td>1000</td>\n",
       "      <td>6</td>\n",
       "      <td>43.0</td>\n",
       "      <td>158.90</td>\n",
       "      <td>60.0</td>\n",
       "      <td>23233.77</td>\n",
       "      <td>ultra</td>\n",
       "      <td>Краснодар</td>\n",
       "      <td>1000</td>\n",
       "      <td>30720</td>\n",
       "      <td>3000</td>\n",
       "      <td>1950</td>\n",
       "      <td>150</td>\n",
       "      <td>1</td>\n",
       "      <td>1</td>\n",
       "    </tr>\n",
       "    <tr>\n",
       "      <th>2</th>\n",
       "      <td>1000</td>\n",
       "      <td>7</td>\n",
       "      <td>47.0</td>\n",
       "      <td>318.80</td>\n",
       "      <td>75.0</td>\n",
       "      <td>14003.64</td>\n",
       "      <td>ultra</td>\n",
       "      <td>Краснодар</td>\n",
       "      <td>1000</td>\n",
       "      <td>30720</td>\n",
       "      <td>3000</td>\n",
       "      <td>1950</td>\n",
       "      <td>150</td>\n",
       "      <td>1</td>\n",
       "      <td>1</td>\n",
       "    </tr>\n",
       "    <tr>\n",
       "      <th>3</th>\n",
       "      <td>1000</td>\n",
       "      <td>8</td>\n",
       "      <td>52.0</td>\n",
       "      <td>389.87</td>\n",
       "      <td>81.0</td>\n",
       "      <td>14055.93</td>\n",
       "      <td>ultra</td>\n",
       "      <td>Краснодар</td>\n",
       "      <td>1000</td>\n",
       "      <td>30720</td>\n",
       "      <td>3000</td>\n",
       "      <td>1950</td>\n",
       "      <td>150</td>\n",
       "      <td>1</td>\n",
       "      <td>1</td>\n",
       "    </tr>\n",
       "    <tr>\n",
       "      <th>4</th>\n",
       "      <td>1000</td>\n",
       "      <td>9</td>\n",
       "      <td>58.0</td>\n",
       "      <td>440.14</td>\n",
       "      <td>57.0</td>\n",
       "      <td>14568.91</td>\n",
       "      <td>ultra</td>\n",
       "      <td>Краснодар</td>\n",
       "      <td>1000</td>\n",
       "      <td>30720</td>\n",
       "      <td>3000</td>\n",
       "      <td>1950</td>\n",
       "      <td>150</td>\n",
       "      <td>1</td>\n",
       "      <td>1</td>\n",
       "    </tr>\n",
       "    <tr>\n",
       "      <th>...</th>\n",
       "      <td>...</td>\n",
       "      <td>...</td>\n",
       "      <td>...</td>\n",
       "      <td>...</td>\n",
       "      <td>...</td>\n",
       "      <td>...</td>\n",
       "      <td>...</td>\n",
       "      <td>...</td>\n",
       "      <td>...</td>\n",
       "      <td>...</td>\n",
       "      <td>...</td>\n",
       "      <td>...</td>\n",
       "      <td>...</td>\n",
       "      <td>...</td>\n",
       "      <td>...</td>\n",
       "    </tr>\n",
       "    <tr>\n",
       "      <th>3209</th>\n",
       "      <td>1489</td>\n",
       "      <td>9</td>\n",
       "      <td>0.0</td>\n",
       "      <td>0.00</td>\n",
       "      <td>32.0</td>\n",
       "      <td>17206.30</td>\n",
       "      <td>smart</td>\n",
       "      <td>Санкт-Петербург</td>\n",
       "      <td>50</td>\n",
       "      <td>15360</td>\n",
       "      <td>500</td>\n",
       "      <td>550</td>\n",
       "      <td>200</td>\n",
       "      <td>3</td>\n",
       "      <td>3</td>\n",
       "    </tr>\n",
       "    <tr>\n",
       "      <th>3210</th>\n",
       "      <td>1489</td>\n",
       "      <td>10</td>\n",
       "      <td>0.0</td>\n",
       "      <td>0.00</td>\n",
       "      <td>21.0</td>\n",
       "      <td>19559.44</td>\n",
       "      <td>smart</td>\n",
       "      <td>Санкт-Петербург</td>\n",
       "      <td>50</td>\n",
       "      <td>15360</td>\n",
       "      <td>500</td>\n",
       "      <td>550</td>\n",
       "      <td>200</td>\n",
       "      <td>3</td>\n",
       "      <td>3</td>\n",
       "    </tr>\n",
       "    <tr>\n",
       "      <th>3211</th>\n",
       "      <td>1489</td>\n",
       "      <td>11</td>\n",
       "      <td>0.0</td>\n",
       "      <td>0.00</td>\n",
       "      <td>20.0</td>\n",
       "      <td>17491.56</td>\n",
       "      <td>smart</td>\n",
       "      <td>Санкт-Петербург</td>\n",
       "      <td>50</td>\n",
       "      <td>15360</td>\n",
       "      <td>500</td>\n",
       "      <td>550</td>\n",
       "      <td>200</td>\n",
       "      <td>3</td>\n",
       "      <td>3</td>\n",
       "    </tr>\n",
       "    <tr>\n",
       "      <th>3212</th>\n",
       "      <td>1489</td>\n",
       "      <td>12</td>\n",
       "      <td>0.0</td>\n",
       "      <td>0.00</td>\n",
       "      <td>35.0</td>\n",
       "      <td>17322.51</td>\n",
       "      <td>smart</td>\n",
       "      <td>Санкт-Петербург</td>\n",
       "      <td>50</td>\n",
       "      <td>15360</td>\n",
       "      <td>500</td>\n",
       "      <td>550</td>\n",
       "      <td>200</td>\n",
       "      <td>3</td>\n",
       "      <td>3</td>\n",
       "    </tr>\n",
       "    <tr>\n",
       "      <th>3213</th>\n",
       "      <td>1476</td>\n",
       "      <td>4</td>\n",
       "      <td>0.0</td>\n",
       "      <td>0.00</td>\n",
       "      <td>0.0</td>\n",
       "      <td>530.78</td>\n",
       "      <td>ultra</td>\n",
       "      <td>Москва</td>\n",
       "      <td>1000</td>\n",
       "      <td>30720</td>\n",
       "      <td>3000</td>\n",
       "      <td>1950</td>\n",
       "      <td>150</td>\n",
       "      <td>1</td>\n",
       "      <td>1</td>\n",
       "    </tr>\n",
       "  </tbody>\n",
       "</table>\n",
       "<p>3214 rows × 15 columns</p>\n",
       "</div>"
      ],
      "text/plain": [
       "      user_id  month  calls_count  calls_sum  messages_sum  mb_used_sum  \\\n",
       "0        1000      5         22.0     150.06          22.0      2253.49   \n",
       "1        1000      6         43.0     158.90          60.0     23233.77   \n",
       "2        1000      7         47.0     318.80          75.0     14003.64   \n",
       "3        1000      8         52.0     389.87          81.0     14055.93   \n",
       "4        1000      9         58.0     440.14          57.0     14568.91   \n",
       "...       ...    ...          ...        ...           ...          ...   \n",
       "3209     1489      9          0.0       0.00          32.0     17206.30   \n",
       "3210     1489     10          0.0       0.00          21.0     19559.44   \n",
       "3211     1489     11          0.0       0.00          20.0     17491.56   \n",
       "3212     1489     12          0.0       0.00          35.0     17322.51   \n",
       "3213     1476      4          0.0       0.00           0.0       530.78   \n",
       "\n",
       "     tariff             city  messages_included  mb_per_month_included  \\\n",
       "0     ultra        Краснодар               1000                  30720   \n",
       "1     ultra        Краснодар               1000                  30720   \n",
       "2     ultra        Краснодар               1000                  30720   \n",
       "3     ultra        Краснодар               1000                  30720   \n",
       "4     ultra        Краснодар               1000                  30720   \n",
       "...     ...              ...                ...                    ...   \n",
       "3209  smart  Санкт-Петербург                 50                  15360   \n",
       "3210  smart  Санкт-Петербург                 50                  15360   \n",
       "3211  smart  Санкт-Петербург                 50                  15360   \n",
       "3212  smart  Санкт-Петербург                 50                  15360   \n",
       "3213  ultra           Москва               1000                  30720   \n",
       "\n",
       "      minutes_included  rub_monthly_fee  rub_per_gb  rub_per_message  \\\n",
       "0                 3000             1950         150                1   \n",
       "1                 3000             1950         150                1   \n",
       "2                 3000             1950         150                1   \n",
       "3                 3000             1950         150                1   \n",
       "4                 3000             1950         150                1   \n",
       "...                ...              ...         ...              ...   \n",
       "3209               500              550         200                3   \n",
       "3210               500              550         200                3   \n",
       "3211               500              550         200                3   \n",
       "3212               500              550         200                3   \n",
       "3213              3000             1950         150                1   \n",
       "\n",
       "      rub_per_minute  \n",
       "0                  1  \n",
       "1                  1  \n",
       "2                  1  \n",
       "3                  1  \n",
       "4                  1  \n",
       "...              ...  \n",
       "3209               3  \n",
       "3210               3  \n",
       "3211               3  \n",
       "3212               3  \n",
       "3213               1  \n",
       "\n",
       "[3214 rows x 15 columns]"
      ]
     },
     "execution_count": 43,
     "metadata": {},
     "output_type": "execute_result"
    }
   ],
   "source": [
    "data=data_with_tariff.merge(tariffs, on='tariff',how='left')\n",
    "data"
   ]
  },
  {
   "cell_type": "code",
   "execution_count": 44,
   "metadata": {},
   "outputs": [
    {
     "data": {
      "text/html": [
       "<div>\n",
       "<style scoped>\n",
       "    .dataframe tbody tr th:only-of-type {\n",
       "        vertical-align: middle;\n",
       "    }\n",
       "\n",
       "    .dataframe tbody tr th {\n",
       "        vertical-align: top;\n",
       "    }\n",
       "\n",
       "    .dataframe thead th {\n",
       "        text-align: right;\n",
       "    }\n",
       "</style>\n",
       "<table border=\"1\" class=\"dataframe\">\n",
       "  <thead>\n",
       "    <tr style=\"text-align: right;\">\n",
       "      <th></th>\n",
       "      <th>user_id</th>\n",
       "      <th>month</th>\n",
       "      <th>calls_count</th>\n",
       "      <th>calls_sum</th>\n",
       "      <th>messages_sum</th>\n",
       "      <th>mb_used_sum</th>\n",
       "      <th>tariff</th>\n",
       "      <th>city</th>\n",
       "      <th>messages_included</th>\n",
       "      <th>mb_per_month_included</th>\n",
       "      <th>minutes_included</th>\n",
       "      <th>rub_monthly_fee</th>\n",
       "      <th>rub_per_gb</th>\n",
       "      <th>rub_per_message</th>\n",
       "      <th>rub_per_minute</th>\n",
       "      <th>difference_trafic</th>\n",
       "    </tr>\n",
       "  </thead>\n",
       "  <tbody>\n",
       "    <tr>\n",
       "      <th>0</th>\n",
       "      <td>1000</td>\n",
       "      <td>5</td>\n",
       "      <td>22.0</td>\n",
       "      <td>150.06</td>\n",
       "      <td>22.0</td>\n",
       "      <td>2253.49</td>\n",
       "      <td>ultra</td>\n",
       "      <td>Краснодар</td>\n",
       "      <td>1000</td>\n",
       "      <td>30720</td>\n",
       "      <td>3000</td>\n",
       "      <td>1950</td>\n",
       "      <td>150</td>\n",
       "      <td>1</td>\n",
       "      <td>1</td>\n",
       "      <td>-27.799326</td>\n",
       "    </tr>\n",
       "    <tr>\n",
       "      <th>1</th>\n",
       "      <td>1000</td>\n",
       "      <td>6</td>\n",
       "      <td>43.0</td>\n",
       "      <td>158.90</td>\n",
       "      <td>60.0</td>\n",
       "      <td>23233.77</td>\n",
       "      <td>ultra</td>\n",
       "      <td>Краснодар</td>\n",
       "      <td>1000</td>\n",
       "      <td>30720</td>\n",
       "      <td>3000</td>\n",
       "      <td>1950</td>\n",
       "      <td>150</td>\n",
       "      <td>1</td>\n",
       "      <td>1</td>\n",
       "      <td>-7.310771</td>\n",
       "    </tr>\n",
       "    <tr>\n",
       "      <th>2</th>\n",
       "      <td>1000</td>\n",
       "      <td>7</td>\n",
       "      <td>47.0</td>\n",
       "      <td>318.80</td>\n",
       "      <td>75.0</td>\n",
       "      <td>14003.64</td>\n",
       "      <td>ultra</td>\n",
       "      <td>Краснодар</td>\n",
       "      <td>1000</td>\n",
       "      <td>30720</td>\n",
       "      <td>3000</td>\n",
       "      <td>1950</td>\n",
       "      <td>150</td>\n",
       "      <td>1</td>\n",
       "      <td>1</td>\n",
       "      <td>-16.324570</td>\n",
       "    </tr>\n",
       "    <tr>\n",
       "      <th>3</th>\n",
       "      <td>1000</td>\n",
       "      <td>8</td>\n",
       "      <td>52.0</td>\n",
       "      <td>389.87</td>\n",
       "      <td>81.0</td>\n",
       "      <td>14055.93</td>\n",
       "      <td>ultra</td>\n",
       "      <td>Краснодар</td>\n",
       "      <td>1000</td>\n",
       "      <td>30720</td>\n",
       "      <td>3000</td>\n",
       "      <td>1950</td>\n",
       "      <td>150</td>\n",
       "      <td>1</td>\n",
       "      <td>1</td>\n",
       "      <td>-16.273506</td>\n",
       "    </tr>\n",
       "    <tr>\n",
       "      <th>4</th>\n",
       "      <td>1000</td>\n",
       "      <td>9</td>\n",
       "      <td>58.0</td>\n",
       "      <td>440.14</td>\n",
       "      <td>57.0</td>\n",
       "      <td>14568.91</td>\n",
       "      <td>ultra</td>\n",
       "      <td>Краснодар</td>\n",
       "      <td>1000</td>\n",
       "      <td>30720</td>\n",
       "      <td>3000</td>\n",
       "      <td>1950</td>\n",
       "      <td>150</td>\n",
       "      <td>1</td>\n",
       "      <td>1</td>\n",
       "      <td>-15.772549</td>\n",
       "    </tr>\n",
       "    <tr>\n",
       "      <th>...</th>\n",
       "      <td>...</td>\n",
       "      <td>...</td>\n",
       "      <td>...</td>\n",
       "      <td>...</td>\n",
       "      <td>...</td>\n",
       "      <td>...</td>\n",
       "      <td>...</td>\n",
       "      <td>...</td>\n",
       "      <td>...</td>\n",
       "      <td>...</td>\n",
       "      <td>...</td>\n",
       "      <td>...</td>\n",
       "      <td>...</td>\n",
       "      <td>...</td>\n",
       "      <td>...</td>\n",
       "      <td>...</td>\n",
       "    </tr>\n",
       "    <tr>\n",
       "      <th>3209</th>\n",
       "      <td>1489</td>\n",
       "      <td>9</td>\n",
       "      <td>0.0</td>\n",
       "      <td>0.00</td>\n",
       "      <td>32.0</td>\n",
       "      <td>17206.30</td>\n",
       "      <td>smart</td>\n",
       "      <td>Санкт-Петербург</td>\n",
       "      <td>50</td>\n",
       "      <td>15360</td>\n",
       "      <td>500</td>\n",
       "      <td>550</td>\n",
       "      <td>200</td>\n",
       "      <td>3</td>\n",
       "      <td>3</td>\n",
       "      <td>1.803027</td>\n",
       "    </tr>\n",
       "    <tr>\n",
       "      <th>3210</th>\n",
       "      <td>1489</td>\n",
       "      <td>10</td>\n",
       "      <td>0.0</td>\n",
       "      <td>0.00</td>\n",
       "      <td>21.0</td>\n",
       "      <td>19559.44</td>\n",
       "      <td>smart</td>\n",
       "      <td>Санкт-Петербург</td>\n",
       "      <td>50</td>\n",
       "      <td>15360</td>\n",
       "      <td>500</td>\n",
       "      <td>550</td>\n",
       "      <td>200</td>\n",
       "      <td>3</td>\n",
       "      <td>3</td>\n",
       "      <td>4.101016</td>\n",
       "    </tr>\n",
       "    <tr>\n",
       "      <th>3211</th>\n",
       "      <td>1489</td>\n",
       "      <td>11</td>\n",
       "      <td>0.0</td>\n",
       "      <td>0.00</td>\n",
       "      <td>20.0</td>\n",
       "      <td>17491.56</td>\n",
       "      <td>smart</td>\n",
       "      <td>Санкт-Петербург</td>\n",
       "      <td>50</td>\n",
       "      <td>15360</td>\n",
       "      <td>500</td>\n",
       "      <td>550</td>\n",
       "      <td>200</td>\n",
       "      <td>3</td>\n",
       "      <td>3</td>\n",
       "      <td>2.081602</td>\n",
       "    </tr>\n",
       "    <tr>\n",
       "      <th>3212</th>\n",
       "      <td>1489</td>\n",
       "      <td>12</td>\n",
       "      <td>0.0</td>\n",
       "      <td>0.00</td>\n",
       "      <td>35.0</td>\n",
       "      <td>17322.51</td>\n",
       "      <td>smart</td>\n",
       "      <td>Санкт-Петербург</td>\n",
       "      <td>50</td>\n",
       "      <td>15360</td>\n",
       "      <td>500</td>\n",
       "      <td>550</td>\n",
       "      <td>200</td>\n",
       "      <td>3</td>\n",
       "      <td>3</td>\n",
       "      <td>1.916514</td>\n",
       "    </tr>\n",
       "    <tr>\n",
       "      <th>3213</th>\n",
       "      <td>1476</td>\n",
       "      <td>4</td>\n",
       "      <td>0.0</td>\n",
       "      <td>0.00</td>\n",
       "      <td>0.0</td>\n",
       "      <td>530.78</td>\n",
       "      <td>ultra</td>\n",
       "      <td>Москва</td>\n",
       "      <td>1000</td>\n",
       "      <td>30720</td>\n",
       "      <td>3000</td>\n",
       "      <td>1950</td>\n",
       "      <td>150</td>\n",
       "      <td>1</td>\n",
       "      <td>1</td>\n",
       "      <td>-29.481660</td>\n",
       "    </tr>\n",
       "  </tbody>\n",
       "</table>\n",
       "<p>3214 rows × 16 columns</p>\n",
       "</div>"
      ],
      "text/plain": [
       "      user_id  month  calls_count  calls_sum  messages_sum  mb_used_sum  \\\n",
       "0        1000      5         22.0     150.06          22.0      2253.49   \n",
       "1        1000      6         43.0     158.90          60.0     23233.77   \n",
       "2        1000      7         47.0     318.80          75.0     14003.64   \n",
       "3        1000      8         52.0     389.87          81.0     14055.93   \n",
       "4        1000      9         58.0     440.14          57.0     14568.91   \n",
       "...       ...    ...          ...        ...           ...          ...   \n",
       "3209     1489      9          0.0       0.00          32.0     17206.30   \n",
       "3210     1489     10          0.0       0.00          21.0     19559.44   \n",
       "3211     1489     11          0.0       0.00          20.0     17491.56   \n",
       "3212     1489     12          0.0       0.00          35.0     17322.51   \n",
       "3213     1476      4          0.0       0.00           0.0       530.78   \n",
       "\n",
       "     tariff             city  messages_included  mb_per_month_included  \\\n",
       "0     ultra        Краснодар               1000                  30720   \n",
       "1     ultra        Краснодар               1000                  30720   \n",
       "2     ultra        Краснодар               1000                  30720   \n",
       "3     ultra        Краснодар               1000                  30720   \n",
       "4     ultra        Краснодар               1000                  30720   \n",
       "...     ...              ...                ...                    ...   \n",
       "3209  smart  Санкт-Петербург                 50                  15360   \n",
       "3210  smart  Санкт-Петербург                 50                  15360   \n",
       "3211  smart  Санкт-Петербург                 50                  15360   \n",
       "3212  smart  Санкт-Петербург                 50                  15360   \n",
       "3213  ultra           Москва               1000                  30720   \n",
       "\n",
       "      minutes_included  rub_monthly_fee  rub_per_gb  rub_per_message  \\\n",
       "0                 3000             1950         150                1   \n",
       "1                 3000             1950         150                1   \n",
       "2                 3000             1950         150                1   \n",
       "3                 3000             1950         150                1   \n",
       "4                 3000             1950         150                1   \n",
       "...                ...              ...         ...              ...   \n",
       "3209               500              550         200                3   \n",
       "3210               500              550         200                3   \n",
       "3211               500              550         200                3   \n",
       "3212               500              550         200                3   \n",
       "3213              3000             1950         150                1   \n",
       "\n",
       "      rub_per_minute  difference_trafic  \n",
       "0                  1         -27.799326  \n",
       "1                  1          -7.310771  \n",
       "2                  1         -16.324570  \n",
       "3                  1         -16.273506  \n",
       "4                  1         -15.772549  \n",
       "...              ...                ...  \n",
       "3209               3           1.803027  \n",
       "3210               3           4.101016  \n",
       "3211               3           2.081602  \n",
       "3212               3           1.916514  \n",
       "3213               1         -29.481660  \n",
       "\n",
       "[3214 rows x 16 columns]"
      ]
     },
     "execution_count": 44,
     "metadata": {},
     "output_type": "execute_result"
    }
   ],
   "source": [
    "#рассчитаем количество трафика сверх тарифа для каждого пользователя в гигабайтах\n",
    "data['difference_trafic'] = (data['mb_used_sum'] - data['mb_per_month_included']) / 1024\n",
    "data"
   ]
  },
  {
   "cell_type": "code",
   "execution_count": 45,
   "metadata": {},
   "outputs": [
    {
     "data": {
      "text/plain": [
       "0      -27\n",
       "1       -7\n",
       "2      -16\n",
       "3      -16\n",
       "4      -15\n",
       "        ..\n",
       "3209     2\n",
       "3210     5\n",
       "3211     3\n",
       "3212     2\n",
       "3213   -29\n",
       "Name: difference_trafic, Length: 3214, dtype: int64"
      ]
     },
     "execution_count": 45,
     "metadata": {},
     "output_type": "execute_result"
    }
   ],
   "source": [
    "#округлим гигабайты до целого числа в большую сторону\n",
    "data['difference_trafic'] = np.ceil(data.difference_trafic).astype('int')\n",
    "data['difference_trafic']"
   ]
  },
  {
   "cell_type": "code",
   "execution_count": 46,
   "metadata": {},
   "outputs": [
    {
     "data": {
      "text/html": [
       "<div>\n",
       "<style scoped>\n",
       "    .dataframe tbody tr th:only-of-type {\n",
       "        vertical-align: middle;\n",
       "    }\n",
       "\n",
       "    .dataframe tbody tr th {\n",
       "        vertical-align: top;\n",
       "    }\n",
       "\n",
       "    .dataframe thead th {\n",
       "        text-align: right;\n",
       "    }\n",
       "</style>\n",
       "<table border=\"1\" class=\"dataframe\">\n",
       "  <thead>\n",
       "    <tr style=\"text-align: right;\">\n",
       "      <th></th>\n",
       "      <th>user_id</th>\n",
       "      <th>month</th>\n",
       "      <th>calls_count</th>\n",
       "      <th>calls_sum</th>\n",
       "      <th>messages_sum</th>\n",
       "      <th>mb_used_sum</th>\n",
       "      <th>tariff</th>\n",
       "      <th>city</th>\n",
       "      <th>messages_included</th>\n",
       "      <th>mb_per_month_included</th>\n",
       "      <th>minutes_included</th>\n",
       "      <th>rub_monthly_fee</th>\n",
       "      <th>rub_per_gb</th>\n",
       "      <th>rub_per_message</th>\n",
       "      <th>rub_per_minute</th>\n",
       "      <th>difference_trafic</th>\n",
       "      <th>difference_trafic_rb</th>\n",
       "    </tr>\n",
       "  </thead>\n",
       "  <tbody>\n",
       "    <tr>\n",
       "      <th>0</th>\n",
       "      <td>1000</td>\n",
       "      <td>5</td>\n",
       "      <td>22.0</td>\n",
       "      <td>150.06</td>\n",
       "      <td>22.0</td>\n",
       "      <td>2253.49</td>\n",
       "      <td>ultra</td>\n",
       "      <td>Краснодар</td>\n",
       "      <td>1000</td>\n",
       "      <td>30720</td>\n",
       "      <td>3000</td>\n",
       "      <td>1950</td>\n",
       "      <td>150</td>\n",
       "      <td>1</td>\n",
       "      <td>1</td>\n",
       "      <td>-27</td>\n",
       "      <td>-4050</td>\n",
       "    </tr>\n",
       "    <tr>\n",
       "      <th>1</th>\n",
       "      <td>1000</td>\n",
       "      <td>6</td>\n",
       "      <td>43.0</td>\n",
       "      <td>158.90</td>\n",
       "      <td>60.0</td>\n",
       "      <td>23233.77</td>\n",
       "      <td>ultra</td>\n",
       "      <td>Краснодар</td>\n",
       "      <td>1000</td>\n",
       "      <td>30720</td>\n",
       "      <td>3000</td>\n",
       "      <td>1950</td>\n",
       "      <td>150</td>\n",
       "      <td>1</td>\n",
       "      <td>1</td>\n",
       "      <td>-7</td>\n",
       "      <td>-1050</td>\n",
       "    </tr>\n",
       "    <tr>\n",
       "      <th>2</th>\n",
       "      <td>1000</td>\n",
       "      <td>7</td>\n",
       "      <td>47.0</td>\n",
       "      <td>318.80</td>\n",
       "      <td>75.0</td>\n",
       "      <td>14003.64</td>\n",
       "      <td>ultra</td>\n",
       "      <td>Краснодар</td>\n",
       "      <td>1000</td>\n",
       "      <td>30720</td>\n",
       "      <td>3000</td>\n",
       "      <td>1950</td>\n",
       "      <td>150</td>\n",
       "      <td>1</td>\n",
       "      <td>1</td>\n",
       "      <td>-16</td>\n",
       "      <td>-2400</td>\n",
       "    </tr>\n",
       "    <tr>\n",
       "      <th>3</th>\n",
       "      <td>1000</td>\n",
       "      <td>8</td>\n",
       "      <td>52.0</td>\n",
       "      <td>389.87</td>\n",
       "      <td>81.0</td>\n",
       "      <td>14055.93</td>\n",
       "      <td>ultra</td>\n",
       "      <td>Краснодар</td>\n",
       "      <td>1000</td>\n",
       "      <td>30720</td>\n",
       "      <td>3000</td>\n",
       "      <td>1950</td>\n",
       "      <td>150</td>\n",
       "      <td>1</td>\n",
       "      <td>1</td>\n",
       "      <td>-16</td>\n",
       "      <td>-2400</td>\n",
       "    </tr>\n",
       "    <tr>\n",
       "      <th>4</th>\n",
       "      <td>1000</td>\n",
       "      <td>9</td>\n",
       "      <td>58.0</td>\n",
       "      <td>440.14</td>\n",
       "      <td>57.0</td>\n",
       "      <td>14568.91</td>\n",
       "      <td>ultra</td>\n",
       "      <td>Краснодар</td>\n",
       "      <td>1000</td>\n",
       "      <td>30720</td>\n",
       "      <td>3000</td>\n",
       "      <td>1950</td>\n",
       "      <td>150</td>\n",
       "      <td>1</td>\n",
       "      <td>1</td>\n",
       "      <td>-15</td>\n",
       "      <td>-2250</td>\n",
       "    </tr>\n",
       "    <tr>\n",
       "      <th>...</th>\n",
       "      <td>...</td>\n",
       "      <td>...</td>\n",
       "      <td>...</td>\n",
       "      <td>...</td>\n",
       "      <td>...</td>\n",
       "      <td>...</td>\n",
       "      <td>...</td>\n",
       "      <td>...</td>\n",
       "      <td>...</td>\n",
       "      <td>...</td>\n",
       "      <td>...</td>\n",
       "      <td>...</td>\n",
       "      <td>...</td>\n",
       "      <td>...</td>\n",
       "      <td>...</td>\n",
       "      <td>...</td>\n",
       "      <td>...</td>\n",
       "    </tr>\n",
       "    <tr>\n",
       "      <th>3209</th>\n",
       "      <td>1489</td>\n",
       "      <td>9</td>\n",
       "      <td>0.0</td>\n",
       "      <td>0.00</td>\n",
       "      <td>32.0</td>\n",
       "      <td>17206.30</td>\n",
       "      <td>smart</td>\n",
       "      <td>Санкт-Петербург</td>\n",
       "      <td>50</td>\n",
       "      <td>15360</td>\n",
       "      <td>500</td>\n",
       "      <td>550</td>\n",
       "      <td>200</td>\n",
       "      <td>3</td>\n",
       "      <td>3</td>\n",
       "      <td>2</td>\n",
       "      <td>400</td>\n",
       "    </tr>\n",
       "    <tr>\n",
       "      <th>3210</th>\n",
       "      <td>1489</td>\n",
       "      <td>10</td>\n",
       "      <td>0.0</td>\n",
       "      <td>0.00</td>\n",
       "      <td>21.0</td>\n",
       "      <td>19559.44</td>\n",
       "      <td>smart</td>\n",
       "      <td>Санкт-Петербург</td>\n",
       "      <td>50</td>\n",
       "      <td>15360</td>\n",
       "      <td>500</td>\n",
       "      <td>550</td>\n",
       "      <td>200</td>\n",
       "      <td>3</td>\n",
       "      <td>3</td>\n",
       "      <td>5</td>\n",
       "      <td>1000</td>\n",
       "    </tr>\n",
       "    <tr>\n",
       "      <th>3211</th>\n",
       "      <td>1489</td>\n",
       "      <td>11</td>\n",
       "      <td>0.0</td>\n",
       "      <td>0.00</td>\n",
       "      <td>20.0</td>\n",
       "      <td>17491.56</td>\n",
       "      <td>smart</td>\n",
       "      <td>Санкт-Петербург</td>\n",
       "      <td>50</td>\n",
       "      <td>15360</td>\n",
       "      <td>500</td>\n",
       "      <td>550</td>\n",
       "      <td>200</td>\n",
       "      <td>3</td>\n",
       "      <td>3</td>\n",
       "      <td>3</td>\n",
       "      <td>600</td>\n",
       "    </tr>\n",
       "    <tr>\n",
       "      <th>3212</th>\n",
       "      <td>1489</td>\n",
       "      <td>12</td>\n",
       "      <td>0.0</td>\n",
       "      <td>0.00</td>\n",
       "      <td>35.0</td>\n",
       "      <td>17322.51</td>\n",
       "      <td>smart</td>\n",
       "      <td>Санкт-Петербург</td>\n",
       "      <td>50</td>\n",
       "      <td>15360</td>\n",
       "      <td>500</td>\n",
       "      <td>550</td>\n",
       "      <td>200</td>\n",
       "      <td>3</td>\n",
       "      <td>3</td>\n",
       "      <td>2</td>\n",
       "      <td>400</td>\n",
       "    </tr>\n",
       "    <tr>\n",
       "      <th>3213</th>\n",
       "      <td>1476</td>\n",
       "      <td>4</td>\n",
       "      <td>0.0</td>\n",
       "      <td>0.00</td>\n",
       "      <td>0.0</td>\n",
       "      <td>530.78</td>\n",
       "      <td>ultra</td>\n",
       "      <td>Москва</td>\n",
       "      <td>1000</td>\n",
       "      <td>30720</td>\n",
       "      <td>3000</td>\n",
       "      <td>1950</td>\n",
       "      <td>150</td>\n",
       "      <td>1</td>\n",
       "      <td>1</td>\n",
       "      <td>-29</td>\n",
       "      <td>-4350</td>\n",
       "    </tr>\n",
       "  </tbody>\n",
       "</table>\n",
       "<p>3214 rows × 17 columns</p>\n",
       "</div>"
      ],
      "text/plain": [
       "      user_id  month  calls_count  calls_sum  messages_sum  mb_used_sum  \\\n",
       "0        1000      5         22.0     150.06          22.0      2253.49   \n",
       "1        1000      6         43.0     158.90          60.0     23233.77   \n",
       "2        1000      7         47.0     318.80          75.0     14003.64   \n",
       "3        1000      8         52.0     389.87          81.0     14055.93   \n",
       "4        1000      9         58.0     440.14          57.0     14568.91   \n",
       "...       ...    ...          ...        ...           ...          ...   \n",
       "3209     1489      9          0.0       0.00          32.0     17206.30   \n",
       "3210     1489     10          0.0       0.00          21.0     19559.44   \n",
       "3211     1489     11          0.0       0.00          20.0     17491.56   \n",
       "3212     1489     12          0.0       0.00          35.0     17322.51   \n",
       "3213     1476      4          0.0       0.00           0.0       530.78   \n",
       "\n",
       "     tariff             city  messages_included  mb_per_month_included  \\\n",
       "0     ultra        Краснодар               1000                  30720   \n",
       "1     ultra        Краснодар               1000                  30720   \n",
       "2     ultra        Краснодар               1000                  30720   \n",
       "3     ultra        Краснодар               1000                  30720   \n",
       "4     ultra        Краснодар               1000                  30720   \n",
       "...     ...              ...                ...                    ...   \n",
       "3209  smart  Санкт-Петербург                 50                  15360   \n",
       "3210  smart  Санкт-Петербург                 50                  15360   \n",
       "3211  smart  Санкт-Петербург                 50                  15360   \n",
       "3212  smart  Санкт-Петербург                 50                  15360   \n",
       "3213  ultra           Москва               1000                  30720   \n",
       "\n",
       "      minutes_included  rub_monthly_fee  rub_per_gb  rub_per_message  \\\n",
       "0                 3000             1950         150                1   \n",
       "1                 3000             1950         150                1   \n",
       "2                 3000             1950         150                1   \n",
       "3                 3000             1950         150                1   \n",
       "4                 3000             1950         150                1   \n",
       "...                ...              ...         ...              ...   \n",
       "3209               500              550         200                3   \n",
       "3210               500              550         200                3   \n",
       "3211               500              550         200                3   \n",
       "3212               500              550         200                3   \n",
       "3213              3000             1950         150                1   \n",
       "\n",
       "      rub_per_minute  difference_trafic  difference_trafic_rb  \n",
       "0                  1                -27                 -4050  \n",
       "1                  1                 -7                 -1050  \n",
       "2                  1                -16                 -2400  \n",
       "3                  1                -16                 -2400  \n",
       "4                  1                -15                 -2250  \n",
       "...              ...                ...                   ...  \n",
       "3209               3                  2                   400  \n",
       "3210               3                  5                  1000  \n",
       "3211               3                  3                   600  \n",
       "3212               3                  2                   400  \n",
       "3213               1                -29                 -4350  \n",
       "\n",
       "[3214 rows x 17 columns]"
      ]
     },
     "execution_count": 46,
     "metadata": {},
     "output_type": "execute_result"
    }
   ],
   "source": [
    "#сделаем подсчет стоимости интернета потраченного сверх трафика\n",
    "data['difference_trafic_rb'] = data['difference_trafic'] * data['rub_per_gb']\n",
    "data"
   ]
  },
  {
   "cell_type": "code",
   "execution_count": 47,
   "metadata": {},
   "outputs": [
    {
     "data": {
      "text/html": [
       "<div>\n",
       "<style scoped>\n",
       "    .dataframe tbody tr th:only-of-type {\n",
       "        vertical-align: middle;\n",
       "    }\n",
       "\n",
       "    .dataframe tbody tr th {\n",
       "        vertical-align: top;\n",
       "    }\n",
       "\n",
       "    .dataframe thead th {\n",
       "        text-align: right;\n",
       "    }\n",
       "</style>\n",
       "<table border=\"1\" class=\"dataframe\">\n",
       "  <thead>\n",
       "    <tr style=\"text-align: right;\">\n",
       "      <th></th>\n",
       "      <th>user_id</th>\n",
       "      <th>month</th>\n",
       "      <th>calls_count</th>\n",
       "      <th>calls_sum</th>\n",
       "      <th>messages_sum</th>\n",
       "      <th>mb_used_sum</th>\n",
       "      <th>tariff</th>\n",
       "      <th>city</th>\n",
       "      <th>messages_included</th>\n",
       "      <th>mb_per_month_included</th>\n",
       "      <th>minutes_included</th>\n",
       "      <th>rub_monthly_fee</th>\n",
       "      <th>rub_per_gb</th>\n",
       "      <th>rub_per_message</th>\n",
       "      <th>rub_per_minute</th>\n",
       "      <th>difference_trafic</th>\n",
       "      <th>difference_trafic_rb</th>\n",
       "      <th>difference_message_rb</th>\n",
       "    </tr>\n",
       "  </thead>\n",
       "  <tbody>\n",
       "    <tr>\n",
       "      <th>0</th>\n",
       "      <td>1000</td>\n",
       "      <td>5</td>\n",
       "      <td>22.0</td>\n",
       "      <td>150.06</td>\n",
       "      <td>22.0</td>\n",
       "      <td>2253.49</td>\n",
       "      <td>ultra</td>\n",
       "      <td>Краснодар</td>\n",
       "      <td>1000</td>\n",
       "      <td>30720</td>\n",
       "      <td>3000</td>\n",
       "      <td>1950</td>\n",
       "      <td>150</td>\n",
       "      <td>1</td>\n",
       "      <td>1</td>\n",
       "      <td>-27</td>\n",
       "      <td>-4050</td>\n",
       "      <td>-978.0</td>\n",
       "    </tr>\n",
       "    <tr>\n",
       "      <th>1</th>\n",
       "      <td>1000</td>\n",
       "      <td>6</td>\n",
       "      <td>43.0</td>\n",
       "      <td>158.90</td>\n",
       "      <td>60.0</td>\n",
       "      <td>23233.77</td>\n",
       "      <td>ultra</td>\n",
       "      <td>Краснодар</td>\n",
       "      <td>1000</td>\n",
       "      <td>30720</td>\n",
       "      <td>3000</td>\n",
       "      <td>1950</td>\n",
       "      <td>150</td>\n",
       "      <td>1</td>\n",
       "      <td>1</td>\n",
       "      <td>-7</td>\n",
       "      <td>-1050</td>\n",
       "      <td>-940.0</td>\n",
       "    </tr>\n",
       "    <tr>\n",
       "      <th>2</th>\n",
       "      <td>1000</td>\n",
       "      <td>7</td>\n",
       "      <td>47.0</td>\n",
       "      <td>318.80</td>\n",
       "      <td>75.0</td>\n",
       "      <td>14003.64</td>\n",
       "      <td>ultra</td>\n",
       "      <td>Краснодар</td>\n",
       "      <td>1000</td>\n",
       "      <td>30720</td>\n",
       "      <td>3000</td>\n",
       "      <td>1950</td>\n",
       "      <td>150</td>\n",
       "      <td>1</td>\n",
       "      <td>1</td>\n",
       "      <td>-16</td>\n",
       "      <td>-2400</td>\n",
       "      <td>-925.0</td>\n",
       "    </tr>\n",
       "    <tr>\n",
       "      <th>3</th>\n",
       "      <td>1000</td>\n",
       "      <td>8</td>\n",
       "      <td>52.0</td>\n",
       "      <td>389.87</td>\n",
       "      <td>81.0</td>\n",
       "      <td>14055.93</td>\n",
       "      <td>ultra</td>\n",
       "      <td>Краснодар</td>\n",
       "      <td>1000</td>\n",
       "      <td>30720</td>\n",
       "      <td>3000</td>\n",
       "      <td>1950</td>\n",
       "      <td>150</td>\n",
       "      <td>1</td>\n",
       "      <td>1</td>\n",
       "      <td>-16</td>\n",
       "      <td>-2400</td>\n",
       "      <td>-919.0</td>\n",
       "    </tr>\n",
       "    <tr>\n",
       "      <th>4</th>\n",
       "      <td>1000</td>\n",
       "      <td>9</td>\n",
       "      <td>58.0</td>\n",
       "      <td>440.14</td>\n",
       "      <td>57.0</td>\n",
       "      <td>14568.91</td>\n",
       "      <td>ultra</td>\n",
       "      <td>Краснодар</td>\n",
       "      <td>1000</td>\n",
       "      <td>30720</td>\n",
       "      <td>3000</td>\n",
       "      <td>1950</td>\n",
       "      <td>150</td>\n",
       "      <td>1</td>\n",
       "      <td>1</td>\n",
       "      <td>-15</td>\n",
       "      <td>-2250</td>\n",
       "      <td>-943.0</td>\n",
       "    </tr>\n",
       "    <tr>\n",
       "      <th>...</th>\n",
       "      <td>...</td>\n",
       "      <td>...</td>\n",
       "      <td>...</td>\n",
       "      <td>...</td>\n",
       "      <td>...</td>\n",
       "      <td>...</td>\n",
       "      <td>...</td>\n",
       "      <td>...</td>\n",
       "      <td>...</td>\n",
       "      <td>...</td>\n",
       "      <td>...</td>\n",
       "      <td>...</td>\n",
       "      <td>...</td>\n",
       "      <td>...</td>\n",
       "      <td>...</td>\n",
       "      <td>...</td>\n",
       "      <td>...</td>\n",
       "      <td>...</td>\n",
       "    </tr>\n",
       "    <tr>\n",
       "      <th>3209</th>\n",
       "      <td>1489</td>\n",
       "      <td>9</td>\n",
       "      <td>0.0</td>\n",
       "      <td>0.00</td>\n",
       "      <td>32.0</td>\n",
       "      <td>17206.30</td>\n",
       "      <td>smart</td>\n",
       "      <td>Санкт-Петербург</td>\n",
       "      <td>50</td>\n",
       "      <td>15360</td>\n",
       "      <td>500</td>\n",
       "      <td>550</td>\n",
       "      <td>200</td>\n",
       "      <td>3</td>\n",
       "      <td>3</td>\n",
       "      <td>2</td>\n",
       "      <td>400</td>\n",
       "      <td>-54.0</td>\n",
       "    </tr>\n",
       "    <tr>\n",
       "      <th>3210</th>\n",
       "      <td>1489</td>\n",
       "      <td>10</td>\n",
       "      <td>0.0</td>\n",
       "      <td>0.00</td>\n",
       "      <td>21.0</td>\n",
       "      <td>19559.44</td>\n",
       "      <td>smart</td>\n",
       "      <td>Санкт-Петербург</td>\n",
       "      <td>50</td>\n",
       "      <td>15360</td>\n",
       "      <td>500</td>\n",
       "      <td>550</td>\n",
       "      <td>200</td>\n",
       "      <td>3</td>\n",
       "      <td>3</td>\n",
       "      <td>5</td>\n",
       "      <td>1000</td>\n",
       "      <td>-87.0</td>\n",
       "    </tr>\n",
       "    <tr>\n",
       "      <th>3211</th>\n",
       "      <td>1489</td>\n",
       "      <td>11</td>\n",
       "      <td>0.0</td>\n",
       "      <td>0.00</td>\n",
       "      <td>20.0</td>\n",
       "      <td>17491.56</td>\n",
       "      <td>smart</td>\n",
       "      <td>Санкт-Петербург</td>\n",
       "      <td>50</td>\n",
       "      <td>15360</td>\n",
       "      <td>500</td>\n",
       "      <td>550</td>\n",
       "      <td>200</td>\n",
       "      <td>3</td>\n",
       "      <td>3</td>\n",
       "      <td>3</td>\n",
       "      <td>600</td>\n",
       "      <td>-90.0</td>\n",
       "    </tr>\n",
       "    <tr>\n",
       "      <th>3212</th>\n",
       "      <td>1489</td>\n",
       "      <td>12</td>\n",
       "      <td>0.0</td>\n",
       "      <td>0.00</td>\n",
       "      <td>35.0</td>\n",
       "      <td>17322.51</td>\n",
       "      <td>smart</td>\n",
       "      <td>Санкт-Петербург</td>\n",
       "      <td>50</td>\n",
       "      <td>15360</td>\n",
       "      <td>500</td>\n",
       "      <td>550</td>\n",
       "      <td>200</td>\n",
       "      <td>3</td>\n",
       "      <td>3</td>\n",
       "      <td>2</td>\n",
       "      <td>400</td>\n",
       "      <td>-45.0</td>\n",
       "    </tr>\n",
       "    <tr>\n",
       "      <th>3213</th>\n",
       "      <td>1476</td>\n",
       "      <td>4</td>\n",
       "      <td>0.0</td>\n",
       "      <td>0.00</td>\n",
       "      <td>0.0</td>\n",
       "      <td>530.78</td>\n",
       "      <td>ultra</td>\n",
       "      <td>Москва</td>\n",
       "      <td>1000</td>\n",
       "      <td>30720</td>\n",
       "      <td>3000</td>\n",
       "      <td>1950</td>\n",
       "      <td>150</td>\n",
       "      <td>1</td>\n",
       "      <td>1</td>\n",
       "      <td>-29</td>\n",
       "      <td>-4350</td>\n",
       "      <td>-1000.0</td>\n",
       "    </tr>\n",
       "  </tbody>\n",
       "</table>\n",
       "<p>3214 rows × 18 columns</p>\n",
       "</div>"
      ],
      "text/plain": [
       "      user_id  month  calls_count  calls_sum  messages_sum  mb_used_sum  \\\n",
       "0        1000      5         22.0     150.06          22.0      2253.49   \n",
       "1        1000      6         43.0     158.90          60.0     23233.77   \n",
       "2        1000      7         47.0     318.80          75.0     14003.64   \n",
       "3        1000      8         52.0     389.87          81.0     14055.93   \n",
       "4        1000      9         58.0     440.14          57.0     14568.91   \n",
       "...       ...    ...          ...        ...           ...          ...   \n",
       "3209     1489      9          0.0       0.00          32.0     17206.30   \n",
       "3210     1489     10          0.0       0.00          21.0     19559.44   \n",
       "3211     1489     11          0.0       0.00          20.0     17491.56   \n",
       "3212     1489     12          0.0       0.00          35.0     17322.51   \n",
       "3213     1476      4          0.0       0.00           0.0       530.78   \n",
       "\n",
       "     tariff             city  messages_included  mb_per_month_included  \\\n",
       "0     ultra        Краснодар               1000                  30720   \n",
       "1     ultra        Краснодар               1000                  30720   \n",
       "2     ultra        Краснодар               1000                  30720   \n",
       "3     ultra        Краснодар               1000                  30720   \n",
       "4     ultra        Краснодар               1000                  30720   \n",
       "...     ...              ...                ...                    ...   \n",
       "3209  smart  Санкт-Петербург                 50                  15360   \n",
       "3210  smart  Санкт-Петербург                 50                  15360   \n",
       "3211  smart  Санкт-Петербург                 50                  15360   \n",
       "3212  smart  Санкт-Петербург                 50                  15360   \n",
       "3213  ultra           Москва               1000                  30720   \n",
       "\n",
       "      minutes_included  rub_monthly_fee  rub_per_gb  rub_per_message  \\\n",
       "0                 3000             1950         150                1   \n",
       "1                 3000             1950         150                1   \n",
       "2                 3000             1950         150                1   \n",
       "3                 3000             1950         150                1   \n",
       "4                 3000             1950         150                1   \n",
       "...                ...              ...         ...              ...   \n",
       "3209               500              550         200                3   \n",
       "3210               500              550         200                3   \n",
       "3211               500              550         200                3   \n",
       "3212               500              550         200                3   \n",
       "3213              3000             1950         150                1   \n",
       "\n",
       "      rub_per_minute  difference_trafic  difference_trafic_rb  \\\n",
       "0                  1                -27                 -4050   \n",
       "1                  1                 -7                 -1050   \n",
       "2                  1                -16                 -2400   \n",
       "3                  1                -16                 -2400   \n",
       "4                  1                -15                 -2250   \n",
       "...              ...                ...                   ...   \n",
       "3209               3                  2                   400   \n",
       "3210               3                  5                  1000   \n",
       "3211               3                  3                   600   \n",
       "3212               3                  2                   400   \n",
       "3213               1                -29                 -4350   \n",
       "\n",
       "      difference_message_rb  \n",
       "0                    -978.0  \n",
       "1                    -940.0  \n",
       "2                    -925.0  \n",
       "3                    -919.0  \n",
       "4                    -943.0  \n",
       "...                     ...  \n",
       "3209                  -54.0  \n",
       "3210                  -87.0  \n",
       "3211                  -90.0  \n",
       "3212                  -45.0  \n",
       "3213                -1000.0  \n",
       "\n",
       "[3214 rows x 18 columns]"
      ]
     },
     "execution_count": 47,
     "metadata": {},
     "output_type": "execute_result"
    }
   ],
   "source": [
    "data['difference_message_rb'] = (data['messages_sum'] - data['messages_included']) * data['rub_per_message']\n",
    "data"
   ]
  },
  {
   "cell_type": "code",
   "execution_count": 48,
   "metadata": {},
   "outputs": [
    {
     "data": {
      "text/plain": [
       "0      -2849.94\n",
       "1      -2841.10\n",
       "2      -2681.20\n",
       "3      -2610.13\n",
       "4      -2559.86\n",
       "         ...   \n",
       "3209    -500.00\n",
       "3210    -500.00\n",
       "3211    -500.00\n",
       "3212    -500.00\n",
       "3213   -3000.00\n",
       "Name: difference_call, Length: 3214, dtype: float64"
      ]
     },
     "execution_count": 48,
     "metadata": {},
     "output_type": "execute_result"
    }
   ],
   "source": [
    "#Находим стоимость минут сверх тарифа\n",
    "data['difference_call'] = data['calls_sum'] - data['minutes_included']\n",
    "data['difference_call']"
   ]
  },
  {
   "cell_type": "code",
   "execution_count": 49,
   "metadata": {},
   "outputs": [
    {
     "data": {
      "text/plain": [
       "0      -2849\n",
       "1      -2841\n",
       "2      -2681\n",
       "3      -2610\n",
       "4      -2559\n",
       "        ... \n",
       "3209    -500\n",
       "3210    -500\n",
       "3211    -500\n",
       "3212    -500\n",
       "3213   -3000\n",
       "Name: difference_call, Length: 3214, dtype: int64"
      ]
     },
     "execution_count": 49,
     "metadata": {},
     "output_type": "execute_result"
    }
   ],
   "source": [
    "#округляем минуты\n",
    "data['difference_call'] = np.ceil(data.difference_call).astype('int')\n",
    "data['difference_call']"
   ]
  },
  {
   "cell_type": "code",
   "execution_count": 50,
   "metadata": {},
   "outputs": [
    {
     "data": {
      "text/html": [
       "<div>\n",
       "<style scoped>\n",
       "    .dataframe tbody tr th:only-of-type {\n",
       "        vertical-align: middle;\n",
       "    }\n",
       "\n",
       "    .dataframe tbody tr th {\n",
       "        vertical-align: top;\n",
       "    }\n",
       "\n",
       "    .dataframe thead th {\n",
       "        text-align: right;\n",
       "    }\n",
       "</style>\n",
       "<table border=\"1\" class=\"dataframe\">\n",
       "  <thead>\n",
       "    <tr style=\"text-align: right;\">\n",
       "      <th></th>\n",
       "      <th>user_id</th>\n",
       "      <th>month</th>\n",
       "      <th>calls_count</th>\n",
       "      <th>calls_sum</th>\n",
       "      <th>messages_sum</th>\n",
       "      <th>mb_used_sum</th>\n",
       "      <th>tariff</th>\n",
       "      <th>city</th>\n",
       "      <th>messages_included</th>\n",
       "      <th>mb_per_month_included</th>\n",
       "      <th>minutes_included</th>\n",
       "      <th>rub_monthly_fee</th>\n",
       "      <th>rub_per_gb</th>\n",
       "      <th>rub_per_message</th>\n",
       "      <th>rub_per_minute</th>\n",
       "      <th>difference_trafic</th>\n",
       "      <th>difference_trafic_rb</th>\n",
       "      <th>difference_message_rb</th>\n",
       "      <th>difference_call</th>\n",
       "      <th>difference_call_rb</th>\n",
       "    </tr>\n",
       "  </thead>\n",
       "  <tbody>\n",
       "    <tr>\n",
       "      <th>0</th>\n",
       "      <td>1000</td>\n",
       "      <td>5</td>\n",
       "      <td>22.0</td>\n",
       "      <td>150.06</td>\n",
       "      <td>22.0</td>\n",
       "      <td>2253.49</td>\n",
       "      <td>ultra</td>\n",
       "      <td>Краснодар</td>\n",
       "      <td>1000</td>\n",
       "      <td>30720</td>\n",
       "      <td>3000</td>\n",
       "      <td>1950</td>\n",
       "      <td>150</td>\n",
       "      <td>1</td>\n",
       "      <td>1</td>\n",
       "      <td>-27</td>\n",
       "      <td>-4050</td>\n",
       "      <td>-978.0</td>\n",
       "      <td>-2849</td>\n",
       "      <td>-2849</td>\n",
       "    </tr>\n",
       "    <tr>\n",
       "      <th>1</th>\n",
       "      <td>1000</td>\n",
       "      <td>6</td>\n",
       "      <td>43.0</td>\n",
       "      <td>158.90</td>\n",
       "      <td>60.0</td>\n",
       "      <td>23233.77</td>\n",
       "      <td>ultra</td>\n",
       "      <td>Краснодар</td>\n",
       "      <td>1000</td>\n",
       "      <td>30720</td>\n",
       "      <td>3000</td>\n",
       "      <td>1950</td>\n",
       "      <td>150</td>\n",
       "      <td>1</td>\n",
       "      <td>1</td>\n",
       "      <td>-7</td>\n",
       "      <td>-1050</td>\n",
       "      <td>-940.0</td>\n",
       "      <td>-2841</td>\n",
       "      <td>-2841</td>\n",
       "    </tr>\n",
       "    <tr>\n",
       "      <th>2</th>\n",
       "      <td>1000</td>\n",
       "      <td>7</td>\n",
       "      <td>47.0</td>\n",
       "      <td>318.80</td>\n",
       "      <td>75.0</td>\n",
       "      <td>14003.64</td>\n",
       "      <td>ultra</td>\n",
       "      <td>Краснодар</td>\n",
       "      <td>1000</td>\n",
       "      <td>30720</td>\n",
       "      <td>3000</td>\n",
       "      <td>1950</td>\n",
       "      <td>150</td>\n",
       "      <td>1</td>\n",
       "      <td>1</td>\n",
       "      <td>-16</td>\n",
       "      <td>-2400</td>\n",
       "      <td>-925.0</td>\n",
       "      <td>-2681</td>\n",
       "      <td>-2681</td>\n",
       "    </tr>\n",
       "    <tr>\n",
       "      <th>3</th>\n",
       "      <td>1000</td>\n",
       "      <td>8</td>\n",
       "      <td>52.0</td>\n",
       "      <td>389.87</td>\n",
       "      <td>81.0</td>\n",
       "      <td>14055.93</td>\n",
       "      <td>ultra</td>\n",
       "      <td>Краснодар</td>\n",
       "      <td>1000</td>\n",
       "      <td>30720</td>\n",
       "      <td>3000</td>\n",
       "      <td>1950</td>\n",
       "      <td>150</td>\n",
       "      <td>1</td>\n",
       "      <td>1</td>\n",
       "      <td>-16</td>\n",
       "      <td>-2400</td>\n",
       "      <td>-919.0</td>\n",
       "      <td>-2610</td>\n",
       "      <td>-2610</td>\n",
       "    </tr>\n",
       "    <tr>\n",
       "      <th>4</th>\n",
       "      <td>1000</td>\n",
       "      <td>9</td>\n",
       "      <td>58.0</td>\n",
       "      <td>440.14</td>\n",
       "      <td>57.0</td>\n",
       "      <td>14568.91</td>\n",
       "      <td>ultra</td>\n",
       "      <td>Краснодар</td>\n",
       "      <td>1000</td>\n",
       "      <td>30720</td>\n",
       "      <td>3000</td>\n",
       "      <td>1950</td>\n",
       "      <td>150</td>\n",
       "      <td>1</td>\n",
       "      <td>1</td>\n",
       "      <td>-15</td>\n",
       "      <td>-2250</td>\n",
       "      <td>-943.0</td>\n",
       "      <td>-2559</td>\n",
       "      <td>-2559</td>\n",
       "    </tr>\n",
       "    <tr>\n",
       "      <th>...</th>\n",
       "      <td>...</td>\n",
       "      <td>...</td>\n",
       "      <td>...</td>\n",
       "      <td>...</td>\n",
       "      <td>...</td>\n",
       "      <td>...</td>\n",
       "      <td>...</td>\n",
       "      <td>...</td>\n",
       "      <td>...</td>\n",
       "      <td>...</td>\n",
       "      <td>...</td>\n",
       "      <td>...</td>\n",
       "      <td>...</td>\n",
       "      <td>...</td>\n",
       "      <td>...</td>\n",
       "      <td>...</td>\n",
       "      <td>...</td>\n",
       "      <td>...</td>\n",
       "      <td>...</td>\n",
       "      <td>...</td>\n",
       "    </tr>\n",
       "    <tr>\n",
       "      <th>3209</th>\n",
       "      <td>1489</td>\n",
       "      <td>9</td>\n",
       "      <td>0.0</td>\n",
       "      <td>0.00</td>\n",
       "      <td>32.0</td>\n",
       "      <td>17206.30</td>\n",
       "      <td>smart</td>\n",
       "      <td>Санкт-Петербург</td>\n",
       "      <td>50</td>\n",
       "      <td>15360</td>\n",
       "      <td>500</td>\n",
       "      <td>550</td>\n",
       "      <td>200</td>\n",
       "      <td>3</td>\n",
       "      <td>3</td>\n",
       "      <td>2</td>\n",
       "      <td>400</td>\n",
       "      <td>-54.0</td>\n",
       "      <td>-500</td>\n",
       "      <td>-1500</td>\n",
       "    </tr>\n",
       "    <tr>\n",
       "      <th>3210</th>\n",
       "      <td>1489</td>\n",
       "      <td>10</td>\n",
       "      <td>0.0</td>\n",
       "      <td>0.00</td>\n",
       "      <td>21.0</td>\n",
       "      <td>19559.44</td>\n",
       "      <td>smart</td>\n",
       "      <td>Санкт-Петербург</td>\n",
       "      <td>50</td>\n",
       "      <td>15360</td>\n",
       "      <td>500</td>\n",
       "      <td>550</td>\n",
       "      <td>200</td>\n",
       "      <td>3</td>\n",
       "      <td>3</td>\n",
       "      <td>5</td>\n",
       "      <td>1000</td>\n",
       "      <td>-87.0</td>\n",
       "      <td>-500</td>\n",
       "      <td>-1500</td>\n",
       "    </tr>\n",
       "    <tr>\n",
       "      <th>3211</th>\n",
       "      <td>1489</td>\n",
       "      <td>11</td>\n",
       "      <td>0.0</td>\n",
       "      <td>0.00</td>\n",
       "      <td>20.0</td>\n",
       "      <td>17491.56</td>\n",
       "      <td>smart</td>\n",
       "      <td>Санкт-Петербург</td>\n",
       "      <td>50</td>\n",
       "      <td>15360</td>\n",
       "      <td>500</td>\n",
       "      <td>550</td>\n",
       "      <td>200</td>\n",
       "      <td>3</td>\n",
       "      <td>3</td>\n",
       "      <td>3</td>\n",
       "      <td>600</td>\n",
       "      <td>-90.0</td>\n",
       "      <td>-500</td>\n",
       "      <td>-1500</td>\n",
       "    </tr>\n",
       "    <tr>\n",
       "      <th>3212</th>\n",
       "      <td>1489</td>\n",
       "      <td>12</td>\n",
       "      <td>0.0</td>\n",
       "      <td>0.00</td>\n",
       "      <td>35.0</td>\n",
       "      <td>17322.51</td>\n",
       "      <td>smart</td>\n",
       "      <td>Санкт-Петербург</td>\n",
       "      <td>50</td>\n",
       "      <td>15360</td>\n",
       "      <td>500</td>\n",
       "      <td>550</td>\n",
       "      <td>200</td>\n",
       "      <td>3</td>\n",
       "      <td>3</td>\n",
       "      <td>2</td>\n",
       "      <td>400</td>\n",
       "      <td>-45.0</td>\n",
       "      <td>-500</td>\n",
       "      <td>-1500</td>\n",
       "    </tr>\n",
       "    <tr>\n",
       "      <th>3213</th>\n",
       "      <td>1476</td>\n",
       "      <td>4</td>\n",
       "      <td>0.0</td>\n",
       "      <td>0.00</td>\n",
       "      <td>0.0</td>\n",
       "      <td>530.78</td>\n",
       "      <td>ultra</td>\n",
       "      <td>Москва</td>\n",
       "      <td>1000</td>\n",
       "      <td>30720</td>\n",
       "      <td>3000</td>\n",
       "      <td>1950</td>\n",
       "      <td>150</td>\n",
       "      <td>1</td>\n",
       "      <td>1</td>\n",
       "      <td>-29</td>\n",
       "      <td>-4350</td>\n",
       "      <td>-1000.0</td>\n",
       "      <td>-3000</td>\n",
       "      <td>-3000</td>\n",
       "    </tr>\n",
       "  </tbody>\n",
       "</table>\n",
       "<p>3214 rows × 20 columns</p>\n",
       "</div>"
      ],
      "text/plain": [
       "      user_id  month  calls_count  calls_sum  messages_sum  mb_used_sum  \\\n",
       "0        1000      5         22.0     150.06          22.0      2253.49   \n",
       "1        1000      6         43.0     158.90          60.0     23233.77   \n",
       "2        1000      7         47.0     318.80          75.0     14003.64   \n",
       "3        1000      8         52.0     389.87          81.0     14055.93   \n",
       "4        1000      9         58.0     440.14          57.0     14568.91   \n",
       "...       ...    ...          ...        ...           ...          ...   \n",
       "3209     1489      9          0.0       0.00          32.0     17206.30   \n",
       "3210     1489     10          0.0       0.00          21.0     19559.44   \n",
       "3211     1489     11          0.0       0.00          20.0     17491.56   \n",
       "3212     1489     12          0.0       0.00          35.0     17322.51   \n",
       "3213     1476      4          0.0       0.00           0.0       530.78   \n",
       "\n",
       "     tariff             city  messages_included  mb_per_month_included  \\\n",
       "0     ultra        Краснодар               1000                  30720   \n",
       "1     ultra        Краснодар               1000                  30720   \n",
       "2     ultra        Краснодар               1000                  30720   \n",
       "3     ultra        Краснодар               1000                  30720   \n",
       "4     ultra        Краснодар               1000                  30720   \n",
       "...     ...              ...                ...                    ...   \n",
       "3209  smart  Санкт-Петербург                 50                  15360   \n",
       "3210  smart  Санкт-Петербург                 50                  15360   \n",
       "3211  smart  Санкт-Петербург                 50                  15360   \n",
       "3212  smart  Санкт-Петербург                 50                  15360   \n",
       "3213  ultra           Москва               1000                  30720   \n",
       "\n",
       "      minutes_included  rub_monthly_fee  rub_per_gb  rub_per_message  \\\n",
       "0                 3000             1950         150                1   \n",
       "1                 3000             1950         150                1   \n",
       "2                 3000             1950         150                1   \n",
       "3                 3000             1950         150                1   \n",
       "4                 3000             1950         150                1   \n",
       "...                ...              ...         ...              ...   \n",
       "3209               500              550         200                3   \n",
       "3210               500              550         200                3   \n",
       "3211               500              550         200                3   \n",
       "3212               500              550         200                3   \n",
       "3213              3000             1950         150                1   \n",
       "\n",
       "      rub_per_minute  difference_trafic  difference_trafic_rb  \\\n",
       "0                  1                -27                 -4050   \n",
       "1                  1                 -7                 -1050   \n",
       "2                  1                -16                 -2400   \n",
       "3                  1                -16                 -2400   \n",
       "4                  1                -15                 -2250   \n",
       "...              ...                ...                   ...   \n",
       "3209               3                  2                   400   \n",
       "3210               3                  5                  1000   \n",
       "3211               3                  3                   600   \n",
       "3212               3                  2                   400   \n",
       "3213               1                -29                 -4350   \n",
       "\n",
       "      difference_message_rb  difference_call  difference_call_rb  \n",
       "0                    -978.0            -2849               -2849  \n",
       "1                    -940.0            -2841               -2841  \n",
       "2                    -925.0            -2681               -2681  \n",
       "3                    -919.0            -2610               -2610  \n",
       "4                    -943.0            -2559               -2559  \n",
       "...                     ...              ...                 ...  \n",
       "3209                  -54.0             -500               -1500  \n",
       "3210                  -87.0             -500               -1500  \n",
       "3211                  -90.0             -500               -1500  \n",
       "3212                  -45.0             -500               -1500  \n",
       "3213                -1000.0            -3000               -3000  \n",
       "\n",
       "[3214 rows x 20 columns]"
      ]
     },
     "execution_count": 50,
     "metadata": {},
     "output_type": "execute_result"
    }
   ],
   "source": [
    "#считаем стоимость минут сверх тарифа\n",
    "data['difference_call_rb'] = data['difference_call'] * data['rub_per_minute']\n",
    "data"
   ]
  },
  {
   "cell_type": "code",
   "execution_count": 51,
   "metadata": {},
   "outputs": [
    {
     "data": {
      "text/html": [
       "<div>\n",
       "<style scoped>\n",
       "    .dataframe tbody tr th:only-of-type {\n",
       "        vertical-align: middle;\n",
       "    }\n",
       "\n",
       "    .dataframe tbody tr th {\n",
       "        vertical-align: top;\n",
       "    }\n",
       "\n",
       "    .dataframe thead th {\n",
       "        text-align: right;\n",
       "    }\n",
       "</style>\n",
       "<table border=\"1\" class=\"dataframe\">\n",
       "  <thead>\n",
       "    <tr style=\"text-align: right;\">\n",
       "      <th></th>\n",
       "      <th>user_id</th>\n",
       "      <th>month</th>\n",
       "      <th>calls_count</th>\n",
       "      <th>calls_sum</th>\n",
       "      <th>messages_sum</th>\n",
       "      <th>mb_used_sum</th>\n",
       "      <th>tariff</th>\n",
       "      <th>city</th>\n",
       "      <th>messages_included</th>\n",
       "      <th>mb_per_month_included</th>\n",
       "      <th>minutes_included</th>\n",
       "      <th>rub_monthly_fee</th>\n",
       "      <th>rub_per_gb</th>\n",
       "      <th>rub_per_message</th>\n",
       "      <th>rub_per_minute</th>\n",
       "      <th>difference_trafic</th>\n",
       "      <th>difference_trafic_rb</th>\n",
       "      <th>difference_message_rb</th>\n",
       "      <th>difference_call</th>\n",
       "      <th>difference_call_rb</th>\n",
       "    </tr>\n",
       "  </thead>\n",
       "  <tbody>\n",
       "    <tr>\n",
       "      <th>0</th>\n",
       "      <td>1000</td>\n",
       "      <td>5</td>\n",
       "      <td>22.0</td>\n",
       "      <td>150.06</td>\n",
       "      <td>22.0</td>\n",
       "      <td>2253.49</td>\n",
       "      <td>ultra</td>\n",
       "      <td>Краснодар</td>\n",
       "      <td>1000</td>\n",
       "      <td>30720</td>\n",
       "      <td>3000</td>\n",
       "      <td>1950</td>\n",
       "      <td>150</td>\n",
       "      <td>1</td>\n",
       "      <td>1</td>\n",
       "      <td>-27</td>\n",
       "      <td>0</td>\n",
       "      <td>0.0</td>\n",
       "      <td>-2849</td>\n",
       "      <td>0</td>\n",
       "    </tr>\n",
       "    <tr>\n",
       "      <th>1</th>\n",
       "      <td>1000</td>\n",
       "      <td>6</td>\n",
       "      <td>43.0</td>\n",
       "      <td>158.90</td>\n",
       "      <td>60.0</td>\n",
       "      <td>23233.77</td>\n",
       "      <td>ultra</td>\n",
       "      <td>Краснодар</td>\n",
       "      <td>1000</td>\n",
       "      <td>30720</td>\n",
       "      <td>3000</td>\n",
       "      <td>1950</td>\n",
       "      <td>150</td>\n",
       "      <td>1</td>\n",
       "      <td>1</td>\n",
       "      <td>-7</td>\n",
       "      <td>0</td>\n",
       "      <td>0.0</td>\n",
       "      <td>-2841</td>\n",
       "      <td>0</td>\n",
       "    </tr>\n",
       "    <tr>\n",
       "      <th>2</th>\n",
       "      <td>1000</td>\n",
       "      <td>7</td>\n",
       "      <td>47.0</td>\n",
       "      <td>318.80</td>\n",
       "      <td>75.0</td>\n",
       "      <td>14003.64</td>\n",
       "      <td>ultra</td>\n",
       "      <td>Краснодар</td>\n",
       "      <td>1000</td>\n",
       "      <td>30720</td>\n",
       "      <td>3000</td>\n",
       "      <td>1950</td>\n",
       "      <td>150</td>\n",
       "      <td>1</td>\n",
       "      <td>1</td>\n",
       "      <td>-16</td>\n",
       "      <td>0</td>\n",
       "      <td>0.0</td>\n",
       "      <td>-2681</td>\n",
       "      <td>0</td>\n",
       "    </tr>\n",
       "    <tr>\n",
       "      <th>3</th>\n",
       "      <td>1000</td>\n",
       "      <td>8</td>\n",
       "      <td>52.0</td>\n",
       "      <td>389.87</td>\n",
       "      <td>81.0</td>\n",
       "      <td>14055.93</td>\n",
       "      <td>ultra</td>\n",
       "      <td>Краснодар</td>\n",
       "      <td>1000</td>\n",
       "      <td>30720</td>\n",
       "      <td>3000</td>\n",
       "      <td>1950</td>\n",
       "      <td>150</td>\n",
       "      <td>1</td>\n",
       "      <td>1</td>\n",
       "      <td>-16</td>\n",
       "      <td>0</td>\n",
       "      <td>0.0</td>\n",
       "      <td>-2610</td>\n",
       "      <td>0</td>\n",
       "    </tr>\n",
       "    <tr>\n",
       "      <th>4</th>\n",
       "      <td>1000</td>\n",
       "      <td>9</td>\n",
       "      <td>58.0</td>\n",
       "      <td>440.14</td>\n",
       "      <td>57.0</td>\n",
       "      <td>14568.91</td>\n",
       "      <td>ultra</td>\n",
       "      <td>Краснодар</td>\n",
       "      <td>1000</td>\n",
       "      <td>30720</td>\n",
       "      <td>3000</td>\n",
       "      <td>1950</td>\n",
       "      <td>150</td>\n",
       "      <td>1</td>\n",
       "      <td>1</td>\n",
       "      <td>-15</td>\n",
       "      <td>0</td>\n",
       "      <td>0.0</td>\n",
       "      <td>-2559</td>\n",
       "      <td>0</td>\n",
       "    </tr>\n",
       "    <tr>\n",
       "      <th>...</th>\n",
       "      <td>...</td>\n",
       "      <td>...</td>\n",
       "      <td>...</td>\n",
       "      <td>...</td>\n",
       "      <td>...</td>\n",
       "      <td>...</td>\n",
       "      <td>...</td>\n",
       "      <td>...</td>\n",
       "      <td>...</td>\n",
       "      <td>...</td>\n",
       "      <td>...</td>\n",
       "      <td>...</td>\n",
       "      <td>...</td>\n",
       "      <td>...</td>\n",
       "      <td>...</td>\n",
       "      <td>...</td>\n",
       "      <td>...</td>\n",
       "      <td>...</td>\n",
       "      <td>...</td>\n",
       "      <td>...</td>\n",
       "    </tr>\n",
       "    <tr>\n",
       "      <th>3209</th>\n",
       "      <td>1489</td>\n",
       "      <td>9</td>\n",
       "      <td>0.0</td>\n",
       "      <td>0.00</td>\n",
       "      <td>32.0</td>\n",
       "      <td>17206.30</td>\n",
       "      <td>smart</td>\n",
       "      <td>Санкт-Петербург</td>\n",
       "      <td>50</td>\n",
       "      <td>15360</td>\n",
       "      <td>500</td>\n",
       "      <td>550</td>\n",
       "      <td>200</td>\n",
       "      <td>3</td>\n",
       "      <td>3</td>\n",
       "      <td>2</td>\n",
       "      <td>400</td>\n",
       "      <td>0.0</td>\n",
       "      <td>-500</td>\n",
       "      <td>0</td>\n",
       "    </tr>\n",
       "    <tr>\n",
       "      <th>3210</th>\n",
       "      <td>1489</td>\n",
       "      <td>10</td>\n",
       "      <td>0.0</td>\n",
       "      <td>0.00</td>\n",
       "      <td>21.0</td>\n",
       "      <td>19559.44</td>\n",
       "      <td>smart</td>\n",
       "      <td>Санкт-Петербург</td>\n",
       "      <td>50</td>\n",
       "      <td>15360</td>\n",
       "      <td>500</td>\n",
       "      <td>550</td>\n",
       "      <td>200</td>\n",
       "      <td>3</td>\n",
       "      <td>3</td>\n",
       "      <td>5</td>\n",
       "      <td>1000</td>\n",
       "      <td>0.0</td>\n",
       "      <td>-500</td>\n",
       "      <td>0</td>\n",
       "    </tr>\n",
       "    <tr>\n",
       "      <th>3211</th>\n",
       "      <td>1489</td>\n",
       "      <td>11</td>\n",
       "      <td>0.0</td>\n",
       "      <td>0.00</td>\n",
       "      <td>20.0</td>\n",
       "      <td>17491.56</td>\n",
       "      <td>smart</td>\n",
       "      <td>Санкт-Петербург</td>\n",
       "      <td>50</td>\n",
       "      <td>15360</td>\n",
       "      <td>500</td>\n",
       "      <td>550</td>\n",
       "      <td>200</td>\n",
       "      <td>3</td>\n",
       "      <td>3</td>\n",
       "      <td>3</td>\n",
       "      <td>600</td>\n",
       "      <td>0.0</td>\n",
       "      <td>-500</td>\n",
       "      <td>0</td>\n",
       "    </tr>\n",
       "    <tr>\n",
       "      <th>3212</th>\n",
       "      <td>1489</td>\n",
       "      <td>12</td>\n",
       "      <td>0.0</td>\n",
       "      <td>0.00</td>\n",
       "      <td>35.0</td>\n",
       "      <td>17322.51</td>\n",
       "      <td>smart</td>\n",
       "      <td>Санкт-Петербург</td>\n",
       "      <td>50</td>\n",
       "      <td>15360</td>\n",
       "      <td>500</td>\n",
       "      <td>550</td>\n",
       "      <td>200</td>\n",
       "      <td>3</td>\n",
       "      <td>3</td>\n",
       "      <td>2</td>\n",
       "      <td>400</td>\n",
       "      <td>0.0</td>\n",
       "      <td>-500</td>\n",
       "      <td>0</td>\n",
       "    </tr>\n",
       "    <tr>\n",
       "      <th>3213</th>\n",
       "      <td>1476</td>\n",
       "      <td>4</td>\n",
       "      <td>0.0</td>\n",
       "      <td>0.00</td>\n",
       "      <td>0.0</td>\n",
       "      <td>530.78</td>\n",
       "      <td>ultra</td>\n",
       "      <td>Москва</td>\n",
       "      <td>1000</td>\n",
       "      <td>30720</td>\n",
       "      <td>3000</td>\n",
       "      <td>1950</td>\n",
       "      <td>150</td>\n",
       "      <td>1</td>\n",
       "      <td>1</td>\n",
       "      <td>-29</td>\n",
       "      <td>0</td>\n",
       "      <td>0.0</td>\n",
       "      <td>-3000</td>\n",
       "      <td>0</td>\n",
       "    </tr>\n",
       "  </tbody>\n",
       "</table>\n",
       "<p>3214 rows × 20 columns</p>\n",
       "</div>"
      ],
      "text/plain": [
       "      user_id  month  calls_count  calls_sum  messages_sum  mb_used_sum  \\\n",
       "0        1000      5         22.0     150.06          22.0      2253.49   \n",
       "1        1000      6         43.0     158.90          60.0     23233.77   \n",
       "2        1000      7         47.0     318.80          75.0     14003.64   \n",
       "3        1000      8         52.0     389.87          81.0     14055.93   \n",
       "4        1000      9         58.0     440.14          57.0     14568.91   \n",
       "...       ...    ...          ...        ...           ...          ...   \n",
       "3209     1489      9          0.0       0.00          32.0     17206.30   \n",
       "3210     1489     10          0.0       0.00          21.0     19559.44   \n",
       "3211     1489     11          0.0       0.00          20.0     17491.56   \n",
       "3212     1489     12          0.0       0.00          35.0     17322.51   \n",
       "3213     1476      4          0.0       0.00           0.0       530.78   \n",
       "\n",
       "     tariff             city  messages_included  mb_per_month_included  \\\n",
       "0     ultra        Краснодар               1000                  30720   \n",
       "1     ultra        Краснодар               1000                  30720   \n",
       "2     ultra        Краснодар               1000                  30720   \n",
       "3     ultra        Краснодар               1000                  30720   \n",
       "4     ultra        Краснодар               1000                  30720   \n",
       "...     ...              ...                ...                    ...   \n",
       "3209  smart  Санкт-Петербург                 50                  15360   \n",
       "3210  smart  Санкт-Петербург                 50                  15360   \n",
       "3211  smart  Санкт-Петербург                 50                  15360   \n",
       "3212  smart  Санкт-Петербург                 50                  15360   \n",
       "3213  ultra           Москва               1000                  30720   \n",
       "\n",
       "      minutes_included  rub_monthly_fee  rub_per_gb  rub_per_message  \\\n",
       "0                 3000             1950         150                1   \n",
       "1                 3000             1950         150                1   \n",
       "2                 3000             1950         150                1   \n",
       "3                 3000             1950         150                1   \n",
       "4                 3000             1950         150                1   \n",
       "...                ...              ...         ...              ...   \n",
       "3209               500              550         200                3   \n",
       "3210               500              550         200                3   \n",
       "3211               500              550         200                3   \n",
       "3212               500              550         200                3   \n",
       "3213              3000             1950         150                1   \n",
       "\n",
       "      rub_per_minute  difference_trafic  difference_trafic_rb  \\\n",
       "0                  1                -27                     0   \n",
       "1                  1                 -7                     0   \n",
       "2                  1                -16                     0   \n",
       "3                  1                -16                     0   \n",
       "4                  1                -15                     0   \n",
       "...              ...                ...                   ...   \n",
       "3209               3                  2                   400   \n",
       "3210               3                  5                  1000   \n",
       "3211               3                  3                   600   \n",
       "3212               3                  2                   400   \n",
       "3213               1                -29                     0   \n",
       "\n",
       "      difference_message_rb  difference_call  difference_call_rb  \n",
       "0                       0.0            -2849                   0  \n",
       "1                       0.0            -2841                   0  \n",
       "2                       0.0            -2681                   0  \n",
       "3                       0.0            -2610                   0  \n",
       "4                       0.0            -2559                   0  \n",
       "...                     ...              ...                 ...  \n",
       "3209                    0.0             -500                   0  \n",
       "3210                    0.0             -500                   0  \n",
       "3211                    0.0             -500                   0  \n",
       "3212                    0.0             -500                   0  \n",
       "3213                    0.0            -3000                   0  \n",
       "\n",
       "[3214 rows x 20 columns]"
      ]
     },
     "execution_count": 51,
     "metadata": {},
     "output_type": "execute_result"
    }
   ],
   "source": [
    "#заменим отрицательные значения на 0\n",
    "data.loc[data['difference_message_rb']<0, 'difference_message_rb']=0\n",
    "data.loc[data['difference_trafic_rb']<0, 'difference_trafic_rb']=0\n",
    "data.loc[data['difference_call_rb']<0, 'difference_call_rb']=0\n",
    "data"
   ]
  },
  {
   "cell_type": "code",
   "execution_count": 52,
   "metadata": {},
   "outputs": [
    {
     "data": {
      "text/html": [
       "<div>\n",
       "<style scoped>\n",
       "    .dataframe tbody tr th:only-of-type {\n",
       "        vertical-align: middle;\n",
       "    }\n",
       "\n",
       "    .dataframe tbody tr th {\n",
       "        vertical-align: top;\n",
       "    }\n",
       "\n",
       "    .dataframe thead th {\n",
       "        text-align: right;\n",
       "    }\n",
       "</style>\n",
       "<table border=\"1\" class=\"dataframe\">\n",
       "  <thead>\n",
       "    <tr style=\"text-align: right;\">\n",
       "      <th></th>\n",
       "      <th>user_id</th>\n",
       "      <th>month</th>\n",
       "      <th>calls_count</th>\n",
       "      <th>calls_sum</th>\n",
       "      <th>messages_sum</th>\n",
       "      <th>mb_used_sum</th>\n",
       "      <th>tariff</th>\n",
       "      <th>city</th>\n",
       "      <th>messages_included</th>\n",
       "      <th>mb_per_month_included</th>\n",
       "      <th>...</th>\n",
       "      <th>rub_monthly_fee</th>\n",
       "      <th>rub_per_gb</th>\n",
       "      <th>rub_per_message</th>\n",
       "      <th>rub_per_minute</th>\n",
       "      <th>difference_trafic</th>\n",
       "      <th>difference_trafic_rb</th>\n",
       "      <th>difference_message_rb</th>\n",
       "      <th>difference_call</th>\n",
       "      <th>difference_call_rb</th>\n",
       "      <th>users_total_income</th>\n",
       "    </tr>\n",
       "  </thead>\n",
       "  <tbody>\n",
       "    <tr>\n",
       "      <th>0</th>\n",
       "      <td>1000</td>\n",
       "      <td>5</td>\n",
       "      <td>22.0</td>\n",
       "      <td>150.06</td>\n",
       "      <td>22.0</td>\n",
       "      <td>2253.49</td>\n",
       "      <td>ultra</td>\n",
       "      <td>Краснодар</td>\n",
       "      <td>1000</td>\n",
       "      <td>30720</td>\n",
       "      <td>...</td>\n",
       "      <td>1950</td>\n",
       "      <td>150</td>\n",
       "      <td>1</td>\n",
       "      <td>1</td>\n",
       "      <td>-27</td>\n",
       "      <td>0</td>\n",
       "      <td>0.0</td>\n",
       "      <td>-2849</td>\n",
       "      <td>0</td>\n",
       "      <td>1950.0</td>\n",
       "    </tr>\n",
       "    <tr>\n",
       "      <th>1</th>\n",
       "      <td>1000</td>\n",
       "      <td>6</td>\n",
       "      <td>43.0</td>\n",
       "      <td>158.90</td>\n",
       "      <td>60.0</td>\n",
       "      <td>23233.77</td>\n",
       "      <td>ultra</td>\n",
       "      <td>Краснодар</td>\n",
       "      <td>1000</td>\n",
       "      <td>30720</td>\n",
       "      <td>...</td>\n",
       "      <td>1950</td>\n",
       "      <td>150</td>\n",
       "      <td>1</td>\n",
       "      <td>1</td>\n",
       "      <td>-7</td>\n",
       "      <td>0</td>\n",
       "      <td>0.0</td>\n",
       "      <td>-2841</td>\n",
       "      <td>0</td>\n",
       "      <td>1950.0</td>\n",
       "    </tr>\n",
       "    <tr>\n",
       "      <th>2</th>\n",
       "      <td>1000</td>\n",
       "      <td>7</td>\n",
       "      <td>47.0</td>\n",
       "      <td>318.80</td>\n",
       "      <td>75.0</td>\n",
       "      <td>14003.64</td>\n",
       "      <td>ultra</td>\n",
       "      <td>Краснодар</td>\n",
       "      <td>1000</td>\n",
       "      <td>30720</td>\n",
       "      <td>...</td>\n",
       "      <td>1950</td>\n",
       "      <td>150</td>\n",
       "      <td>1</td>\n",
       "      <td>1</td>\n",
       "      <td>-16</td>\n",
       "      <td>0</td>\n",
       "      <td>0.0</td>\n",
       "      <td>-2681</td>\n",
       "      <td>0</td>\n",
       "      <td>1950.0</td>\n",
       "    </tr>\n",
       "    <tr>\n",
       "      <th>3</th>\n",
       "      <td>1000</td>\n",
       "      <td>8</td>\n",
       "      <td>52.0</td>\n",
       "      <td>389.87</td>\n",
       "      <td>81.0</td>\n",
       "      <td>14055.93</td>\n",
       "      <td>ultra</td>\n",
       "      <td>Краснодар</td>\n",
       "      <td>1000</td>\n",
       "      <td>30720</td>\n",
       "      <td>...</td>\n",
       "      <td>1950</td>\n",
       "      <td>150</td>\n",
       "      <td>1</td>\n",
       "      <td>1</td>\n",
       "      <td>-16</td>\n",
       "      <td>0</td>\n",
       "      <td>0.0</td>\n",
       "      <td>-2610</td>\n",
       "      <td>0</td>\n",
       "      <td>1950.0</td>\n",
       "    </tr>\n",
       "    <tr>\n",
       "      <th>4</th>\n",
       "      <td>1000</td>\n",
       "      <td>9</td>\n",
       "      <td>58.0</td>\n",
       "      <td>440.14</td>\n",
       "      <td>57.0</td>\n",
       "      <td>14568.91</td>\n",
       "      <td>ultra</td>\n",
       "      <td>Краснодар</td>\n",
       "      <td>1000</td>\n",
       "      <td>30720</td>\n",
       "      <td>...</td>\n",
       "      <td>1950</td>\n",
       "      <td>150</td>\n",
       "      <td>1</td>\n",
       "      <td>1</td>\n",
       "      <td>-15</td>\n",
       "      <td>0</td>\n",
       "      <td>0.0</td>\n",
       "      <td>-2559</td>\n",
       "      <td>0</td>\n",
       "      <td>1950.0</td>\n",
       "    </tr>\n",
       "    <tr>\n",
       "      <th>...</th>\n",
       "      <td>...</td>\n",
       "      <td>...</td>\n",
       "      <td>...</td>\n",
       "      <td>...</td>\n",
       "      <td>...</td>\n",
       "      <td>...</td>\n",
       "      <td>...</td>\n",
       "      <td>...</td>\n",
       "      <td>...</td>\n",
       "      <td>...</td>\n",
       "      <td>...</td>\n",
       "      <td>...</td>\n",
       "      <td>...</td>\n",
       "      <td>...</td>\n",
       "      <td>...</td>\n",
       "      <td>...</td>\n",
       "      <td>...</td>\n",
       "      <td>...</td>\n",
       "      <td>...</td>\n",
       "      <td>...</td>\n",
       "      <td>...</td>\n",
       "    </tr>\n",
       "    <tr>\n",
       "      <th>3209</th>\n",
       "      <td>1489</td>\n",
       "      <td>9</td>\n",
       "      <td>0.0</td>\n",
       "      <td>0.00</td>\n",
       "      <td>32.0</td>\n",
       "      <td>17206.30</td>\n",
       "      <td>smart</td>\n",
       "      <td>Санкт-Петербург</td>\n",
       "      <td>50</td>\n",
       "      <td>15360</td>\n",
       "      <td>...</td>\n",
       "      <td>550</td>\n",
       "      <td>200</td>\n",
       "      <td>3</td>\n",
       "      <td>3</td>\n",
       "      <td>2</td>\n",
       "      <td>400</td>\n",
       "      <td>0.0</td>\n",
       "      <td>-500</td>\n",
       "      <td>0</td>\n",
       "      <td>950.0</td>\n",
       "    </tr>\n",
       "    <tr>\n",
       "      <th>3210</th>\n",
       "      <td>1489</td>\n",
       "      <td>10</td>\n",
       "      <td>0.0</td>\n",
       "      <td>0.00</td>\n",
       "      <td>21.0</td>\n",
       "      <td>19559.44</td>\n",
       "      <td>smart</td>\n",
       "      <td>Санкт-Петербург</td>\n",
       "      <td>50</td>\n",
       "      <td>15360</td>\n",
       "      <td>...</td>\n",
       "      <td>550</td>\n",
       "      <td>200</td>\n",
       "      <td>3</td>\n",
       "      <td>3</td>\n",
       "      <td>5</td>\n",
       "      <td>1000</td>\n",
       "      <td>0.0</td>\n",
       "      <td>-500</td>\n",
       "      <td>0</td>\n",
       "      <td>1550.0</td>\n",
       "    </tr>\n",
       "    <tr>\n",
       "      <th>3211</th>\n",
       "      <td>1489</td>\n",
       "      <td>11</td>\n",
       "      <td>0.0</td>\n",
       "      <td>0.00</td>\n",
       "      <td>20.0</td>\n",
       "      <td>17491.56</td>\n",
       "      <td>smart</td>\n",
       "      <td>Санкт-Петербург</td>\n",
       "      <td>50</td>\n",
       "      <td>15360</td>\n",
       "      <td>...</td>\n",
       "      <td>550</td>\n",
       "      <td>200</td>\n",
       "      <td>3</td>\n",
       "      <td>3</td>\n",
       "      <td>3</td>\n",
       "      <td>600</td>\n",
       "      <td>0.0</td>\n",
       "      <td>-500</td>\n",
       "      <td>0</td>\n",
       "      <td>1150.0</td>\n",
       "    </tr>\n",
       "    <tr>\n",
       "      <th>3212</th>\n",
       "      <td>1489</td>\n",
       "      <td>12</td>\n",
       "      <td>0.0</td>\n",
       "      <td>0.00</td>\n",
       "      <td>35.0</td>\n",
       "      <td>17322.51</td>\n",
       "      <td>smart</td>\n",
       "      <td>Санкт-Петербург</td>\n",
       "      <td>50</td>\n",
       "      <td>15360</td>\n",
       "      <td>...</td>\n",
       "      <td>550</td>\n",
       "      <td>200</td>\n",
       "      <td>3</td>\n",
       "      <td>3</td>\n",
       "      <td>2</td>\n",
       "      <td>400</td>\n",
       "      <td>0.0</td>\n",
       "      <td>-500</td>\n",
       "      <td>0</td>\n",
       "      <td>950.0</td>\n",
       "    </tr>\n",
       "    <tr>\n",
       "      <th>3213</th>\n",
       "      <td>1476</td>\n",
       "      <td>4</td>\n",
       "      <td>0.0</td>\n",
       "      <td>0.00</td>\n",
       "      <td>0.0</td>\n",
       "      <td>530.78</td>\n",
       "      <td>ultra</td>\n",
       "      <td>Москва</td>\n",
       "      <td>1000</td>\n",
       "      <td>30720</td>\n",
       "      <td>...</td>\n",
       "      <td>1950</td>\n",
       "      <td>150</td>\n",
       "      <td>1</td>\n",
       "      <td>1</td>\n",
       "      <td>-29</td>\n",
       "      <td>0</td>\n",
       "      <td>0.0</td>\n",
       "      <td>-3000</td>\n",
       "      <td>0</td>\n",
       "      <td>1950.0</td>\n",
       "    </tr>\n",
       "  </tbody>\n",
       "</table>\n",
       "<p>3214 rows × 21 columns</p>\n",
       "</div>"
      ],
      "text/plain": [
       "      user_id  month  calls_count  calls_sum  messages_sum  mb_used_sum  \\\n",
       "0        1000      5         22.0     150.06          22.0      2253.49   \n",
       "1        1000      6         43.0     158.90          60.0     23233.77   \n",
       "2        1000      7         47.0     318.80          75.0     14003.64   \n",
       "3        1000      8         52.0     389.87          81.0     14055.93   \n",
       "4        1000      9         58.0     440.14          57.0     14568.91   \n",
       "...       ...    ...          ...        ...           ...          ...   \n",
       "3209     1489      9          0.0       0.00          32.0     17206.30   \n",
       "3210     1489     10          0.0       0.00          21.0     19559.44   \n",
       "3211     1489     11          0.0       0.00          20.0     17491.56   \n",
       "3212     1489     12          0.0       0.00          35.0     17322.51   \n",
       "3213     1476      4          0.0       0.00           0.0       530.78   \n",
       "\n",
       "     tariff             city  messages_included  mb_per_month_included  ...  \\\n",
       "0     ultra        Краснодар               1000                  30720  ...   \n",
       "1     ultra        Краснодар               1000                  30720  ...   \n",
       "2     ultra        Краснодар               1000                  30720  ...   \n",
       "3     ultra        Краснодар               1000                  30720  ...   \n",
       "4     ultra        Краснодар               1000                  30720  ...   \n",
       "...     ...              ...                ...                    ...  ...   \n",
       "3209  smart  Санкт-Петербург                 50                  15360  ...   \n",
       "3210  smart  Санкт-Петербург                 50                  15360  ...   \n",
       "3211  smart  Санкт-Петербург                 50                  15360  ...   \n",
       "3212  smart  Санкт-Петербург                 50                  15360  ...   \n",
       "3213  ultra           Москва               1000                  30720  ...   \n",
       "\n",
       "      rub_monthly_fee  rub_per_gb  rub_per_message  rub_per_minute  \\\n",
       "0                1950         150                1               1   \n",
       "1                1950         150                1               1   \n",
       "2                1950         150                1               1   \n",
       "3                1950         150                1               1   \n",
       "4                1950         150                1               1   \n",
       "...               ...         ...              ...             ...   \n",
       "3209              550         200                3               3   \n",
       "3210              550         200                3               3   \n",
       "3211              550         200                3               3   \n",
       "3212              550         200                3               3   \n",
       "3213             1950         150                1               1   \n",
       "\n",
       "      difference_trafic  difference_trafic_rb  difference_message_rb  \\\n",
       "0                   -27                     0                    0.0   \n",
       "1                    -7                     0                    0.0   \n",
       "2                   -16                     0                    0.0   \n",
       "3                   -16                     0                    0.0   \n",
       "4                   -15                     0                    0.0   \n",
       "...                 ...                   ...                    ...   \n",
       "3209                  2                   400                    0.0   \n",
       "3210                  5                  1000                    0.0   \n",
       "3211                  3                   600                    0.0   \n",
       "3212                  2                   400                    0.0   \n",
       "3213                -29                     0                    0.0   \n",
       "\n",
       "      difference_call  difference_call_rb  users_total_income  \n",
       "0               -2849                   0              1950.0  \n",
       "1               -2841                   0              1950.0  \n",
       "2               -2681                   0              1950.0  \n",
       "3               -2610                   0              1950.0  \n",
       "4               -2559                   0              1950.0  \n",
       "...               ...                 ...                 ...  \n",
       "3209             -500                   0               950.0  \n",
       "3210             -500                   0              1550.0  \n",
       "3211             -500                   0              1150.0  \n",
       "3212             -500                   0               950.0  \n",
       "3213            -3000                   0              1950.0  \n",
       "\n",
       "[3214 rows x 21 columns]"
      ]
     },
     "execution_count": 52,
     "metadata": {},
     "output_type": "execute_result"
    }
   ],
   "source": [
    "# рассчитаем общую выручку с каждого клиента по месяцам и сохраним в столбец 'users_total_income'\n",
    "data['users_total_income'] = data['difference_trafic_rb'] + data['difference_message_rb'] + data['difference_call_rb'] + data['rub_monthly_fee']\n",
    "data"
   ]
  },
  {
   "cell_type": "markdown",
   "metadata": {},
   "source": [
    "#### Вывод\n",
    " Для дальнейшей работы подсчитали следующие данные для каждого пользователя:\n",
    " - количество сделанных звонков и израсходованных минут разговора по месяцам;\n",
    " - количество отправленных сообщений по месяцам;\n",
    " - объем израсходованного интернет-трафика по месяцам;\n",
    " - помесячную выручку с каждого пользователя.\n",
    " "
   ]
  },
  {
   "cell_type": "markdown",
   "metadata": {},
   "source": [
    "### Анализируем данные"
   ]
  },
  {
   "cell_type": "code",
   "execution_count": 53,
   "metadata": {},
   "outputs": [
    {
     "data": {
      "text/html": [
       "<div>\n",
       "<style scoped>\n",
       "    .dataframe tbody tr th:only-of-type {\n",
       "        vertical-align: middle;\n",
       "    }\n",
       "\n",
       "    .dataframe tbody tr th {\n",
       "        vertical-align: top;\n",
       "    }\n",
       "\n",
       "    .dataframe thead th {\n",
       "        text-align: right;\n",
       "    }\n",
       "</style>\n",
       "<table border=\"1\" class=\"dataframe\">\n",
       "  <thead>\n",
       "    <tr style=\"text-align: right;\">\n",
       "      <th></th>\n",
       "      <th>user_id</th>\n",
       "      <th>month</th>\n",
       "      <th>calls_count</th>\n",
       "      <th>calls_sum</th>\n",
       "      <th>messages_sum</th>\n",
       "      <th>mb_used_sum</th>\n",
       "      <th>tariff</th>\n",
       "      <th>city</th>\n",
       "      <th>messages_included</th>\n",
       "      <th>mb_per_month_included</th>\n",
       "      <th>...</th>\n",
       "      <th>rub_monthly_fee</th>\n",
       "      <th>rub_per_gb</th>\n",
       "      <th>rub_per_message</th>\n",
       "      <th>rub_per_minute</th>\n",
       "      <th>difference_trafic</th>\n",
       "      <th>difference_trafic_rb</th>\n",
       "      <th>difference_message_rb</th>\n",
       "      <th>difference_call</th>\n",
       "      <th>difference_call_rb</th>\n",
       "      <th>users_total_income</th>\n",
       "    </tr>\n",
       "  </thead>\n",
       "  <tbody>\n",
       "    <tr>\n",
       "      <th>0</th>\n",
       "      <td>1000</td>\n",
       "      <td>5</td>\n",
       "      <td>22.0</td>\n",
       "      <td>150.06</td>\n",
       "      <td>22.0</td>\n",
       "      <td>2253.49</td>\n",
       "      <td>ultra</td>\n",
       "      <td>Краснодар</td>\n",
       "      <td>1000</td>\n",
       "      <td>30720</td>\n",
       "      <td>...</td>\n",
       "      <td>1950</td>\n",
       "      <td>150</td>\n",
       "      <td>1</td>\n",
       "      <td>1</td>\n",
       "      <td>-27</td>\n",
       "      <td>0</td>\n",
       "      <td>0.0</td>\n",
       "      <td>-2849</td>\n",
       "      <td>0</td>\n",
       "      <td>1950.0</td>\n",
       "    </tr>\n",
       "    <tr>\n",
       "      <th>1</th>\n",
       "      <td>1000</td>\n",
       "      <td>6</td>\n",
       "      <td>43.0</td>\n",
       "      <td>158.90</td>\n",
       "      <td>60.0</td>\n",
       "      <td>23233.77</td>\n",
       "      <td>ultra</td>\n",
       "      <td>Краснодар</td>\n",
       "      <td>1000</td>\n",
       "      <td>30720</td>\n",
       "      <td>...</td>\n",
       "      <td>1950</td>\n",
       "      <td>150</td>\n",
       "      <td>1</td>\n",
       "      <td>1</td>\n",
       "      <td>-7</td>\n",
       "      <td>0</td>\n",
       "      <td>0.0</td>\n",
       "      <td>-2841</td>\n",
       "      <td>0</td>\n",
       "      <td>1950.0</td>\n",
       "    </tr>\n",
       "    <tr>\n",
       "      <th>2</th>\n",
       "      <td>1000</td>\n",
       "      <td>7</td>\n",
       "      <td>47.0</td>\n",
       "      <td>318.80</td>\n",
       "      <td>75.0</td>\n",
       "      <td>14003.64</td>\n",
       "      <td>ultra</td>\n",
       "      <td>Краснодар</td>\n",
       "      <td>1000</td>\n",
       "      <td>30720</td>\n",
       "      <td>...</td>\n",
       "      <td>1950</td>\n",
       "      <td>150</td>\n",
       "      <td>1</td>\n",
       "      <td>1</td>\n",
       "      <td>-16</td>\n",
       "      <td>0</td>\n",
       "      <td>0.0</td>\n",
       "      <td>-2681</td>\n",
       "      <td>0</td>\n",
       "      <td>1950.0</td>\n",
       "    </tr>\n",
       "    <tr>\n",
       "      <th>3</th>\n",
       "      <td>1000</td>\n",
       "      <td>8</td>\n",
       "      <td>52.0</td>\n",
       "      <td>389.87</td>\n",
       "      <td>81.0</td>\n",
       "      <td>14055.93</td>\n",
       "      <td>ultra</td>\n",
       "      <td>Краснодар</td>\n",
       "      <td>1000</td>\n",
       "      <td>30720</td>\n",
       "      <td>...</td>\n",
       "      <td>1950</td>\n",
       "      <td>150</td>\n",
       "      <td>1</td>\n",
       "      <td>1</td>\n",
       "      <td>-16</td>\n",
       "      <td>0</td>\n",
       "      <td>0.0</td>\n",
       "      <td>-2610</td>\n",
       "      <td>0</td>\n",
       "      <td>1950.0</td>\n",
       "    </tr>\n",
       "    <tr>\n",
       "      <th>4</th>\n",
       "      <td>1000</td>\n",
       "      <td>9</td>\n",
       "      <td>58.0</td>\n",
       "      <td>440.14</td>\n",
       "      <td>57.0</td>\n",
       "      <td>14568.91</td>\n",
       "      <td>ultra</td>\n",
       "      <td>Краснодар</td>\n",
       "      <td>1000</td>\n",
       "      <td>30720</td>\n",
       "      <td>...</td>\n",
       "      <td>1950</td>\n",
       "      <td>150</td>\n",
       "      <td>1</td>\n",
       "      <td>1</td>\n",
       "      <td>-15</td>\n",
       "      <td>0</td>\n",
       "      <td>0.0</td>\n",
       "      <td>-2559</td>\n",
       "      <td>0</td>\n",
       "      <td>1950.0</td>\n",
       "    </tr>\n",
       "    <tr>\n",
       "      <th>...</th>\n",
       "      <td>...</td>\n",
       "      <td>...</td>\n",
       "      <td>...</td>\n",
       "      <td>...</td>\n",
       "      <td>...</td>\n",
       "      <td>...</td>\n",
       "      <td>...</td>\n",
       "      <td>...</td>\n",
       "      <td>...</td>\n",
       "      <td>...</td>\n",
       "      <td>...</td>\n",
       "      <td>...</td>\n",
       "      <td>...</td>\n",
       "      <td>...</td>\n",
       "      <td>...</td>\n",
       "      <td>...</td>\n",
       "      <td>...</td>\n",
       "      <td>...</td>\n",
       "      <td>...</td>\n",
       "      <td>...</td>\n",
       "      <td>...</td>\n",
       "    </tr>\n",
       "    <tr>\n",
       "      <th>3209</th>\n",
       "      <td>1489</td>\n",
       "      <td>9</td>\n",
       "      <td>0.0</td>\n",
       "      <td>0.00</td>\n",
       "      <td>32.0</td>\n",
       "      <td>17206.30</td>\n",
       "      <td>smart</td>\n",
       "      <td>Санкт-Петербург</td>\n",
       "      <td>50</td>\n",
       "      <td>15360</td>\n",
       "      <td>...</td>\n",
       "      <td>550</td>\n",
       "      <td>200</td>\n",
       "      <td>3</td>\n",
       "      <td>3</td>\n",
       "      <td>2</td>\n",
       "      <td>400</td>\n",
       "      <td>0.0</td>\n",
       "      <td>-500</td>\n",
       "      <td>0</td>\n",
       "      <td>950.0</td>\n",
       "    </tr>\n",
       "    <tr>\n",
       "      <th>3210</th>\n",
       "      <td>1489</td>\n",
       "      <td>10</td>\n",
       "      <td>0.0</td>\n",
       "      <td>0.00</td>\n",
       "      <td>21.0</td>\n",
       "      <td>19559.44</td>\n",
       "      <td>smart</td>\n",
       "      <td>Санкт-Петербург</td>\n",
       "      <td>50</td>\n",
       "      <td>15360</td>\n",
       "      <td>...</td>\n",
       "      <td>550</td>\n",
       "      <td>200</td>\n",
       "      <td>3</td>\n",
       "      <td>3</td>\n",
       "      <td>5</td>\n",
       "      <td>1000</td>\n",
       "      <td>0.0</td>\n",
       "      <td>-500</td>\n",
       "      <td>0</td>\n",
       "      <td>1550.0</td>\n",
       "    </tr>\n",
       "    <tr>\n",
       "      <th>3211</th>\n",
       "      <td>1489</td>\n",
       "      <td>11</td>\n",
       "      <td>0.0</td>\n",
       "      <td>0.00</td>\n",
       "      <td>20.0</td>\n",
       "      <td>17491.56</td>\n",
       "      <td>smart</td>\n",
       "      <td>Санкт-Петербург</td>\n",
       "      <td>50</td>\n",
       "      <td>15360</td>\n",
       "      <td>...</td>\n",
       "      <td>550</td>\n",
       "      <td>200</td>\n",
       "      <td>3</td>\n",
       "      <td>3</td>\n",
       "      <td>3</td>\n",
       "      <td>600</td>\n",
       "      <td>0.0</td>\n",
       "      <td>-500</td>\n",
       "      <td>0</td>\n",
       "      <td>1150.0</td>\n",
       "    </tr>\n",
       "    <tr>\n",
       "      <th>3212</th>\n",
       "      <td>1489</td>\n",
       "      <td>12</td>\n",
       "      <td>0.0</td>\n",
       "      <td>0.00</td>\n",
       "      <td>35.0</td>\n",
       "      <td>17322.51</td>\n",
       "      <td>smart</td>\n",
       "      <td>Санкт-Петербург</td>\n",
       "      <td>50</td>\n",
       "      <td>15360</td>\n",
       "      <td>...</td>\n",
       "      <td>550</td>\n",
       "      <td>200</td>\n",
       "      <td>3</td>\n",
       "      <td>3</td>\n",
       "      <td>2</td>\n",
       "      <td>400</td>\n",
       "      <td>0.0</td>\n",
       "      <td>-500</td>\n",
       "      <td>0</td>\n",
       "      <td>950.0</td>\n",
       "    </tr>\n",
       "    <tr>\n",
       "      <th>3213</th>\n",
       "      <td>1476</td>\n",
       "      <td>4</td>\n",
       "      <td>0.0</td>\n",
       "      <td>0.00</td>\n",
       "      <td>0.0</td>\n",
       "      <td>530.78</td>\n",
       "      <td>ultra</td>\n",
       "      <td>Москва</td>\n",
       "      <td>1000</td>\n",
       "      <td>30720</td>\n",
       "      <td>...</td>\n",
       "      <td>1950</td>\n",
       "      <td>150</td>\n",
       "      <td>1</td>\n",
       "      <td>1</td>\n",
       "      <td>-29</td>\n",
       "      <td>0</td>\n",
       "      <td>0.0</td>\n",
       "      <td>-3000</td>\n",
       "      <td>0</td>\n",
       "      <td>1950.0</td>\n",
       "    </tr>\n",
       "  </tbody>\n",
       "</table>\n",
       "<p>3214 rows × 21 columns</p>\n",
       "</div>"
      ],
      "text/plain": [
       "      user_id  month  calls_count  calls_sum  messages_sum  mb_used_sum  \\\n",
       "0        1000      5         22.0     150.06          22.0      2253.49   \n",
       "1        1000      6         43.0     158.90          60.0     23233.77   \n",
       "2        1000      7         47.0     318.80          75.0     14003.64   \n",
       "3        1000      8         52.0     389.87          81.0     14055.93   \n",
       "4        1000      9         58.0     440.14          57.0     14568.91   \n",
       "...       ...    ...          ...        ...           ...          ...   \n",
       "3209     1489      9          0.0       0.00          32.0     17206.30   \n",
       "3210     1489     10          0.0       0.00          21.0     19559.44   \n",
       "3211     1489     11          0.0       0.00          20.0     17491.56   \n",
       "3212     1489     12          0.0       0.00          35.0     17322.51   \n",
       "3213     1476      4          0.0       0.00           0.0       530.78   \n",
       "\n",
       "     tariff             city  messages_included  mb_per_month_included  ...  \\\n",
       "0     ultra        Краснодар               1000                  30720  ...   \n",
       "1     ultra        Краснодар               1000                  30720  ...   \n",
       "2     ultra        Краснодар               1000                  30720  ...   \n",
       "3     ultra        Краснодар               1000                  30720  ...   \n",
       "4     ultra        Краснодар               1000                  30720  ...   \n",
       "...     ...              ...                ...                    ...  ...   \n",
       "3209  smart  Санкт-Петербург                 50                  15360  ...   \n",
       "3210  smart  Санкт-Петербург                 50                  15360  ...   \n",
       "3211  smart  Санкт-Петербург                 50                  15360  ...   \n",
       "3212  smart  Санкт-Петербург                 50                  15360  ...   \n",
       "3213  ultra           Москва               1000                  30720  ...   \n",
       "\n",
       "      rub_monthly_fee  rub_per_gb  rub_per_message  rub_per_minute  \\\n",
       "0                1950         150                1               1   \n",
       "1                1950         150                1               1   \n",
       "2                1950         150                1               1   \n",
       "3                1950         150                1               1   \n",
       "4                1950         150                1               1   \n",
       "...               ...         ...              ...             ...   \n",
       "3209              550         200                3               3   \n",
       "3210              550         200                3               3   \n",
       "3211              550         200                3               3   \n",
       "3212              550         200                3               3   \n",
       "3213             1950         150                1               1   \n",
       "\n",
       "      difference_trafic  difference_trafic_rb  difference_message_rb  \\\n",
       "0                   -27                     0                    0.0   \n",
       "1                    -7                     0                    0.0   \n",
       "2                   -16                     0                    0.0   \n",
       "3                   -16                     0                    0.0   \n",
       "4                   -15                     0                    0.0   \n",
       "...                 ...                   ...                    ...   \n",
       "3209                  2                   400                    0.0   \n",
       "3210                  5                  1000                    0.0   \n",
       "3211                  3                   600                    0.0   \n",
       "3212                  2                   400                    0.0   \n",
       "3213                -29                     0                    0.0   \n",
       "\n",
       "      difference_call  difference_call_rb  users_total_income  \n",
       "0               -2849                   0              1950.0  \n",
       "1               -2841                   0              1950.0  \n",
       "2               -2681                   0              1950.0  \n",
       "3               -2610                   0              1950.0  \n",
       "4               -2559                   0              1950.0  \n",
       "...               ...                 ...                 ...  \n",
       "3209             -500                   0               950.0  \n",
       "3210             -500                   0              1550.0  \n",
       "3211             -500                   0              1150.0  \n",
       "3212             -500                   0               950.0  \n",
       "3213            -3000                   0              1950.0  \n",
       "\n",
       "[3214 rows x 21 columns]"
      ]
     },
     "execution_count": 53,
     "metadata": {},
     "output_type": "execute_result"
    }
   ],
   "source": [
    "#Рассчитаем сколько трафика в месяц нужно клиентам каждого тарифа. Используем таблицу data.\n",
    "data"
   ]
  },
  {
   "cell_type": "code",
   "execution_count": 54,
   "metadata": {},
   "outputs": [
    {
     "data": {
      "text/html": [
       "<div>\n",
       "<style scoped>\n",
       "    .dataframe tbody tr th:only-of-type {\n",
       "        vertical-align: middle;\n",
       "    }\n",
       "\n",
       "    .dataframe tbody tr th {\n",
       "        vertical-align: top;\n",
       "    }\n",
       "\n",
       "    .dataframe thead th {\n",
       "        text-align: right;\n",
       "    }\n",
       "</style>\n",
       "<table border=\"1\" class=\"dataframe\">\n",
       "  <thead>\n",
       "    <tr style=\"text-align: right;\">\n",
       "      <th></th>\n",
       "      <th>mean</th>\n",
       "      <th>std</th>\n",
       "      <th>var</th>\n",
       "    </tr>\n",
       "    <tr>\n",
       "      <th>tariff</th>\n",
       "      <th></th>\n",
       "      <th></th>\n",
       "      <th></th>\n",
       "    </tr>\n",
       "  </thead>\n",
       "  <tbody>\n",
       "    <tr>\n",
       "      <th>smart</th>\n",
       "      <td>16208.386990</td>\n",
       "      <td>5870.476681</td>\n",
       "      <td>3.446250e+07</td>\n",
       "    </tr>\n",
       "    <tr>\n",
       "      <th>ultra</th>\n",
       "      <td>19468.805208</td>\n",
       "      <td>10087.170752</td>\n",
       "      <td>1.017510e+08</td>\n",
       "    </tr>\n",
       "  </tbody>\n",
       "</table>\n",
       "</div>"
      ],
      "text/plain": [
       "                mean           std           var\n",
       "tariff                                          \n",
       "smart   16208.386990   5870.476681  3.446250e+07\n",
       "ultra   19468.805208  10087.170752  1.017510e+08"
      ]
     },
     "execution_count": 54,
     "metadata": {},
     "output_type": "execute_result"
    }
   ],
   "source": [
    "data.groupby('tariff')['mb_used_sum'].agg([np.mean, np.std, np.var])"
   ]
  },
  {
   "cell_type": "code",
   "execution_count": 55,
   "metadata": {},
   "outputs": [
    {
     "data": {
      "text/plain": [
       "<AxesSubplot:>"
      ]
     },
     "execution_count": 55,
     "metadata": {},
     "output_type": "execute_result"
    },
    {
     "data": {
      "image/png": "[encoded data removed]",
      "text/plain": [
       "<Figure size 432x288 with 1 Axes>"
      ]
     },
     "metadata": {
      "needs_background": "light"
     },
     "output_type": "display_data"
    }
   ],
   "source": [
    "data[data.tariff=='smart'].mb_used_sum.hist(bins=20)"
   ]
  },
  {
   "cell_type": "code",
   "execution_count": 56,
   "metadata": {},
   "outputs": [
    {
     "data": {
      "text/plain": [
       "<AxesSubplot:>"
      ]
     },
     "execution_count": 56,
     "metadata": {},
     "output_type": "execute_result"
    },
    {
     "data": {
      "image/png": "[encoded data removed]",
      "text/plain": [
       "<Figure size 432x288 with 1 Axes>"
      ]
     },
     "metadata": {
      "needs_background": "light"
     },
     "output_type": "display_data"
    }
   ],
   "source": [
    "data[data.tariff=='ultra'].mb_used_sum.hist(bins=20)"
   ]
  },
  {
   "cell_type": "code",
   "execution_count": 57,
   "metadata": {},
   "outputs": [
    {
     "data": {
      "text/html": [
       "<div>\n",
       "<style scoped>\n",
       "    .dataframe tbody tr th:only-of-type {\n",
       "        vertical-align: middle;\n",
       "    }\n",
       "\n",
       "    .dataframe tbody tr th {\n",
       "        vertical-align: top;\n",
       "    }\n",
       "\n",
       "    .dataframe thead th {\n",
       "        text-align: right;\n",
       "    }\n",
       "</style>\n",
       "<table border=\"1\" class=\"dataframe\">\n",
       "  <thead>\n",
       "    <tr style=\"text-align: right;\">\n",
       "      <th></th>\n",
       "      <th>mean</th>\n",
       "      <th>std</th>\n",
       "      <th>var</th>\n",
       "    </tr>\n",
       "    <tr>\n",
       "      <th>tariff</th>\n",
       "      <th></th>\n",
       "      <th></th>\n",
       "      <th></th>\n",
       "    </tr>\n",
       "  </thead>\n",
       "  <tbody>\n",
       "    <tr>\n",
       "      <th>smart</th>\n",
       "      <td>33.384029</td>\n",
       "      <td>28.227876</td>\n",
       "      <td>796.812958</td>\n",
       "    </tr>\n",
       "    <tr>\n",
       "      <th>ultra</th>\n",
       "      <td>49.363452</td>\n",
       "      <td>47.804457</td>\n",
       "      <td>2285.266143</td>\n",
       "    </tr>\n",
       "  </tbody>\n",
       "</table>\n",
       "</div>"
      ],
      "text/plain": [
       "             mean        std          var\n",
       "tariff                                   \n",
       "smart   33.384029  28.227876   796.812958\n",
       "ultra   49.363452  47.804457  2285.266143"
      ]
     },
     "execution_count": 57,
     "metadata": {},
     "output_type": "execute_result"
    }
   ],
   "source": [
    "#Рассчитаем сколько смс сообщений в месяц нужно клиентам каждого тарифа.\n",
    "data.groupby(['tariff'])['messages_sum'].agg([np.mean, np.std, np.var])"
   ]
  },
  {
   "cell_type": "code",
   "execution_count": 58,
   "metadata": {},
   "outputs": [
    {
     "data": {
      "text/plain": [
       "<AxesSubplot:>"
      ]
     },
     "execution_count": 58,
     "metadata": {},
     "output_type": "execute_result"
    },
    {
     "data": {
      "image/png": "[encoded data removed]",
      "text/plain": [
       "<Figure size 432x288 with 1 Axes>"
      ]
     },
     "metadata": {
      "needs_background": "light"
     },
     "output_type": "display_data"
    }
   ],
   "source": [
    "data[data.tariff=='smart'].messages_sum.hist(bins=20)"
   ]
  },
  {
   "cell_type": "code",
   "execution_count": 59,
   "metadata": {},
   "outputs": [
    {
     "data": {
      "text/plain": [
       "<AxesSubplot:>"
      ]
     },
     "execution_count": 59,
     "metadata": {},
     "output_type": "execute_result"
    },
    {
     "data": {
      "image/png": "[encoded data removed]",
      "text/plain": [
       "<Figure size 432x288 with 1 Axes>"
      ]
     },
     "metadata": {
      "needs_background": "light"
     },
     "output_type": "display_data"
    }
   ],
   "source": [
    "data[data.tariff=='ultra'].messages_sum.hist(bins=20)"
   ]
  },
  {
   "cell_type": "code",
   "execution_count": 60,
   "metadata": {},
   "outputs": [
    {
     "data": {
      "text/html": [
       "<div>\n",
       "<style scoped>\n",
       "    .dataframe tbody tr th:only-of-type {\n",
       "        vertical-align: middle;\n",
       "    }\n",
       "\n",
       "    .dataframe tbody tr th {\n",
       "        vertical-align: top;\n",
       "    }\n",
       "\n",
       "    .dataframe thead th {\n",
       "        text-align: right;\n",
       "    }\n",
       "</style>\n",
       "<table border=\"1\" class=\"dataframe\">\n",
       "  <thead>\n",
       "    <tr style=\"text-align: right;\">\n",
       "      <th></th>\n",
       "      <th>mean</th>\n",
       "      <th>std</th>\n",
       "      <th>var</th>\n",
       "    </tr>\n",
       "    <tr>\n",
       "      <th>tariff</th>\n",
       "      <th></th>\n",
       "      <th></th>\n",
       "      <th></th>\n",
       "    </tr>\n",
       "  </thead>\n",
       "  <tbody>\n",
       "    <tr>\n",
       "      <th>smart</th>\n",
       "      <td>394.427026</td>\n",
       "      <td>179.962207</td>\n",
       "      <td>32386.395979</td>\n",
       "    </tr>\n",
       "    <tr>\n",
       "      <th>ultra</th>\n",
       "      <td>497.068223</td>\n",
       "      <td>299.904152</td>\n",
       "      <td>89942.500370</td>\n",
       "    </tr>\n",
       "  </tbody>\n",
       "</table>\n",
       "</div>"
      ],
      "text/plain": [
       "              mean         std           var\n",
       "tariff                                      \n",
       "smart   394.427026  179.962207  32386.395979\n",
       "ultra   497.068223  299.904152  89942.500370"
      ]
     },
     "execution_count": 60,
     "metadata": {},
     "output_type": "execute_result"
    }
   ],
   "source": [
    "#Рассчитаем сколько минут в месяц нужно клиентам каждого тарифа. \n",
    "data.groupby(['tariff'])['calls_sum'].agg([np.mean, np.std, np.var])"
   ]
  },
  {
   "cell_type": "code",
   "execution_count": 61,
   "metadata": {},
   "outputs": [
    {
     "data": {
      "text/plain": [
       "<AxesSubplot:>"
      ]
     },
     "execution_count": 61,
     "metadata": {},
     "output_type": "execute_result"
    },
    {
     "data": {
      "image/png": "[encoded data removed]",
      "text/plain": [
       "<Figure size 432x288 with 1 Axes>"
      ]
     },
     "metadata": {
      "needs_background": "light"
     },
     "output_type": "display_data"
    }
   ],
   "source": [
    "data[data.tariff=='smart'].calls_sum.hist(bins=20)"
   ]
  },
  {
   "cell_type": "code",
   "execution_count": 62,
   "metadata": {},
   "outputs": [
    {
     "data": {
      "text/plain": [
       "<AxesSubplot:>"
      ]
     },
     "execution_count": 62,
     "metadata": {},
     "output_type": "execute_result"
    },
    {
     "data": {
      "image/png": "[encoded data removed]",
      "text/plain": [
       "<Figure size 432x288 with 1 Axes>"
      ]
     },
     "metadata": {
      "needs_background": "light"
     },
     "output_type": "display_data"
    }
   ],
   "source": [
    "data[data.tariff=='ultra'].calls_sum.hist(bins=20)"
   ]
  },
  {
   "cell_type": "markdown",
   "metadata": {},
   "source": [
    "#### Вывод\n",
    " По полученным данным видно, что пользователи тарифа \"Ультра\" в среднем используют больше смс, минут и трафика. Все гистограмы имеют биноминальное распределение. "
   ]
  },
  {
   "cell_type": "markdown",
   "metadata": {},
   "source": [
    "### Проверяем гипотезы"
   ]
  },
  {
   "cell_type": "markdown",
   "metadata": {},
   "source": [
    "Для проверки гипотез будем использовать критерий t-теста, т.к выборки у нас независимы друг от друга и они достаточно большие."
   ]
  },
  {
   "cell_type": "markdown",
   "metadata": {},
   "source": [
    " Проверим гипотезу о неравенстве средней выручки пользователей тарифов. Сформулируем нулевую гипотезу и альтернативную. H₀ - нулевая гипотеза. H₁ - альтернативная гипотеза.\n",
    "H₀: средняя выручка пользователей тарифа «Ультра» равна средней выручке пользователей тарифа «Смарт». \n",
    "H₁:средняя выручка пользователей тарифа «Ультра» не равна средней выручке пользователей тарифа «Смарт». \n",
    "Альтернативная гипотеза двусторонняя, так мы узнаем отклонение в большую или меньшую сторону, если нулевая окажется ложью.\n",
    " Будем работать с таблицей users."
   ]
  },
  {
   "cell_type": "code",
   "execution_count": 63,
   "metadata": {},
   "outputs": [],
   "source": [
    "alpha = .05"
   ]
  },
  {
   "cell_type": "code",
   "execution_count": 64,
   "metadata": {},
   "outputs": [
    {
     "data": {
      "text/html": [
       "<div>\n",
       "<style scoped>\n",
       "    .dataframe tbody tr th:only-of-type {\n",
       "        vertical-align: middle;\n",
       "    }\n",
       "\n",
       "    .dataframe tbody tr th {\n",
       "        vertical-align: top;\n",
       "    }\n",
       "\n",
       "    .dataframe thead th {\n",
       "        text-align: right;\n",
       "    }\n",
       "</style>\n",
       "<table border=\"1\" class=\"dataframe\">\n",
       "  <thead>\n",
       "    <tr style=\"text-align: right;\">\n",
       "      <th></th>\n",
       "      <th>mean</th>\n",
       "      <th>std</th>\n",
       "      <th>var</th>\n",
       "    </tr>\n",
       "    <tr>\n",
       "      <th>tariff</th>\n",
       "      <th></th>\n",
       "      <th></th>\n",
       "      <th></th>\n",
       "    </tr>\n",
       "  </thead>\n",
       "  <tbody>\n",
       "    <tr>\n",
       "      <th>smart</th>\n",
       "      <td>1257.588605</td>\n",
       "      <td>800.915599</td>\n",
       "      <td>641465.797016</td>\n",
       "    </tr>\n",
       "    <tr>\n",
       "      <th>ultra</th>\n",
       "      <td>2070.152284</td>\n",
       "      <td>376.187114</td>\n",
       "      <td>141516.745079</td>\n",
       "    </tr>\n",
       "  </tbody>\n",
       "</table>\n",
       "</div>"
      ],
      "text/plain": [
       "               mean         std            var\n",
       "tariff                                        \n",
       "smart   1257.588605  800.915599  641465.797016\n",
       "ultra   2070.152284  376.187114  141516.745079"
      ]
     },
     "execution_count": 64,
     "metadata": {},
     "output_type": "execute_result"
    }
   ],
   "source": [
    "data.groupby('tariff')['users_total_income'].agg([np.mean, np.std, np.var])"
   ]
  },
  {
   "cell_type": "code",
   "execution_count": 65,
   "metadata": {},
   "outputs": [
    {
     "data": {
      "text/plain": [
       "<AxesSubplot:>"
      ]
     },
     "execution_count": 65,
     "metadata": {},
     "output_type": "execute_result"
    },
    {
     "data": {
      "image/png": "[encoded data removed]",
      "text/plain": [
       "<Figure size 432x288 with 1 Axes>"
      ]
     },
     "metadata": {
      "needs_background": "light"
     },
     "output_type": "display_data"
    }
   ],
   "source": [
    "#построим гистограмму\n",
    "data[data.tariff=='ultra'].users_total_income.hist(bins=20)"
   ]
  },
  {
   "cell_type": "code",
   "execution_count": 66,
   "metadata": {},
   "outputs": [
    {
     "data": {
      "text/plain": [
       "<AxesSubplot:>"
      ]
     },
     "execution_count": 66,
     "metadata": {},
     "output_type": "execute_result"
    },
    {
     "data": {
      "image/png": "[encoded data removed]",
      "text/plain": [
       "<Figure size 432x288 with 1 Axes>"
      ]
     },
     "metadata": {
      "needs_background": "light"
     },
     "output_type": "display_data"
    }
   ],
   "source": [
    "#построим гистограмму\n",
    "data[data.tariff=='smart'].users_total_income.hist(bins=20)"
   ]
  },
  {
   "cell_type": "code",
   "execution_count": 67,
   "metadata": {},
   "outputs": [
    {
     "data": {
      "text/plain": [
       "Ttest_indResult(statistic=30.392167350656806, pvalue=1.513773301175091e-178)"
      ]
     },
     "execution_count": 67,
     "metadata": {},
     "output_type": "execute_result"
    }
   ],
   "source": [
    "ttest_ind(data[data.tariff=='ultra'].users_total_income, data[data.tariff=='smart'].users_total_income)"
   ]
  },
  {
   "cell_type": "markdown",
   "metadata": {},
   "source": [
    "#### Вывод\n",
    "\n",
    " Из полученных данных можно сделать вывод, что средняя выручка пользователей тарифа «Ультра» не равна средней выручке пользователей тарифа «Смарт». Так как pvalue=1.513773301175091e-178 больше значения alpha. Нулевую гипотезу отвергаем."
   ]
  },
  {
   "cell_type": "markdown",
   "metadata": {},
   "source": [
    "  Проверим гипотезу о неравенстве средней выручки пользователей из Москвы и других регионов. Сформулируем нулевую гипотезу и альтернативную. H₀ - нулевая гипотеза. H₁ - альтернативная гипотеза. H₀: средняя выручка пользователей из Москвы равна средней выручке пользователей из других регионов. H₁:средняя выручка пользователей из Москвы не равна средней выручке пользователей из других регионов. Альтернативная гипотеза двусторонняя, так мы узнаем отклонение в большую или меньшую сторону, если нулевая окажется ложью. Будем работать с таблицей data."
   ]
  },
  {
   "cell_type": "code",
   "execution_count": 68,
   "metadata": {},
   "outputs": [],
   "source": [
    "alpha = .05"
   ]
  },
  {
   "cell_type": "code",
   "execution_count": 69,
   "metadata": {},
   "outputs": [],
   "source": [
    "def city_user(city):\n",
    "    if city=='Москва':\n",
    "        return 'Москва'\n",
    "    else:\n",
    "        return 'другое'\n",
    "        "
   ]
  },
  {
   "cell_type": "code",
   "execution_count": 70,
   "metadata": {},
   "outputs": [
    {
     "data": {
      "text/html": [
       "<div>\n",
       "<style scoped>\n",
       "    .dataframe tbody tr th:only-of-type {\n",
       "        vertical-align: middle;\n",
       "    }\n",
       "\n",
       "    .dataframe tbody tr th {\n",
       "        vertical-align: top;\n",
       "    }\n",
       "\n",
       "    .dataframe thead th {\n",
       "        text-align: right;\n",
       "    }\n",
       "</style>\n",
       "<table border=\"1\" class=\"dataframe\">\n",
       "  <thead>\n",
       "    <tr style=\"text-align: right;\">\n",
       "      <th></th>\n",
       "      <th>user_id</th>\n",
       "      <th>month</th>\n",
       "      <th>calls_count</th>\n",
       "      <th>calls_sum</th>\n",
       "      <th>messages_sum</th>\n",
       "      <th>mb_used_sum</th>\n",
       "      <th>tariff</th>\n",
       "      <th>city</th>\n",
       "      <th>messages_included</th>\n",
       "      <th>mb_per_month_included</th>\n",
       "      <th>...</th>\n",
       "      <th>rub_per_gb</th>\n",
       "      <th>rub_per_message</th>\n",
       "      <th>rub_per_minute</th>\n",
       "      <th>difference_trafic</th>\n",
       "      <th>difference_trafic_rb</th>\n",
       "      <th>difference_message_rb</th>\n",
       "      <th>difference_call</th>\n",
       "      <th>difference_call_rb</th>\n",
       "      <th>users_total_income</th>\n",
       "      <th>city_user</th>\n",
       "    </tr>\n",
       "  </thead>\n",
       "  <tbody>\n",
       "    <tr>\n",
       "      <th>0</th>\n",
       "      <td>1000</td>\n",
       "      <td>5</td>\n",
       "      <td>22.0</td>\n",
       "      <td>150.06</td>\n",
       "      <td>22.0</td>\n",
       "      <td>2253.49</td>\n",
       "      <td>ultra</td>\n",
       "      <td>Краснодар</td>\n",
       "      <td>1000</td>\n",
       "      <td>30720</td>\n",
       "      <td>...</td>\n",
       "      <td>150</td>\n",
       "      <td>1</td>\n",
       "      <td>1</td>\n",
       "      <td>-27</td>\n",
       "      <td>0</td>\n",
       "      <td>0.0</td>\n",
       "      <td>-2849</td>\n",
       "      <td>0</td>\n",
       "      <td>1950.0</td>\n",
       "      <td>другое</td>\n",
       "    </tr>\n",
       "    <tr>\n",
       "      <th>1</th>\n",
       "      <td>1000</td>\n",
       "      <td>6</td>\n",
       "      <td>43.0</td>\n",
       "      <td>158.90</td>\n",
       "      <td>60.0</td>\n",
       "      <td>23233.77</td>\n",
       "      <td>ultra</td>\n",
       "      <td>Краснодар</td>\n",
       "      <td>1000</td>\n",
       "      <td>30720</td>\n",
       "      <td>...</td>\n",
       "      <td>150</td>\n",
       "      <td>1</td>\n",
       "      <td>1</td>\n",
       "      <td>-7</td>\n",
       "      <td>0</td>\n",
       "      <td>0.0</td>\n",
       "      <td>-2841</td>\n",
       "      <td>0</td>\n",
       "      <td>1950.0</td>\n",
       "      <td>другое</td>\n",
       "    </tr>\n",
       "    <tr>\n",
       "      <th>2</th>\n",
       "      <td>1000</td>\n",
       "      <td>7</td>\n",
       "      <td>47.0</td>\n",
       "      <td>318.80</td>\n",
       "      <td>75.0</td>\n",
       "      <td>14003.64</td>\n",
       "      <td>ultra</td>\n",
       "      <td>Краснодар</td>\n",
       "      <td>1000</td>\n",
       "      <td>30720</td>\n",
       "      <td>...</td>\n",
       "      <td>150</td>\n",
       "      <td>1</td>\n",
       "      <td>1</td>\n",
       "      <td>-16</td>\n",
       "      <td>0</td>\n",
       "      <td>0.0</td>\n",
       "      <td>-2681</td>\n",
       "      <td>0</td>\n",
       "      <td>1950.0</td>\n",
       "      <td>другое</td>\n",
       "    </tr>\n",
       "    <tr>\n",
       "      <th>3</th>\n",
       "      <td>1000</td>\n",
       "      <td>8</td>\n",
       "      <td>52.0</td>\n",
       "      <td>389.87</td>\n",
       "      <td>81.0</td>\n",
       "      <td>14055.93</td>\n",
       "      <td>ultra</td>\n",
       "      <td>Краснодар</td>\n",
       "      <td>1000</td>\n",
       "      <td>30720</td>\n",
       "      <td>...</td>\n",
       "      <td>150</td>\n",
       "      <td>1</td>\n",
       "      <td>1</td>\n",
       "      <td>-16</td>\n",
       "      <td>0</td>\n",
       "      <td>0.0</td>\n",
       "      <td>-2610</td>\n",
       "      <td>0</td>\n",
       "      <td>1950.0</td>\n",
       "      <td>другое</td>\n",
       "    </tr>\n",
       "    <tr>\n",
       "      <th>4</th>\n",
       "      <td>1000</td>\n",
       "      <td>9</td>\n",
       "      <td>58.0</td>\n",
       "      <td>440.14</td>\n",
       "      <td>57.0</td>\n",
       "      <td>14568.91</td>\n",
       "      <td>ultra</td>\n",
       "      <td>Краснодар</td>\n",
       "      <td>1000</td>\n",
       "      <td>30720</td>\n",
       "      <td>...</td>\n",
       "      <td>150</td>\n",
       "      <td>1</td>\n",
       "      <td>1</td>\n",
       "      <td>-15</td>\n",
       "      <td>0</td>\n",
       "      <td>0.0</td>\n",
       "      <td>-2559</td>\n",
       "      <td>0</td>\n",
       "      <td>1950.0</td>\n",
       "      <td>другое</td>\n",
       "    </tr>\n",
       "  </tbody>\n",
       "</table>\n",
       "<p>5 rows × 22 columns</p>\n",
       "</div>"
      ],
      "text/plain": [
       "   user_id  month  calls_count  calls_sum  messages_sum  mb_used_sum tariff  \\\n",
       "0     1000      5         22.0     150.06          22.0      2253.49  ultra   \n",
       "1     1000      6         43.0     158.90          60.0     23233.77  ultra   \n",
       "2     1000      7         47.0     318.80          75.0     14003.64  ultra   \n",
       "3     1000      8         52.0     389.87          81.0     14055.93  ultra   \n",
       "4     1000      9         58.0     440.14          57.0     14568.91  ultra   \n",
       "\n",
       "        city  messages_included  mb_per_month_included  ...  rub_per_gb  \\\n",
       "0  Краснодар               1000                  30720  ...         150   \n",
       "1  Краснодар               1000                  30720  ...         150   \n",
       "2  Краснодар               1000                  30720  ...         150   \n",
       "3  Краснодар               1000                  30720  ...         150   \n",
       "4  Краснодар               1000                  30720  ...         150   \n",
       "\n",
       "   rub_per_message  rub_per_minute  difference_trafic  difference_trafic_rb  \\\n",
       "0                1               1                -27                     0   \n",
       "1                1               1                 -7                     0   \n",
       "2                1               1                -16                     0   \n",
       "3                1               1                -16                     0   \n",
       "4                1               1                -15                     0   \n",
       "\n",
       "   difference_message_rb  difference_call  difference_call_rb  \\\n",
       "0                    0.0            -2849                   0   \n",
       "1                    0.0            -2841                   0   \n",
       "2                    0.0            -2681                   0   \n",
       "3                    0.0            -2610                   0   \n",
       "4                    0.0            -2559                   0   \n",
       "\n",
       "   users_total_income  city_user  \n",
       "0              1950.0     другое  \n",
       "1              1950.0     другое  \n",
       "2              1950.0     другое  \n",
       "3              1950.0     другое  \n",
       "4              1950.0     другое  \n",
       "\n",
       "[5 rows x 22 columns]"
      ]
     },
     "execution_count": 70,
     "metadata": {},
     "output_type": "execute_result"
    }
   ],
   "source": [
    "#добавляем столбец с группами в основную таблицу\n",
    "data['city_user'] = data['city'].apply(city_user) \n",
    "data.head()"
   ]
  },
  {
   "cell_type": "code",
   "execution_count": 71,
   "metadata": {},
   "outputs": [
    {
     "data": {
      "text/html": [
       "<div>\n",
       "<style scoped>\n",
       "    .dataframe tbody tr th:only-of-type {\n",
       "        vertical-align: middle;\n",
       "    }\n",
       "\n",
       "    .dataframe tbody tr th {\n",
       "        vertical-align: top;\n",
       "    }\n",
       "\n",
       "    .dataframe thead th {\n",
       "        text-align: right;\n",
       "    }\n",
       "</style>\n",
       "<table border=\"1\" class=\"dataframe\">\n",
       "  <thead>\n",
       "    <tr style=\"text-align: right;\">\n",
       "      <th></th>\n",
       "      <th>mean</th>\n",
       "      <th>std</th>\n",
       "      <th>var</th>\n",
       "    </tr>\n",
       "    <tr>\n",
       "      <th>city_user</th>\n",
       "      <th></th>\n",
       "      <th></th>\n",
       "      <th></th>\n",
       "    </tr>\n",
       "  </thead>\n",
       "  <tbody>\n",
       "    <tr>\n",
       "      <th>Москва</th>\n",
       "      <td>1526.837971</td>\n",
       "      <td>750.221433</td>\n",
       "      <td>562832.198294</td>\n",
       "    </tr>\n",
       "    <tr>\n",
       "      <th>другое</th>\n",
       "      <td>1501.869766</td>\n",
       "      <td>802.533059</td>\n",
       "      <td>644059.310857</td>\n",
       "    </tr>\n",
       "  </tbody>\n",
       "</table>\n",
       "</div>"
      ],
      "text/plain": [
       "                  mean         std            var\n",
       "city_user                                        \n",
       "Москва     1526.837971  750.221433  562832.198294\n",
       "другое     1501.869766  802.533059  644059.310857"
      ]
     },
     "execution_count": 71,
     "metadata": {},
     "output_type": "execute_result"
    }
   ],
   "source": [
    "data.groupby('city_user')['users_total_income'].agg([np.mean, np.std, np.var])"
   ]
  },
  {
   "cell_type": "code",
   "execution_count": 72,
   "metadata": {},
   "outputs": [
    {
     "data": {
      "text/plain": [
       "<AxesSubplot:>"
      ]
     },
     "execution_count": 72,
     "metadata": {},
     "output_type": "execute_result"
    },
    {
     "data": {
      "image/png": "[encoded data removed]",
      "text/plain": [
       "<Figure size 432x288 with 1 Axes>"
      ]
     },
     "metadata": {
      "needs_background": "light"
     },
     "output_type": "display_data"
    }
   ],
   "source": [
    "#построим гистограмму для регионов\n",
    "data[data.city_user=='другое'].users_total_income.hist(bins=20)"
   ]
  },
  {
   "cell_type": "code",
   "execution_count": 73,
   "metadata": {},
   "outputs": [
    {
     "data": {
      "text/plain": [
       "<AxesSubplot:>"
      ]
     },
     "execution_count": 73,
     "metadata": {},
     "output_type": "execute_result"
    },
    {
     "data": {
      "image/png": "[encoded data removed]",
      "text/plain": [
       "<Figure size 432x288 with 1 Axes>"
      ]
     },
     "metadata": {
      "needs_background": "light"
     },
     "output_type": "display_data"
    }
   ],
   "source": [
    "#построим гистограмму для Москвы\n",
    "data[data.city_user=='Москва'].users_total_income.hist(bins=20)"
   ]
  },
  {
   "cell_type": "code",
   "execution_count": 74,
   "metadata": {},
   "outputs": [
    {
     "data": {
      "text/plain": [
       "Ttest_indResult(statistic=0.7005246174525382, pvalue=0.4836504757759247)"
      ]
     },
     "execution_count": 74,
     "metadata": {},
     "output_type": "execute_result"
    }
   ],
   "source": [
    "ttest_ind(data[data.city_user=='Москва'].users_total_income, data[data.city_user=='другое'].users_total_income)"
   ]
  },
  {
   "cell_type": "markdown",
   "metadata": {},
   "source": [
    "#### Вывод\n",
    "\n",
    " Значение pvalue равно 0.4836504757759247 и оно больше значения alpha, поэтому делаем вывод, что средняя выручка пользователей из Москвы не равна средней выручке пользователей из других регионов. "
   ]
  },
  {
   "cell_type": "markdown",
   "metadata": {},
   "source": [
    "### Общий вывод\n",
    "\n",
    " Проанализировав данные можно сделать следующий вывод: пользователи тарифа \"Смарт\" приносят меньше дохода, т.к их средняя выручка составляет 1257.588605, а выручка тарифа \"Ультра\" равна 2070.152284. А также можно говорить о том, что пользователи в регионах приносят меньший доход, чем пользователи из Москвы."
   ]
  },
  {
   "cell_type": "code",
   "execution_count": null,
   "metadata": {},
   "outputs": [],
   "source": []
  }
 ],
 "metadata": {
  "ExecuteTimeLog": [
   {
    "duration": 541,
    "start_time": "2022-03-07T13:39:45.638Z"
   },
   {
    "duration": 156,
    "start_time": "2022-03-07T13:40:53.203Z"
   },
   {
    "duration": 117,
    "start_time": "2022-03-07T13:41:28.186Z"
   },
   {
    "duration": 76,
    "start_time": "2022-03-07T13:42:10.184Z"
   },
   {
    "duration": 16,
    "start_time": "2022-03-07T13:42:43.645Z"
   },
   {
    "duration": 1908,
    "start_time": "2022-03-07T13:43:18.506Z"
   },
   {
    "duration": 75,
    "start_time": "2022-03-07T13:43:28.083Z"
   },
   {
    "duration": 11,
    "start_time": "2022-03-07T13:52:56.685Z"
   },
   {
    "duration": 130,
    "start_time": "2022-03-07T13:53:16.009Z"
   },
   {
    "duration": 142,
    "start_time": "2022-03-07T13:53:20.743Z"
   },
   {
    "duration": 10,
    "start_time": "2022-03-07T13:53:22.767Z"
   },
   {
    "duration": 19,
    "start_time": "2022-03-07T13:53:44.309Z"
   },
   {
    "duration": 9,
    "start_time": "2022-03-07T13:54:04.222Z"
   },
   {
    "duration": 6,
    "start_time": "2022-03-07T13:54:55.315Z"
   },
   {
    "duration": 118,
    "start_time": "2022-03-07T13:55:05.284Z"
   },
   {
    "duration": 9,
    "start_time": "2022-03-07T13:55:11.906Z"
   },
   {
    "duration": 17,
    "start_time": "2022-03-07T13:55:50.063Z"
   },
   {
    "duration": 6,
    "start_time": "2022-03-07T13:56:08.569Z"
   },
   {
    "duration": 6,
    "start_time": "2022-03-07T13:56:17.228Z"
   },
   {
    "duration": 90,
    "start_time": "2022-03-07T13:56:28.757Z"
   },
   {
    "duration": 8,
    "start_time": "2022-03-07T13:56:36.103Z"
   },
   {
    "duration": 8,
    "start_time": "2022-03-07T13:56:41.318Z"
   },
   {
    "duration": 7,
    "start_time": "2022-03-07T13:56:44.736Z"
   },
   {
    "duration": 14,
    "start_time": "2022-03-07T13:57:05.414Z"
   },
   {
    "duration": 6,
    "start_time": "2022-03-07T13:57:22.700Z"
   },
   {
    "duration": 17,
    "start_time": "2022-03-07T13:57:35.431Z"
   },
   {
    "duration": 9,
    "start_time": "2022-03-07T13:57:39.813Z"
   },
   {
    "duration": 6,
    "start_time": "2022-03-07T13:57:59.806Z"
   },
   {
    "duration": 6,
    "start_time": "2022-03-07T13:58:13.600Z"
   },
   {
    "duration": 70,
    "start_time": "2022-03-07T13:58:23.007Z"
   },
   {
    "duration": 10,
    "start_time": "2022-03-07T13:58:27.720Z"
   },
   {
    "duration": 6,
    "start_time": "2022-03-07T13:58:53.133Z"
   },
   {
    "duration": 21,
    "start_time": "2022-03-07T13:59:56.278Z"
   },
   {
    "duration": 25,
    "start_time": "2022-03-07T14:00:06.314Z"
   },
   {
    "duration": 16,
    "start_time": "2022-03-07T14:00:24.932Z"
   },
   {
    "duration": 13,
    "start_time": "2022-03-07T14:00:37.914Z"
   },
   {
    "duration": 5,
    "start_time": "2022-03-07T14:00:53.589Z"
   },
   {
    "duration": 6,
    "start_time": "2022-03-07T14:01:06.321Z"
   },
   {
    "duration": 235,
    "start_time": "2022-03-08T09:07:07.860Z"
   },
   {
    "duration": 182,
    "start_time": "2022-03-08T09:07:20.753Z"
   },
   {
    "duration": 559,
    "start_time": "2022-03-08T09:07:30.451Z"
   },
   {
    "duration": 90,
    "start_time": "2022-03-08T09:07:31.013Z"
   },
   {
    "duration": 173,
    "start_time": "2022-03-08T09:07:31.106Z"
   },
   {
    "duration": 132,
    "start_time": "2022-03-08T09:07:31.281Z"
   },
   {
    "duration": 91,
    "start_time": "2022-03-08T09:07:31.415Z"
   },
   {
    "duration": 11,
    "start_time": "2022-03-08T09:07:31.508Z"
   },
   {
    "duration": 40,
    "start_time": "2022-03-08T09:07:31.521Z"
   },
   {
    "duration": 24,
    "start_time": "2022-03-08T09:07:31.563Z"
   },
   {
    "duration": 28,
    "start_time": "2022-03-08T09:07:31.590Z"
   },
   {
    "duration": 9,
    "start_time": "2022-03-08T09:07:31.620Z"
   },
   {
    "duration": 22,
    "start_time": "2022-03-08T09:07:31.631Z"
   },
   {
    "duration": 8,
    "start_time": "2022-03-08T09:07:31.655Z"
   },
   {
    "duration": 38,
    "start_time": "2022-03-08T09:07:31.665Z"
   },
   {
    "duration": 25,
    "start_time": "2022-03-08T09:07:31.705Z"
   },
   {
    "duration": 12,
    "start_time": "2022-03-08T09:07:31.732Z"
   },
   {
    "duration": 30,
    "start_time": "2022-03-08T09:07:31.745Z"
   },
   {
    "duration": 34,
    "start_time": "2022-03-08T09:07:31.777Z"
   },
   {
    "duration": 45,
    "start_time": "2022-03-08T09:07:31.813Z"
   },
   {
    "duration": 25,
    "start_time": "2022-03-08T09:07:31.860Z"
   },
   {
    "duration": 16,
    "start_time": "2022-03-08T09:07:31.887Z"
   },
   {
    "duration": 17,
    "start_time": "2022-03-08T09:07:31.905Z"
   },
   {
    "duration": 10,
    "start_time": "2022-03-08T09:07:31.924Z"
   },
   {
    "duration": 33,
    "start_time": "2022-03-08T09:13:44.424Z"
   },
   {
    "duration": 16,
    "start_time": "2022-03-08T09:14:06.176Z"
   },
   {
    "duration": 25,
    "start_time": "2022-03-08T09:16:01.431Z"
   },
   {
    "duration": 15,
    "start_time": "2022-03-08T09:16:15.246Z"
   },
   {
    "duration": 19,
    "start_time": "2022-03-08T09:48:55.600Z"
   },
   {
    "duration": 12,
    "start_time": "2022-03-08T09:49:12.763Z"
   },
   {
    "duration": 5,
    "start_time": "2022-03-08T09:52:39.123Z"
   },
   {
    "duration": 13,
    "start_time": "2022-03-08T09:52:55.256Z"
   },
   {
    "duration": 12,
    "start_time": "2022-03-08T09:53:07.797Z"
   },
   {
    "duration": 3,
    "start_time": "2022-03-08T10:18:32.058Z"
   },
   {
    "duration": 7,
    "start_time": "2022-03-08T10:18:32.063Z"
   },
   {
    "duration": 161,
    "start_time": "2022-03-08T10:18:32.072Z"
   },
   {
    "duration": 139,
    "start_time": "2022-03-08T10:18:32.236Z"
   },
   {
    "duration": 91,
    "start_time": "2022-03-08T10:18:32.377Z"
   },
   {
    "duration": 12,
    "start_time": "2022-03-08T10:18:32.470Z"
   },
   {
    "duration": 39,
    "start_time": "2022-03-08T10:18:32.484Z"
   },
   {
    "duration": 17,
    "start_time": "2022-03-08T10:18:32.525Z"
   },
   {
    "duration": 31,
    "start_time": "2022-03-08T10:18:32.545Z"
   },
   {
    "duration": 33,
    "start_time": "2022-03-08T10:18:32.578Z"
   },
   {
    "duration": 17,
    "start_time": "2022-03-08T10:18:32.613Z"
   },
   {
    "duration": 14,
    "start_time": "2022-03-08T10:18:32.632Z"
   },
   {
    "duration": 24,
    "start_time": "2022-03-08T10:18:32.649Z"
   },
   {
    "duration": 45,
    "start_time": "2022-03-08T10:18:32.675Z"
   },
   {
    "duration": 14,
    "start_time": "2022-03-08T10:18:32.722Z"
   },
   {
    "duration": 8,
    "start_time": "2022-03-08T10:18:32.738Z"
   },
   {
    "duration": 28,
    "start_time": "2022-03-08T10:18:32.748Z"
   },
   {
    "duration": 40,
    "start_time": "2022-03-08T10:18:32.778Z"
   },
   {
    "duration": 12,
    "start_time": "2022-03-08T10:18:32.820Z"
   },
   {
    "duration": 13,
    "start_time": "2022-03-08T10:18:32.834Z"
   },
   {
    "duration": 25,
    "start_time": "2022-03-08T10:18:32.849Z"
   },
   {
    "duration": 19,
    "start_time": "2022-03-08T10:18:32.876Z"
   },
   {
    "duration": 16,
    "start_time": "2022-03-08T10:18:32.901Z"
   },
   {
    "duration": 17,
    "start_time": "2022-03-08T10:18:32.919Z"
   },
   {
    "duration": 25,
    "start_time": "2022-03-08T10:18:32.938Z"
   },
   {
    "duration": 14,
    "start_time": "2022-03-08T10:18:32.966Z"
   },
   {
    "duration": 24,
    "start_time": "2022-03-08T10:18:32.985Z"
   },
   {
    "duration": 7,
    "start_time": "2022-03-08T10:18:33.012Z"
   },
   {
    "duration": 16,
    "start_time": "2022-03-08T10:18:33.021Z"
   },
   {
    "duration": 4684,
    "start_time": "2022-03-08T10:18:33.039Z"
   },
   {
    "duration": 203,
    "start_time": "2022-03-08T10:25:02.810Z"
   },
   {
    "duration": 28,
    "start_time": "2022-03-08T10:25:25.234Z"
   },
   {
    "duration": 175,
    "start_time": "2022-03-08T10:26:13.786Z"
   },
   {
    "duration": 176,
    "start_time": "2022-03-08T10:27:26.058Z"
   },
   {
    "duration": 179,
    "start_time": "2022-03-08T10:28:20.218Z"
   },
   {
    "duration": 252,
    "start_time": "2022-03-08T10:29:54.193Z"
   },
   {
    "duration": 176,
    "start_time": "2022-03-08T10:31:20.671Z"
   },
   {
    "duration": 32,
    "start_time": "2022-03-08T10:32:38.880Z"
   },
   {
    "duration": 177,
    "start_time": "2022-03-08T10:36:06.405Z"
   },
   {
    "duration": 3,
    "start_time": "2022-03-08T10:36:46.286Z"
   },
   {
    "duration": 6,
    "start_time": "2022-03-08T10:36:46.291Z"
   },
   {
    "duration": 161,
    "start_time": "2022-03-08T10:36:46.299Z"
   },
   {
    "duration": 141,
    "start_time": "2022-03-08T10:36:46.462Z"
   },
   {
    "duration": 88,
    "start_time": "2022-03-08T10:36:46.604Z"
   },
   {
    "duration": 11,
    "start_time": "2022-03-08T10:36:46.694Z"
   },
   {
    "duration": 18,
    "start_time": "2022-03-08T10:36:46.708Z"
   },
   {
    "duration": 10,
    "start_time": "2022-03-08T10:36:46.728Z"
   },
   {
    "duration": 25,
    "start_time": "2022-03-08T10:36:46.740Z"
   },
   {
    "duration": 47,
    "start_time": "2022-03-08T10:36:46.767Z"
   },
   {
    "duration": 17,
    "start_time": "2022-03-08T10:36:46.816Z"
   },
   {
    "duration": 13,
    "start_time": "2022-03-08T10:36:46.835Z"
   },
   {
    "duration": 22,
    "start_time": "2022-03-08T10:36:46.850Z"
   },
   {
    "duration": 51,
    "start_time": "2022-03-08T10:36:46.874Z"
   },
   {
    "duration": 14,
    "start_time": "2022-03-08T10:36:46.928Z"
   },
   {
    "duration": 9,
    "start_time": "2022-03-08T10:36:46.943Z"
   },
   {
    "duration": 20,
    "start_time": "2022-03-08T10:36:46.953Z"
   },
   {
    "duration": 42,
    "start_time": "2022-03-08T10:36:46.975Z"
   },
   {
    "duration": 12,
    "start_time": "2022-03-08T10:36:47.019Z"
   },
   {
    "duration": 9,
    "start_time": "2022-03-08T10:36:47.033Z"
   },
   {
    "duration": 9,
    "start_time": "2022-03-08T10:36:47.045Z"
   },
   {
    "duration": 46,
    "start_time": "2022-03-08T10:36:47.056Z"
   },
   {
    "duration": 7,
    "start_time": "2022-03-08T10:36:47.105Z"
   },
   {
    "duration": 6,
    "start_time": "2022-03-08T10:36:47.115Z"
   },
   {
    "duration": 19,
    "start_time": "2022-03-08T10:36:47.123Z"
   },
   {
    "duration": 15,
    "start_time": "2022-03-08T10:36:47.144Z"
   },
   {
    "duration": 46,
    "start_time": "2022-03-08T10:36:47.164Z"
   },
   {
    "duration": 6,
    "start_time": "2022-03-08T10:36:47.212Z"
   },
   {
    "duration": 12,
    "start_time": "2022-03-08T10:36:47.220Z"
   },
   {
    "duration": 34,
    "start_time": "2022-03-08T10:36:47.234Z"
   },
   {
    "duration": 173,
    "start_time": "2022-03-08T10:36:47.270Z"
   },
   {
    "duration": 179,
    "start_time": "2022-03-08T10:40:22.242Z"
   },
   {
    "duration": 300,
    "start_time": "2022-03-08T13:59:48.925Z"
   },
   {
    "duration": 423,
    "start_time": "2022-03-08T13:59:52.599Z"
   },
   {
    "duration": 252,
    "start_time": "2022-03-08T14:02:38.366Z"
   },
   {
    "duration": 339,
    "start_time": "2022-03-08T14:03:23.629Z"
   },
   {
    "duration": 575,
    "start_time": "2022-03-08T14:04:07.566Z"
   },
   {
    "duration": 73,
    "start_time": "2022-03-08T14:04:08.143Z"
   },
   {
    "duration": 141,
    "start_time": "2022-03-08T14:04:08.218Z"
   },
   {
    "duration": 117,
    "start_time": "2022-03-08T14:04:08.361Z"
   },
   {
    "duration": 82,
    "start_time": "2022-03-08T14:04:08.479Z"
   },
   {
    "duration": 17,
    "start_time": "2022-03-08T14:04:08.562Z"
   },
   {
    "duration": 63,
    "start_time": "2022-03-08T14:04:08.580Z"
   },
   {
    "duration": 11,
    "start_time": "2022-03-08T14:04:08.645Z"
   },
   {
    "duration": 19,
    "start_time": "2022-03-08T14:04:08.660Z"
   },
   {
    "duration": 28,
    "start_time": "2022-03-08T14:04:08.682Z"
   },
   {
    "duration": 14,
    "start_time": "2022-03-08T14:04:08.712Z"
   },
   {
    "duration": 8,
    "start_time": "2022-03-08T14:04:08.728Z"
   },
   {
    "duration": 16,
    "start_time": "2022-03-08T14:04:08.738Z"
   },
   {
    "duration": 46,
    "start_time": "2022-03-08T14:04:08.755Z"
   },
   {
    "duration": 11,
    "start_time": "2022-03-08T14:04:08.803Z"
   },
   {
    "duration": 6,
    "start_time": "2022-03-08T14:04:08.815Z"
   },
   {
    "duration": 13,
    "start_time": "2022-03-08T14:04:08.822Z"
   },
   {
    "duration": 16,
    "start_time": "2022-03-08T14:04:08.837Z"
   },
   {
    "duration": 9,
    "start_time": "2022-03-08T14:04:08.854Z"
   },
   {
    "duration": 37,
    "start_time": "2022-03-08T14:04:08.865Z"
   },
   {
    "duration": 6,
    "start_time": "2022-03-08T14:04:08.904Z"
   },
   {
    "duration": 10,
    "start_time": "2022-03-08T14:04:08.911Z"
   },
   {
    "duration": 6,
    "start_time": "2022-03-08T14:04:08.922Z"
   },
   {
    "duration": 4,
    "start_time": "2022-03-08T14:04:08.930Z"
   },
   {
    "duration": 14,
    "start_time": "2022-03-08T14:04:08.935Z"
   },
   {
    "duration": 10,
    "start_time": "2022-03-08T14:04:08.950Z"
   },
   {
    "duration": 43,
    "start_time": "2022-03-08T14:04:08.963Z"
   },
   {
    "duration": 5,
    "start_time": "2022-03-08T14:04:09.008Z"
   },
   {
    "duration": 6,
    "start_time": "2022-03-08T14:04:09.015Z"
   },
   {
    "duration": 29,
    "start_time": "2022-03-08T14:04:09.022Z"
   },
   {
    "duration": 134,
    "start_time": "2022-03-08T14:04:09.053Z"
   },
   {
    "duration": 314,
    "start_time": "2022-03-08T14:04:35.625Z"
   },
   {
    "duration": 275,
    "start_time": "2022-03-08T14:23:34.965Z"
   },
   {
    "duration": 169,
    "start_time": "2022-03-08T14:23:48.298Z"
   },
   {
    "duration": 267,
    "start_time": "2022-03-08T14:28:21.561Z"
   },
   {
    "duration": 216,
    "start_time": "2022-03-08T14:34:56.483Z"
   },
   {
    "duration": 26,
    "start_time": "2022-03-08T14:35:57.528Z"
   },
   {
    "duration": 5,
    "start_time": "2022-03-08T14:38:29.642Z"
   },
   {
    "duration": 4,
    "start_time": "2022-03-08T14:38:59.316Z"
   },
   {
    "duration": 5,
    "start_time": "2022-03-08T14:39:16.808Z"
   },
   {
    "duration": 275,
    "start_time": "2022-03-08T14:39:58.505Z"
   },
   {
    "duration": 10,
    "start_time": "2022-03-08T14:40:48.070Z"
   },
   {
    "duration": 24,
    "start_time": "2022-03-08T14:43:00.081Z"
   },
   {
    "duration": 12,
    "start_time": "2022-03-08T14:45:06.255Z"
   },
   {
    "duration": 19,
    "start_time": "2022-03-08T14:45:16.974Z"
   },
   {
    "duration": 246,
    "start_time": "2022-03-08T14:48:05.102Z"
   },
   {
    "duration": 22,
    "start_time": "2022-03-08T14:48:51.320Z"
   },
   {
    "duration": 254,
    "start_time": "2022-03-08T14:51:40.376Z"
   },
   {
    "duration": 20,
    "start_time": "2022-03-08T14:51:53.612Z"
   },
   {
    "duration": 246,
    "start_time": "2022-03-08T14:53:46.063Z"
   },
   {
    "duration": 279,
    "start_time": "2022-03-08T14:56:31.165Z"
   },
   {
    "duration": 279,
    "start_time": "2022-03-08T14:56:36.700Z"
   },
   {
    "duration": 11,
    "start_time": "2022-03-08T14:58:53.968Z"
   },
   {
    "duration": 10,
    "start_time": "2022-03-08T14:59:14.398Z"
   },
   {
    "duration": 27,
    "start_time": "2022-03-08T15:04:30.441Z"
   },
   {
    "duration": 21,
    "start_time": "2022-03-08T15:06:19.128Z"
   },
   {
    "duration": 601,
    "start_time": "2022-03-09T08:49:57.304Z"
   },
   {
    "duration": 66,
    "start_time": "2022-03-09T08:49:57.906Z"
   },
   {
    "duration": 145,
    "start_time": "2022-03-09T08:49:57.973Z"
   },
   {
    "duration": 112,
    "start_time": "2022-03-09T08:49:58.120Z"
   },
   {
    "duration": 75,
    "start_time": "2022-03-09T08:49:58.233Z"
   },
   {
    "duration": 17,
    "start_time": "2022-03-09T08:49:58.309Z"
   },
   {
    "duration": 33,
    "start_time": "2022-03-09T08:49:58.327Z"
   },
   {
    "duration": 11,
    "start_time": "2022-03-09T08:49:58.363Z"
   },
   {
    "duration": 12,
    "start_time": "2022-03-09T08:49:58.375Z"
   },
   {
    "duration": 18,
    "start_time": "2022-03-09T08:49:58.389Z"
   },
   {
    "duration": 28,
    "start_time": "2022-03-09T08:49:58.408Z"
   },
   {
    "duration": 12,
    "start_time": "2022-03-09T08:49:58.438Z"
   },
   {
    "duration": 8,
    "start_time": "2022-03-09T08:49:58.451Z"
   },
   {
    "duration": 17,
    "start_time": "2022-03-09T08:49:58.460Z"
   },
   {
    "duration": 39,
    "start_time": "2022-03-09T08:49:58.479Z"
   },
   {
    "duration": 12,
    "start_time": "2022-03-09T08:49:58.519Z"
   },
   {
    "duration": 7,
    "start_time": "2022-03-09T08:49:58.532Z"
   },
   {
    "duration": 14,
    "start_time": "2022-03-09T08:49:58.541Z"
   },
   {
    "duration": 18,
    "start_time": "2022-03-09T08:49:58.556Z"
   },
   {
    "duration": 37,
    "start_time": "2022-03-09T08:49:58.575Z"
   },
   {
    "duration": 8,
    "start_time": "2022-03-09T08:49:58.613Z"
   },
   {
    "duration": 8,
    "start_time": "2022-03-09T08:49:58.623Z"
   },
   {
    "duration": 11,
    "start_time": "2022-03-09T08:49:58.633Z"
   },
   {
    "duration": 5,
    "start_time": "2022-03-09T08:49:58.646Z"
   },
   {
    "duration": 4,
    "start_time": "2022-03-09T08:49:58.653Z"
   },
   {
    "duration": 13,
    "start_time": "2022-03-09T08:49:58.659Z"
   },
   {
    "duration": 44,
    "start_time": "2022-03-09T08:49:58.674Z"
   },
   {
    "duration": 9,
    "start_time": "2022-03-09T08:49:58.720Z"
   },
   {
    "duration": 5,
    "start_time": "2022-03-09T08:49:58.730Z"
   },
   {
    "duration": 7,
    "start_time": "2022-03-09T08:49:58.736Z"
   },
   {
    "duration": 32,
    "start_time": "2022-03-09T08:49:58.744Z"
   },
   {
    "duration": 62,
    "start_time": "2022-03-09T08:49:58.777Z"
   },
   {
    "duration": 24,
    "start_time": "2022-03-09T08:49:58.840Z"
   },
   {
    "duration": 18,
    "start_time": "2022-03-09T08:49:58.866Z"
   },
   {
    "duration": 43,
    "start_time": "2022-03-09T08:49:58.885Z"
   },
   {
    "duration": 19,
    "start_time": "2022-03-09T08:49:58.930Z"
   },
   {
    "duration": 20,
    "start_time": "2022-03-09T08:49:58.951Z"
   },
   {
    "duration": 302,
    "start_time": "2022-03-09T08:54:18.515Z"
   },
   {
    "duration": 318,
    "start_time": "2022-03-09T08:58:09.037Z"
   },
   {
    "duration": 247,
    "start_time": "2022-03-09T09:03:06.119Z"
   },
   {
    "duration": 13,
    "start_time": "2022-03-09T09:05:18.905Z"
   },
   {
    "duration": 159,
    "start_time": "2022-03-09T09:08:30.543Z"
   },
   {
    "duration": 2486,
    "start_time": "2022-03-09T09:10:00.964Z"
   },
   {
    "duration": 1405,
    "start_time": "2022-03-09T09:13:42.409Z"
   },
   {
    "duration": 278,
    "start_time": "2022-03-09T09:14:17.909Z"
   },
   {
    "duration": 562,
    "start_time": "2022-03-09T09:14:32.814Z"
   },
   {
    "duration": 166,
    "start_time": "2022-03-09T09:14:33.378Z"
   },
   {
    "duration": 142,
    "start_time": "2022-03-09T09:14:33.546Z"
   },
   {
    "duration": 109,
    "start_time": "2022-03-09T09:14:33.690Z"
   },
   {
    "duration": 75,
    "start_time": "2022-03-09T09:14:33.801Z"
   },
   {
    "duration": 16,
    "start_time": "2022-03-09T09:14:33.878Z"
   },
   {
    "duration": 73,
    "start_time": "2022-03-09T09:14:33.896Z"
   },
   {
    "duration": 10,
    "start_time": "2022-03-09T09:14:33.971Z"
   },
   {
    "duration": 11,
    "start_time": "2022-03-09T09:14:33.982Z"
   },
   {
    "duration": 17,
    "start_time": "2022-03-09T09:14:33.995Z"
   },
   {
    "duration": 26,
    "start_time": "2022-03-09T09:14:34.014Z"
   },
   {
    "duration": 12,
    "start_time": "2022-03-09T09:14:34.042Z"
   },
   {
    "duration": 7,
    "start_time": "2022-03-09T09:14:34.055Z"
   },
   {
    "duration": 15,
    "start_time": "2022-03-09T09:14:34.064Z"
   },
   {
    "duration": 39,
    "start_time": "2022-03-09T09:14:34.081Z"
   },
   {
    "duration": 11,
    "start_time": "2022-03-09T09:14:34.121Z"
   },
   {
    "duration": 6,
    "start_time": "2022-03-09T09:14:34.133Z"
   },
   {
    "duration": 13,
    "start_time": "2022-03-09T09:14:34.141Z"
   },
   {
    "duration": 15,
    "start_time": "2022-03-09T09:14:34.155Z"
   },
   {
    "duration": 33,
    "start_time": "2022-03-09T09:14:34.172Z"
   },
   {
    "duration": 6,
    "start_time": "2022-03-09T09:14:34.207Z"
   },
   {
    "duration": 6,
    "start_time": "2022-03-09T09:14:34.215Z"
   },
   {
    "duration": 9,
    "start_time": "2022-03-09T09:14:34.224Z"
   },
   {
    "duration": 9,
    "start_time": "2022-03-09T09:14:34.234Z"
   },
   {
    "duration": 6,
    "start_time": "2022-03-09T09:14:34.244Z"
   },
   {
    "duration": 13,
    "start_time": "2022-03-09T09:14:34.251Z"
   },
   {
    "duration": 10,
    "start_time": "2022-03-09T09:14:34.265Z"
   },
   {
    "duration": 36,
    "start_time": "2022-03-09T09:14:34.276Z"
   },
   {
    "duration": 4,
    "start_time": "2022-03-09T09:14:34.313Z"
   },
   {
    "duration": 6,
    "start_time": "2022-03-09T09:14:34.318Z"
   },
   {
    "duration": 28,
    "start_time": "2022-03-09T09:14:34.326Z"
   },
   {
    "duration": 50,
    "start_time": "2022-03-09T09:14:34.356Z"
   },
   {
    "duration": 157,
    "start_time": "2022-03-09T09:14:34.408Z"
   },
   {
    "duration": 110,
    "start_time": "2022-03-09T09:14:34.567Z"
   },
   {
    "duration": 1434,
    "start_time": "2022-03-09T09:14:34.678Z"
   },
   {
    "duration": 17,
    "start_time": "2022-03-09T09:14:36.113Z"
   },
   {
    "duration": 24,
    "start_time": "2022-03-09T09:14:36.132Z"
   },
   {
    "duration": 22,
    "start_time": "2022-03-09T09:14:36.157Z"
   },
   {
    "duration": 41,
    "start_time": "2022-03-09T09:14:36.180Z"
   },
   {
    "duration": 279,
    "start_time": "2022-03-09T09:15:23.563Z"
   },
   {
    "duration": 572,
    "start_time": "2022-03-09T09:17:27.991Z"
   },
   {
    "duration": 70,
    "start_time": "2022-03-09T09:17:28.564Z"
   },
   {
    "duration": 131,
    "start_time": "2022-03-09T09:17:28.636Z"
   },
   {
    "duration": 106,
    "start_time": "2022-03-09T09:17:28.769Z"
   },
   {
    "duration": 74,
    "start_time": "2022-03-09T09:17:28.877Z"
   },
   {
    "duration": 16,
    "start_time": "2022-03-09T09:17:28.953Z"
   },
   {
    "duration": 75,
    "start_time": "2022-03-09T09:17:28.971Z"
   },
   {
    "duration": 10,
    "start_time": "2022-03-09T09:17:29.048Z"
   },
   {
    "duration": 10,
    "start_time": "2022-03-09T09:17:29.059Z"
   },
   {
    "duration": 19,
    "start_time": "2022-03-09T09:17:29.070Z"
   },
   {
    "duration": 26,
    "start_time": "2022-03-09T09:17:29.091Z"
   },
   {
    "duration": 13,
    "start_time": "2022-03-09T09:17:29.119Z"
   },
   {
    "duration": 8,
    "start_time": "2022-03-09T09:17:29.134Z"
   },
   {
    "duration": 16,
    "start_time": "2022-03-09T09:17:29.143Z"
   },
   {
    "duration": 20,
    "start_time": "2022-03-09T09:17:29.160Z"
   },
   {
    "duration": 32,
    "start_time": "2022-03-09T09:17:29.182Z"
   },
   {
    "duration": 7,
    "start_time": "2022-03-09T09:17:29.215Z"
   },
   {
    "duration": 14,
    "start_time": "2022-03-09T09:17:29.224Z"
   },
   {
    "duration": 16,
    "start_time": "2022-03-09T09:17:29.239Z"
   },
   {
    "duration": 10,
    "start_time": "2022-03-09T09:17:29.256Z"
   },
   {
    "duration": 38,
    "start_time": "2022-03-09T09:17:29.267Z"
   },
   {
    "duration": 7,
    "start_time": "2022-03-09T09:17:29.306Z"
   },
   {
    "duration": 9,
    "start_time": "2022-03-09T09:17:29.317Z"
   },
   {
    "duration": 6,
    "start_time": "2022-03-09T09:17:29.328Z"
   },
   {
    "duration": 5,
    "start_time": "2022-03-09T09:17:29.335Z"
   },
   {
    "duration": 13,
    "start_time": "2022-03-09T09:17:29.342Z"
   },
   {
    "duration": 10,
    "start_time": "2022-03-09T09:17:29.356Z"
   },
   {
    "duration": 41,
    "start_time": "2022-03-09T09:17:29.367Z"
   },
   {
    "duration": 4,
    "start_time": "2022-03-09T09:17:29.410Z"
   },
   {
    "duration": 6,
    "start_time": "2022-03-09T09:17:29.415Z"
   },
   {
    "duration": 26,
    "start_time": "2022-03-09T09:17:29.422Z"
   },
   {
    "duration": 57,
    "start_time": "2022-03-09T09:17:29.449Z"
   },
   {
    "duration": 158,
    "start_time": "2022-03-09T09:17:29.507Z"
   },
   {
    "duration": 109,
    "start_time": "2022-03-09T09:17:29.666Z"
   },
   {
    "duration": 1406,
    "start_time": "2022-03-09T09:17:29.777Z"
   },
   {
    "duration": 26,
    "start_time": "2022-03-09T09:17:31.184Z"
   },
   {
    "duration": 20,
    "start_time": "2022-03-09T09:17:31.211Z"
   },
   {
    "duration": 76,
    "start_time": "2022-03-09T09:17:31.232Z"
   },
   {
    "duration": -737,
    "start_time": "2022-03-09T09:17:32.047Z"
   },
   {
    "duration": -738,
    "start_time": "2022-03-09T09:17:32.049Z"
   },
   {
    "duration": -738,
    "start_time": "2022-03-09T09:17:32.050Z"
   },
   {
    "duration": -739,
    "start_time": "2022-03-09T09:17:32.052Z"
   },
   {
    "duration": 58,
    "start_time": "2022-03-09T09:18:20.222Z"
   },
   {
    "duration": 384,
    "start_time": "2022-03-09T09:19:21.401Z"
   },
   {
    "duration": 244,
    "start_time": "2022-03-09T09:19:35.597Z"
   },
   {
    "duration": 22,
    "start_time": "2022-03-09T09:19:38.429Z"
   },
   {
    "duration": 20,
    "start_time": "2022-03-09T09:19:44.191Z"
   },
   {
    "duration": 121,
    "start_time": "2022-03-09T09:19:47.790Z"
   },
   {
    "duration": 312,
    "start_time": "2022-03-09T09:20:44.593Z"
   },
   {
    "duration": 304,
    "start_time": "2022-03-09T09:20:53.493Z"
   },
   {
    "duration": 542,
    "start_time": "2022-03-09T09:20:56.949Z"
   },
   {
    "duration": 73,
    "start_time": "2022-03-09T09:20:58.978Z"
   },
   {
    "duration": 139,
    "start_time": "2022-03-09T09:21:01.692Z"
   },
   {
    "duration": 123,
    "start_time": "2022-03-09T09:21:04.245Z"
   },
   {
    "duration": 83,
    "start_time": "2022-03-09T09:21:06.909Z"
   },
   {
    "duration": 17,
    "start_time": "2022-03-09T09:21:09.538Z"
   },
   {
    "duration": 72,
    "start_time": "2022-03-09T09:21:12.781Z"
   },
   {
    "duration": 13,
    "start_time": "2022-03-09T09:21:17.105Z"
   },
   {
    "duration": 19,
    "start_time": "2022-03-09T09:21:19.687Z"
   },
   {
    "duration": 28,
    "start_time": "2022-03-09T09:21:22.597Z"
   },
   {
    "duration": 13,
    "start_time": "2022-03-09T09:21:25.728Z"
   },
   {
    "duration": 9,
    "start_time": "2022-03-09T09:21:28.874Z"
   },
   {
    "duration": 15,
    "start_time": "2022-03-09T09:21:31.896Z"
   },
   {
    "duration": 19,
    "start_time": "2022-03-09T09:21:35.065Z"
   },
   {
    "duration": 11,
    "start_time": "2022-03-09T09:21:37.633Z"
   },
   {
    "duration": 6,
    "start_time": "2022-03-09T09:21:39.756Z"
   },
   {
    "duration": 13,
    "start_time": "2022-03-09T09:21:42.605Z"
   },
   {
    "duration": 17,
    "start_time": "2022-03-09T09:21:46.161Z"
   },
   {
    "duration": 11,
    "start_time": "2022-03-09T09:21:48.925Z"
   },
   {
    "duration": 7,
    "start_time": "2022-03-09T09:21:51.740Z"
   },
   {
    "duration": 6,
    "start_time": "2022-03-09T09:21:55.892Z"
   },
   {
    "duration": 10,
    "start_time": "2022-03-09T09:21:58.356Z"
   },
   {
    "duration": 6,
    "start_time": "2022-03-09T09:22:01.240Z"
   },
   {
    "duration": 4,
    "start_time": "2022-03-09T09:22:04.434Z"
   },
   {
    "duration": 14,
    "start_time": "2022-03-09T09:22:06.895Z"
   },
   {
    "duration": 10,
    "start_time": "2022-03-09T09:22:09.692Z"
   },
   {
    "duration": 11,
    "start_time": "2022-03-09T09:22:12.188Z"
   },
   {
    "duration": 5,
    "start_time": "2022-03-09T09:22:14.912Z"
   },
   {
    "duration": 6,
    "start_time": "2022-03-09T09:22:17.723Z"
   },
   {
    "duration": 26,
    "start_time": "2022-03-09T09:22:21.154Z"
   },
   {
    "duration": 30,
    "start_time": "2022-03-09T09:22:23.713Z"
   },
   {
    "duration": 172,
    "start_time": "2022-03-09T09:22:26.980Z"
   },
   {
    "duration": 102,
    "start_time": "2022-03-09T09:22:30.359Z"
   },
   {
    "duration": 1393,
    "start_time": "2022-03-09T09:22:33.290Z"
   },
   {
    "duration": 18,
    "start_time": "2022-03-09T09:22:37.846Z"
   },
   {
    "duration": 20,
    "start_time": "2022-03-09T09:22:41.649Z"
   },
   {
    "duration": 60,
    "start_time": "2022-03-09T09:22:44.681Z"
   },
   {
    "duration": 20,
    "start_time": "2022-03-09T09:22:47.014Z"
   },
   {
    "duration": 19,
    "start_time": "2022-03-09T09:22:49.341Z"
   },
   {
    "duration": 126,
    "start_time": "2022-03-09T09:22:53.702Z"
   },
   {
    "duration": 374,
    "start_time": "2022-03-09T09:22:56.345Z"
   },
   {
    "duration": 2510,
    "start_time": "2022-03-09T09:23:48.094Z"
   },
   {
    "duration": 1155,
    "start_time": "2022-03-09T09:24:38.624Z"
   },
   {
    "duration": 1538,
    "start_time": "2022-03-09T09:26:55.431Z"
   },
   {
    "duration": 553,
    "start_time": "2022-03-09T09:28:10.367Z"
   },
   {
    "duration": 64,
    "start_time": "2022-03-09T09:28:10.922Z"
   },
   {
    "duration": 132,
    "start_time": "2022-03-09T09:28:10.987Z"
   },
   {
    "duration": 107,
    "start_time": "2022-03-09T09:28:11.121Z"
   },
   {
    "duration": 74,
    "start_time": "2022-03-09T09:28:11.230Z"
   },
   {
    "duration": 17,
    "start_time": "2022-03-09T09:28:11.306Z"
   },
   {
    "duration": 75,
    "start_time": "2022-03-09T09:28:11.324Z"
   },
   {
    "duration": 10,
    "start_time": "2022-03-09T09:28:11.400Z"
   },
   {
    "duration": 9,
    "start_time": "2022-03-09T09:28:11.413Z"
   },
   {
    "duration": 17,
    "start_time": "2022-03-09T09:28:11.424Z"
   },
   {
    "duration": 24,
    "start_time": "2022-03-09T09:28:11.443Z"
   },
   {
    "duration": 12,
    "start_time": "2022-03-09T09:28:11.469Z"
   },
   {
    "duration": 29,
    "start_time": "2022-03-09T09:28:11.482Z"
   },
   {
    "duration": 24,
    "start_time": "2022-03-09T09:28:11.512Z"
   },
   {
    "duration": 19,
    "start_time": "2022-03-09T09:28:11.537Z"
   },
   {
    "duration": 11,
    "start_time": "2022-03-09T09:28:11.557Z"
   },
   {
    "duration": 7,
    "start_time": "2022-03-09T09:28:11.570Z"
   },
   {
    "duration": 29,
    "start_time": "2022-03-09T09:28:11.579Z"
   },
   {
    "duration": 15,
    "start_time": "2022-03-09T09:28:11.610Z"
   },
   {
    "duration": 8,
    "start_time": "2022-03-09T09:28:11.626Z"
   },
   {
    "duration": 6,
    "start_time": "2022-03-09T09:28:11.636Z"
   },
   {
    "duration": 6,
    "start_time": "2022-03-09T09:28:11.644Z"
   },
   {
    "duration": 10,
    "start_time": "2022-03-09T09:28:11.652Z"
   },
   {
    "duration": 6,
    "start_time": "2022-03-09T09:28:11.663Z"
   },
   {
    "duration": 35,
    "start_time": "2022-03-09T09:28:11.671Z"
   },
   {
    "duration": 13,
    "start_time": "2022-03-09T09:28:11.707Z"
   },
   {
    "duration": 9,
    "start_time": "2022-03-09T09:28:11.723Z"
   },
   {
    "duration": 9,
    "start_time": "2022-03-09T09:28:11.734Z"
   },
   {
    "duration": 12,
    "start_time": "2022-03-09T09:28:11.744Z"
   },
   {
    "duration": 8,
    "start_time": "2022-03-09T09:28:11.758Z"
   },
   {
    "duration": 43,
    "start_time": "2022-03-09T09:28:11.767Z"
   },
   {
    "duration": 32,
    "start_time": "2022-03-09T09:28:11.812Z"
   },
   {
    "duration": 164,
    "start_time": "2022-03-09T09:28:11.845Z"
   },
   {
    "duration": 111,
    "start_time": "2022-03-09T09:28:12.011Z"
   },
   {
    "duration": 1400,
    "start_time": "2022-03-09T09:28:12.124Z"
   },
   {
    "duration": 17,
    "start_time": "2022-03-09T09:28:13.526Z"
   },
   {
    "duration": 20,
    "start_time": "2022-03-09T09:28:13.545Z"
   },
   {
    "duration": 76,
    "start_time": "2022-03-09T09:28:13.566Z"
   },
   {
    "duration": 20,
    "start_time": "2022-03-09T09:28:13.644Z"
   },
   {
    "duration": 18,
    "start_time": "2022-03-09T09:28:13.665Z"
   },
   {
    "duration": 144,
    "start_time": "2022-03-09T09:28:13.684Z"
   },
   {
    "duration": 389,
    "start_time": "2022-03-09T09:28:13.829Z"
   },
   {
    "duration": 266,
    "start_time": "2022-03-09T09:29:47.929Z"
   },
   {
    "duration": 262,
    "start_time": "2022-03-09T09:31:44.909Z"
   },
   {
    "duration": 65,
    "start_time": "2022-03-09T09:37:00.483Z"
   },
   {
    "duration": 137,
    "start_time": "2022-03-09T09:37:00.549Z"
   },
   {
    "duration": 112,
    "start_time": "2022-03-09T09:37:00.688Z"
   },
   {
    "duration": 77,
    "start_time": "2022-03-09T09:37:00.801Z"
   },
   {
    "duration": 17,
    "start_time": "2022-03-09T09:37:00.879Z"
   },
   {
    "duration": 63,
    "start_time": "2022-03-09T09:37:00.897Z"
   },
   {
    "duration": 24,
    "start_time": "2022-03-09T09:37:00.962Z"
   },
   {
    "duration": 15,
    "start_time": "2022-03-09T09:37:00.988Z"
   },
   {
    "duration": 23,
    "start_time": "2022-03-09T09:37:01.005Z"
   },
   {
    "duration": 34,
    "start_time": "2022-03-09T09:37:01.030Z"
   },
   {
    "duration": 12,
    "start_time": "2022-03-09T09:37:01.066Z"
   },
   {
    "duration": 19,
    "start_time": "2022-03-09T09:37:01.079Z"
   },
   {
    "duration": 28,
    "start_time": "2022-03-09T09:37:01.100Z"
   },
   {
    "duration": 26,
    "start_time": "2022-03-09T09:37:01.129Z"
   },
   {
    "duration": 11,
    "start_time": "2022-03-09T09:37:01.156Z"
   },
   {
    "duration": 6,
    "start_time": "2022-03-09T09:37:01.169Z"
   },
   {
    "duration": 17,
    "start_time": "2022-03-09T09:37:01.176Z"
   },
   {
    "duration": 22,
    "start_time": "2022-03-09T09:37:01.195Z"
   },
   {
    "duration": 9,
    "start_time": "2022-03-09T09:37:01.219Z"
   },
   {
    "duration": 9,
    "start_time": "2022-03-09T09:37:01.229Z"
   },
   {
    "duration": 13,
    "start_time": "2022-03-09T09:37:01.239Z"
   },
   {
    "duration": 15,
    "start_time": "2022-03-09T09:37:01.253Z"
   },
   {
    "duration": 14,
    "start_time": "2022-03-09T09:37:01.270Z"
   },
   {
    "duration": 18,
    "start_time": "2022-03-09T09:37:01.286Z"
   },
   {
    "duration": 35,
    "start_time": "2022-03-09T09:37:01.305Z"
   },
   {
    "duration": 11,
    "start_time": "2022-03-09T09:37:01.343Z"
   },
   {
    "duration": 11,
    "start_time": "2022-03-09T09:37:01.356Z"
   },
   {
    "duration": 7,
    "start_time": "2022-03-09T09:37:01.369Z"
   },
   {
    "duration": 12,
    "start_time": "2022-03-09T09:37:01.378Z"
   },
   {
    "duration": 32,
    "start_time": "2022-03-09T09:37:01.392Z"
   },
   {
    "duration": 35,
    "start_time": "2022-03-09T09:37:01.426Z"
   },
   {
    "duration": 174,
    "start_time": "2022-03-09T09:37:01.463Z"
   },
   {
    "duration": 108,
    "start_time": "2022-03-09T09:37:01.639Z"
   },
   {
    "duration": 1424,
    "start_time": "2022-03-09T09:37:01.748Z"
   },
   {
    "duration": 16,
    "start_time": "2022-03-09T09:37:03.173Z"
   },
   {
    "duration": 30,
    "start_time": "2022-03-09T09:37:03.191Z"
   },
   {
    "duration": 56,
    "start_time": "2022-03-09T09:37:03.222Z"
   },
   {
    "duration": 32,
    "start_time": "2022-03-09T09:37:03.279Z"
   },
   {
    "duration": 18,
    "start_time": "2022-03-09T09:37:03.313Z"
   },
   {
    "duration": 135,
    "start_time": "2022-03-09T09:37:03.332Z"
   },
   {
    "duration": 386,
    "start_time": "2022-03-09T09:37:03.468Z"
   },
   {
    "duration": 337,
    "start_time": "2022-03-09T10:18:14.661Z"
   },
   {
    "duration": 230,
    "start_time": "2022-03-09T10:18:44.147Z"
   },
   {
    "duration": 790,
    "start_time": "2022-03-09T10:35:49.422Z"
   },
   {
    "duration": 286,
    "start_time": "2022-03-09T10:49:27.480Z"
   },
   {
    "duration": 257,
    "start_time": "2022-03-09T10:49:46.888Z"
   },
   {
    "duration": 2,
    "start_time": "2022-03-09T11:14:42.566Z"
   },
   {
    "duration": 360,
    "start_time": "2022-03-09T13:51:10.211Z"
   },
   {
    "duration": 619,
    "start_time": "2022-03-09T13:51:10.632Z"
   },
   {
    "duration": 77,
    "start_time": "2022-03-09T13:51:11.253Z"
   },
   {
    "duration": 144,
    "start_time": "2022-03-09T13:51:11.332Z"
   },
   {
    "duration": 113,
    "start_time": "2022-03-09T13:51:11.478Z"
   },
   {
    "duration": 87,
    "start_time": "2022-03-09T13:51:11.592Z"
   },
   {
    "duration": 17,
    "start_time": "2022-03-09T13:51:11.681Z"
   },
   {
    "duration": 80,
    "start_time": "2022-03-09T13:51:11.700Z"
   },
   {
    "duration": 12,
    "start_time": "2022-03-09T13:51:11.782Z"
   },
   {
    "duration": 19,
    "start_time": "2022-03-09T13:51:11.797Z"
   },
   {
    "duration": 27,
    "start_time": "2022-03-09T13:51:11.818Z"
   },
   {
    "duration": 36,
    "start_time": "2022-03-09T13:51:11.847Z"
   },
   {
    "duration": 7,
    "start_time": "2022-03-09T13:51:11.884Z"
   },
   {
    "duration": 26,
    "start_time": "2022-03-09T13:51:11.893Z"
   },
   {
    "duration": 28,
    "start_time": "2022-03-09T13:51:11.921Z"
   },
   {
    "duration": 7,
    "start_time": "2022-03-09T13:51:11.950Z"
   },
   {
    "duration": 15,
    "start_time": "2022-03-09T13:51:11.958Z"
   },
   {
    "duration": 39,
    "start_time": "2022-03-09T13:51:11.975Z"
   },
   {
    "duration": 8,
    "start_time": "2022-03-09T13:51:12.015Z"
   },
   {
    "duration": 18,
    "start_time": "2022-03-09T13:51:12.024Z"
   },
   {
    "duration": 31,
    "start_time": "2022-03-09T13:51:12.044Z"
   },
   {
    "duration": 23,
    "start_time": "2022-03-09T13:51:12.077Z"
   },
   {
    "duration": 11,
    "start_time": "2022-03-09T13:51:12.102Z"
   },
   {
    "duration": 35,
    "start_time": "2022-03-09T13:51:12.114Z"
   },
   {
    "duration": 13,
    "start_time": "2022-03-09T13:51:12.151Z"
   },
   {
    "duration": 9,
    "start_time": "2022-03-09T13:51:12.166Z"
   },
   {
    "duration": 7,
    "start_time": "2022-03-09T13:51:12.177Z"
   },
   {
    "duration": 21,
    "start_time": "2022-03-09T13:51:12.187Z"
   },
   {
    "duration": 34,
    "start_time": "2022-03-09T13:51:12.210Z"
   },
   {
    "duration": 32,
    "start_time": "2022-03-09T13:51:12.246Z"
   },
   {
    "duration": 180,
    "start_time": "2022-03-09T13:51:12.280Z"
   },
   {
    "duration": 127,
    "start_time": "2022-03-09T13:51:12.462Z"
   },
   {
    "duration": 1522,
    "start_time": "2022-03-09T13:51:12.591Z"
   },
   {
    "duration": 17,
    "start_time": "2022-03-09T13:51:14.114Z"
   },
   {
    "duration": 21,
    "start_time": "2022-03-09T13:51:14.133Z"
   },
   {
    "duration": 87,
    "start_time": "2022-03-09T13:51:14.156Z"
   },
   {
    "duration": 21,
    "start_time": "2022-03-09T13:51:14.245Z"
   },
   {
    "duration": 40,
    "start_time": "2022-03-09T13:51:14.268Z"
   },
   {
    "duration": 139,
    "start_time": "2022-03-09T13:51:14.310Z"
   },
   {
    "duration": 428,
    "start_time": "2022-03-09T13:51:14.450Z"
   },
   {
    "duration": -1175,
    "start_time": "2022-03-09T13:51:16.055Z"
   },
   {
    "duration": 162,
    "start_time": "2022-03-09T13:51:25.568Z"
   },
   {
    "duration": 4,
    "start_time": "2022-03-09T14:02:46.863Z"
   },
   {
    "duration": 8,
    "start_time": "2022-03-09T14:02:56.453Z"
   },
   {
    "duration": 210,
    "start_time": "2022-03-09T14:04:21.410Z"
   },
   {
    "duration": 215,
    "start_time": "2022-03-09T14:04:51.748Z"
   },
   {
    "duration": 859,
    "start_time": "2022-03-09T14:05:30.065Z"
   },
   {
    "duration": 147,
    "start_time": "2022-03-09T14:05:56.323Z"
   },
   {
    "duration": 273,
    "start_time": "2022-03-09T14:10:40.362Z"
   },
   {
    "duration": 261,
    "start_time": "2022-03-09T14:11:15.096Z"
   },
   {
    "duration": 303,
    "start_time": "2022-03-09T14:17:56.660Z"
   },
   {
    "duration": 6226,
    "start_time": "2022-03-09T14:39:12.257Z"
   },
   {
    "duration": 585,
    "start_time": "2022-03-09T14:42:32.599Z"
   },
   {
    "duration": 64,
    "start_time": "2022-03-09T14:42:33.186Z"
   },
   {
    "duration": 132,
    "start_time": "2022-03-09T14:42:33.251Z"
   },
   {
    "duration": 110,
    "start_time": "2022-03-09T14:42:33.385Z"
   },
   {
    "duration": 75,
    "start_time": "2022-03-09T14:42:33.496Z"
   },
   {
    "duration": 17,
    "start_time": "2022-03-09T14:42:33.573Z"
   },
   {
    "duration": 61,
    "start_time": "2022-03-09T14:42:33.591Z"
   },
   {
    "duration": 9,
    "start_time": "2022-03-09T14:42:33.654Z"
   },
   {
    "duration": 10,
    "start_time": "2022-03-09T14:42:33.666Z"
   },
   {
    "duration": 17,
    "start_time": "2022-03-09T14:42:33.678Z"
   },
   {
    "duration": 26,
    "start_time": "2022-03-09T14:42:33.697Z"
   },
   {
    "duration": 7,
    "start_time": "2022-03-09T14:42:33.725Z"
   },
   {
    "duration": 20,
    "start_time": "2022-03-09T14:42:33.733Z"
   },
   {
    "duration": 20,
    "start_time": "2022-03-09T14:42:33.754Z"
   },
   {
    "duration": 7,
    "start_time": "2022-03-09T14:42:33.775Z"
   },
   {
    "duration": 24,
    "start_time": "2022-03-09T14:42:33.784Z"
   },
   {
    "duration": 15,
    "start_time": "2022-03-09T14:42:33.810Z"
   },
   {
    "duration": 6,
    "start_time": "2022-03-09T14:42:33.827Z"
   },
   {
    "duration": 8,
    "start_time": "2022-03-09T14:42:33.835Z"
   },
   {
    "duration": 8,
    "start_time": "2022-03-09T14:42:33.844Z"
   },
   {
    "duration": 11,
    "start_time": "2022-03-09T14:42:33.853Z"
   },
   {
    "duration": 6,
    "start_time": "2022-03-09T14:42:33.865Z"
   },
   {
    "duration": 6,
    "start_time": "2022-03-09T14:42:33.872Z"
   },
   {
    "duration": 35,
    "start_time": "2022-03-09T14:42:33.880Z"
   },
   {
    "duration": 11,
    "start_time": "2022-03-09T14:42:33.917Z"
   },
   {
    "duration": 10,
    "start_time": "2022-03-09T14:42:33.929Z"
   },
   {
    "duration": 4,
    "start_time": "2022-03-09T14:42:33.942Z"
   },
   {
    "duration": 6,
    "start_time": "2022-03-09T14:42:33.947Z"
   },
   {
    "duration": 51,
    "start_time": "2022-03-09T14:42:33.954Z"
   },
   {
    "duration": 33,
    "start_time": "2022-03-09T14:42:34.006Z"
   },
   {
    "duration": 170,
    "start_time": "2022-03-09T14:42:34.040Z"
   },
   {
    "duration": 112,
    "start_time": "2022-03-09T14:42:34.212Z"
   },
   {
    "duration": 1453,
    "start_time": "2022-03-09T14:42:34.325Z"
   },
   {
    "duration": 27,
    "start_time": "2022-03-09T14:42:35.779Z"
   },
   {
    "duration": 19,
    "start_time": "2022-03-09T14:42:35.807Z"
   },
   {
    "duration": 59,
    "start_time": "2022-03-09T14:42:35.827Z"
   },
   {
    "duration": 32,
    "start_time": "2022-03-09T14:42:35.887Z"
   },
   {
    "duration": 18,
    "start_time": "2022-03-09T14:42:35.920Z"
   },
   {
    "duration": 140,
    "start_time": "2022-03-09T14:42:35.940Z"
   },
   {
    "duration": 174,
    "start_time": "2022-03-09T14:42:36.082Z"
   },
   {
    "duration": 221,
    "start_time": "2022-03-09T14:42:36.258Z"
   },
   {
    "duration": 26,
    "start_time": "2022-03-09T14:42:36.480Z"
   },
   {
    "duration": 2,
    "start_time": "2022-03-09T14:42:36.508Z"
   },
   {
    "duration": 15,
    "start_time": "2022-03-09T14:45:14.486Z"
   },
   {
    "duration": 2,
    "start_time": "2022-03-09T14:47:46.621Z"
   },
   {
    "duration": 6344,
    "start_time": "2022-03-09T14:51:54.052Z"
   },
   {
    "duration": 263,
    "start_time": "2022-03-09T14:52:17.591Z"
   },
   {
    "duration": 10,
    "start_time": "2022-03-09T14:52:31.696Z"
   },
   {
    "duration": 11,
    "start_time": "2022-03-09T14:52:40.235Z"
   },
   {
    "duration": 254,
    "start_time": "2022-03-09T14:52:43.351Z"
   },
   {
    "duration": 553,
    "start_time": "2022-03-09T14:52:59.088Z"
   },
   {
    "duration": 65,
    "start_time": "2022-03-09T14:52:59.643Z"
   },
   {
    "duration": 3,
    "start_time": "2022-03-09T14:52:59.710Z"
   },
   {
    "duration": 139,
    "start_time": "2022-03-09T14:52:59.715Z"
   },
   {
    "duration": 111,
    "start_time": "2022-03-09T14:52:59.856Z"
   },
   {
    "duration": 78,
    "start_time": "2022-03-09T14:52:59.969Z"
   },
   {
    "duration": 17,
    "start_time": "2022-03-09T14:53:00.048Z"
   },
   {
    "duration": 66,
    "start_time": "2022-03-09T14:53:00.068Z"
   },
   {
    "duration": 22,
    "start_time": "2022-03-09T14:53:00.137Z"
   },
   {
    "duration": 11,
    "start_time": "2022-03-09T14:53:00.161Z"
   },
   {
    "duration": 17,
    "start_time": "2022-03-09T14:53:00.174Z"
   },
   {
    "duration": 23,
    "start_time": "2022-03-09T14:53:00.193Z"
   },
   {
    "duration": 27,
    "start_time": "2022-03-09T14:53:00.218Z"
   },
   {
    "duration": 9,
    "start_time": "2022-03-09T14:53:00.246Z"
   },
   {
    "duration": 19,
    "start_time": "2022-03-09T14:53:00.256Z"
   },
   {
    "duration": 37,
    "start_time": "2022-03-09T14:53:00.276Z"
   },
   {
    "duration": 6,
    "start_time": "2022-03-09T14:53:00.315Z"
   },
   {
    "duration": 18,
    "start_time": "2022-03-09T14:53:00.323Z"
   },
   {
    "duration": 24,
    "start_time": "2022-03-09T14:53:00.343Z"
   },
   {
    "duration": 10,
    "start_time": "2022-03-09T14:53:00.368Z"
   },
   {
    "duration": 25,
    "start_time": "2022-03-09T14:53:00.380Z"
   },
   {
    "duration": 9,
    "start_time": "2022-03-09T14:53:00.407Z"
   },
   {
    "duration": 12,
    "start_time": "2022-03-09T14:53:00.419Z"
   },
   {
    "duration": 14,
    "start_time": "2022-03-09T14:53:00.433Z"
   },
   {
    "duration": 45,
    "start_time": "2022-03-09T14:53:00.448Z"
   },
   {
    "duration": 33,
    "start_time": "2022-03-09T14:53:00.494Z"
   },
   {
    "duration": 15,
    "start_time": "2022-03-09T14:53:00.528Z"
   },
   {
    "duration": 52,
    "start_time": "2022-03-09T14:53:00.544Z"
   },
   {
    "duration": 38,
    "start_time": "2022-03-09T14:53:00.598Z"
   },
   {
    "duration": 29,
    "start_time": "2022-03-09T14:53:00.638Z"
   },
   {
    "duration": 33,
    "start_time": "2022-03-09T14:53:00.668Z"
   },
   {
    "duration": 34,
    "start_time": "2022-03-09T14:53:00.703Z"
   },
   {
    "duration": 169,
    "start_time": "2022-03-09T14:53:00.738Z"
   },
   {
    "duration": 110,
    "start_time": "2022-03-09T14:53:00.909Z"
   },
   {
    "duration": 1435,
    "start_time": "2022-03-09T14:53:01.021Z"
   },
   {
    "duration": 17,
    "start_time": "2022-03-09T14:53:02.458Z"
   },
   {
    "duration": 33,
    "start_time": "2022-03-09T14:53:02.477Z"
   },
   {
    "duration": 62,
    "start_time": "2022-03-09T14:53:02.511Z"
   },
   {
    "duration": 33,
    "start_time": "2022-03-09T14:53:02.574Z"
   },
   {
    "duration": 19,
    "start_time": "2022-03-09T14:53:02.609Z"
   },
   {
    "duration": 143,
    "start_time": "2022-03-09T14:53:02.630Z"
   },
   {
    "duration": 170,
    "start_time": "2022-03-09T14:53:02.775Z"
   },
   {
    "duration": 223,
    "start_time": "2022-03-09T14:53:02.946Z"
   },
   {
    "duration": 16,
    "start_time": "2022-03-09T14:53:03.171Z"
   },
   {
    "duration": 2,
    "start_time": "2022-03-09T14:53:03.188Z"
   },
   {
    "duration": 367,
    "start_time": "2022-03-09T14:54:00.614Z"
   },
   {
    "duration": 262,
    "start_time": "2022-03-09T14:54:04.993Z"
   },
   {
    "duration": -1282,
    "start_time": "2022-03-09T14:55:09.659Z"
   },
   {
    "duration": 566,
    "start_time": "2022-03-09T14:55:08.432Z"
   },
   {
    "duration": 75,
    "start_time": "2022-03-09T14:55:09.000Z"
   },
   {
    "duration": 2,
    "start_time": "2022-03-09T14:55:09.077Z"
   },
   {
    "duration": 152,
    "start_time": "2022-03-09T14:55:09.081Z"
   },
   {
    "duration": 124,
    "start_time": "2022-03-09T14:55:09.235Z"
   },
   {
    "duration": 87,
    "start_time": "2022-03-09T14:55:09.360Z"
   },
   {
    "duration": 16,
    "start_time": "2022-03-09T14:55:09.449Z"
   },
   {
    "duration": 48,
    "start_time": "2022-03-09T14:55:09.466Z"
   },
   {
    "duration": 15,
    "start_time": "2022-03-09T14:55:09.516Z"
   },
   {
    "duration": 8,
    "start_time": "2022-03-09T14:55:09.533Z"
   },
   {
    "duration": 10,
    "start_time": "2022-03-09T14:55:09.543Z"
   },
   {
    "duration": 22,
    "start_time": "2022-03-09T14:55:09.555Z"
   },
   {
    "duration": 50,
    "start_time": "2022-03-09T14:55:09.579Z"
   },
   {
    "duration": 9,
    "start_time": "2022-03-09T14:55:09.631Z"
   },
   {
    "duration": 23,
    "start_time": "2022-03-09T14:55:09.641Z"
   },
   {
    "duration": 23,
    "start_time": "2022-03-09T14:55:09.665Z"
   },
   {
    "duration": 22,
    "start_time": "2022-03-09T14:55:09.689Z"
   },
   {
    "duration": 24,
    "start_time": "2022-03-09T14:55:09.712Z"
   },
   {
    "duration": 19,
    "start_time": "2022-03-09T14:55:09.737Z"
   },
   {
    "duration": 7,
    "start_time": "2022-03-09T14:55:09.757Z"
   },
   {
    "duration": 9,
    "start_time": "2022-03-09T14:55:09.766Z"
   },
   {
    "duration": 8,
    "start_time": "2022-03-09T14:55:09.777Z"
   },
   {
    "duration": 28,
    "start_time": "2022-03-09T14:55:09.786Z"
   },
   {
    "duration": 10,
    "start_time": "2022-03-09T14:55:09.815Z"
   },
   {
    "duration": 18,
    "start_time": "2022-03-09T14:55:09.826Z"
   },
   {
    "duration": 19,
    "start_time": "2022-03-09T14:55:09.846Z"
   },
   {
    "duration": 11,
    "start_time": "2022-03-09T14:55:09.869Z"
   },
   {
    "duration": 23,
    "start_time": "2022-03-09T14:55:09.882Z"
   },
   {
    "duration": 5,
    "start_time": "2022-03-09T14:55:09.907Z"
   },
   {
    "duration": 7,
    "start_time": "2022-03-09T14:55:09.914Z"
   },
   {
    "duration": 32,
    "start_time": "2022-03-09T14:55:09.923Z"
   },
   {
    "duration": 58,
    "start_time": "2022-03-09T14:55:09.957Z"
   },
   {
    "duration": 175,
    "start_time": "2022-03-09T14:55:10.017Z"
   },
   {
    "duration": 136,
    "start_time": "2022-03-09T14:55:10.194Z"
   },
   {
    "duration": 1422,
    "start_time": "2022-03-09T14:55:10.332Z"
   },
   {
    "duration": 17,
    "start_time": "2022-03-09T14:55:11.755Z"
   },
   {
    "duration": 42,
    "start_time": "2022-03-09T14:55:11.773Z"
   },
   {
    "duration": 74,
    "start_time": "2022-03-09T14:55:11.817Z"
   },
   {
    "duration": 29,
    "start_time": "2022-03-09T14:55:11.893Z"
   },
   {
    "duration": 18,
    "start_time": "2022-03-09T14:55:11.924Z"
   },
   {
    "duration": 145,
    "start_time": "2022-03-09T14:55:11.944Z"
   },
   {
    "duration": 174,
    "start_time": "2022-03-09T14:55:12.091Z"
   },
   {
    "duration": 223,
    "start_time": "2022-03-09T14:55:12.266Z"
   },
   {
    "duration": 25,
    "start_time": "2022-03-09T14:55:12.491Z"
   },
   {
    "duration": 2,
    "start_time": "2022-03-09T14:55:12.518Z"
   },
   {
    "duration": 286,
    "start_time": "2022-03-09T14:58:09.460Z"
   },
   {
    "duration": 566,
    "start_time": "2022-03-09T14:59:00.089Z"
   },
   {
    "duration": 69,
    "start_time": "2022-03-09T14:59:00.657Z"
   },
   {
    "duration": 2,
    "start_time": "2022-03-09T14:59:00.728Z"
   },
   {
    "duration": 173,
    "start_time": "2022-03-09T14:59:00.733Z"
   },
   {
    "duration": 121,
    "start_time": "2022-03-09T14:59:00.907Z"
   },
   {
    "duration": 79,
    "start_time": "2022-03-09T14:59:01.030Z"
   },
   {
    "duration": 17,
    "start_time": "2022-03-09T14:59:01.110Z"
   },
   {
    "duration": 72,
    "start_time": "2022-03-09T14:59:01.129Z"
   },
   {
    "duration": 38,
    "start_time": "2022-03-09T14:59:01.204Z"
   },
   {
    "duration": 18,
    "start_time": "2022-03-09T14:59:01.244Z"
   },
   {
    "duration": 22,
    "start_time": "2022-03-09T14:59:01.264Z"
   },
   {
    "duration": 29,
    "start_time": "2022-03-09T14:59:01.287Z"
   },
   {
    "duration": 27,
    "start_time": "2022-03-09T14:59:01.317Z"
   },
   {
    "duration": 8,
    "start_time": "2022-03-09T14:59:01.345Z"
   },
   {
    "duration": 16,
    "start_time": "2022-03-09T14:59:01.354Z"
   },
   {
    "duration": 29,
    "start_time": "2022-03-09T14:59:01.371Z"
   },
   {
    "duration": 19,
    "start_time": "2022-03-09T14:59:01.406Z"
   },
   {
    "duration": 6,
    "start_time": "2022-03-09T14:59:01.427Z"
   },
   {
    "duration": 17,
    "start_time": "2022-03-09T14:59:01.434Z"
   },
   {
    "duration": 17,
    "start_time": "2022-03-09T14:59:01.452Z"
   },
   {
    "duration": 7,
    "start_time": "2022-03-09T14:59:01.470Z"
   },
   {
    "duration": 28,
    "start_time": "2022-03-09T14:59:01.479Z"
   },
   {
    "duration": 9,
    "start_time": "2022-03-09T14:59:01.509Z"
   },
   {
    "duration": 15,
    "start_time": "2022-03-09T14:59:01.520Z"
   },
   {
    "duration": 11,
    "start_time": "2022-03-09T14:59:01.537Z"
   },
   {
    "duration": 11,
    "start_time": "2022-03-09T14:59:01.549Z"
   },
   {
    "duration": 17,
    "start_time": "2022-03-09T14:59:01.564Z"
   },
   {
    "duration": 23,
    "start_time": "2022-03-09T14:59:01.583Z"
   },
   {
    "duration": 9,
    "start_time": "2022-03-09T14:59:01.608Z"
   },
   {
    "duration": 8,
    "start_time": "2022-03-09T14:59:01.618Z"
   },
   {
    "duration": 18,
    "start_time": "2022-03-09T14:59:01.628Z"
   },
   {
    "duration": 30,
    "start_time": "2022-03-09T14:59:01.647Z"
   },
   {
    "duration": 40,
    "start_time": "2022-03-09T14:59:01.679Z"
   },
   {
    "duration": 170,
    "start_time": "2022-03-09T14:59:01.720Z"
   },
   {
    "duration": 126,
    "start_time": "2022-03-09T14:59:01.891Z"
   },
   {
    "duration": 1363,
    "start_time": "2022-03-09T14:59:02.019Z"
   },
   {
    "duration": 26,
    "start_time": "2022-03-09T14:59:03.383Z"
   },
   {
    "duration": 20,
    "start_time": "2022-03-09T14:59:03.411Z"
   },
   {
    "duration": 85,
    "start_time": "2022-03-09T14:59:03.433Z"
   },
   {
    "duration": 20,
    "start_time": "2022-03-09T14:59:03.519Z"
   },
   {
    "duration": 24,
    "start_time": "2022-03-09T14:59:03.540Z"
   },
   {
    "duration": 158,
    "start_time": "2022-03-09T14:59:03.565Z"
   },
   {
    "duration": 172,
    "start_time": "2022-03-09T14:59:03.725Z"
   },
   {
    "duration": 223,
    "start_time": "2022-03-09T14:59:03.898Z"
   },
   {
    "duration": 17,
    "start_time": "2022-03-09T14:59:04.123Z"
   },
   {
    "duration": 2,
    "start_time": "2022-03-09T14:59:04.141Z"
   },
   {
    "duration": 595,
    "start_time": "2022-03-09T15:07:35.397Z"
   },
   {
    "duration": 72,
    "start_time": "2022-03-09T15:07:35.994Z"
   },
   {
    "duration": 2,
    "start_time": "2022-03-09T15:07:36.068Z"
   },
   {
    "duration": 167,
    "start_time": "2022-03-09T15:07:36.072Z"
   },
   {
    "duration": 123,
    "start_time": "2022-03-09T15:07:36.241Z"
   },
   {
    "duration": 82,
    "start_time": "2022-03-09T15:07:36.366Z"
   },
   {
    "duration": 17,
    "start_time": "2022-03-09T15:07:36.450Z"
   },
   {
    "duration": 44,
    "start_time": "2022-03-09T15:07:36.469Z"
   },
   {
    "duration": 10,
    "start_time": "2022-03-09T15:07:36.517Z"
   },
   {
    "duration": 14,
    "start_time": "2022-03-09T15:07:36.529Z"
   },
   {
    "duration": 19,
    "start_time": "2022-03-09T15:07:36.545Z"
   },
   {
    "duration": 54,
    "start_time": "2022-03-09T15:07:36.566Z"
   },
   {
    "duration": 10,
    "start_time": "2022-03-09T15:07:36.622Z"
   },
   {
    "duration": 20,
    "start_time": "2022-03-09T15:07:36.634Z"
   },
   {
    "duration": 52,
    "start_time": "2022-03-09T15:07:36.656Z"
   },
   {
    "duration": 7,
    "start_time": "2022-03-09T15:07:36.710Z"
   },
   {
    "duration": 17,
    "start_time": "2022-03-09T15:07:36.719Z"
   },
   {
    "duration": 19,
    "start_time": "2022-03-09T15:07:36.738Z"
   },
   {
    "duration": 10,
    "start_time": "2022-03-09T15:07:36.758Z"
   },
   {
    "duration": 41,
    "start_time": "2022-03-09T15:07:36.770Z"
   },
   {
    "duration": 6,
    "start_time": "2022-03-09T15:07:36.813Z"
   },
   {
    "duration": 14,
    "start_time": "2022-03-09T15:07:36.820Z"
   },
   {
    "duration": 8,
    "start_time": "2022-03-09T15:07:36.835Z"
   },
   {
    "duration": 6,
    "start_time": "2022-03-09T15:07:36.844Z"
   },
   {
    "duration": 16,
    "start_time": "2022-03-09T15:07:36.852Z"
   },
   {
    "duration": 11,
    "start_time": "2022-03-09T15:07:36.905Z"
   },
   {
    "duration": 9,
    "start_time": "2022-03-09T15:07:36.920Z"
   },
   {
    "duration": 11,
    "start_time": "2022-03-09T15:07:36.931Z"
   },
   {
    "duration": 13,
    "start_time": "2022-03-09T15:07:36.943Z"
   },
   {
    "duration": 52,
    "start_time": "2022-03-09T15:07:36.958Z"
   },
   {
    "duration": 37,
    "start_time": "2022-03-09T15:07:37.011Z"
   },
   {
    "duration": 196,
    "start_time": "2022-03-09T15:07:37.050Z"
   },
   {
    "duration": 127,
    "start_time": "2022-03-09T15:07:37.248Z"
   },
   {
    "duration": 1579,
    "start_time": "2022-03-09T15:07:37.377Z"
   },
   {
    "duration": 18,
    "start_time": "2022-03-09T15:07:38.958Z"
   },
   {
    "duration": 37,
    "start_time": "2022-03-09T15:07:38.977Z"
   },
   {
    "duration": 63,
    "start_time": "2022-03-09T15:07:39.016Z"
   },
   {
    "duration": 39,
    "start_time": "2022-03-09T15:07:39.080Z"
   },
   {
    "duration": 21,
    "start_time": "2022-03-09T15:07:39.120Z"
   },
   {
    "duration": 148,
    "start_time": "2022-03-09T15:07:39.142Z"
   },
   {
    "duration": 187,
    "start_time": "2022-03-09T15:07:39.292Z"
   },
   {
    "duration": 236,
    "start_time": "2022-03-09T15:07:39.481Z"
   },
   {
    "duration": 19,
    "start_time": "2022-03-09T15:07:39.718Z"
   },
   {
    "duration": 2,
    "start_time": "2022-03-09T15:07:39.738Z"
   },
   {
    "duration": 3,
    "start_time": "2022-03-09T15:07:39.790Z"
   },
   {
    "duration": 8,
    "start_time": "2022-03-09T15:07:39.795Z"
   },
   {
    "duration": 5,
    "start_time": "2022-03-09T15:07:39.805Z"
   },
   {
    "duration": 137,
    "start_time": "2022-03-09T15:07:39.811Z"
   },
   {
    "duration": 117,
    "start_time": "2022-03-09T15:07:39.949Z"
   },
   {
    "duration": 77,
    "start_time": "2022-03-09T15:07:40.068Z"
   },
   {
    "duration": 18,
    "start_time": "2022-03-09T15:07:40.147Z"
   },
   {
    "duration": 43,
    "start_time": "2022-03-09T15:07:40.167Z"
   },
   {
    "duration": 8,
    "start_time": "2022-03-09T15:07:40.213Z"
   },
   {
    "duration": 13,
    "start_time": "2022-03-09T15:07:40.223Z"
   },
   {
    "duration": 19,
    "start_time": "2022-03-09T15:07:40.238Z"
   },
   {
    "duration": 50,
    "start_time": "2022-03-09T15:07:40.259Z"
   },
   {
    "duration": 8,
    "start_time": "2022-03-09T15:07:40.310Z"
   },
   {
    "duration": 24,
    "start_time": "2022-03-09T15:07:40.320Z"
   },
   {
    "duration": 18,
    "start_time": "2022-03-09T15:07:40.345Z"
   },
   {
    "duration": 7,
    "start_time": "2022-03-09T15:07:40.364Z"
   },
   {
    "duration": 39,
    "start_time": "2022-03-09T15:07:40.373Z"
   },
   {
    "duration": 16,
    "start_time": "2022-03-09T15:07:40.414Z"
   },
   {
    "duration": 7,
    "start_time": "2022-03-09T15:07:40.431Z"
   },
   {
    "duration": 9,
    "start_time": "2022-03-09T15:07:40.440Z"
   },
   {
    "duration": 8,
    "start_time": "2022-03-09T15:07:40.450Z"
   },
   {
    "duration": 15,
    "start_time": "2022-03-09T15:07:40.460Z"
   },
   {
    "duration": 6,
    "start_time": "2022-03-09T15:07:40.506Z"
   },
   {
    "duration": 9,
    "start_time": "2022-03-09T15:07:40.514Z"
   },
   {
    "duration": 20,
    "start_time": "2022-03-09T15:07:40.525Z"
   },
   {
    "duration": 11,
    "start_time": "2022-03-09T15:07:40.546Z"
   },
   {
    "duration": 9,
    "start_time": "2022-03-09T15:07:40.561Z"
   },
   {
    "duration": 35,
    "start_time": "2022-03-09T15:07:40.571Z"
   },
   {
    "duration": 6,
    "start_time": "2022-03-09T15:07:40.608Z"
   },
   {
    "duration": 34,
    "start_time": "2022-03-09T15:07:40.615Z"
   },
   {
    "duration": 28,
    "start_time": "2022-03-09T15:07:40.650Z"
   },
   {
    "duration": 156,
    "start_time": "2022-03-09T15:07:40.680Z"
   },
   {
    "duration": 106,
    "start_time": "2022-03-09T15:07:40.838Z"
   },
   {
    "duration": 1507,
    "start_time": "2022-03-09T15:07:40.946Z"
   },
   {
    "duration": 18,
    "start_time": "2022-03-09T15:07:42.455Z"
   },
   {
    "duration": 42,
    "start_time": "2022-03-09T15:07:42.475Z"
   },
   {
    "duration": 64,
    "start_time": "2022-03-09T15:07:42.518Z"
   },
   {
    "duration": 35,
    "start_time": "2022-03-09T15:07:42.583Z"
   },
   {
    "duration": 19,
    "start_time": "2022-03-09T15:07:42.620Z"
   },
   {
    "duration": 138,
    "start_time": "2022-03-09T15:07:42.641Z"
   },
   {
    "duration": 201,
    "start_time": "2022-03-09T15:07:42.781Z"
   },
   {
    "duration": 244,
    "start_time": "2022-03-09T15:07:42.984Z"
   },
   {
    "duration": 17,
    "start_time": "2022-03-09T15:07:43.230Z"
   },
   {
    "duration": 2,
    "start_time": "2022-03-09T15:07:43.249Z"
   },
   {
    "duration": 9,
    "start_time": "2022-03-09T15:10:26.809Z"
   },
   {
    "duration": 14,
    "start_time": "2022-03-09T15:14:07.001Z"
   },
   {
    "duration": 365,
    "start_time": "2022-03-09T16:03:29.200Z"
   },
   {
    "duration": 271,
    "start_time": "2022-03-09T16:03:49.419Z"
   },
   {
    "duration": 380,
    "start_time": "2022-03-09T16:05:16.993Z"
   },
   {
    "duration": 102,
    "start_time": "2022-03-09T16:06:59.220Z"
   },
   {
    "duration": 267,
    "start_time": "2022-03-09T16:07:26.036Z"
   },
   {
    "duration": 268,
    "start_time": "2022-03-09T16:09:09.470Z"
   },
   {
    "duration": 162,
    "start_time": "2022-03-09T16:09:42.126Z"
   },
   {
    "duration": 265,
    "start_time": "2022-03-09T16:10:36.074Z"
   },
   {
    "duration": 20,
    "start_time": "2022-03-09T16:13:44.304Z"
   },
   {
    "duration": 252,
    "start_time": "2022-03-11T09:02:38.504Z"
   },
   {
    "duration": 610,
    "start_time": "2022-03-11T09:03:31.723Z"
   },
   {
    "duration": 86,
    "start_time": "2022-03-11T09:03:32.334Z"
   },
   {
    "duration": 3,
    "start_time": "2022-03-11T09:03:32.422Z"
   },
   {
    "duration": 164,
    "start_time": "2022-03-11T09:03:32.427Z"
   },
   {
    "duration": 129,
    "start_time": "2022-03-11T09:03:32.593Z"
   },
   {
    "duration": 88,
    "start_time": "2022-03-11T09:03:32.724Z"
   },
   {
    "duration": 15,
    "start_time": "2022-03-11T09:03:32.814Z"
   },
   {
    "duration": 66,
    "start_time": "2022-03-11T09:03:32.831Z"
   },
   {
    "duration": 12,
    "start_time": "2022-03-11T09:03:32.900Z"
   },
   {
    "duration": 14,
    "start_time": "2022-03-11T09:03:32.914Z"
   },
   {
    "duration": 22,
    "start_time": "2022-03-11T09:03:32.930Z"
   },
   {
    "duration": 40,
    "start_time": "2022-03-11T09:03:32.954Z"
   },
   {
    "duration": 9,
    "start_time": "2022-03-11T09:03:32.996Z"
   },
   {
    "duration": 22,
    "start_time": "2022-03-11T09:03:33.007Z"
   },
   {
    "duration": 25,
    "start_time": "2022-03-11T09:03:33.030Z"
   },
   {
    "duration": 25,
    "start_time": "2022-03-11T09:03:33.057Z"
   },
   {
    "duration": 26,
    "start_time": "2022-03-11T09:03:33.083Z"
   },
   {
    "duration": 21,
    "start_time": "2022-03-11T09:03:33.111Z"
   },
   {
    "duration": 8,
    "start_time": "2022-03-11T09:03:33.134Z"
   },
   {
    "duration": 15,
    "start_time": "2022-03-11T09:03:33.143Z"
   },
   {
    "duration": 7,
    "start_time": "2022-03-11T09:03:33.176Z"
   },
   {
    "duration": 15,
    "start_time": "2022-03-11T09:03:33.185Z"
   },
   {
    "duration": 12,
    "start_time": "2022-03-11T09:03:33.201Z"
   },
   {
    "duration": 6,
    "start_time": "2022-03-11T09:03:33.215Z"
   },
   {
    "duration": 19,
    "start_time": "2022-03-11T09:03:33.222Z"
   },
   {
    "duration": 14,
    "start_time": "2022-03-11T09:03:33.242Z"
   },
   {
    "duration": 10,
    "start_time": "2022-03-11T09:03:33.280Z"
   },
   {
    "duration": 6,
    "start_time": "2022-03-11T09:03:33.292Z"
   },
   {
    "duration": 9,
    "start_time": "2022-03-11T09:03:33.300Z"
   },
   {
    "duration": 35,
    "start_time": "2022-03-11T09:03:33.310Z"
   },
   {
    "duration": 64,
    "start_time": "2022-03-11T09:03:33.347Z"
   },
   {
    "duration": 198,
    "start_time": "2022-03-11T09:03:33.413Z"
   },
   {
    "duration": 133,
    "start_time": "2022-03-11T09:03:33.613Z"
   },
   {
    "duration": 1741,
    "start_time": "2022-03-11T09:03:33.747Z"
   },
   {
    "duration": 22,
    "start_time": "2022-03-11T09:03:35.489Z"
   },
   {
    "duration": 24,
    "start_time": "2022-03-11T09:03:35.513Z"
   },
   {
    "duration": 91,
    "start_time": "2022-03-11T09:03:35.538Z"
   },
   {
    "duration": 25,
    "start_time": "2022-03-11T09:03:35.630Z"
   },
   {
    "duration": 35,
    "start_time": "2022-03-11T09:03:35.657Z"
   },
   {
    "duration": 281,
    "start_time": "2022-03-11T09:03:35.694Z"
   },
   {
    "duration": -2436,
    "start_time": "2022-03-11T09:03:38.413Z"
   },
   {
    "duration": -2435,
    "start_time": "2022-03-11T09:03:38.414Z"
   },
   {
    "duration": -2435,
    "start_time": "2022-03-11T09:03:38.415Z"
   },
   {
    "duration": -2434,
    "start_time": "2022-03-11T09:03:38.416Z"
   },
   {
    "duration": -2434,
    "start_time": "2022-03-11T09:03:38.417Z"
   },
   {
    "duration": 626,
    "start_time": "2022-03-11T09:13:26.047Z"
   },
   {
    "duration": 82,
    "start_time": "2022-03-11T09:13:26.675Z"
   },
   {
    "duration": 3,
    "start_time": "2022-03-11T09:13:26.759Z"
   },
   {
    "duration": 179,
    "start_time": "2022-03-11T09:13:26.764Z"
   },
   {
    "duration": 141,
    "start_time": "2022-03-11T09:13:26.944Z"
   },
   {
    "duration": 96,
    "start_time": "2022-03-11T09:13:27.087Z"
   },
   {
    "duration": 16,
    "start_time": "2022-03-11T09:13:27.185Z"
   },
   {
    "duration": 47,
    "start_time": "2022-03-11T09:13:27.203Z"
   },
   {
    "duration": 12,
    "start_time": "2022-03-11T09:13:27.253Z"
   },
   {
    "duration": 13,
    "start_time": "2022-03-11T09:13:27.267Z"
   },
   {
    "duration": 22,
    "start_time": "2022-03-11T09:13:27.282Z"
   },
   {
    "duration": 32,
    "start_time": "2022-03-11T09:13:27.306Z"
   },
   {
    "duration": 9,
    "start_time": "2022-03-11T09:13:27.340Z"
   },
   {
    "duration": 40,
    "start_time": "2022-03-11T09:13:27.351Z"
   },
   {
    "duration": 25,
    "start_time": "2022-03-11T09:13:27.393Z"
   },
   {
    "duration": 9,
    "start_time": "2022-03-11T09:13:27.420Z"
   },
   {
    "duration": 49,
    "start_time": "2022-03-11T09:13:27.430Z"
   },
   {
    "duration": 20,
    "start_time": "2022-03-11T09:13:27.481Z"
   },
   {
    "duration": 8,
    "start_time": "2022-03-11T09:13:27.503Z"
   },
   {
    "duration": 11,
    "start_time": "2022-03-11T09:13:27.513Z"
   },
   {
    "duration": 9,
    "start_time": "2022-03-11T09:13:27.525Z"
   },
   {
    "duration": 48,
    "start_time": "2022-03-11T09:13:27.536Z"
   },
   {
    "duration": 8,
    "start_time": "2022-03-11T09:13:27.588Z"
   },
   {
    "duration": 12,
    "start_time": "2022-03-11T09:13:27.599Z"
   },
   {
    "duration": 18,
    "start_time": "2022-03-11T09:13:27.613Z"
   },
   {
    "duration": 20,
    "start_time": "2022-03-11T09:13:27.633Z"
   },
   {
    "duration": 37,
    "start_time": "2022-03-11T09:13:27.655Z"
   },
   {
    "duration": 6,
    "start_time": "2022-03-11T09:13:27.694Z"
   },
   {
    "duration": 8,
    "start_time": "2022-03-11T09:13:27.702Z"
   },
   {
    "duration": 36,
    "start_time": "2022-03-11T09:13:27.712Z"
   },
   {
    "duration": 60,
    "start_time": "2022-03-11T09:13:27.750Z"
   },
   {
    "duration": 207,
    "start_time": "2022-03-11T09:13:27.812Z"
   },
   {
    "duration": 134,
    "start_time": "2022-03-11T09:13:28.021Z"
   },
   {
    "duration": 1766,
    "start_time": "2022-03-11T09:13:28.157Z"
   },
   {
    "duration": 22,
    "start_time": "2022-03-11T09:13:29.925Z"
   },
   {
    "duration": 46,
    "start_time": "2022-03-11T09:13:29.950Z"
   },
   {
    "duration": 87,
    "start_time": "2022-03-11T09:13:29.998Z"
   },
   {
    "duration": 26,
    "start_time": "2022-03-11T09:13:30.087Z"
   },
   {
    "duration": 26,
    "start_time": "2022-03-11T09:13:30.115Z"
   },
   {
    "duration": 335,
    "start_time": "2022-03-11T09:13:30.144Z"
   },
   {
    "duration": -2435,
    "start_time": "2022-03-11T09:13:32.916Z"
   },
   {
    "duration": -2436,
    "start_time": "2022-03-11T09:13:32.919Z"
   },
   {
    "duration": -2436,
    "start_time": "2022-03-11T09:13:32.920Z"
   },
   {
    "duration": -2436,
    "start_time": "2022-03-11T09:13:32.921Z"
   },
   {
    "duration": -2436,
    "start_time": "2022-03-11T09:13:32.922Z"
   },
   {
    "duration": 150,
    "start_time": "2022-03-11T09:14:04.754Z"
   },
   {
    "duration": 199,
    "start_time": "2022-03-11T09:14:07.914Z"
   },
   {
    "duration": 259,
    "start_time": "2022-03-11T09:14:12.261Z"
   },
   {
    "duration": 654,
    "start_time": "2022-03-11T09:25:02.529Z"
   },
   {
    "duration": 317,
    "start_time": "2022-03-11T09:25:45.344Z"
   },
   {
    "duration": 203,
    "start_time": "2022-03-11T09:28:29.714Z"
   },
   {
    "duration": 192,
    "start_time": "2022-03-11T09:29:06.960Z"
   },
   {
    "duration": 192,
    "start_time": "2022-03-11T09:30:47.862Z"
   },
   {
    "duration": 190,
    "start_time": "2022-03-11T09:32:06.287Z"
   },
   {
    "duration": 186,
    "start_time": "2022-03-11T09:33:17.828Z"
   },
   {
    "duration": 304,
    "start_time": "2022-03-11T09:33:46.749Z"
   },
   {
    "duration": 190,
    "start_time": "2022-03-11T09:35:13.497Z"
   },
   {
    "duration": 1782,
    "start_time": "2022-03-11T09:36:46.324Z"
   },
   {
    "duration": 2616,
    "start_time": "2022-03-11T09:37:55.063Z"
   },
   {
    "duration": 272,
    "start_time": "2022-03-11T09:39:26.488Z"
   },
   {
    "duration": 618,
    "start_time": "2022-03-11T09:41:31.734Z"
   },
   {
    "duration": 92,
    "start_time": "2022-03-11T09:41:32.355Z"
   },
   {
    "duration": 3,
    "start_time": "2022-03-11T09:41:32.450Z"
   },
   {
    "duration": 194,
    "start_time": "2022-03-11T09:41:32.456Z"
   },
   {
    "duration": 143,
    "start_time": "2022-03-11T09:41:32.651Z"
   },
   {
    "duration": 94,
    "start_time": "2022-03-11T09:41:32.796Z"
   },
   {
    "duration": 15,
    "start_time": "2022-03-11T09:41:32.892Z"
   },
   {
    "duration": 38,
    "start_time": "2022-03-11T09:41:32.910Z"
   },
   {
    "duration": 12,
    "start_time": "2022-03-11T09:41:32.951Z"
   },
   {
    "duration": 16,
    "start_time": "2022-03-11T09:41:32.965Z"
   },
   {
    "duration": 22,
    "start_time": "2022-03-11T09:41:32.982Z"
   },
   {
    "duration": 36,
    "start_time": "2022-03-11T09:41:33.006Z"
   },
   {
    "duration": 9,
    "start_time": "2022-03-11T09:41:33.044Z"
   },
   {
    "duration": 19,
    "start_time": "2022-03-11T09:41:33.078Z"
   },
   {
    "duration": 27,
    "start_time": "2022-03-11T09:41:33.099Z"
   },
   {
    "duration": 8,
    "start_time": "2022-03-11T09:41:33.128Z"
   },
   {
    "duration": 54,
    "start_time": "2022-03-11T09:41:33.139Z"
   },
   {
    "duration": 30,
    "start_time": "2022-03-11T09:41:33.196Z"
   },
   {
    "duration": 9,
    "start_time": "2022-03-11T09:41:33.228Z"
   },
   {
    "duration": 12,
    "start_time": "2022-03-11T09:41:33.240Z"
   },
   {
    "duration": 30,
    "start_time": "2022-03-11T09:41:33.254Z"
   },
   {
    "duration": 16,
    "start_time": "2022-03-11T09:41:33.286Z"
   },
   {
    "duration": 9,
    "start_time": "2022-03-11T09:41:33.305Z"
   },
   {
    "duration": 8,
    "start_time": "2022-03-11T09:41:33.316Z"
   },
   {
    "duration": 19,
    "start_time": "2022-03-11T09:41:33.326Z"
   },
   {
    "duration": 41,
    "start_time": "2022-03-11T09:41:33.348Z"
   },
   {
    "duration": 11,
    "start_time": "2022-03-11T09:41:33.391Z"
   },
   {
    "duration": 7,
    "start_time": "2022-03-11T09:41:33.404Z"
   },
   {
    "duration": 13,
    "start_time": "2022-03-11T09:41:33.414Z"
   },
   {
    "duration": 73,
    "start_time": "2022-03-11T09:41:33.429Z"
   },
   {
    "duration": 43,
    "start_time": "2022-03-11T09:41:33.504Z"
   },
   {
    "duration": 224,
    "start_time": "2022-03-11T09:41:33.549Z"
   },
   {
    "duration": 131,
    "start_time": "2022-03-11T09:41:33.776Z"
   },
   {
    "duration": 1767,
    "start_time": "2022-03-11T09:41:33.909Z"
   },
   {
    "duration": 21,
    "start_time": "2022-03-11T09:41:35.678Z"
   },
   {
    "duration": 26,
    "start_time": "2022-03-11T09:41:35.701Z"
   },
   {
    "duration": 100,
    "start_time": "2022-03-11T09:41:35.729Z"
   },
   {
    "duration": 27,
    "start_time": "2022-03-11T09:41:35.830Z"
   },
   {
    "duration": 39,
    "start_time": "2022-03-11T09:41:35.859Z"
   },
   {
    "duration": 173,
    "start_time": "2022-03-11T09:41:35.900Z"
   },
   {
    "duration": 211,
    "start_time": "2022-03-11T09:41:36.075Z"
   },
   {
    "duration": 283,
    "start_time": "2022-03-11T09:41:36.288Z"
   },
   {
    "duration": 4,
    "start_time": "2022-03-11T09:41:36.573Z"
   },
   {
    "duration": 367,
    "start_time": "2022-03-11T09:41:36.579Z"
   },
   {
    "duration": 16,
    "start_time": "2022-03-11T09:47:39.984Z"
   },
   {
    "duration": 29,
    "start_time": "2022-03-11T09:47:51.275Z"
   },
   {
    "duration": 161,
    "start_time": "2022-03-11T09:51:54.967Z"
   },
   {
    "duration": 88,
    "start_time": "2022-03-11T09:52:17.900Z"
   },
   {
    "duration": 5612,
    "start_time": "2022-03-11T09:53:30.623Z"
   },
   {
    "duration": 609,
    "start_time": "2022-03-11T09:53:54.353Z"
   },
   {
    "duration": 88,
    "start_time": "2022-03-11T09:53:54.964Z"
   },
   {
    "duration": 2,
    "start_time": "2022-03-11T09:53:55.054Z"
   },
   {
    "duration": 196,
    "start_time": "2022-03-11T09:53:55.058Z"
   },
   {
    "duration": 161,
    "start_time": "2022-03-11T09:53:55.256Z"
   },
   {
    "duration": 102,
    "start_time": "2022-03-11T09:53:55.419Z"
   },
   {
    "duration": 16,
    "start_time": "2022-03-11T09:53:55.523Z"
   },
   {
    "duration": 51,
    "start_time": "2022-03-11T09:53:55.542Z"
   },
   {
    "duration": 13,
    "start_time": "2022-03-11T09:53:55.596Z"
   },
   {
    "duration": 14,
    "start_time": "2022-03-11T09:53:55.611Z"
   },
   {
    "duration": 23,
    "start_time": "2022-03-11T09:53:55.627Z"
   },
   {
    "duration": 59,
    "start_time": "2022-03-11T09:53:55.652Z"
   },
   {
    "duration": 9,
    "start_time": "2022-03-11T09:53:55.713Z"
   },
   {
    "duration": 20,
    "start_time": "2022-03-11T09:53:55.724Z"
   },
   {
    "duration": 52,
    "start_time": "2022-03-11T09:53:55.746Z"
   },
   {
    "duration": 10,
    "start_time": "2022-03-11T09:53:55.799Z"
   },
   {
    "duration": 25,
    "start_time": "2022-03-11T09:53:55.810Z"
   },
   {
    "duration": 20,
    "start_time": "2022-03-11T09:53:55.836Z"
   },
   {
    "duration": 26,
    "start_time": "2022-03-11T09:53:55.858Z"
   },
   {
    "duration": 20,
    "start_time": "2022-03-11T09:53:55.886Z"
   },
   {
    "duration": 9,
    "start_time": "2022-03-11T09:53:55.908Z"
   },
   {
    "duration": 17,
    "start_time": "2022-03-11T09:53:55.918Z"
   },
   {
    "duration": 9,
    "start_time": "2022-03-11T09:53:55.937Z"
   },
   {
    "duration": 6,
    "start_time": "2022-03-11T09:53:55.948Z"
   },
   {
    "duration": 45,
    "start_time": "2022-03-11T09:53:55.955Z"
   },
   {
    "duration": 12,
    "start_time": "2022-03-11T09:53:56.002Z"
   },
   {
    "duration": 10,
    "start_time": "2022-03-11T09:53:56.018Z"
   },
   {
    "duration": 6,
    "start_time": "2022-03-11T09:53:56.030Z"
   },
   {
    "duration": 40,
    "start_time": "2022-03-11T09:53:56.038Z"
   },
   {
    "duration": 36,
    "start_time": "2022-03-11T09:53:56.082Z"
   },
   {
    "duration": 66,
    "start_time": "2022-03-11T09:53:56.120Z"
   },
   {
    "duration": 232,
    "start_time": "2022-03-11T09:53:56.188Z"
   },
   {
    "duration": 146,
    "start_time": "2022-03-11T09:53:56.422Z"
   },
   {
    "duration": 1892,
    "start_time": "2022-03-11T09:53:56.570Z"
   },
   {
    "duration": 30,
    "start_time": "2022-03-11T09:53:58.464Z"
   },
   {
    "duration": 26,
    "start_time": "2022-03-11T09:53:58.496Z"
   },
   {
    "duration": 105,
    "start_time": "2022-03-11T09:53:58.524Z"
   },
   {
    "duration": 24,
    "start_time": "2022-03-11T09:53:58.631Z"
   },
   {
    "duration": 45,
    "start_time": "2022-03-11T09:53:58.657Z"
   },
   {
    "duration": 2,
    "start_time": "2022-03-11T09:53:58.704Z"
   },
   {
    "duration": 44,
    "start_time": "2022-03-11T09:53:58.708Z"
   },
   {
    "duration": 52,
    "start_time": "2022-03-11T09:53:58.754Z"
   },
   {
    "duration": 71,
    "start_time": "2022-03-11T09:53:58.807Z"
   },
   {
    "duration": 4,
    "start_time": "2022-03-11T09:53:58.880Z"
   },
   {
    "duration": 310,
    "start_time": "2022-03-11T09:53:58.887Z"
   },
   {
    "duration": 63,
    "start_time": "2022-03-11T09:55:32.379Z"
   },
   {
    "duration": 39,
    "start_time": "2022-03-11T10:01:44.181Z"
   },
   {
    "duration": 42,
    "start_time": "2022-03-11T10:02:06.688Z"
   },
   {
    "duration": 5404,
    "start_time": "2022-03-11T10:03:42.012Z"
   },
   {
    "duration": 5586,
    "start_time": "2022-03-11T10:04:06.742Z"
   },
   {
    "duration": 583,
    "start_time": "2022-03-11T10:13:08.438Z"
   },
   {
    "duration": 82,
    "start_time": "2022-03-11T10:13:09.023Z"
   },
   {
    "duration": 2,
    "start_time": "2022-03-11T10:13:09.108Z"
   },
   {
    "duration": 171,
    "start_time": "2022-03-11T10:13:09.112Z"
   },
   {
    "duration": 135,
    "start_time": "2022-03-11T10:13:09.285Z"
   },
   {
    "duration": 93,
    "start_time": "2022-03-11T10:13:09.421Z"
   },
   {
    "duration": 15,
    "start_time": "2022-03-11T10:13:09.516Z"
   },
   {
    "duration": 59,
    "start_time": "2022-03-11T10:13:09.534Z"
   },
   {
    "duration": 13,
    "start_time": "2022-03-11T10:13:09.595Z"
   },
   {
    "duration": 18,
    "start_time": "2022-03-11T10:13:09.610Z"
   },
   {
    "duration": 21,
    "start_time": "2022-03-11T10:13:09.629Z"
   },
   {
    "duration": 43,
    "start_time": "2022-03-11T10:13:09.652Z"
   },
   {
    "duration": 9,
    "start_time": "2022-03-11T10:13:09.697Z"
   },
   {
    "duration": 24,
    "start_time": "2022-03-11T10:13:09.707Z"
   },
   {
    "duration": 44,
    "start_time": "2022-03-11T10:13:09.733Z"
   },
   {
    "duration": 8,
    "start_time": "2022-03-11T10:13:09.779Z"
   },
   {
    "duration": 27,
    "start_time": "2022-03-11T10:13:09.788Z"
   },
   {
    "duration": 20,
    "start_time": "2022-03-11T10:13:09.816Z"
   },
   {
    "duration": 8,
    "start_time": "2022-03-11T10:13:09.837Z"
   },
   {
    "duration": 31,
    "start_time": "2022-03-11T10:13:09.847Z"
   },
   {
    "duration": 6,
    "start_time": "2022-03-11T10:13:09.879Z"
   },
   {
    "duration": 16,
    "start_time": "2022-03-11T10:13:09.887Z"
   },
   {
    "duration": 15,
    "start_time": "2022-03-11T10:13:09.906Z"
   },
   {
    "duration": 9,
    "start_time": "2022-03-11T10:13:09.923Z"
   },
   {
    "duration": 18,
    "start_time": "2022-03-11T10:13:09.933Z"
   },
   {
    "duration": 30,
    "start_time": "2022-03-11T10:13:09.952Z"
   },
   {
    "duration": 13,
    "start_time": "2022-03-11T10:13:09.984Z"
   },
   {
    "duration": 14,
    "start_time": "2022-03-11T10:13:09.998Z"
   },
   {
    "duration": 14,
    "start_time": "2022-03-11T10:13:10.013Z"
   },
   {
    "duration": 50,
    "start_time": "2022-03-11T10:13:10.029Z"
   },
   {
    "duration": 43,
    "start_time": "2022-03-11T10:13:10.081Z"
   },
   {
    "duration": 211,
    "start_time": "2022-03-11T10:13:10.126Z"
   },
   {
    "duration": 130,
    "start_time": "2022-03-11T10:13:10.339Z"
   },
   {
    "duration": 1705,
    "start_time": "2022-03-11T10:13:10.471Z"
   },
   {
    "duration": 22,
    "start_time": "2022-03-11T10:13:12.178Z"
   },
   {
    "duration": 24,
    "start_time": "2022-03-11T10:13:12.202Z"
   },
   {
    "duration": 93,
    "start_time": "2022-03-11T10:13:12.228Z"
   },
   {
    "duration": 26,
    "start_time": "2022-03-11T10:13:12.323Z"
   },
   {
    "duration": 42,
    "start_time": "2022-03-11T10:13:12.351Z"
   },
   {
    "duration": 3,
    "start_time": "2022-03-11T10:13:12.394Z"
   },
   {
    "duration": 66,
    "start_time": "2022-03-11T10:13:12.399Z"
   },
   {
    "duration": 49,
    "start_time": "2022-03-11T10:13:12.467Z"
   },
   {
    "duration": 253,
    "start_time": "2022-03-11T10:13:26.665Z"
   },
   {
    "duration": 661,
    "start_time": "2022-03-11T10:14:08.852Z"
   },
   {
    "duration": 88,
    "start_time": "2022-03-11T10:14:09.515Z"
   },
   {
    "duration": 3,
    "start_time": "2022-03-11T10:14:09.605Z"
   },
   {
    "duration": 174,
    "start_time": "2022-03-11T10:14:09.609Z"
   },
   {
    "duration": 128,
    "start_time": "2022-03-11T10:14:09.785Z"
   },
   {
    "duration": 90,
    "start_time": "2022-03-11T10:14:09.915Z"
   },
   {
    "duration": 16,
    "start_time": "2022-03-11T10:14:10.007Z"
   },
   {
    "duration": 49,
    "start_time": "2022-03-11T10:14:10.025Z"
   },
   {
    "duration": 17,
    "start_time": "2022-03-11T10:14:10.077Z"
   },
   {
    "duration": 18,
    "start_time": "2022-03-11T10:14:10.097Z"
   },
   {
    "duration": 22,
    "start_time": "2022-03-11T10:14:10.117Z"
   },
   {
    "duration": 56,
    "start_time": "2022-03-11T10:14:10.142Z"
   },
   {
    "duration": 10,
    "start_time": "2022-03-11T10:14:10.200Z"
   },
   {
    "duration": 23,
    "start_time": "2022-03-11T10:14:10.212Z"
   },
   {
    "duration": 46,
    "start_time": "2022-03-11T10:14:10.238Z"
   },
   {
    "duration": 9,
    "start_time": "2022-03-11T10:14:10.286Z"
   },
   {
    "duration": 29,
    "start_time": "2022-03-11T10:14:10.297Z"
   },
   {
    "duration": 21,
    "start_time": "2022-03-11T10:14:10.328Z"
   },
   {
    "duration": 9,
    "start_time": "2022-03-11T10:14:10.351Z"
   },
   {
    "duration": 24,
    "start_time": "2022-03-11T10:14:10.361Z"
   },
   {
    "duration": 10,
    "start_time": "2022-03-11T10:14:10.387Z"
   },
   {
    "duration": 14,
    "start_time": "2022-03-11T10:14:10.399Z"
   },
   {
    "duration": 8,
    "start_time": "2022-03-11T10:14:10.415Z"
   },
   {
    "duration": 10,
    "start_time": "2022-03-11T10:14:10.425Z"
   },
   {
    "duration": 45,
    "start_time": "2022-03-11T10:14:10.436Z"
   },
   {
    "duration": 13,
    "start_time": "2022-03-11T10:14:10.483Z"
   },
   {
    "duration": 14,
    "start_time": "2022-03-11T10:14:10.500Z"
   },
   {
    "duration": 8,
    "start_time": "2022-03-11T10:14:10.516Z"
   },
   {
    "duration": 16,
    "start_time": "2022-03-11T10:14:10.526Z"
   },
   {
    "duration": 55,
    "start_time": "2022-03-11T10:14:10.544Z"
   },
   {
    "duration": 43,
    "start_time": "2022-03-11T10:14:10.601Z"
   },
   {
    "duration": 215,
    "start_time": "2022-03-11T10:14:10.646Z"
   },
   {
    "duration": 126,
    "start_time": "2022-03-11T10:14:10.876Z"
   },
   {
    "duration": 1720,
    "start_time": "2022-03-11T10:14:11.005Z"
   },
   {
    "duration": 22,
    "start_time": "2022-03-11T10:14:12.728Z"
   },
   {
    "duration": 43,
    "start_time": "2022-03-11T10:14:12.752Z"
   },
   {
    "duration": 85,
    "start_time": "2022-03-11T10:14:12.797Z"
   },
   {
    "duration": 26,
    "start_time": "2022-03-11T10:14:12.884Z"
   },
   {
    "duration": 24,
    "start_time": "2022-03-11T10:14:12.912Z"
   },
   {
    "duration": 3,
    "start_time": "2022-03-11T10:14:12.938Z"
   },
   {
    "duration": 71,
    "start_time": "2022-03-11T10:14:12.943Z"
   },
   {
    "duration": 61,
    "start_time": "2022-03-11T10:14:13.016Z"
   },
   {
    "duration": 278,
    "start_time": "2022-03-11T10:15:03.961Z"
   },
   {
    "duration": 208,
    "start_time": "2022-03-11T10:18:42.665Z"
   },
   {
    "duration": 671,
    "start_time": "2022-03-11T10:19:17.485Z"
   },
   {
    "duration": 83,
    "start_time": "2022-03-11T10:19:18.158Z"
   },
   {
    "duration": 2,
    "start_time": "2022-03-11T10:19:18.244Z"
   },
   {
    "duration": 175,
    "start_time": "2022-03-11T10:19:18.249Z"
   },
   {
    "duration": 135,
    "start_time": "2022-03-11T10:19:18.426Z"
   },
   {
    "duration": 91,
    "start_time": "2022-03-11T10:19:18.563Z"
   },
   {
    "duration": 17,
    "start_time": "2022-03-11T10:19:18.656Z"
   },
   {
    "duration": 33,
    "start_time": "2022-03-11T10:19:18.678Z"
   },
   {
    "duration": 14,
    "start_time": "2022-03-11T10:19:18.714Z"
   },
   {
    "duration": 14,
    "start_time": "2022-03-11T10:19:18.731Z"
   },
   {
    "duration": 30,
    "start_time": "2022-03-11T10:19:18.747Z"
   },
   {
    "duration": 35,
    "start_time": "2022-03-11T10:19:18.779Z"
   },
   {
    "duration": 10,
    "start_time": "2022-03-11T10:19:18.815Z"
   },
   {
    "duration": 21,
    "start_time": "2022-03-11T10:19:18.827Z"
   },
   {
    "duration": 49,
    "start_time": "2022-03-11T10:19:18.850Z"
   },
   {
    "duration": 9,
    "start_time": "2022-03-11T10:19:18.901Z"
   },
   {
    "duration": 19,
    "start_time": "2022-03-11T10:19:18.912Z"
   },
   {
    "duration": 46,
    "start_time": "2022-03-11T10:19:18.933Z"
   },
   {
    "duration": 9,
    "start_time": "2022-03-11T10:19:18.980Z"
   },
   {
    "duration": 17,
    "start_time": "2022-03-11T10:19:18.991Z"
   },
   {
    "duration": 10,
    "start_time": "2022-03-11T10:19:19.010Z"
   },
   {
    "duration": 15,
    "start_time": "2022-03-11T10:19:19.021Z"
   },
   {
    "duration": 9,
    "start_time": "2022-03-11T10:19:19.040Z"
   },
   {
    "duration": 9,
    "start_time": "2022-03-11T10:19:19.051Z"
   },
   {
    "duration": 30,
    "start_time": "2022-03-11T10:19:19.061Z"
   },
   {
    "duration": 16,
    "start_time": "2022-03-11T10:19:19.092Z"
   },
   {
    "duration": 11,
    "start_time": "2022-03-11T10:19:19.109Z"
   },
   {
    "duration": 9,
    "start_time": "2022-03-11T10:19:19.121Z"
   },
   {
    "duration": 7,
    "start_time": "2022-03-11T10:19:19.132Z"
   },
   {
    "duration": 64,
    "start_time": "2022-03-11T10:19:19.141Z"
   },
   {
    "duration": 39,
    "start_time": "2022-03-11T10:19:19.207Z"
   },
   {
    "duration": 213,
    "start_time": "2022-03-11T10:19:19.248Z"
   },
   {
    "duration": 136,
    "start_time": "2022-03-11T10:19:19.463Z"
   },
   {
    "duration": 1733,
    "start_time": "2022-03-11T10:19:19.601Z"
   },
   {
    "duration": 23,
    "start_time": "2022-03-11T10:19:21.336Z"
   },
   {
    "duration": 39,
    "start_time": "2022-03-11T10:19:21.362Z"
   },
   {
    "duration": 91,
    "start_time": "2022-03-11T10:19:21.403Z"
   },
   {
    "duration": 26,
    "start_time": "2022-03-11T10:19:21.496Z"
   },
   {
    "duration": 24,
    "start_time": "2022-03-11T10:19:21.525Z"
   },
   {
    "duration": 26,
    "start_time": "2022-03-11T10:19:21.552Z"
   },
   {
    "duration": 45,
    "start_time": "2022-03-11T10:19:21.580Z"
   },
   {
    "duration": 60,
    "start_time": "2022-03-11T10:19:21.627Z"
   },
   {
    "duration": 277,
    "start_time": "2022-03-11T10:19:46.584Z"
   },
   {
    "duration": 235,
    "start_time": "2022-03-11T10:21:19.347Z"
   },
   {
    "duration": 219,
    "start_time": "2022-03-11T10:21:28.354Z"
   },
   {
    "duration": 230,
    "start_time": "2022-03-11T10:21:32.757Z"
   },
   {
    "duration": 669,
    "start_time": "2022-03-11T10:21:37.679Z"
   },
   {
    "duration": 90,
    "start_time": "2022-03-11T10:21:38.350Z"
   },
   {
    "duration": 3,
    "start_time": "2022-03-11T10:21:38.443Z"
   },
   {
    "duration": 207,
    "start_time": "2022-03-11T10:21:38.448Z"
   },
   {
    "duration": 143,
    "start_time": "2022-03-11T10:21:38.657Z"
   },
   {
    "duration": 94,
    "start_time": "2022-03-11T10:21:38.802Z"
   },
   {
    "duration": 16,
    "start_time": "2022-03-11T10:21:38.898Z"
   },
   {
    "duration": 65,
    "start_time": "2022-03-11T10:21:38.916Z"
   },
   {
    "duration": 18,
    "start_time": "2022-03-11T10:21:38.984Z"
   },
   {
    "duration": 41,
    "start_time": "2022-03-11T10:21:39.005Z"
   },
   {
    "duration": 34,
    "start_time": "2022-03-11T10:21:39.048Z"
   },
   {
    "duration": 53,
    "start_time": "2022-03-11T10:21:39.083Z"
   },
   {
    "duration": 9,
    "start_time": "2022-03-11T10:21:39.138Z"
   },
   {
    "duration": 46,
    "start_time": "2022-03-11T10:21:39.149Z"
   },
   {
    "duration": 27,
    "start_time": "2022-03-11T10:21:39.198Z"
   },
   {
    "duration": 8,
    "start_time": "2022-03-11T10:21:39.227Z"
   },
   {
    "duration": 28,
    "start_time": "2022-03-11T10:21:39.237Z"
   },
   {
    "duration": 31,
    "start_time": "2022-03-11T10:21:39.276Z"
   },
   {
    "duration": 10,
    "start_time": "2022-03-11T10:21:39.309Z"
   },
   {
    "duration": 28,
    "start_time": "2022-03-11T10:21:39.321Z"
   },
   {
    "duration": 19,
    "start_time": "2022-03-11T10:21:39.352Z"
   },
   {
    "duration": 35,
    "start_time": "2022-03-11T10:21:39.373Z"
   },
   {
    "duration": 20,
    "start_time": "2022-03-11T10:21:39.410Z"
   },
   {
    "duration": 23,
    "start_time": "2022-03-11T10:21:39.432Z"
   },
   {
    "duration": 28,
    "start_time": "2022-03-11T10:21:39.457Z"
   },
   {
    "duration": 22,
    "start_time": "2022-03-11T10:21:39.487Z"
   },
   {
    "duration": 22,
    "start_time": "2022-03-11T10:21:39.513Z"
   },
   {
    "duration": 20,
    "start_time": "2022-03-11T10:21:39.537Z"
   },
   {
    "duration": 41,
    "start_time": "2022-03-11T10:21:39.559Z"
   },
   {
    "duration": 55,
    "start_time": "2022-03-11T10:21:39.602Z"
   },
   {
    "duration": 43,
    "start_time": "2022-03-11T10:21:39.659Z"
   },
   {
    "duration": 205,
    "start_time": "2022-03-11T10:21:39.703Z"
   },
   {
    "duration": 134,
    "start_time": "2022-03-11T10:21:39.910Z"
   },
   {
    "duration": 1788,
    "start_time": "2022-03-11T10:21:40.046Z"
   },
   {
    "duration": 22,
    "start_time": "2022-03-11T10:21:41.836Z"
   },
   {
    "duration": 41,
    "start_time": "2022-03-11T10:21:41.860Z"
   },
   {
    "duration": 92,
    "start_time": "2022-03-11T10:21:41.903Z"
   },
   {
    "duration": 27,
    "start_time": "2022-03-11T10:21:41.997Z"
   },
   {
    "duration": 24,
    "start_time": "2022-03-11T10:21:42.025Z"
   },
   {
    "duration": 26,
    "start_time": "2022-03-11T10:21:42.051Z"
   },
   {
    "duration": 46,
    "start_time": "2022-03-11T10:21:42.079Z"
   },
   {
    "duration": 78,
    "start_time": "2022-03-11T10:21:42.127Z"
   },
   {
    "duration": 250,
    "start_time": "2022-03-11T10:21:42.206Z"
   },
   {
    "duration": -96,
    "start_time": "2022-03-11T10:21:42.554Z"
   },
   {
    "duration": -105,
    "start_time": "2022-03-11T10:21:42.564Z"
   },
   {
    "duration": -118,
    "start_time": "2022-03-11T10:21:42.578Z"
   },
   {
    "duration": 264,
    "start_time": "2022-03-11T10:22:09.826Z"
   },
   {
    "duration": 207,
    "start_time": "2022-03-11T10:22:25.598Z"
   },
   {
    "duration": 649,
    "start_time": "2022-03-11T10:22:32.869Z"
   },
   {
    "duration": 88,
    "start_time": "2022-03-11T10:22:35.848Z"
   },
   {
    "duration": 3,
    "start_time": "2022-03-11T10:22:37.679Z"
   },
   {
    "duration": 161,
    "start_time": "2022-03-11T10:22:39.829Z"
   },
   {
    "duration": 138,
    "start_time": "2022-03-11T10:22:42.185Z"
   },
   {
    "duration": 92,
    "start_time": "2022-03-11T10:22:44.335Z"
   },
   {
    "duration": 16,
    "start_time": "2022-03-11T10:22:46.692Z"
   },
   {
    "duration": 34,
    "start_time": "2022-03-11T10:22:49.137Z"
   },
   {
    "duration": 14,
    "start_time": "2022-03-11T10:22:51.298Z"
   },
   {
    "duration": 15,
    "start_time": "2022-03-11T10:22:54.165Z"
   },
   {
    "duration": 23,
    "start_time": "2022-03-11T10:22:56.418Z"
   },
   {
    "duration": 34,
    "start_time": "2022-03-11T10:22:59.991Z"
   },
   {
    "duration": 11,
    "start_time": "2022-03-11T10:23:02.562Z"
   },
   {
    "duration": 20,
    "start_time": "2022-03-11T10:23:05.328Z"
   },
   {
    "duration": 27,
    "start_time": "2022-03-11T10:23:08.503Z"
   },
   {
    "duration": 9,
    "start_time": "2022-03-11T10:23:10.652Z"
   },
   {
    "duration": 18,
    "start_time": "2022-03-11T10:23:13.316Z"
   },
   {
    "duration": 19,
    "start_time": "2022-03-11T10:23:16.079Z"
   },
   {
    "duration": 10,
    "start_time": "2022-03-11T10:23:18.747Z"
   },
   {
    "duration": 10,
    "start_time": "2022-03-11T10:23:21.713Z"
   },
   {
    "duration": 8,
    "start_time": "2022-03-11T10:23:23.462Z"
   },
   {
    "duration": 14,
    "start_time": "2022-03-11T10:23:26.831Z"
   },
   {
    "duration": 8,
    "start_time": "2022-03-11T10:23:29.499Z"
   },
   {
    "duration": 5,
    "start_time": "2022-03-11T10:23:31.337Z"
   },
   {
    "duration": 27,
    "start_time": "2022-03-11T10:23:32.975Z"
   },
   {
    "duration": 15,
    "start_time": "2022-03-11T10:23:34.205Z"
   },
   {
    "duration": 11,
    "start_time": "2022-03-11T10:23:36.972Z"
   },
   {
    "duration": 6,
    "start_time": "2022-03-11T10:23:37.995Z"
   },
   {
    "duration": 6,
    "start_time": "2022-03-11T10:23:39.018Z"
   },
   {
    "duration": 31,
    "start_time": "2022-03-11T10:23:42.602Z"
   },
   {
    "duration": 40,
    "start_time": "2022-03-11T10:23:47.312Z"
   },
   {
    "duration": 193,
    "start_time": "2022-03-11T10:23:49.359Z"
   },
   {
    "duration": 120,
    "start_time": "2022-03-11T10:23:52.331Z"
   },
   {
    "duration": 1709,
    "start_time": "2022-03-11T10:23:54.997Z"
   },
   {
    "duration": 29,
    "start_time": "2022-03-11T10:24:00.849Z"
   },
   {
    "duration": 24,
    "start_time": "2022-03-11T10:24:03.390Z"
   },
   {
    "duration": 73,
    "start_time": "2022-03-11T10:24:06.256Z"
   },
   {
    "duration": 27,
    "start_time": "2022-03-11T10:24:08.407Z"
   },
   {
    "duration": 24,
    "start_time": "2022-03-11T10:24:11.026Z"
   },
   {
    "duration": 42,
    "start_time": "2022-03-11T10:24:17.417Z"
   },
   {
    "duration": 48,
    "start_time": "2022-03-11T10:24:20.182Z"
   },
   {
    "duration": 56,
    "start_time": "2022-03-11T10:24:26.327Z"
   },
   {
    "duration": 5343,
    "start_time": "2022-03-11T10:24:30.628Z"
   },
   {
    "duration": 5797,
    "start_time": "2022-03-11T10:24:58.072Z"
   },
   {
    "duration": 7314,
    "start_time": "2022-03-11T10:25:23.367Z"
   },
   {
    "duration": 44,
    "start_time": "2022-03-11T10:27:40.278Z"
   },
   {
    "duration": 40,
    "start_time": "2022-03-11T10:28:22.771Z"
   },
   {
    "duration": 294,
    "start_time": "2022-03-11T10:46:55.595Z"
   },
   {
    "duration": 260,
    "start_time": "2022-03-11T10:47:11.066Z"
   },
   {
    "duration": 31,
    "start_time": "2022-03-11T10:48:33.446Z"
   },
   {
    "duration": 224,
    "start_time": "2022-03-11T10:49:46.811Z"
   },
   {
    "duration": 9,
    "start_time": "2022-03-11T10:51:56.070Z"
   },
   {
    "duration": 208,
    "start_time": "2022-03-11T10:52:20.264Z"
   },
   {
    "duration": 204,
    "start_time": "2022-03-11T11:46:37.605Z"
   },
   {
    "duration": 214,
    "start_time": "2022-03-11T11:52:34.860Z"
   },
   {
    "duration": 212,
    "start_time": "2022-03-11T11:58:27.438Z"
   },
   {
    "duration": 1240,
    "start_time": "2022-03-11T11:58:35.375Z"
   },
   {
    "duration": 16,
    "start_time": "2022-03-11T12:03:13.827Z"
   },
   {
    "duration": 267,
    "start_time": "2022-03-11T12:05:00.453Z"
   },
   {
    "duration": 2118,
    "start_time": "2022-03-11T12:07:36.925Z"
   },
   {
    "duration": 24,
    "start_time": "2022-03-11T12:08:28.868Z"
   },
   {
    "duration": 74,
    "start_time": "2022-03-11T12:13:05.041Z"
   },
   {
    "duration": 15,
    "start_time": "2022-03-11T12:13:21.250Z"
   },
   {
    "duration": 206,
    "start_time": "2022-03-11T12:16:37.159Z"
   },
   {
    "duration": 13,
    "start_time": "2022-03-11T12:17:06.524Z"
   },
   {
    "duration": 16,
    "start_time": "2022-03-11T12:18:54.239Z"
   },
   {
    "duration": 13,
    "start_time": "2022-03-11T12:20:21.825Z"
   },
   {
    "duration": 670,
    "start_time": "2022-03-11T12:22:15.376Z"
   },
   {
    "duration": 96,
    "start_time": "2022-03-11T12:22:16.049Z"
   },
   {
    "duration": 4,
    "start_time": "2022-03-11T12:22:16.150Z"
   },
   {
    "duration": 192,
    "start_time": "2022-03-11T12:22:16.156Z"
   },
   {
    "duration": 157,
    "start_time": "2022-03-11T12:22:16.350Z"
   },
   {
    "duration": 101,
    "start_time": "2022-03-11T12:22:16.509Z"
   },
   {
    "duration": 15,
    "start_time": "2022-03-11T12:22:16.613Z"
   },
   {
    "duration": 67,
    "start_time": "2022-03-11T12:22:16.631Z"
   },
   {
    "duration": 13,
    "start_time": "2022-03-11T12:22:16.700Z"
   },
   {
    "duration": 16,
    "start_time": "2022-03-11T12:22:16.715Z"
   },
   {
    "duration": 27,
    "start_time": "2022-03-11T12:22:16.733Z"
   },
   {
    "duration": 48,
    "start_time": "2022-03-11T12:22:16.762Z"
   },
   {
    "duration": 10,
    "start_time": "2022-03-11T12:22:16.812Z"
   },
   {
    "duration": 22,
    "start_time": "2022-03-11T12:22:16.823Z"
   },
   {
    "duration": 46,
    "start_time": "2022-03-11T12:22:16.847Z"
   },
   {
    "duration": 8,
    "start_time": "2022-03-11T12:22:16.894Z"
   },
   {
    "duration": 19,
    "start_time": "2022-03-11T12:22:16.904Z"
   },
   {
    "duration": 21,
    "start_time": "2022-03-11T12:22:16.925Z"
   },
   {
    "duration": 35,
    "start_time": "2022-03-11T12:22:16.948Z"
   },
   {
    "duration": 13,
    "start_time": "2022-03-11T12:22:16.985Z"
   },
   {
    "duration": 8,
    "start_time": "2022-03-11T12:22:17.000Z"
   },
   {
    "duration": 12,
    "start_time": "2022-03-11T12:22:17.012Z"
   },
   {
    "duration": 8,
    "start_time": "2022-03-11T12:22:17.027Z"
   },
   {
    "duration": 40,
    "start_time": "2022-03-11T12:22:17.037Z"
   },
   {
    "duration": 25,
    "start_time": "2022-03-11T12:22:17.079Z"
   },
   {
    "duration": 12,
    "start_time": "2022-03-11T12:22:17.106Z"
   },
   {
    "duration": 11,
    "start_time": "2022-03-11T12:22:17.120Z"
   },
   {
    "duration": 6,
    "start_time": "2022-03-11T12:22:17.132Z"
   },
   {
    "duration": 7,
    "start_time": "2022-03-11T12:22:17.140Z"
   },
   {
    "duration": 59,
    "start_time": "2022-03-11T12:22:17.148Z"
   },
   {
    "duration": 40,
    "start_time": "2022-03-11T12:22:17.209Z"
   },
   {
    "duration": 217,
    "start_time": "2022-03-11T12:22:17.251Z"
   },
   {
    "duration": 131,
    "start_time": "2022-03-11T12:22:17.470Z"
   },
   {
    "duration": 1702,
    "start_time": "2022-03-11T12:22:17.603Z"
   },
   {
    "duration": 21,
    "start_time": "2022-03-11T12:22:19.307Z"
   },
   {
    "duration": 24,
    "start_time": "2022-03-11T12:22:19.329Z"
   },
   {
    "duration": 85,
    "start_time": "2022-03-11T12:22:19.355Z"
   },
   {
    "duration": 38,
    "start_time": "2022-03-11T12:22:19.442Z"
   },
   {
    "duration": 17,
    "start_time": "2022-03-11T12:22:19.482Z"
   },
   {
    "duration": 13,
    "start_time": "2022-03-11T12:22:19.501Z"
   },
   {
    "duration": 262,
    "start_time": "2022-03-11T12:24:33.065Z"
   },
   {
    "duration": 216,
    "start_time": "2022-03-11T12:25:11.653Z"
   },
   {
    "duration": 205,
    "start_time": "2022-03-11T12:25:17.714Z"
   },
   {
    "duration": 228,
    "start_time": "2022-03-11T12:25:23.039Z"
   },
   {
    "duration": -237,
    "start_time": "2022-03-11T12:26:17.854Z"
   },
   {
    "duration": -243,
    "start_time": "2022-03-11T12:26:17.861Z"
   },
   {
    "duration": -243,
    "start_time": "2022-03-11T12:26:17.862Z"
   },
   {
    "duration": -247,
    "start_time": "2022-03-11T12:26:17.867Z"
   },
   {
    "duration": -251,
    "start_time": "2022-03-11T12:26:17.873Z"
   },
   {
    "duration": -252,
    "start_time": "2022-03-11T12:26:17.875Z"
   },
   {
    "duration": -252,
    "start_time": "2022-03-11T12:26:17.876Z"
   },
   {
    "duration": -251,
    "start_time": "2022-03-11T12:26:17.876Z"
   },
   {
    "duration": -252,
    "start_time": "2022-03-11T12:26:17.878Z"
   },
   {
    "duration": -252,
    "start_time": "2022-03-11T12:26:17.879Z"
   },
   {
    "duration": -252,
    "start_time": "2022-03-11T12:26:17.880Z"
   },
   {
    "duration": -252,
    "start_time": "2022-03-11T12:26:17.881Z"
   },
   {
    "duration": -251,
    "start_time": "2022-03-11T12:26:17.881Z"
   },
   {
    "duration": -250,
    "start_time": "2022-03-11T12:26:17.882Z"
   },
   {
    "duration": -251,
    "start_time": "2022-03-11T12:26:17.884Z"
   },
   {
    "duration": -254,
    "start_time": "2022-03-11T12:26:17.889Z"
   },
   {
    "duration": -254,
    "start_time": "2022-03-11T12:26:17.890Z"
   },
   {
    "duration": -254,
    "start_time": "2022-03-11T12:26:17.891Z"
   },
   {
    "duration": -253,
    "start_time": "2022-03-11T12:26:17.892Z"
   },
   {
    "duration": -252,
    "start_time": "2022-03-11T12:26:17.892Z"
   },
   {
    "duration": -252,
    "start_time": "2022-03-11T12:26:17.893Z"
   },
   {
    "duration": -252,
    "start_time": "2022-03-11T12:26:17.894Z"
   },
   {
    "duration": -267,
    "start_time": "2022-03-11T12:26:17.911Z"
   },
   {
    "duration": -267,
    "start_time": "2022-03-11T12:26:17.912Z"
   },
   {
    "duration": -270,
    "start_time": "2022-03-11T12:26:17.916Z"
   },
   {
    "duration": -270,
    "start_time": "2022-03-11T12:26:17.918Z"
   },
   {
    "duration": -270,
    "start_time": "2022-03-11T12:26:17.919Z"
   },
   {
    "duration": -270,
    "start_time": "2022-03-11T12:26:17.920Z"
   },
   {
    "duration": -273,
    "start_time": "2022-03-11T12:26:17.924Z"
   },
   {
    "duration": -274,
    "start_time": "2022-03-11T12:26:17.926Z"
   },
   {
    "duration": -274,
    "start_time": "2022-03-11T12:26:17.927Z"
   },
   {
    "duration": -251,
    "start_time": "2022-03-11T12:26:17.928Z"
   },
   {
    "duration": -250,
    "start_time": "2022-03-11T12:26:17.928Z"
   },
   {
    "duration": -252,
    "start_time": "2022-03-11T12:26:17.932Z"
   },
   {
    "duration": -253,
    "start_time": "2022-03-11T12:26:17.934Z"
   },
   {
    "duration": -253,
    "start_time": "2022-03-11T12:26:17.935Z"
   },
   {
    "duration": -251,
    "start_time": "2022-03-11T12:26:17.935Z"
   },
   {
    "duration": -251,
    "start_time": "2022-03-11T12:26:17.936Z"
   },
   {
    "duration": -251,
    "start_time": "2022-03-11T12:26:17.937Z"
   },
   {
    "duration": -254,
    "start_time": "2022-03-11T12:26:17.942Z"
   },
   {
    "duration": -254,
    "start_time": "2022-03-11T12:26:17.943Z"
   },
   {
    "duration": -254,
    "start_time": "2022-03-11T12:26:17.944Z"
   },
   {
    "duration": -253,
    "start_time": "2022-03-11T12:26:17.945Z"
   },
   {
    "duration": -253,
    "start_time": "2022-03-11T12:26:17.946Z"
   },
   {
    "duration": -253,
    "start_time": "2022-03-11T12:26:17.947Z"
   },
   {
    "duration": -252,
    "start_time": "2022-03-11T12:26:17.948Z"
   },
   {
    "duration": -252,
    "start_time": "2022-03-11T12:26:17.949Z"
   },
   {
    "duration": -252,
    "start_time": "2022-03-11T12:26:17.950Z"
   },
   {
    "duration": -252,
    "start_time": "2022-03-11T12:26:17.951Z"
   },
   {
    "duration": 657,
    "start_time": "2022-03-11T12:26:17.788Z"
   },
   {
    "duration": 87,
    "start_time": "2022-03-11T12:26:18.447Z"
   },
   {
    "duration": 3,
    "start_time": "2022-03-11T12:26:18.536Z"
   },
   {
    "duration": 171,
    "start_time": "2022-03-11T12:26:18.541Z"
   },
   {
    "duration": 131,
    "start_time": "2022-03-11T12:26:18.714Z"
   },
   {
    "duration": 90,
    "start_time": "2022-03-11T12:26:18.846Z"
   },
   {
    "duration": 16,
    "start_time": "2022-03-11T12:26:18.937Z"
   },
   {
    "duration": 64,
    "start_time": "2022-03-11T12:26:18.955Z"
   },
   {
    "duration": 28,
    "start_time": "2022-03-11T12:26:19.022Z"
   },
   {
    "duration": 30,
    "start_time": "2022-03-11T12:26:19.052Z"
   },
   {
    "duration": 33,
    "start_time": "2022-03-11T12:26:19.084Z"
   },
   {
    "duration": 33,
    "start_time": "2022-03-11T12:26:19.119Z"
   },
   {
    "duration": 29,
    "start_time": "2022-03-11T12:26:19.154Z"
   },
   {
    "duration": 34,
    "start_time": "2022-03-11T12:26:19.184Z"
   },
   {
    "duration": 24,
    "start_time": "2022-03-11T12:26:19.220Z"
   },
   {
    "duration": 16,
    "start_time": "2022-03-11T12:26:19.246Z"
   },
   {
    "duration": 23,
    "start_time": "2022-03-11T12:26:19.264Z"
   },
   {
    "duration": 36,
    "start_time": "2022-03-11T12:26:19.289Z"
   },
   {
    "duration": 16,
    "start_time": "2022-03-11T12:26:19.327Z"
   },
   {
    "duration": 19,
    "start_time": "2022-03-11T12:26:19.345Z"
   },
   {
    "duration": 16,
    "start_time": "2022-03-11T12:26:19.367Z"
   },
   {
    "duration": 25,
    "start_time": "2022-03-11T12:26:19.385Z"
   },
   {
    "duration": 26,
    "start_time": "2022-03-11T12:26:19.412Z"
   },
   {
    "duration": 13,
    "start_time": "2022-03-11T12:26:19.440Z"
   },
   {
    "duration": 31,
    "start_time": "2022-03-11T12:26:19.455Z"
   },
   {
    "duration": 25,
    "start_time": "2022-03-11T12:26:19.488Z"
   },
   {
    "duration": 11,
    "start_time": "2022-03-11T12:26:19.517Z"
   },
   {
    "duration": 25,
    "start_time": "2022-03-11T12:26:19.530Z"
   },
   {
    "duration": 20,
    "start_time": "2022-03-11T12:26:19.557Z"
   },
   {
    "duration": 47,
    "start_time": "2022-03-11T12:26:19.579Z"
   },
   {
    "duration": 41,
    "start_time": "2022-03-11T12:26:19.628Z"
   },
   {
    "duration": 202,
    "start_time": "2022-03-11T12:26:19.671Z"
   },
   {
    "duration": 131,
    "start_time": "2022-03-11T12:26:19.877Z"
   },
   {
    "duration": 1729,
    "start_time": "2022-03-11T12:26:20.010Z"
   },
   {
    "duration": 22,
    "start_time": "2022-03-11T12:26:21.741Z"
   },
   {
    "duration": 34,
    "start_time": "2022-03-11T12:26:21.764Z"
   },
   {
    "duration": 87,
    "start_time": "2022-03-11T12:26:21.800Z"
   },
   {
    "duration": 25,
    "start_time": "2022-03-11T12:26:21.889Z"
   },
   {
    "duration": 19,
    "start_time": "2022-03-11T12:26:21.916Z"
   },
   {
    "duration": 12,
    "start_time": "2022-03-11T12:26:21.937Z"
   },
   {
    "duration": 15,
    "start_time": "2022-03-11T12:26:21.976Z"
   },
   {
    "duration": 40,
    "start_time": "2022-03-11T12:26:21.993Z"
   },
   {
    "duration": 72,
    "start_time": "2022-03-11T12:26:22.035Z"
   },
   {
    "duration": 33,
    "start_time": "2022-03-11T12:26:22.109Z"
   },
   {
    "duration": 34,
    "start_time": "2022-03-11T12:26:22.143Z"
   },
   {
    "duration": 3,
    "start_time": "2022-03-11T12:26:22.179Z"
   },
   {
    "duration": 37,
    "start_time": "2022-03-11T12:26:22.183Z"
   },
   {
    "duration": 7,
    "start_time": "2022-03-11T12:26:22.222Z"
   },
   {
    "duration": 258,
    "start_time": "2022-03-11T12:28:32.126Z"
   },
   {
    "duration": -254,
    "start_time": "2022-03-11T12:28:32.640Z"
   },
   {
    "duration": 567,
    "start_time": "2022-03-11T12:28:32.440Z"
   },
   {
    "duration": 91,
    "start_time": "2022-03-11T12:28:33.009Z"
   },
   {
    "duration": 3,
    "start_time": "2022-03-11T12:28:33.102Z"
   },
   {
    "duration": 176,
    "start_time": "2022-03-11T12:28:33.107Z"
   },
   {
    "duration": 140,
    "start_time": "2022-03-11T12:28:33.285Z"
   },
   {
    "duration": 90,
    "start_time": "2022-03-11T12:28:33.427Z"
   },
   {
    "duration": 16,
    "start_time": "2022-03-11T12:28:33.519Z"
   },
   {
    "duration": 57,
    "start_time": "2022-03-11T12:28:33.537Z"
   },
   {
    "duration": 21,
    "start_time": "2022-03-11T12:28:33.598Z"
   },
   {
    "duration": 27,
    "start_time": "2022-03-11T12:28:33.622Z"
   },
   {
    "duration": 34,
    "start_time": "2022-03-11T12:28:33.651Z"
   },
   {
    "duration": 49,
    "start_time": "2022-03-11T12:28:33.687Z"
   },
   {
    "duration": 9,
    "start_time": "2022-03-11T12:28:33.738Z"
   },
   {
    "duration": 26,
    "start_time": "2022-03-11T12:28:33.748Z"
   },
   {
    "duration": 26,
    "start_time": "2022-03-11T12:28:33.776Z"
   },
   {
    "duration": 8,
    "start_time": "2022-03-11T12:28:33.804Z"
   },
   {
    "duration": 46,
    "start_time": "2022-03-11T12:28:33.813Z"
   },
   {
    "duration": 38,
    "start_time": "2022-03-11T12:28:33.861Z"
   },
   {
    "duration": 12,
    "start_time": "2022-03-11T12:28:33.901Z"
   },
   {
    "duration": 32,
    "start_time": "2022-03-11T12:28:33.915Z"
   },
   {
    "duration": 23,
    "start_time": "2022-03-11T12:28:33.949Z"
   },
   {
    "duration": 24,
    "start_time": "2022-03-11T12:28:33.974Z"
   },
   {
    "duration": 25,
    "start_time": "2022-03-11T12:28:34.000Z"
   },
   {
    "duration": 19,
    "start_time": "2022-03-11T12:28:34.027Z"
   },
   {
    "duration": 30,
    "start_time": "2022-03-11T12:28:34.048Z"
   },
   {
    "duration": 19,
    "start_time": "2022-03-11T12:28:34.080Z"
   },
   {
    "duration": 21,
    "start_time": "2022-03-11T12:28:34.103Z"
   },
   {
    "duration": 18,
    "start_time": "2022-03-11T12:28:34.127Z"
   },
   {
    "duration": 29,
    "start_time": "2022-03-11T12:28:34.147Z"
   },
   {
    "duration": 53,
    "start_time": "2022-03-11T12:28:34.178Z"
   },
   {
    "duration": 52,
    "start_time": "2022-03-11T12:28:34.233Z"
   },
   {
    "duration": 200,
    "start_time": "2022-03-11T12:28:34.287Z"
   },
   {
    "duration": 130,
    "start_time": "2022-03-11T12:28:34.489Z"
   },
   {
    "duration": 1712,
    "start_time": "2022-03-11T12:28:34.621Z"
   },
   {
    "duration": 23,
    "start_time": "2022-03-11T12:28:36.335Z"
   },
   {
    "duration": 35,
    "start_time": "2022-03-11T12:28:36.360Z"
   },
   {
    "duration": 85,
    "start_time": "2022-03-11T12:28:36.397Z"
   },
   {
    "duration": 25,
    "start_time": "2022-03-11T12:28:36.483Z"
   },
   {
    "duration": 17,
    "start_time": "2022-03-11T12:28:36.510Z"
   },
   {
    "duration": 17,
    "start_time": "2022-03-11T12:28:36.528Z"
   },
   {
    "duration": 37,
    "start_time": "2022-03-11T12:28:36.547Z"
   },
   {
    "duration": 252,
    "start_time": "2022-03-11T12:28:36.586Z"
   },
   {
    "duration": -249,
    "start_time": "2022-03-11T12:28:37.089Z"
   },
   {
    "duration": -250,
    "start_time": "2022-03-11T12:28:37.091Z"
   },
   {
    "duration": -250,
    "start_time": "2022-03-11T12:28:37.092Z"
   },
   {
    "duration": -250,
    "start_time": "2022-03-11T12:28:37.093Z"
   },
   {
    "duration": -249,
    "start_time": "2022-03-11T12:28:37.094Z"
   },
   {
    "duration": -253,
    "start_time": "2022-03-11T12:28:37.099Z"
   },
   {
    "duration": -253,
    "start_time": "2022-03-11T12:28:37.100Z"
   },
   {
    "duration": -253,
    "start_time": "2022-03-11T12:28:37.101Z"
   },
   {
    "duration": 20,
    "start_time": "2022-03-11T12:28:56.857Z"
   },
   {
    "duration": 22,
    "start_time": "2022-03-11T12:32:38.700Z"
   },
   {
    "duration": 7,
    "start_time": "2022-03-11T12:35:49.081Z"
   },
   {
    "duration": 7,
    "start_time": "2022-03-11T12:38:22.366Z"
   },
   {
    "duration": 257,
    "start_time": "2022-03-11T12:39:52.859Z"
   },
   {
    "duration": 450,
    "start_time": "2022-03-11T12:40:33.530Z"
   },
   {
    "duration": 461,
    "start_time": "2022-03-11T12:40:42.726Z"
   },
   {
    "duration": 641,
    "start_time": "2022-03-11T13:07:44.569Z"
   },
   {
    "duration": 83,
    "start_time": "2022-03-11T13:07:45.213Z"
   },
   {
    "duration": 3,
    "start_time": "2022-03-11T13:07:45.298Z"
   },
   {
    "duration": 168,
    "start_time": "2022-03-11T13:07:45.303Z"
   },
   {
    "duration": 131,
    "start_time": "2022-03-11T13:07:45.473Z"
   },
   {
    "duration": 86,
    "start_time": "2022-03-11T13:07:45.605Z"
   },
   {
    "duration": 15,
    "start_time": "2022-03-11T13:07:45.693Z"
   },
   {
    "duration": 62,
    "start_time": "2022-03-11T13:07:45.711Z"
   },
   {
    "duration": 15,
    "start_time": "2022-03-11T13:07:45.775Z"
   },
   {
    "duration": 15,
    "start_time": "2022-03-11T13:07:45.792Z"
   },
   {
    "duration": 30,
    "start_time": "2022-03-11T13:07:45.809Z"
   },
   {
    "duration": 58,
    "start_time": "2022-03-11T13:07:45.841Z"
   },
   {
    "duration": 10,
    "start_time": "2022-03-11T13:07:45.901Z"
   },
   {
    "duration": 21,
    "start_time": "2022-03-11T13:07:45.913Z"
   },
   {
    "duration": 42,
    "start_time": "2022-03-11T13:07:45.936Z"
   },
   {
    "duration": 8,
    "start_time": "2022-03-11T13:07:45.979Z"
   },
   {
    "duration": 18,
    "start_time": "2022-03-11T13:07:45.989Z"
   },
   {
    "duration": 18,
    "start_time": "2022-03-11T13:07:46.009Z"
   },
   {
    "duration": 8,
    "start_time": "2022-03-11T13:07:46.029Z"
   },
   {
    "duration": 40,
    "start_time": "2022-03-11T13:07:46.039Z"
   },
   {
    "duration": 8,
    "start_time": "2022-03-11T13:07:46.080Z"
   },
   {
    "duration": 13,
    "start_time": "2022-03-11T13:07:46.090Z"
   },
   {
    "duration": 6,
    "start_time": "2022-03-11T13:07:46.107Z"
   },
   {
    "duration": 7,
    "start_time": "2022-03-11T13:07:46.115Z"
   },
   {
    "duration": 19,
    "start_time": "2022-03-11T13:07:46.124Z"
   },
   {
    "duration": 41,
    "start_time": "2022-03-11T13:07:46.144Z"
   },
   {
    "duration": 10,
    "start_time": "2022-03-11T13:07:46.187Z"
   },
   {
    "duration": 6,
    "start_time": "2022-03-11T13:07:46.198Z"
   },
   {
    "duration": 9,
    "start_time": "2022-03-11T13:07:46.206Z"
   },
   {
    "duration": 34,
    "start_time": "2022-03-11T13:07:46.216Z"
   },
   {
    "duration": 38,
    "start_time": "2022-03-11T13:07:46.278Z"
   },
   {
    "duration": 202,
    "start_time": "2022-03-11T13:07:46.317Z"
   },
   {
    "duration": 131,
    "start_time": "2022-03-11T13:07:46.520Z"
   },
   {
    "duration": 1693,
    "start_time": "2022-03-11T13:07:46.653Z"
   },
   {
    "duration": 20,
    "start_time": "2022-03-11T13:07:48.348Z"
   },
   {
    "duration": 307,
    "start_time": "2022-03-11T13:07:48.378Z"
   },
   {
    "duration": 74,
    "start_time": "2022-03-11T13:07:48.687Z"
   },
   {
    "duration": 37,
    "start_time": "2022-03-11T13:07:48.763Z"
   },
   {
    "duration": 15,
    "start_time": "2022-03-11T13:07:48.802Z"
   },
   {
    "duration": 12,
    "start_time": "2022-03-11T13:07:48.819Z"
   },
   {
    "duration": 46,
    "start_time": "2022-03-11T13:07:48.833Z"
   },
   {
    "duration": 21,
    "start_time": "2022-03-11T13:07:48.880Z"
   },
   {
    "duration": 21,
    "start_time": "2022-03-11T13:07:48.902Z"
   },
   {
    "duration": 7,
    "start_time": "2022-03-11T13:07:48.924Z"
   },
   {
    "duration": 10,
    "start_time": "2022-03-11T13:07:48.933Z"
   },
   {
    "duration": 508,
    "start_time": "2022-03-11T13:10:11.854Z"
   },
   {
    "duration": 224,
    "start_time": "2022-03-11T13:11:00.571Z"
   },
   {
    "duration": 6,
    "start_time": "2022-03-11T13:11:20.525Z"
   },
   {
    "duration": 1410,
    "start_time": "2022-03-11T13:11:23.328Z"
   },
   {
    "duration": 288,
    "start_time": "2022-03-11T13:11:43.476Z"
   },
   {
    "duration": -337,
    "start_time": "2022-03-11T13:13:02.455Z"
   },
   {
    "duration": -338,
    "start_time": "2022-03-11T13:13:02.457Z"
   },
   {
    "duration": -350,
    "start_time": "2022-03-11T13:13:02.470Z"
   },
   {
    "duration": -352,
    "start_time": "2022-03-11T13:13:02.474Z"
   },
   {
    "duration": -363,
    "start_time": "2022-03-11T13:13:02.486Z"
   },
   {
    "duration": -366,
    "start_time": "2022-03-11T13:13:02.490Z"
   },
   {
    "duration": -366,
    "start_time": "2022-03-11T13:13:02.491Z"
   },
   {
    "duration": -366,
    "start_time": "2022-03-11T13:13:02.492Z"
   },
   {
    "duration": -367,
    "start_time": "2022-03-11T13:13:02.494Z"
   },
   {
    "duration": -369,
    "start_time": "2022-03-11T13:13:02.498Z"
   },
   {
    "duration": -369,
    "start_time": "2022-03-11T13:13:02.499Z"
   },
   {
    "duration": -372,
    "start_time": "2022-03-11T13:13:02.503Z"
   },
   {
    "duration": -372,
    "start_time": "2022-03-11T13:13:02.505Z"
   },
   {
    "duration": -372,
    "start_time": "2022-03-11T13:13:02.506Z"
   },
   {
    "duration": -372,
    "start_time": "2022-03-11T13:13:02.507Z"
   },
   {
    "duration": -375,
    "start_time": "2022-03-11T13:13:02.511Z"
   },
   {
    "duration": -375,
    "start_time": "2022-03-11T13:13:02.512Z"
   },
   {
    "duration": -375,
    "start_time": "2022-03-11T13:13:02.514Z"
   },
   {
    "duration": -378,
    "start_time": "2022-03-11T13:13:02.518Z"
   },
   {
    "duration": -378,
    "start_time": "2022-03-11T13:13:02.519Z"
   },
   {
    "duration": -378,
    "start_time": "2022-03-11T13:13:02.520Z"
   },
   {
    "duration": -380,
    "start_time": "2022-03-11T13:13:02.524Z"
   },
   {
    "duration": -381,
    "start_time": "2022-03-11T13:13:02.526Z"
   },
   {
    "duration": -380,
    "start_time": "2022-03-11T13:13:02.526Z"
   },
   {
    "duration": -380,
    "start_time": "2022-03-11T13:13:02.527Z"
   },
   {
    "duration": -351,
    "start_time": "2022-03-11T13:13:02.528Z"
   },
   {
    "duration": -352,
    "start_time": "2022-03-11T13:13:02.532Z"
   },
   {
    "duration": -352,
    "start_time": "2022-03-11T13:13:02.533Z"
   },
   {
    "duration": -351,
    "start_time": "2022-03-11T13:13:02.534Z"
   },
   {
    "duration": -351,
    "start_time": "2022-03-11T13:13:02.535Z"
   },
   {
    "duration": -351,
    "start_time": "2022-03-11T13:13:02.536Z"
   },
   {
    "duration": -354,
    "start_time": "2022-03-11T13:13:02.540Z"
   },
   {
    "duration": -353,
    "start_time": "2022-03-11T13:13:02.541Z"
   },
   {
    "duration": -353,
    "start_time": "2022-03-11T13:13:02.542Z"
   },
   {
    "duration": -353,
    "start_time": "2022-03-11T13:13:02.543Z"
   },
   {
    "duration": -353,
    "start_time": "2022-03-11T13:13:02.544Z"
   },
   {
    "duration": -355,
    "start_time": "2022-03-11T13:13:02.548Z"
   },
   {
    "duration": -394,
    "start_time": "2022-03-11T13:13:02.588Z"
   },
   {
    "duration": -393,
    "start_time": "2022-03-11T13:13:02.590Z"
   },
   {
    "duration": -398,
    "start_time": "2022-03-11T13:13:02.597Z"
   },
   {
    "duration": -398,
    "start_time": "2022-03-11T13:13:02.598Z"
   },
   {
    "duration": -397,
    "start_time": "2022-03-11T13:13:02.599Z"
   },
   {
    "duration": -396,
    "start_time": "2022-03-11T13:13:02.600Z"
   },
   {
    "duration": -399,
    "start_time": "2022-03-11T13:13:02.604Z"
   },
   {
    "duration": -399,
    "start_time": "2022-03-11T13:13:02.606Z"
   },
   {
    "duration": 3,
    "start_time": "2022-03-11T13:22:37.204Z"
   },
   {
    "duration": 3,
    "start_time": "2022-03-11T13:22:39.848Z"
   },
   {
    "duration": 3,
    "start_time": "2022-03-11T13:22:41.775Z"
   },
   {
    "duration": 146,
    "start_time": "2022-03-11T13:22:43.398Z"
   },
   {
    "duration": 121,
    "start_time": "2022-03-11T13:22:44.578Z"
   },
   {
    "duration": 89,
    "start_time": "2022-03-11T13:22:45.710Z"
   },
   {
    "duration": 16,
    "start_time": "2022-03-11T13:22:46.833Z"
   },
   {
    "duration": 35,
    "start_time": "2022-03-11T13:22:48.503Z"
   },
   {
    "duration": 9,
    "start_time": "2022-03-11T13:22:53.715Z"
   },
   {
    "duration": 12,
    "start_time": "2022-03-11T13:22:58.902Z"
   },
   {
    "duration": 22,
    "start_time": "2022-03-11T13:23:00.242Z"
   },
   {
    "duration": 31,
    "start_time": "2022-03-11T13:23:03.506Z"
   },
   {
    "duration": 10,
    "start_time": "2022-03-11T13:23:06.147Z"
   },
   {
    "duration": 21,
    "start_time": "2022-03-11T13:23:08.118Z"
   },
   {
    "duration": 22,
    "start_time": "2022-03-11T13:23:09.909Z"
   },
   {
    "duration": 8,
    "start_time": "2022-03-11T13:23:13.586Z"
   },
   {
    "duration": 16,
    "start_time": "2022-03-11T13:23:16.118Z"
   },
   {
    "duration": 18,
    "start_time": "2022-03-11T13:23:18.197Z"
   },
   {
    "duration": 8,
    "start_time": "2022-03-11T13:23:21.297Z"
   },
   {
    "duration": 9,
    "start_time": "2022-03-11T13:23:23.439Z"
   },
   {
    "duration": 7,
    "start_time": "2022-03-11T13:23:27.004Z"
   },
   {
    "duration": 11,
    "start_time": "2022-03-11T13:23:29.020Z"
   },
   {
    "duration": 7,
    "start_time": "2022-03-11T13:23:31.454Z"
   },
   {
    "duration": 4,
    "start_time": "2022-03-11T13:23:44.745Z"
   },
   {
    "duration": 4,
    "start_time": "2022-03-11T13:23:51.124Z"
   },
   {
    "duration": 14,
    "start_time": "2022-03-11T13:23:54.864Z"
   },
   {
    "duration": 12,
    "start_time": "2022-03-11T13:23:56.849Z"
   },
   {
    "duration": 11,
    "start_time": "2022-03-11T13:23:58.268Z"
   },
   {
    "duration": 6,
    "start_time": "2022-03-11T13:24:00.062Z"
   },
   {
    "duration": 6,
    "start_time": "2022-03-11T13:24:01.046Z"
   },
   {
    "duration": 31,
    "start_time": "2022-03-11T13:24:03.854Z"
   },
   {
    "duration": 19,
    "start_time": "2022-03-11T13:24:07.644Z"
   },
   {
    "duration": 164,
    "start_time": "2022-03-11T13:24:16.892Z"
   },
   {
    "duration": 13,
    "start_time": "2022-03-11T13:26:19.446Z"
   },
   {
    "duration": 1893,
    "start_time": "2022-03-11T13:27:00.139Z"
   },
   {
    "duration": 772,
    "start_time": "2022-03-11T13:27:42.423Z"
   },
   {
    "duration": 221,
    "start_time": "2022-03-11T13:29:05.586Z"
   },
   {
    "duration": 309,
    "start_time": "2022-03-11T13:29:59.653Z"
   },
   {
    "duration": 624,
    "start_time": "2022-03-11T13:31:24.660Z"
   },
   {
    "duration": 85,
    "start_time": "2022-03-11T13:31:25.286Z"
   },
   {
    "duration": 3,
    "start_time": "2022-03-11T13:31:25.377Z"
   },
   {
    "duration": 172,
    "start_time": "2022-03-11T13:31:25.382Z"
   },
   {
    "duration": 138,
    "start_time": "2022-03-11T13:31:25.556Z"
   },
   {
    "duration": 92,
    "start_time": "2022-03-11T13:31:25.696Z"
   },
   {
    "duration": 17,
    "start_time": "2022-03-11T13:31:25.790Z"
   },
   {
    "duration": 61,
    "start_time": "2022-03-11T13:31:25.809Z"
   },
   {
    "duration": 22,
    "start_time": "2022-03-11T13:31:25.874Z"
   },
   {
    "duration": 29,
    "start_time": "2022-03-11T13:31:25.898Z"
   },
   {
    "duration": 36,
    "start_time": "2022-03-11T13:31:25.928Z"
   },
   {
    "duration": 34,
    "start_time": "2022-03-11T13:31:25.966Z"
   },
   {
    "duration": 11,
    "start_time": "2022-03-11T13:31:26.002Z"
   },
   {
    "duration": 33,
    "start_time": "2022-03-11T13:31:26.015Z"
   },
   {
    "duration": 32,
    "start_time": "2022-03-11T13:31:26.050Z"
   },
   {
    "duration": 8,
    "start_time": "2022-03-11T13:31:26.085Z"
   },
   {
    "duration": 22,
    "start_time": "2022-03-11T13:31:26.095Z"
   },
   {
    "duration": 40,
    "start_time": "2022-03-11T13:31:26.118Z"
   },
   {
    "duration": 10,
    "start_time": "2022-03-11T13:31:26.160Z"
   },
   {
    "duration": 31,
    "start_time": "2022-03-11T13:31:26.171Z"
   },
   {
    "duration": 20,
    "start_time": "2022-03-11T13:31:26.204Z"
   },
   {
    "duration": 18,
    "start_time": "2022-03-11T13:31:26.227Z"
   },
   {
    "duration": 26,
    "start_time": "2022-03-11T13:31:26.247Z"
   },
   {
    "duration": 18,
    "start_time": "2022-03-11T13:31:26.275Z"
   },
   {
    "duration": 40,
    "start_time": "2022-03-11T13:31:26.295Z"
   },
   {
    "duration": 19,
    "start_time": "2022-03-11T13:31:26.337Z"
   },
   {
    "duration": 12,
    "start_time": "2022-03-11T13:31:26.360Z"
   },
   {
    "duration": 14,
    "start_time": "2022-03-11T13:31:26.374Z"
   },
   {
    "duration": 21,
    "start_time": "2022-03-11T13:31:26.390Z"
   },
   {
    "duration": 53,
    "start_time": "2022-03-11T13:31:26.413Z"
   },
   {
    "duration": 31,
    "start_time": "2022-03-11T13:31:26.469Z"
   },
   {
    "duration": 12,
    "start_time": "2022-03-11T13:31:26.502Z"
   },
   {
    "duration": 223,
    "start_time": "2022-03-11T13:31:26.515Z"
   },
   {
    "duration": 349,
    "start_time": "2022-03-11T13:31:26.740Z"
   },
   {
    "duration": -359,
    "start_time": "2022-03-11T13:31:27.451Z"
   },
   {
    "duration": -359,
    "start_time": "2022-03-11T13:31:27.452Z"
   },
   {
    "duration": -363,
    "start_time": "2022-03-11T13:31:27.457Z"
   },
   {
    "duration": -363,
    "start_time": "2022-03-11T13:31:27.458Z"
   },
   {
    "duration": -363,
    "start_time": "2022-03-11T13:31:27.459Z"
   },
   {
    "duration": -363,
    "start_time": "2022-03-11T13:31:27.460Z"
   },
   {
    "duration": -363,
    "start_time": "2022-03-11T13:31:27.461Z"
   },
   {
    "duration": -373,
    "start_time": "2022-03-11T13:31:27.472Z"
   },
   {
    "duration": -376,
    "start_time": "2022-03-11T13:31:27.476Z"
   },
   {
    "duration": -376,
    "start_time": "2022-03-11T13:31:27.477Z"
   },
   {
    "duration": -376,
    "start_time": "2022-03-11T13:31:27.478Z"
   },
   {
    "duration": -376,
    "start_time": "2022-03-11T13:31:27.479Z"
   },
   {
    "duration": -375,
    "start_time": "2022-03-11T13:31:27.479Z"
   },
   {
    "duration": 3,
    "start_time": "2022-03-11T13:33:03.233Z"
   },
   {
    "duration": 3,
    "start_time": "2022-03-11T13:33:06.748Z"
   },
   {
    "duration": 3,
    "start_time": "2022-03-11T13:33:09.130Z"
   },
   {
    "duration": 149,
    "start_time": "2022-03-11T13:33:11.769Z"
   },
   {
    "duration": 131,
    "start_time": "2022-03-11T13:33:13.930Z"
   },
   {
    "duration": 87,
    "start_time": "2022-03-11T13:33:15.659Z"
   },
   {
    "duration": 17,
    "start_time": "2022-03-11T13:33:17.023Z"
   },
   {
    "duration": 33,
    "start_time": "2022-03-11T13:33:18.075Z"
   },
   {
    "duration": 10,
    "start_time": "2022-03-11T13:33:19.346Z"
   },
   {
    "duration": 14,
    "start_time": "2022-03-11T13:33:22.480Z"
   },
   {
    "duration": 24,
    "start_time": "2022-03-11T13:33:24.105Z"
   },
   {
    "duration": 30,
    "start_time": "2022-03-11T13:33:26.402Z"
   },
   {
    "duration": 10,
    "start_time": "2022-03-11T13:33:27.716Z"
   },
   {
    "duration": 18,
    "start_time": "2022-03-11T13:33:28.601Z"
   },
   {
    "duration": 22,
    "start_time": "2022-03-11T13:33:30.588Z"
   },
   {
    "duration": 10,
    "start_time": "2022-03-11T13:33:31.797Z"
   },
   {
    "duration": 16,
    "start_time": "2022-03-11T13:33:34.549Z"
   },
   {
    "duration": 19,
    "start_time": "2022-03-11T13:33:36.241Z"
   },
   {
    "duration": 12,
    "start_time": "2022-03-11T13:33:37.380Z"
   },
   {
    "duration": 10,
    "start_time": "2022-03-11T13:33:38.917Z"
   },
   {
    "duration": 7,
    "start_time": "2022-03-11T13:33:40.601Z"
   },
   {
    "duration": 12,
    "start_time": "2022-03-11T13:33:42.851Z"
   },
   {
    "duration": 8,
    "start_time": "2022-03-11T13:33:44.623Z"
   },
   {
    "duration": 5,
    "start_time": "2022-03-11T13:33:46.344Z"
   },
   {
    "duration": 16,
    "start_time": "2022-03-11T13:33:48.123Z"
   },
   {
    "duration": 14,
    "start_time": "2022-03-11T13:33:50.470Z"
   },
   {
    "duration": 12,
    "start_time": "2022-03-11T13:33:52.300Z"
   },
   {
    "duration": 8,
    "start_time": "2022-03-11T13:33:54.157Z"
   },
   {
    "duration": 7,
    "start_time": "2022-03-11T13:33:55.109Z"
   },
   {
    "duration": 30,
    "start_time": "2022-03-11T13:33:57.781Z"
   },
   {
    "duration": 19,
    "start_time": "2022-03-11T13:33:59.448Z"
   },
   {
    "duration": 14,
    "start_time": "2022-03-11T13:34:04.757Z"
   },
   {
    "duration": 167,
    "start_time": "2022-03-11T13:34:10.097Z"
   },
   {
    "duration": 256,
    "start_time": "2022-03-11T13:36:41.708Z"
   },
   {
    "duration": 153,
    "start_time": "2022-03-11T13:36:51.982Z"
   },
   {
    "duration": 146,
    "start_time": "2022-03-11T13:36:56.887Z"
   },
   {
    "duration": 90,
    "start_time": "2022-03-11T13:37:13.878Z"
   },
   {
    "duration": 13,
    "start_time": "2022-03-11T13:37:16.687Z"
   },
   {
    "duration": 1819,
    "start_time": "2022-03-11T13:37:24.617Z"
   },
   {
    "duration": 1058,
    "start_time": "2022-03-11T13:37:31.007Z"
   },
   {
    "duration": 220,
    "start_time": "2022-03-11T13:38:06.245Z"
   },
   {
    "duration": 22,
    "start_time": "2022-03-11T13:38:43.289Z"
   },
   {
    "duration": 303,
    "start_time": "2022-03-11T13:38:57.541Z"
   },
   {
    "duration": 19,
    "start_time": "2022-03-11T13:39:27.482Z"
   },
   {
    "duration": 12,
    "start_time": "2022-03-11T13:40:32.587Z"
   },
   {
    "duration": 30,
    "start_time": "2022-03-11T13:43:14.803Z"
   },
   {
    "duration": 18,
    "start_time": "2022-03-11T13:43:19.158Z"
   },
   {
    "duration": 14,
    "start_time": "2022-03-11T13:43:22.708Z"
   },
   {
    "duration": 17,
    "start_time": "2022-03-11T13:43:26.891Z"
   },
   {
    "duration": 22,
    "start_time": "2022-03-11T13:43:32.187Z"
   },
   {
    "duration": 20,
    "start_time": "2022-03-11T13:43:35.240Z"
   },
   {
    "duration": 7,
    "start_time": "2022-03-11T13:43:38.548Z"
   },
   {
    "duration": 8,
    "start_time": "2022-03-11T13:43:42.156Z"
   },
   {
    "duration": 31,
    "start_time": "2022-03-11T13:46:48.638Z"
   },
   {
    "duration": 8,
    "start_time": "2022-03-11T13:51:37.541Z"
   },
   {
    "duration": 11,
    "start_time": "2022-03-11T13:54:44.968Z"
   },
   {
    "duration": 15,
    "start_time": "2022-03-11T13:56:14.443Z"
   },
   {
    "duration": 16,
    "start_time": "2022-03-11T13:59:25.653Z"
   },
   {
    "duration": 17,
    "start_time": "2022-03-11T14:01:40.226Z"
   },
   {
    "duration": 8,
    "start_time": "2022-03-11T14:04:58.759Z"
   },
   {
    "duration": 8,
    "start_time": "2022-03-11T14:06:09.748Z"
   },
   {
    "duration": 222,
    "start_time": "2022-03-11T14:06:41.724Z"
   },
   {
    "duration": 18,
    "start_time": "2022-03-11T14:07:05.963Z"
   },
   {
    "duration": 19,
    "start_time": "2022-03-11T14:07:20.626Z"
   },
   {
    "duration": 17,
    "start_time": "2022-03-11T14:07:23.298Z"
   },
   {
    "duration": 213,
    "start_time": "2022-03-11T14:07:27.373Z"
   },
   {
    "duration": 18,
    "start_time": "2022-03-11T14:09:01.271Z"
   },
   {
    "duration": 12,
    "start_time": "2022-03-11T14:10:49.292Z"
   },
   {
    "duration": 14,
    "start_time": "2022-03-11T14:12:53.642Z"
   },
   {
    "duration": 581,
    "start_time": "2022-03-11T14:15:15.439Z"
   },
   {
    "duration": 90,
    "start_time": "2022-03-11T14:15:16.022Z"
   },
   {
    "duration": 2,
    "start_time": "2022-03-11T14:15:16.117Z"
   },
   {
    "duration": 179,
    "start_time": "2022-03-11T14:15:16.122Z"
   },
   {
    "duration": 142,
    "start_time": "2022-03-11T14:15:16.303Z"
   },
   {
    "duration": 95,
    "start_time": "2022-03-11T14:15:16.447Z"
   },
   {
    "duration": 16,
    "start_time": "2022-03-11T14:15:16.544Z"
   },
   {
    "duration": 40,
    "start_time": "2022-03-11T14:15:16.562Z"
   },
   {
    "duration": 12,
    "start_time": "2022-03-11T14:15:16.604Z"
   },
   {
    "duration": 12,
    "start_time": "2022-03-11T14:15:16.619Z"
   },
   {
    "duration": 23,
    "start_time": "2022-03-11T14:15:16.633Z"
   },
   {
    "duration": 41,
    "start_time": "2022-03-11T14:15:16.658Z"
   },
   {
    "duration": 10,
    "start_time": "2022-03-11T14:15:16.701Z"
   },
   {
    "duration": 21,
    "start_time": "2022-03-11T14:15:16.713Z"
   },
   {
    "duration": 47,
    "start_time": "2022-03-11T14:15:16.736Z"
   },
   {
    "duration": 8,
    "start_time": "2022-03-11T14:15:16.785Z"
   },
   {
    "duration": 21,
    "start_time": "2022-03-11T14:15:16.795Z"
   },
   {
    "duration": 22,
    "start_time": "2022-03-11T14:15:16.817Z"
   },
   {
    "duration": 9,
    "start_time": "2022-03-11T14:15:16.841Z"
   },
   {
    "duration": 30,
    "start_time": "2022-03-11T14:15:16.851Z"
   },
   {
    "duration": 9,
    "start_time": "2022-03-11T14:15:16.882Z"
   },
   {
    "duration": 12,
    "start_time": "2022-03-11T14:15:16.896Z"
   },
   {
    "duration": 8,
    "start_time": "2022-03-11T14:15:16.911Z"
   },
   {
    "duration": 11,
    "start_time": "2022-03-11T14:15:16.921Z"
   },
   {
    "duration": 48,
    "start_time": "2022-03-11T14:15:16.934Z"
   },
   {
    "duration": 12,
    "start_time": "2022-03-11T14:15:16.984Z"
   },
   {
    "duration": 11,
    "start_time": "2022-03-11T14:15:16.998Z"
   },
   {
    "duration": 5,
    "start_time": "2022-03-11T14:15:17.012Z"
   },
   {
    "duration": 8,
    "start_time": "2022-03-11T14:15:17.019Z"
   },
   {
    "duration": 65,
    "start_time": "2022-03-11T14:15:17.029Z"
   },
   {
    "duration": 31,
    "start_time": "2022-03-11T14:15:17.095Z"
   },
   {
    "duration": 12,
    "start_time": "2022-03-11T14:15:17.127Z"
   },
   {
    "duration": 224,
    "start_time": "2022-03-11T14:15:17.141Z"
   },
   {
    "duration": 361,
    "start_time": "2022-03-11T14:15:17.367Z"
   },
   {
    "duration": -440,
    "start_time": "2022-03-11T14:15:18.170Z"
   },
   {
    "duration": -441,
    "start_time": "2022-03-11T14:15:18.172Z"
   },
   {
    "duration": -441,
    "start_time": "2022-03-11T14:15:18.173Z"
   },
   {
    "duration": -441,
    "start_time": "2022-03-11T14:15:18.174Z"
   },
   {
    "duration": -440,
    "start_time": "2022-03-11T14:15:18.174Z"
   },
   {
    "duration": -445,
    "start_time": "2022-03-11T14:15:18.180Z"
   },
   {
    "duration": -446,
    "start_time": "2022-03-11T14:15:18.182Z"
   },
   {
    "duration": -446,
    "start_time": "2022-03-11T14:15:18.183Z"
   },
   {
    "duration": -447,
    "start_time": "2022-03-11T14:15:18.185Z"
   },
   {
    "duration": -447,
    "start_time": "2022-03-11T14:15:18.186Z"
   },
   {
    "duration": -447,
    "start_time": "2022-03-11T14:15:18.187Z"
   },
   {
    "duration": -447,
    "start_time": "2022-03-11T14:15:18.188Z"
   },
   {
    "duration": -447,
    "start_time": "2022-03-11T14:15:18.189Z"
   },
   {
    "duration": -448,
    "start_time": "2022-03-11T14:15:18.190Z"
   },
   {
    "duration": -448,
    "start_time": "2022-03-11T14:15:18.191Z"
   },
   {
    "duration": -447,
    "start_time": "2022-03-11T14:15:18.192Z"
   },
   {
    "duration": -446,
    "start_time": "2022-03-11T14:15:18.192Z"
   },
   {
    "duration": -451,
    "start_time": "2022-03-11T14:15:18.198Z"
   },
   {
    "duration": -451,
    "start_time": "2022-03-11T14:15:18.199Z"
   },
   {
    "duration": -452,
    "start_time": "2022-03-11T14:15:18.201Z"
   },
   {
    "duration": -452,
    "start_time": "2022-03-11T14:15:18.202Z"
   },
   {
    "duration": -452,
    "start_time": "2022-03-11T14:15:18.203Z"
   },
   {
    "duration": 212,
    "start_time": "2022-03-11T14:22:04.948Z"
   },
   {
    "duration": 12,
    "start_time": "2022-03-11T14:28:32.575Z"
   },
   {
    "duration": 632,
    "start_time": "2022-03-11T14:29:23.527Z"
   },
   {
    "duration": 93,
    "start_time": "2022-03-11T14:29:24.162Z"
   },
   {
    "duration": 3,
    "start_time": "2022-03-11T14:29:24.257Z"
   },
   {
    "duration": 194,
    "start_time": "2022-03-11T14:29:24.262Z"
   },
   {
    "duration": 144,
    "start_time": "2022-03-11T14:29:24.457Z"
   },
   {
    "duration": 101,
    "start_time": "2022-03-11T14:29:24.603Z"
   },
   {
    "duration": 16,
    "start_time": "2022-03-11T14:29:24.705Z"
   },
   {
    "duration": 41,
    "start_time": "2022-03-11T14:29:24.723Z"
   },
   {
    "duration": 20,
    "start_time": "2022-03-11T14:29:24.767Z"
   },
   {
    "duration": 26,
    "start_time": "2022-03-11T14:29:24.791Z"
   },
   {
    "duration": 24,
    "start_time": "2022-03-11T14:29:24.819Z"
   },
   {
    "duration": 53,
    "start_time": "2022-03-11T14:29:24.846Z"
   },
   {
    "duration": 10,
    "start_time": "2022-03-11T14:29:24.901Z"
   },
   {
    "duration": 23,
    "start_time": "2022-03-11T14:29:24.913Z"
   },
   {
    "duration": 52,
    "start_time": "2022-03-11T14:29:24.939Z"
   },
   {
    "duration": 9,
    "start_time": "2022-03-11T14:29:24.993Z"
   },
   {
    "duration": 22,
    "start_time": "2022-03-11T14:29:25.004Z"
   },
   {
    "duration": 57,
    "start_time": "2022-03-11T14:29:25.028Z"
   },
   {
    "duration": 9,
    "start_time": "2022-03-11T14:29:25.088Z"
   },
   {
    "duration": 13,
    "start_time": "2022-03-11T14:29:25.099Z"
   },
   {
    "duration": 11,
    "start_time": "2022-03-11T14:29:25.114Z"
   },
   {
    "duration": 62,
    "start_time": "2022-03-11T14:29:25.126Z"
   },
   {
    "duration": 9,
    "start_time": "2022-03-11T14:29:25.190Z"
   },
   {
    "duration": 8,
    "start_time": "2022-03-11T14:29:25.202Z"
   },
   {
    "duration": 23,
    "start_time": "2022-03-11T14:29:25.212Z"
   },
   {
    "duration": 44,
    "start_time": "2022-03-11T14:29:25.237Z"
   },
   {
    "duration": 13,
    "start_time": "2022-03-11T14:29:25.287Z"
   },
   {
    "duration": 9,
    "start_time": "2022-03-11T14:29:25.303Z"
   },
   {
    "duration": 10,
    "start_time": "2022-03-11T14:29:25.314Z"
   },
   {
    "duration": 90,
    "start_time": "2022-03-11T14:29:25.326Z"
   },
   {
    "duration": 31,
    "start_time": "2022-03-11T14:29:25.419Z"
   },
   {
    "duration": 20,
    "start_time": "2022-03-11T14:29:25.477Z"
   },
   {
    "duration": 256,
    "start_time": "2022-03-11T14:29:25.500Z"
   },
   {
    "duration": 368,
    "start_time": "2022-03-11T14:29:25.757Z"
   },
   {
    "duration": -463,
    "start_time": "2022-03-11T14:29:26.590Z"
   },
   {
    "duration": -464,
    "start_time": "2022-03-11T14:29:26.592Z"
   },
   {
    "duration": -464,
    "start_time": "2022-03-11T14:29:26.593Z"
   },
   {
    "duration": -465,
    "start_time": "2022-03-11T14:29:26.595Z"
   },
   {
    "duration": -465,
    "start_time": "2022-03-11T14:29:26.596Z"
   },
   {
    "duration": -465,
    "start_time": "2022-03-11T14:29:26.597Z"
   },
   {
    "duration": -469,
    "start_time": "2022-03-11T14:29:26.602Z"
   },
   {
    "duration": -469,
    "start_time": "2022-03-11T14:29:26.603Z"
   },
   {
    "duration": -469,
    "start_time": "2022-03-11T14:29:26.604Z"
   },
   {
    "duration": -469,
    "start_time": "2022-03-11T14:29:26.605Z"
   },
   {
    "duration": -469,
    "start_time": "2022-03-11T14:29:26.606Z"
   },
   {
    "duration": -469,
    "start_time": "2022-03-11T14:29:26.607Z"
   },
   {
    "duration": -468,
    "start_time": "2022-03-11T14:29:26.608Z"
   },
   {
    "duration": -468,
    "start_time": "2022-03-11T14:29:26.609Z"
   },
   {
    "duration": -468,
    "start_time": "2022-03-11T14:29:26.610Z"
   },
   {
    "duration": -472,
    "start_time": "2022-03-11T14:29:26.615Z"
   },
   {
    "duration": -472,
    "start_time": "2022-03-11T14:29:26.616Z"
   },
   {
    "duration": -473,
    "start_time": "2022-03-11T14:29:26.618Z"
   },
   {
    "duration": -473,
    "start_time": "2022-03-11T14:29:26.619Z"
   },
   {
    "duration": -473,
    "start_time": "2022-03-11T14:29:26.620Z"
   },
   {
    "duration": -473,
    "start_time": "2022-03-11T14:29:26.621Z"
   },
   {
    "duration": -477,
    "start_time": "2022-03-11T14:29:26.626Z"
   },
   {
    "duration": 3,
    "start_time": "2022-03-11T14:29:26.217Z"
   },
   {
    "duration": 7,
    "start_time": "2022-03-11T14:29:26.222Z"
   },
   {
    "duration": 7,
    "start_time": "2022-03-11T14:29:26.231Z"
   },
   {
    "duration": 171,
    "start_time": "2022-03-11T14:29:26.240Z"
   },
   {
    "duration": 136,
    "start_time": "2022-03-11T14:29:26.413Z"
   },
   {
    "duration": 86,
    "start_time": "2022-03-11T14:29:26.551Z"
   },
   {
    "duration": 16,
    "start_time": "2022-03-11T14:29:26.638Z"
   },
   {
    "duration": 39,
    "start_time": "2022-03-11T14:29:26.656Z"
   },
   {
    "duration": 10,
    "start_time": "2022-03-11T14:29:26.698Z"
   },
   {
    "duration": 19,
    "start_time": "2022-03-11T14:29:26.711Z"
   },
   {
    "duration": 30,
    "start_time": "2022-03-11T14:29:26.733Z"
   },
   {
    "duration": 31,
    "start_time": "2022-03-11T14:29:26.778Z"
   },
   {
    "duration": 10,
    "start_time": "2022-03-11T14:29:26.811Z"
   },
   {
    "duration": 54,
    "start_time": "2022-03-11T14:29:26.823Z"
   },
   {
    "duration": 23,
    "start_time": "2022-03-11T14:29:26.879Z"
   },
   {
    "duration": 8,
    "start_time": "2022-03-11T14:29:26.903Z"
   },
   {
    "duration": 17,
    "start_time": "2022-03-11T14:29:26.913Z"
   },
   {
    "duration": 64,
    "start_time": "2022-03-11T14:29:26.932Z"
   },
   {
    "duration": 9,
    "start_time": "2022-03-11T14:29:26.998Z"
   },
   {
    "duration": 19,
    "start_time": "2022-03-11T14:29:27.009Z"
   },
   {
    "duration": 10,
    "start_time": "2022-03-11T14:29:27.030Z"
   },
   {
    "duration": 42,
    "start_time": "2022-03-11T14:29:27.042Z"
   },
   {
    "duration": 10,
    "start_time": "2022-03-11T14:29:27.086Z"
   },
   {
    "duration": 8,
    "start_time": "2022-03-11T14:29:27.099Z"
   },
   {
    "duration": 21,
    "start_time": "2022-03-11T14:29:27.109Z"
   },
   {
    "duration": 46,
    "start_time": "2022-03-11T14:29:27.132Z"
   },
   {
    "duration": 12,
    "start_time": "2022-03-11T14:29:27.182Z"
   },
   {
    "duration": 8,
    "start_time": "2022-03-11T14:29:27.197Z"
   },
   {
    "duration": 7,
    "start_time": "2022-03-11T14:29:27.207Z"
   },
   {
    "duration": 78,
    "start_time": "2022-03-11T14:29:27.216Z"
   },
   {
    "duration": 20,
    "start_time": "2022-03-11T14:29:27.296Z"
   },
   {
    "duration": 13,
    "start_time": "2022-03-11T14:29:27.318Z"
   },
   {
    "duration": 202,
    "start_time": "2022-03-11T14:29:27.333Z"
   },
   {
    "duration": 278,
    "start_time": "2022-03-11T14:29:27.537Z"
   },
   {
    "duration": -458,
    "start_time": "2022-03-11T14:29:28.276Z"
   },
   {
    "duration": -460,
    "start_time": "2022-03-11T14:29:28.279Z"
   },
   {
    "duration": -460,
    "start_time": "2022-03-11T14:29:28.280Z"
   },
   {
    "duration": -460,
    "start_time": "2022-03-11T14:29:28.281Z"
   },
   {
    "duration": -460,
    "start_time": "2022-03-11T14:29:28.282Z"
   },
   {
    "duration": -465,
    "start_time": "2022-03-11T14:29:28.288Z"
   },
   {
    "duration": -465,
    "start_time": "2022-03-11T14:29:28.289Z"
   },
   {
    "duration": -466,
    "start_time": "2022-03-11T14:29:28.291Z"
   },
   {
    "duration": -466,
    "start_time": "2022-03-11T14:29:28.292Z"
   },
   {
    "duration": -467,
    "start_time": "2022-03-11T14:29:28.293Z"
   },
   {
    "duration": -467,
    "start_time": "2022-03-11T14:29:28.294Z"
   },
   {
    "duration": -467,
    "start_time": "2022-03-11T14:29:28.295Z"
   },
   {
    "duration": -465,
    "start_time": "2022-03-11T14:29:28.295Z"
   },
   {
    "duration": -469,
    "start_time": "2022-03-11T14:29:28.300Z"
   },
   {
    "duration": -470,
    "start_time": "2022-03-11T14:29:28.302Z"
   },
   {
    "duration": -470,
    "start_time": "2022-03-11T14:29:28.303Z"
   },
   {
    "duration": -470,
    "start_time": "2022-03-11T14:29:28.304Z"
   },
   {
    "duration": -470,
    "start_time": "2022-03-11T14:29:28.305Z"
   },
   {
    "duration": -469,
    "start_time": "2022-03-11T14:29:28.306Z"
   },
   {
    "duration": -473,
    "start_time": "2022-03-11T14:29:28.311Z"
   },
   {
    "duration": -477,
    "start_time": "2022-03-11T14:29:28.316Z"
   },
   {
    "duration": -477,
    "start_time": "2022-03-11T14:29:28.317Z"
   },
   {
    "duration": 22,
    "start_time": "2022-03-11T14:33:49.810Z"
   },
   {
    "duration": 22,
    "start_time": "2022-03-11T14:33:57.255Z"
   },
   {
    "duration": 14,
    "start_time": "2022-03-11T14:34:06.957Z"
   },
   {
    "duration": 251,
    "start_time": "2022-03-11T14:34:39.119Z"
   },
   {
    "duration": 25,
    "start_time": "2022-03-11T14:34:43.396Z"
   },
   {
    "duration": 234,
    "start_time": "2022-03-11T14:46:13.102Z"
   },
   {
    "duration": 3,
    "start_time": "2022-03-11T14:46:20.000Z"
   },
   {
    "duration": 8,
    "start_time": "2022-03-11T14:46:20.005Z"
   },
   {
    "duration": 9,
    "start_time": "2022-03-11T14:46:20.016Z"
   },
   {
    "duration": 149,
    "start_time": "2022-03-11T14:46:20.027Z"
   },
   {
    "duration": 116,
    "start_time": "2022-03-11T14:46:20.178Z"
   },
   {
    "duration": 82,
    "start_time": "2022-03-11T14:46:20.296Z"
   },
   {
    "duration": 16,
    "start_time": "2022-03-11T14:46:20.379Z"
   },
   {
    "duration": 38,
    "start_time": "2022-03-11T14:46:20.396Z"
   },
   {
    "duration": 10,
    "start_time": "2022-03-11T14:46:20.437Z"
   },
   {
    "duration": 13,
    "start_time": "2022-03-11T14:46:20.449Z"
   },
   {
    "duration": 22,
    "start_time": "2022-03-11T14:46:20.464Z"
   },
   {
    "duration": 36,
    "start_time": "2022-03-11T14:46:20.488Z"
   },
   {
    "duration": 14,
    "start_time": "2022-03-11T14:46:20.526Z"
   },
   {
    "duration": 39,
    "start_time": "2022-03-11T14:46:20.542Z"
   },
   {
    "duration": 23,
    "start_time": "2022-03-11T14:46:20.583Z"
   },
   {
    "duration": 14,
    "start_time": "2022-03-11T14:46:20.607Z"
   },
   {
    "duration": 50,
    "start_time": "2022-03-11T14:46:20.623Z"
   },
   {
    "duration": 27,
    "start_time": "2022-03-11T14:46:20.675Z"
   },
   {
    "duration": 11,
    "start_time": "2022-03-11T14:46:20.704Z"
   },
   {
    "duration": 18,
    "start_time": "2022-03-11T14:46:20.716Z"
   },
   {
    "duration": 11,
    "start_time": "2022-03-11T14:46:20.736Z"
   },
   {
    "duration": 29,
    "start_time": "2022-03-11T14:46:20.749Z"
   },
   {
    "duration": 29,
    "start_time": "2022-03-11T14:46:20.780Z"
   },
   {
    "duration": 12,
    "start_time": "2022-03-11T14:46:20.811Z"
   },
   {
    "duration": 29,
    "start_time": "2022-03-11T14:46:20.824Z"
   },
   {
    "duration": 14,
    "start_time": "2022-03-11T14:46:20.856Z"
   },
   {
    "duration": 21,
    "start_time": "2022-03-11T14:46:20.874Z"
   },
   {
    "duration": 20,
    "start_time": "2022-03-11T14:46:20.897Z"
   },
   {
    "duration": 30,
    "start_time": "2022-03-11T14:46:20.919Z"
   },
   {
    "duration": 50,
    "start_time": "2022-03-11T14:46:20.951Z"
   },
   {
    "duration": 19,
    "start_time": "2022-03-11T14:46:21.003Z"
   },
   {
    "duration": 14,
    "start_time": "2022-03-11T14:46:21.024Z"
   },
   {
    "duration": 17,
    "start_time": "2022-03-11T14:46:21.040Z"
   },
   {
    "duration": 27,
    "start_time": "2022-03-11T14:46:21.059Z"
   },
   {
    "duration": 19,
    "start_time": "2022-03-11T14:46:21.088Z"
   },
   {
    "duration": 195,
    "start_time": "2022-03-11T14:46:21.109Z"
   },
   {
    "duration": 23,
    "start_time": "2022-03-11T14:46:21.306Z"
   },
   {
    "duration": 20,
    "start_time": "2022-03-11T14:46:21.331Z"
   },
   {
    "duration": 32,
    "start_time": "2022-03-11T14:46:21.353Z"
   },
   {
    "duration": 26,
    "start_time": "2022-03-11T14:46:21.387Z"
   },
   {
    "duration": 18,
    "start_time": "2022-03-11T14:46:21.415Z"
   },
   {
    "duration": 43,
    "start_time": "2022-03-11T14:46:21.435Z"
   },
   {
    "duration": 16,
    "start_time": "2022-03-11T14:46:21.480Z"
   },
   {
    "duration": 38,
    "start_time": "2022-03-11T14:46:21.498Z"
   },
   {
    "duration": 20,
    "start_time": "2022-03-11T14:46:21.538Z"
   },
   {
    "duration": 18,
    "start_time": "2022-03-11T14:46:21.560Z"
   },
   {
    "duration": 20,
    "start_time": "2022-03-11T14:46:21.579Z"
   },
   {
    "duration": 35,
    "start_time": "2022-03-11T14:46:21.601Z"
   },
   {
    "duration": 22,
    "start_time": "2022-03-11T14:46:21.638Z"
   },
   {
    "duration": 32,
    "start_time": "2022-03-11T14:46:21.661Z"
   },
   {
    "duration": 33,
    "start_time": "2022-03-11T14:46:21.694Z"
   },
   {
    "duration": 22,
    "start_time": "2022-03-11T14:46:21.728Z"
   },
   {
    "duration": 33,
    "start_time": "2022-03-11T14:46:21.751Z"
   },
   {
    "duration": 30,
    "start_time": "2022-03-11T14:46:21.786Z"
   },
   {
    "duration": 19,
    "start_time": "2022-03-11T14:46:21.817Z"
   },
   {
    "duration": 22,
    "start_time": "2022-03-11T14:46:21.837Z"
   },
   {
    "duration": 217,
    "start_time": "2022-03-11T14:51:44.317Z"
   },
   {
    "duration": 6,
    "start_time": "2022-03-11T14:51:49.660Z"
   },
   {
    "duration": 167,
    "start_time": "2022-03-11T14:51:52.430Z"
   },
   {
    "duration": 144,
    "start_time": "2022-03-11T14:51:57.408Z"
   },
   {
    "duration": 12,
    "start_time": "2022-03-11T14:52:15.622Z"
   },
   {
    "duration": 62,
    "start_time": "2022-03-11T14:52:19.844Z"
   },
   {
    "duration": 12,
    "start_time": "2022-03-11T14:52:25.772Z"
   },
   {
    "duration": 17,
    "start_time": "2022-03-11T14:53:21.238Z"
   },
   {
    "duration": 18,
    "start_time": "2022-03-11T14:56:27.320Z"
   },
   {
    "duration": 21,
    "start_time": "2022-03-11T14:59:07.645Z"
   },
   {
    "duration": 20,
    "start_time": "2022-03-11T15:01:41.299Z"
   },
   {
    "duration": 19,
    "start_time": "2022-03-11T15:04:45.312Z"
   },
   {
    "duration": 11,
    "start_time": "2022-03-11T15:07:20.521Z"
   },
   {
    "duration": 14,
    "start_time": "2022-03-11T15:08:58.282Z"
   },
   {
    "duration": 5,
    "start_time": "2022-03-11T15:24:43.164Z"
   },
   {
    "duration": 5,
    "start_time": "2022-03-11T15:24:51.571Z"
   },
   {
    "duration": 6,
    "start_time": "2022-03-11T15:25:05.936Z"
   },
   {
    "duration": 32,
    "start_time": "2022-03-11T15:25:10.813Z"
   },
   {
    "duration": 7,
    "start_time": "2022-03-11T15:26:14.617Z"
   },
   {
    "duration": 9,
    "start_time": "2022-03-11T15:28:41.748Z"
   },
   {
    "duration": 7,
    "start_time": "2022-03-11T15:31:30.148Z"
   },
   {
    "duration": 17,
    "start_time": "2022-03-11T15:31:37.589Z"
   },
   {
    "duration": 14,
    "start_time": "2022-03-11T15:32:04.805Z"
   },
   {
    "duration": 17,
    "start_time": "2022-03-11T15:32:08.181Z"
   },
   {
    "duration": 22,
    "start_time": "2022-03-11T15:39:46.918Z"
   },
   {
    "duration": 1419,
    "start_time": "2022-03-11T15:42:03.669Z"
   },
   {
    "duration": 6,
    "start_time": "2022-03-11T15:45:57.299Z"
   },
   {
    "duration": 24,
    "start_time": "2022-03-11T15:48:25.141Z"
   },
   {
    "duration": 33,
    "start_time": "2022-03-11T15:49:48.875Z"
   },
   {
    "duration": 26,
    "start_time": "2022-03-11T15:51:41.125Z"
   },
   {
    "duration": 30,
    "start_time": "2022-03-11T15:54:40.887Z"
   },
   {
    "duration": 7,
    "start_time": "2022-03-11T15:56:52.532Z"
   },
   {
    "duration": 7,
    "start_time": "2022-03-11T15:59:26.393Z"
   },
   {
    "duration": 7,
    "start_time": "2022-03-11T16:00:26.071Z"
   },
   {
    "duration": 218,
    "start_time": "2022-03-11T16:05:03.634Z"
   },
   {
    "duration": 7,
    "start_time": "2022-03-11T16:06:55.361Z"
   },
   {
    "duration": 79,
    "start_time": "2022-03-11T16:07:12.071Z"
   },
   {
    "duration": 7,
    "start_time": "2022-03-11T16:07:33.053Z"
   },
   {
    "duration": 7,
    "start_time": "2022-03-11T16:09:17.316Z"
   },
   {
    "duration": 24,
    "start_time": "2022-03-11T16:10:03.038Z"
   },
   {
    "duration": 21,
    "start_time": "2022-03-11T16:21:09.874Z"
   },
   {
    "duration": 18,
    "start_time": "2022-03-11T16:33:24.323Z"
   },
   {
    "duration": 11,
    "start_time": "2022-03-11T16:33:31.450Z"
   },
   {
    "duration": 17,
    "start_time": "2022-03-11T16:34:18.502Z"
   },
   {
    "duration": 20,
    "start_time": "2022-03-11T16:40:06.167Z"
   },
   {
    "duration": 19,
    "start_time": "2022-03-11T16:40:46.026Z"
   },
   {
    "duration": 9,
    "start_time": "2022-03-11T16:45:03.634Z"
   },
   {
    "duration": 149,
    "start_time": "2022-03-11T16:47:28.020Z"
   },
   {
    "duration": 19,
    "start_time": "2022-03-11T16:56:16.000Z"
   },
   {
    "duration": 5,
    "start_time": "2022-03-11T17:19:21.528Z"
   },
   {
    "duration": 5,
    "start_time": "2022-03-11T17:19:27.398Z"
   },
   {
    "duration": 6,
    "start_time": "2022-03-11T17:20:23.700Z"
   },
   {
    "duration": 7,
    "start_time": "2022-03-11T17:20:24.168Z"
   },
   {
    "duration": 6,
    "start_time": "2022-03-11T17:20:49.118Z"
   },
   {
    "duration": 7,
    "start_time": "2022-03-11T17:20:50.788Z"
   },
   {
    "duration": 5,
    "start_time": "2022-03-11T17:21:07.968Z"
   },
   {
    "duration": 8,
    "start_time": "2022-03-11T17:22:19.718Z"
   },
   {
    "duration": 10,
    "start_time": "2022-03-11T17:22:21.038Z"
   },
   {
    "duration": 234,
    "start_time": "2022-03-11T17:26:20.370Z"
   },
   {
    "duration": 40,
    "start_time": "2022-03-11T17:27:03.080Z"
   },
   {
    "duration": 32,
    "start_time": "2022-03-11T17:27:10.999Z"
   },
   {
    "duration": 7,
    "start_time": "2022-03-11T17:27:33.840Z"
   },
   {
    "duration": 8,
    "start_time": "2022-03-11T17:27:34.360Z"
   },
   {
    "duration": 8,
    "start_time": "2022-03-11T17:28:51.100Z"
   },
   {
    "duration": 8,
    "start_time": "2022-03-11T17:28:52.271Z"
   },
   {
    "duration": 5,
    "start_time": "2022-03-11T17:32:44.489Z"
   },
   {
    "duration": 269,
    "start_time": "2022-03-11T17:33:04.065Z"
   },
   {
    "duration": 298,
    "start_time": "2022-03-11T17:33:35.666Z"
   },
   {
    "duration": 254,
    "start_time": "2022-03-11T17:33:56.885Z"
   },
   {
    "duration": 362,
    "start_time": "2022-03-11T17:38:28.465Z"
   },
   {
    "duration": 4,
    "start_time": "2022-03-11T17:39:35.866Z"
   },
   {
    "duration": 324,
    "start_time": "2022-03-12T08:48:30.005Z"
   },
   {
    "duration": 256,
    "start_time": "2022-03-12T08:48:43.223Z"
   },
   {
    "duration": 552,
    "start_time": "2022-03-12T08:49:11.357Z"
   },
   {
    "duration": 63,
    "start_time": "2022-03-12T08:49:11.911Z"
   },
   {
    "duration": 2,
    "start_time": "2022-03-12T08:49:11.976Z"
   },
   {
    "duration": 132,
    "start_time": "2022-03-12T08:49:11.979Z"
   },
   {
    "duration": 111,
    "start_time": "2022-03-12T08:49:12.112Z"
   },
   {
    "duration": 95,
    "start_time": "2022-03-12T08:49:12.224Z"
   },
   {
    "duration": 16,
    "start_time": "2022-03-12T08:49:12.321Z"
   },
   {
    "duration": 60,
    "start_time": "2022-03-12T08:49:12.339Z"
   },
   {
    "duration": 9,
    "start_time": "2022-03-12T08:49:12.401Z"
   },
   {
    "duration": 12,
    "start_time": "2022-03-12T08:49:12.411Z"
   },
   {
    "duration": 18,
    "start_time": "2022-03-12T08:49:12.424Z"
   },
   {
    "duration": 26,
    "start_time": "2022-03-12T08:49:12.443Z"
   },
   {
    "duration": 30,
    "start_time": "2022-03-12T08:49:12.471Z"
   },
   {
    "duration": 15,
    "start_time": "2022-03-12T08:49:12.502Z"
   },
   {
    "duration": 20,
    "start_time": "2022-03-12T08:49:12.518Z"
   },
   {
    "duration": 7,
    "start_time": "2022-03-12T08:49:12.539Z"
   },
   {
    "duration": 14,
    "start_time": "2022-03-12T08:49:12.547Z"
   },
   {
    "duration": 47,
    "start_time": "2022-03-12T08:49:12.563Z"
   },
   {
    "duration": 6,
    "start_time": "2022-03-12T08:49:12.612Z"
   },
   {
    "duration": 8,
    "start_time": "2022-03-12T08:49:12.619Z"
   },
   {
    "duration": 6,
    "start_time": "2022-03-12T08:49:12.628Z"
   },
   {
    "duration": 10,
    "start_time": "2022-03-12T08:49:12.636Z"
   },
   {
    "duration": 5,
    "start_time": "2022-03-12T08:49:12.649Z"
   },
   {
    "duration": 3,
    "start_time": "2022-03-12T08:49:12.657Z"
   },
   {
    "duration": 41,
    "start_time": "2022-03-12T08:49:12.662Z"
   },
   {
    "duration": 10,
    "start_time": "2022-03-12T08:49:12.705Z"
   },
   {
    "duration": 8,
    "start_time": "2022-03-12T08:49:12.716Z"
   },
   {
    "duration": 4,
    "start_time": "2022-03-12T08:49:12.726Z"
   },
   {
    "duration": 6,
    "start_time": "2022-03-12T08:49:12.732Z"
   },
   {
    "duration": 30,
    "start_time": "2022-03-12T08:49:12.740Z"
   },
   {
    "duration": 47,
    "start_time": "2022-03-12T08:49:12.771Z"
   },
   {
    "duration": 9,
    "start_time": "2022-03-12T08:49:12.820Z"
   },
   {
    "duration": 18,
    "start_time": "2022-03-12T08:49:12.831Z"
   },
   {
    "duration": 9,
    "start_time": "2022-03-12T08:49:12.851Z"
   },
   {
    "duration": 42,
    "start_time": "2022-03-12T08:49:12.862Z"
   },
   {
    "duration": 18,
    "start_time": "2022-03-12T08:49:12.905Z"
   },
   {
    "duration": 18,
    "start_time": "2022-03-12T08:49:12.924Z"
   },
   {
    "duration": 9,
    "start_time": "2022-03-12T08:49:12.944Z"
   },
   {
    "duration": 22,
    "start_time": "2022-03-12T08:49:12.954Z"
   },
   {
    "duration": 17,
    "start_time": "2022-03-12T08:49:13.001Z"
   },
   {
    "duration": 9,
    "start_time": "2022-03-12T08:49:13.019Z"
   },
   {
    "duration": 12,
    "start_time": "2022-03-12T08:49:13.030Z"
   },
   {
    "duration": 15,
    "start_time": "2022-03-12T08:49:13.043Z"
   },
   {
    "duration": 17,
    "start_time": "2022-03-12T08:49:13.059Z"
   },
   {
    "duration": 5,
    "start_time": "2022-03-12T08:49:13.101Z"
   },
   {
    "duration": 7,
    "start_time": "2022-03-12T08:49:13.107Z"
   },
   {
    "duration": 14,
    "start_time": "2022-03-12T08:49:13.115Z"
   },
   {
    "duration": 7,
    "start_time": "2022-03-12T08:49:13.131Z"
   },
   {
    "duration": 10,
    "start_time": "2022-03-12T08:49:13.140Z"
   },
   {
    "duration": 12,
    "start_time": "2022-03-12T08:49:13.151Z"
   },
   {
    "duration": 47,
    "start_time": "2022-03-12T08:49:13.164Z"
   },
   {
    "duration": 13,
    "start_time": "2022-03-12T08:49:13.212Z"
   },
   {
    "duration": 10,
    "start_time": "2022-03-12T08:49:13.226Z"
   },
   {
    "duration": 8,
    "start_time": "2022-03-12T08:49:13.238Z"
   },
   {
    "duration": 10,
    "start_time": "2022-03-12T08:49:13.248Z"
   },
   {
    "duration": 42,
    "start_time": "2022-03-12T08:49:13.260Z"
   },
   {
    "duration": 15,
    "start_time": "2022-03-12T08:49:13.303Z"
   },
   {
    "duration": 5,
    "start_time": "2022-03-12T08:49:13.319Z"
   },
   {
    "duration": 7,
    "start_time": "2022-03-12T08:49:13.325Z"
   },
   {
    "duration": 10,
    "start_time": "2022-03-12T08:49:13.333Z"
   },
   {
    "duration": 18,
    "start_time": "2022-03-12T08:49:13.344Z"
   },
   {
    "duration": 9,
    "start_time": "2022-03-12T08:49:13.363Z"
   },
   {
    "duration": 36,
    "start_time": "2022-03-12T08:49:13.374Z"
   },
   {
    "duration": 17,
    "start_time": "2022-03-12T08:49:13.412Z"
   },
   {
    "duration": 19,
    "start_time": "2022-03-12T08:49:13.430Z"
   },
   {
    "duration": 20,
    "start_time": "2022-03-12T08:49:13.450Z"
   },
   {
    "duration": 48,
    "start_time": "2022-03-12T08:49:13.472Z"
   },
   {
    "duration": 7,
    "start_time": "2022-03-12T08:49:13.525Z"
   },
   {
    "duration": 7,
    "start_time": "2022-03-12T08:49:13.534Z"
   },
   {
    "duration": 7,
    "start_time": "2022-03-12T08:49:13.542Z"
   },
   {
    "duration": 21,
    "start_time": "2022-03-12T08:49:13.551Z"
   },
   {
    "duration": 14,
    "start_time": "2022-03-12T08:49:13.602Z"
   },
   {
    "duration": 15,
    "start_time": "2022-03-12T08:49:13.618Z"
   },
   {
    "duration": 6,
    "start_time": "2022-03-12T08:49:13.635Z"
   },
   {
    "duration": 7,
    "start_time": "2022-03-12T08:49:13.643Z"
   },
   {
    "duration": 211,
    "start_time": "2022-03-12T08:49:13.651Z"
   },
   {
    "duration": 168,
    "start_time": "2022-03-12T08:49:13.863Z"
   },
   {
    "duration": 394,
    "start_time": "2022-03-12T08:49:14.033Z"
   },
   {
    "duration": 8,
    "start_time": "2022-03-12T08:49:14.429Z"
   },
   {
    "duration": 125,
    "start_time": "2022-03-12T08:49:14.438Z"
   },
   {
    "duration": 11,
    "start_time": "2022-03-12T09:00:43.390Z"
   },
   {
    "duration": 11,
    "start_time": "2022-03-12T09:02:53.638Z"
   },
   {
    "duration": 12,
    "start_time": "2022-03-12T09:05:46.756Z"
   },
   {
    "duration": 11,
    "start_time": "2022-03-12T09:05:56.648Z"
   },
   {
    "duration": 11,
    "start_time": "2022-03-12T09:06:01.992Z"
   },
   {
    "duration": 11,
    "start_time": "2022-03-12T09:06:06.013Z"
   },
   {
    "duration": 12,
    "start_time": "2022-03-12T09:06:47.724Z"
   },
   {
    "duration": 12,
    "start_time": "2022-03-12T09:07:37.098Z"
   },
   {
    "duration": 2,
    "start_time": "2022-03-12T09:08:22.573Z"
   },
   {
    "duration": 5,
    "start_time": "2022-03-12T09:08:22.577Z"
   },
   {
    "duration": 4,
    "start_time": "2022-03-12T09:08:22.584Z"
   },
   {
    "duration": 155,
    "start_time": "2022-03-12T09:08:22.589Z"
   },
   {
    "duration": 112,
    "start_time": "2022-03-12T09:08:22.745Z"
   },
   {
    "duration": 99,
    "start_time": "2022-03-12T09:08:22.859Z"
   },
   {
    "duration": 16,
    "start_time": "2022-03-12T09:08:22.959Z"
   },
   {
    "duration": 60,
    "start_time": "2022-03-12T09:08:22.977Z"
   },
   {
    "duration": 7,
    "start_time": "2022-03-12T09:08:23.039Z"
   },
   {
    "duration": 10,
    "start_time": "2022-03-12T09:08:23.048Z"
   },
   {
    "duration": 18,
    "start_time": "2022-03-12T09:08:23.060Z"
   },
   {
    "duration": 23,
    "start_time": "2022-03-12T09:08:23.080Z"
   },
   {
    "duration": 8,
    "start_time": "2022-03-12T09:08:23.104Z"
   },
   {
    "duration": 16,
    "start_time": "2022-03-12T09:08:23.114Z"
   },
   {
    "duration": 17,
    "start_time": "2022-03-12T09:08:23.131Z"
   },
   {
    "duration": 6,
    "start_time": "2022-03-12T09:08:23.150Z"
   },
   {
    "duration": 14,
    "start_time": "2022-03-12T09:08:23.157Z"
   },
   {
    "duration": 36,
    "start_time": "2022-03-12T09:08:23.172Z"
   },
   {
    "duration": 7,
    "start_time": "2022-03-12T09:08:23.210Z"
   },
   {
    "duration": 9,
    "start_time": "2022-03-12T09:08:23.218Z"
   },
   {
    "duration": 8,
    "start_time": "2022-03-12T09:08:23.228Z"
   },
   {
    "duration": 13,
    "start_time": "2022-03-12T09:08:23.238Z"
   },
   {
    "duration": 6,
    "start_time": "2022-03-12T09:08:23.255Z"
   },
   {
    "duration": 8,
    "start_time": "2022-03-12T09:08:23.264Z"
   },
   {
    "duration": 29,
    "start_time": "2022-03-12T09:08:23.273Z"
   },
   {
    "duration": 10,
    "start_time": "2022-03-12T09:08:23.304Z"
   },
   {
    "duration": 8,
    "start_time": "2022-03-12T09:08:23.316Z"
   },
   {
    "duration": 7,
    "start_time": "2022-03-12T09:08:23.326Z"
   },
   {
    "duration": 9,
    "start_time": "2022-03-12T09:08:23.334Z"
   },
   {
    "duration": 31,
    "start_time": "2022-03-12T09:08:23.345Z"
   },
   {
    "duration": 39,
    "start_time": "2022-03-12T09:08:23.377Z"
   },
   {
    "duration": 9,
    "start_time": "2022-03-12T09:08:23.418Z"
   },
   {
    "duration": 14,
    "start_time": "2022-03-12T09:08:23.428Z"
   },
   {
    "duration": 10,
    "start_time": "2022-03-12T09:08:23.444Z"
   },
   {
    "duration": 14,
    "start_time": "2022-03-12T09:08:23.455Z"
   },
   {
    "duration": 46,
    "start_time": "2022-03-12T09:08:23.470Z"
   },
   {
    "duration": 16,
    "start_time": "2022-03-12T09:08:23.518Z"
   },
   {
    "duration": 11,
    "start_time": "2022-03-12T09:08:23.535Z"
   },
   {
    "duration": 22,
    "start_time": "2022-03-12T09:08:23.548Z"
   },
   {
    "duration": 41,
    "start_time": "2022-03-12T09:08:23.571Z"
   },
   {
    "duration": 11,
    "start_time": "2022-03-12T09:08:23.613Z"
   },
   {
    "duration": 14,
    "start_time": "2022-03-12T09:08:23.625Z"
   },
   {
    "duration": 16,
    "start_time": "2022-03-12T09:08:23.640Z"
   },
   {
    "duration": 44,
    "start_time": "2022-03-12T09:08:23.658Z"
   },
   {
    "duration": 5,
    "start_time": "2022-03-12T09:08:23.703Z"
   },
   {
    "duration": 6,
    "start_time": "2022-03-12T09:08:23.710Z"
   },
   {
    "duration": 14,
    "start_time": "2022-03-12T09:08:23.717Z"
   },
   {
    "duration": 8,
    "start_time": "2022-03-12T09:08:23.733Z"
   },
   {
    "duration": 10,
    "start_time": "2022-03-12T09:08:23.742Z"
   },
   {
    "duration": 16,
    "start_time": "2022-03-12T09:08:23.754Z"
   },
   {
    "duration": 41,
    "start_time": "2022-03-12T09:08:23.771Z"
   },
   {
    "duration": 12,
    "start_time": "2022-03-12T09:08:23.814Z"
   },
   {
    "duration": 11,
    "start_time": "2022-03-12T09:08:23.827Z"
   },
   {
    "duration": 8,
    "start_time": "2022-03-12T09:08:23.839Z"
   },
   {
    "duration": 10,
    "start_time": "2022-03-12T09:08:23.849Z"
   },
   {
    "duration": 47,
    "start_time": "2022-03-12T09:08:23.861Z"
   },
   {
    "duration": 17,
    "start_time": "2022-03-12T09:08:23.911Z"
   },
   {
    "duration": 6,
    "start_time": "2022-03-12T09:08:23.930Z"
   },
   {
    "duration": 6,
    "start_time": "2022-03-12T09:08:23.938Z"
   },
   {
    "duration": 7,
    "start_time": "2022-03-12T09:08:23.945Z"
   },
   {
    "duration": 16,
    "start_time": "2022-03-12T09:08:23.953Z"
   },
   {
    "duration": 9,
    "start_time": "2022-03-12T09:08:24.001Z"
   },
   {
    "duration": 11,
    "start_time": "2022-03-12T09:08:24.011Z"
   },
   {
    "duration": 17,
    "start_time": "2022-03-12T09:08:24.023Z"
   },
   {
    "duration": 17,
    "start_time": "2022-03-12T09:08:24.041Z"
   },
   {
    "duration": 49,
    "start_time": "2022-03-12T09:08:24.059Z"
   },
   {
    "duration": 20,
    "start_time": "2022-03-12T09:08:24.110Z"
   },
   {
    "duration": 5,
    "start_time": "2022-03-12T09:08:24.134Z"
   },
   {
    "duration": 6,
    "start_time": "2022-03-12T09:08:24.141Z"
   },
   {
    "duration": 6,
    "start_time": "2022-03-12T09:08:24.148Z"
   },
   {
    "duration": 20,
    "start_time": "2022-03-12T09:08:24.155Z"
   },
   {
    "duration": 36,
    "start_time": "2022-03-12T09:08:24.176Z"
   },
   {
    "duration": 6,
    "start_time": "2022-03-12T09:08:24.214Z"
   },
   {
    "duration": 6,
    "start_time": "2022-03-12T09:08:24.222Z"
   },
   {
    "duration": 206,
    "start_time": "2022-03-12T09:08:24.230Z"
   },
   {
    "duration": 169,
    "start_time": "2022-03-12T09:08:24.438Z"
   },
   {
    "duration": 8,
    "start_time": "2022-03-12T09:08:24.609Z"
   },
   {
    "duration": 13,
    "start_time": "2022-03-12T09:08:24.619Z"
   },
   {
    "duration": 11,
    "start_time": "2022-03-12T09:08:24.634Z"
   },
   {
    "duration": 173,
    "start_time": "2022-03-12T09:10:34.841Z"
   },
   {
    "duration": 161,
    "start_time": "2022-03-12T09:11:34.981Z"
   },
   {
    "duration": 7,
    "start_time": "2022-03-12T09:13:49.597Z"
   },
   {
    "duration": 14,
    "start_time": "2022-03-12T09:16:32.133Z"
   },
   {
    "duration": 2,
    "start_time": "2022-03-12T09:16:40.785Z"
   },
   {
    "duration": 4,
    "start_time": "2022-03-12T09:16:40.789Z"
   },
   {
    "duration": 5,
    "start_time": "2022-03-12T09:16:40.795Z"
   },
   {
    "duration": 152,
    "start_time": "2022-03-12T09:16:40.801Z"
   },
   {
    "duration": 114,
    "start_time": "2022-03-12T09:16:40.954Z"
   },
   {
    "duration": 97,
    "start_time": "2022-03-12T09:16:41.070Z"
   },
   {
    "duration": 17,
    "start_time": "2022-03-12T09:16:41.169Z"
   },
   {
    "duration": 43,
    "start_time": "2022-03-12T09:16:41.187Z"
   },
   {
    "duration": 8,
    "start_time": "2022-03-12T09:16:41.232Z"
   },
   {
    "duration": 10,
    "start_time": "2022-03-12T09:16:41.241Z"
   },
   {
    "duration": 17,
    "start_time": "2022-03-12T09:16:41.253Z"
   },
   {
    "duration": 23,
    "start_time": "2022-03-12T09:16:41.272Z"
   },
   {
    "duration": 9,
    "start_time": "2022-03-12T09:16:41.296Z"
   },
   {
    "duration": 17,
    "start_time": "2022-03-12T09:16:41.307Z"
   },
   {
    "duration": 19,
    "start_time": "2022-03-12T09:16:41.325Z"
   },
   {
    "duration": 7,
    "start_time": "2022-03-12T09:16:41.345Z"
   },
   {
    "duration": 13,
    "start_time": "2022-03-12T09:16:41.354Z"
   },
   {
    "duration": 45,
    "start_time": "2022-03-12T09:16:41.368Z"
   },
   {
    "duration": 7,
    "start_time": "2022-03-12T09:16:41.414Z"
   },
   {
    "duration": 9,
    "start_time": "2022-03-12T09:16:41.422Z"
   },
   {
    "duration": 8,
    "start_time": "2022-03-12T09:16:41.432Z"
   },
   {
    "duration": 14,
    "start_time": "2022-03-12T09:16:41.442Z"
   },
   {
    "duration": 10,
    "start_time": "2022-03-12T09:16:41.457Z"
   },
   {
    "duration": 9,
    "start_time": "2022-03-12T09:16:41.468Z"
   },
   {
    "duration": 30,
    "start_time": "2022-03-12T09:16:41.478Z"
   },
   {
    "duration": 10,
    "start_time": "2022-03-12T09:16:41.510Z"
   },
   {
    "duration": 9,
    "start_time": "2022-03-12T09:16:41.525Z"
   },
   {
    "duration": 6,
    "start_time": "2022-03-12T09:16:41.536Z"
   },
   {
    "duration": 10,
    "start_time": "2022-03-12T09:16:41.544Z"
   },
   {
    "duration": 47,
    "start_time": "2022-03-12T09:16:41.555Z"
   },
   {
    "duration": 20,
    "start_time": "2022-03-12T09:16:41.604Z"
   },
   {
    "duration": 9,
    "start_time": "2022-03-12T09:16:41.626Z"
   },
   {
    "duration": 14,
    "start_time": "2022-03-12T09:16:41.637Z"
   },
   {
    "duration": 10,
    "start_time": "2022-03-12T09:16:41.652Z"
   },
   {
    "duration": 41,
    "start_time": "2022-03-12T09:16:41.664Z"
   },
   {
    "duration": 17,
    "start_time": "2022-03-12T09:16:41.707Z"
   },
   {
    "duration": 15,
    "start_time": "2022-03-12T09:16:41.726Z"
   },
   {
    "duration": 9,
    "start_time": "2022-03-12T09:16:41.742Z"
   },
   {
    "duration": 53,
    "start_time": "2022-03-12T09:16:41.752Z"
   },
   {
    "duration": 16,
    "start_time": "2022-03-12T09:16:41.807Z"
   },
   {
    "duration": 10,
    "start_time": "2022-03-12T09:16:41.824Z"
   },
   {
    "duration": 15,
    "start_time": "2022-03-12T09:16:41.835Z"
   },
   {
    "duration": 15,
    "start_time": "2022-03-12T09:16:41.851Z"
   },
   {
    "duration": 39,
    "start_time": "2022-03-12T09:16:41.867Z"
   },
   {
    "duration": 4,
    "start_time": "2022-03-12T09:16:41.908Z"
   },
   {
    "duration": 6,
    "start_time": "2022-03-12T09:16:41.914Z"
   },
   {
    "duration": 18,
    "start_time": "2022-03-12T09:16:41.921Z"
   },
   {
    "duration": 7,
    "start_time": "2022-03-12T09:16:41.941Z"
   },
   {
    "duration": 10,
    "start_time": "2022-03-12T09:16:41.950Z"
   },
   {
    "duration": 12,
    "start_time": "2022-03-12T09:16:41.962Z"
   },
   {
    "duration": 14,
    "start_time": "2022-03-12T09:16:42.001Z"
   },
   {
    "duration": 12,
    "start_time": "2022-03-12T09:16:42.017Z"
   },
   {
    "duration": 14,
    "start_time": "2022-03-12T09:16:42.030Z"
   },
   {
    "duration": 7,
    "start_time": "2022-03-12T09:16:42.046Z"
   },
   {
    "duration": 11,
    "start_time": "2022-03-12T09:16:42.055Z"
   },
   {
    "duration": 45,
    "start_time": "2022-03-12T09:16:42.067Z"
   },
   {
    "duration": 18,
    "start_time": "2022-03-12T09:16:42.114Z"
   },
   {
    "duration": 6,
    "start_time": "2022-03-12T09:16:42.134Z"
   },
   {
    "duration": 10,
    "start_time": "2022-03-12T09:16:42.141Z"
   },
   {
    "duration": 10,
    "start_time": "2022-03-12T09:16:42.152Z"
   },
   {
    "duration": 18,
    "start_time": "2022-03-12T09:16:42.164Z"
   },
   {
    "duration": 24,
    "start_time": "2022-03-12T09:16:42.184Z"
   },
   {
    "duration": 11,
    "start_time": "2022-03-12T09:16:42.210Z"
   },
   {
    "duration": 18,
    "start_time": "2022-03-12T09:16:42.223Z"
   },
   {
    "duration": 19,
    "start_time": "2022-03-12T09:16:42.243Z"
   },
   {
    "duration": 53,
    "start_time": "2022-03-12T09:16:42.264Z"
   },
   {
    "duration": 22,
    "start_time": "2022-03-12T09:16:42.318Z"
   },
   {
    "duration": 6,
    "start_time": "2022-03-12T09:16:42.342Z"
   },
   {
    "duration": 8,
    "start_time": "2022-03-12T09:16:42.350Z"
   },
   {
    "duration": 7,
    "start_time": "2022-03-12T09:16:42.360Z"
   },
   {
    "duration": 44,
    "start_time": "2022-03-12T09:16:42.369Z"
   },
   {
    "duration": 12,
    "start_time": "2022-03-12T09:16:42.415Z"
   },
   {
    "duration": 7,
    "start_time": "2022-03-12T09:16:42.428Z"
   },
   {
    "duration": 5,
    "start_time": "2022-03-12T09:16:42.436Z"
   },
   {
    "duration": 248,
    "start_time": "2022-03-12T09:16:42.443Z"
   },
   {
    "duration": 178,
    "start_time": "2022-03-12T09:16:42.692Z"
   },
   {
    "duration": 7,
    "start_time": "2022-03-12T09:16:42.872Z"
   },
   {
    "duration": 24,
    "start_time": "2022-03-12T09:16:42.880Z"
   },
   {
    "duration": 9,
    "start_time": "2022-03-12T09:16:42.906Z"
   },
   {
    "duration": 188,
    "start_time": "2022-03-12T09:16:42.916Z"
   },
   {
    "duration": 182,
    "start_time": "2022-03-12T09:16:43.108Z"
   },
   {
    "duration": 11,
    "start_time": "2022-03-12T09:16:43.291Z"
   },
   {
    "duration": 11,
    "start_time": "2022-03-12T09:16:43.303Z"
   },
   {
    "duration": 14,
    "start_time": "2022-03-12T09:17:55.147Z"
   },
   {
    "duration": 11,
    "start_time": "2022-03-12T09:19:22.013Z"
   },
   {
    "duration": 171,
    "start_time": "2022-03-12T09:20:13.167Z"
   },
   {
    "duration": 172,
    "start_time": "2022-03-12T09:20:45.549Z"
   },
   {
    "duration": 9,
    "start_time": "2022-03-12T09:21:52.236Z"
   },
   {
    "duration": 2,
    "start_time": "2022-03-12T11:09:13.499Z"
   },
   {
    "duration": 5,
    "start_time": "2022-03-12T11:09:13.502Z"
   },
   {
    "duration": 3,
    "start_time": "2022-03-12T11:09:13.509Z"
   },
   {
    "duration": 153,
    "start_time": "2022-03-12T11:09:13.514Z"
   },
   {
    "duration": 112,
    "start_time": "2022-03-12T11:09:13.668Z"
   },
   {
    "duration": 74,
    "start_time": "2022-03-12T11:09:13.782Z"
   },
   {
    "duration": 16,
    "start_time": "2022-03-12T11:09:13.857Z"
   },
   {
    "duration": 29,
    "start_time": "2022-03-12T11:09:13.875Z"
   },
   {
    "duration": 7,
    "start_time": "2022-03-12T11:09:13.907Z"
   },
   {
    "duration": 10,
    "start_time": "2022-03-12T11:09:13.915Z"
   },
   {
    "duration": 17,
    "start_time": "2022-03-12T11:09:13.926Z"
   },
   {
    "duration": 23,
    "start_time": "2022-03-12T11:09:13.944Z"
   },
   {
    "duration": 7,
    "start_time": "2022-03-12T11:09:13.968Z"
   },
   {
    "duration": 37,
    "start_time": "2022-03-12T11:09:13.977Z"
   },
   {
    "duration": 17,
    "start_time": "2022-03-12T11:09:14.015Z"
   },
   {
    "duration": 6,
    "start_time": "2022-03-12T11:09:14.033Z"
   },
   {
    "duration": 15,
    "start_time": "2022-03-12T11:09:14.040Z"
   },
   {
    "duration": 16,
    "start_time": "2022-03-12T11:09:14.056Z"
   },
   {
    "duration": 32,
    "start_time": "2022-03-12T11:09:14.074Z"
   },
   {
    "duration": 8,
    "start_time": "2022-03-12T11:09:14.108Z"
   },
   {
    "duration": 6,
    "start_time": "2022-03-12T11:09:14.118Z"
   },
   {
    "duration": 12,
    "start_time": "2022-03-12T11:09:14.126Z"
   },
   {
    "duration": 8,
    "start_time": "2022-03-12T11:09:14.140Z"
   },
   {
    "duration": 9,
    "start_time": "2022-03-12T11:09:14.150Z"
   },
   {
    "duration": 16,
    "start_time": "2022-03-12T11:09:14.161Z"
   },
   {
    "duration": 12,
    "start_time": "2022-03-12T11:09:14.201Z"
   },
   {
    "duration": 9,
    "start_time": "2022-03-12T11:09:14.217Z"
   },
   {
    "duration": 5,
    "start_time": "2022-03-12T11:09:14.229Z"
   },
   {
    "duration": 9,
    "start_time": "2022-03-12T11:09:14.235Z"
   },
   {
    "duration": 32,
    "start_time": "2022-03-12T11:09:14.246Z"
   },
   {
    "duration": 43,
    "start_time": "2022-03-12T11:09:14.279Z"
   },
   {
    "duration": 10,
    "start_time": "2022-03-12T11:09:14.323Z"
   },
   {
    "duration": 15,
    "start_time": "2022-03-12T11:09:14.334Z"
   },
   {
    "duration": 11,
    "start_time": "2022-03-12T11:09:14.350Z"
   },
   {
    "duration": 41,
    "start_time": "2022-03-12T11:09:14.362Z"
   },
   {
    "duration": 18,
    "start_time": "2022-03-12T11:09:14.404Z"
   },
   {
    "duration": 19,
    "start_time": "2022-03-12T11:09:14.424Z"
   },
   {
    "duration": 11,
    "start_time": "2022-03-12T11:09:14.451Z"
   },
   {
    "duration": 42,
    "start_time": "2022-03-12T11:09:14.463Z"
   },
   {
    "duration": 16,
    "start_time": "2022-03-12T11:09:14.507Z"
   },
   {
    "duration": 10,
    "start_time": "2022-03-12T11:09:14.524Z"
   },
   {
    "duration": 24,
    "start_time": "2022-03-12T11:09:14.535Z"
   },
   {
    "duration": 15,
    "start_time": "2022-03-12T11:09:14.561Z"
   },
   {
    "duration": 36,
    "start_time": "2022-03-12T11:09:14.578Z"
   },
   {
    "duration": 5,
    "start_time": "2022-03-12T11:09:14.615Z"
   },
   {
    "duration": 6,
    "start_time": "2022-03-12T11:09:14.622Z"
   },
   {
    "duration": 20,
    "start_time": "2022-03-12T11:09:14.629Z"
   },
   {
    "duration": 8,
    "start_time": "2022-03-12T11:09:14.650Z"
   },
   {
    "duration": 13,
    "start_time": "2022-03-12T11:09:14.659Z"
   },
   {
    "duration": 37,
    "start_time": "2022-03-12T11:09:14.673Z"
   },
   {
    "duration": 13,
    "start_time": "2022-03-12T11:09:14.711Z"
   },
   {
    "duration": 13,
    "start_time": "2022-03-12T11:09:14.726Z"
   },
   {
    "duration": 11,
    "start_time": "2022-03-12T11:09:14.740Z"
   },
   {
    "duration": 8,
    "start_time": "2022-03-12T11:09:14.752Z"
   },
   {
    "duration": 40,
    "start_time": "2022-03-12T11:09:14.762Z"
   },
   {
    "duration": 15,
    "start_time": "2022-03-12T11:09:14.803Z"
   },
   {
    "duration": 16,
    "start_time": "2022-03-12T11:09:14.819Z"
   },
   {
    "duration": 5,
    "start_time": "2022-03-12T11:09:14.837Z"
   },
   {
    "duration": 8,
    "start_time": "2022-03-12T11:09:14.844Z"
   },
   {
    "duration": 15,
    "start_time": "2022-03-12T11:09:14.854Z"
   },
   {
    "duration": 36,
    "start_time": "2022-03-12T11:09:14.871Z"
   },
   {
    "duration": 9,
    "start_time": "2022-03-12T11:09:14.908Z"
   },
   {
    "duration": 11,
    "start_time": "2022-03-12T11:09:14.918Z"
   },
   {
    "duration": 16,
    "start_time": "2022-03-12T11:09:14.930Z"
   },
   {
    "duration": 21,
    "start_time": "2022-03-12T11:09:14.947Z"
   },
   {
    "duration": 44,
    "start_time": "2022-03-12T11:09:14.969Z"
   },
   {
    "duration": 21,
    "start_time": "2022-03-12T11:09:15.014Z"
   },
   {
    "duration": 6,
    "start_time": "2022-03-12T11:09:15.036Z"
   },
   {
    "duration": 7,
    "start_time": "2022-03-12T11:09:15.044Z"
   },
   {
    "duration": 12,
    "start_time": "2022-03-12T11:09:15.052Z"
   },
   {
    "duration": 38,
    "start_time": "2022-03-12T11:09:15.066Z"
   },
   {
    "duration": 13,
    "start_time": "2022-03-12T11:09:15.106Z"
   },
   {
    "duration": 11,
    "start_time": "2022-03-12T11:09:15.121Z"
   },
   {
    "duration": 16,
    "start_time": "2022-03-12T11:09:15.134Z"
   },
   {
    "duration": 181,
    "start_time": "2022-03-12T11:09:15.152Z"
   },
   {
    "duration": 179,
    "start_time": "2022-03-12T11:09:15.335Z"
   },
   {
    "duration": 6,
    "start_time": "2022-03-12T11:09:15.516Z"
   },
   {
    "duration": 10,
    "start_time": "2022-03-12T11:09:15.524Z"
   },
   {
    "duration": 10,
    "start_time": "2022-03-12T11:09:15.535Z"
   },
   {
    "duration": 205,
    "start_time": "2022-03-12T11:09:15.546Z"
   },
   {
    "duration": 170,
    "start_time": "2022-03-12T11:09:15.756Z"
   },
   {
    "duration": 6,
    "start_time": "2022-03-12T11:09:15.927Z"
   },
   {
    "duration": 14,
    "start_time": "2022-03-12T11:09:15.935Z"
   },
   {
    "duration": 9,
    "start_time": "2022-03-12T11:09:15.950Z"
   },
   {
    "duration": 290,
    "start_time": "2022-03-12T11:09:15.961Z"
   },
   {
    "duration": 185,
    "start_time": "2022-03-12T11:09:16.253Z"
   },
   {
    "duration": 7,
    "start_time": "2022-03-12T11:09:16.439Z"
   },
   {
    "duration": 16,
    "start_time": "2022-03-12T11:12:16.216Z"
   },
   {
    "duration": 3,
    "start_time": "2022-03-12T11:23:33.892Z"
   },
   {
    "duration": 4,
    "start_time": "2022-03-12T12:14:23.496Z"
   },
   {
    "duration": 5,
    "start_time": "2022-03-12T12:16:25.616Z"
   },
   {
    "duration": 4,
    "start_time": "2022-03-12T12:16:47.102Z"
   },
   {
    "duration": 5,
    "start_time": "2022-03-12T12:17:33.955Z"
   },
   {
    "duration": 303,
    "start_time": "2022-03-12T12:18:27.582Z"
   },
   {
    "duration": 5,
    "start_time": "2022-03-12T12:19:20.731Z"
   },
   {
    "duration": 5,
    "start_time": "2022-03-12T12:20:00.935Z"
   },
   {
    "duration": 393,
    "start_time": "2022-03-12T12:24:50.817Z"
   },
   {
    "duration": 175,
    "start_time": "2022-03-12T12:25:18.336Z"
   },
   {
    "duration": 5,
    "start_time": "2022-03-12T12:27:19.102Z"
   },
   {
    "duration": 177,
    "start_time": "2022-03-12T12:27:23.359Z"
   },
   {
    "duration": 8,
    "start_time": "2022-03-12T12:31:45.666Z"
   },
   {
    "duration": 6,
    "start_time": "2022-03-12T12:33:17.782Z"
   },
   {
    "duration": 7,
    "start_time": "2022-03-12T12:35:27.544Z"
   },
   {
    "duration": 2,
    "start_time": "2022-03-12T12:35:49.688Z"
   },
   {
    "duration": 13,
    "start_time": "2022-03-12T12:35:49.692Z"
   },
   {
    "duration": 20,
    "start_time": "2022-03-12T12:35:49.707Z"
   },
   {
    "duration": 4,
    "start_time": "2022-03-12T12:35:49.729Z"
   },
   {
    "duration": 158,
    "start_time": "2022-03-12T12:35:49.735Z"
   },
   {
    "duration": 115,
    "start_time": "2022-03-12T12:35:49.895Z"
   },
   {
    "duration": 79,
    "start_time": "2022-03-12T12:35:50.012Z"
   },
   {
    "duration": 17,
    "start_time": "2022-03-12T12:35:50.094Z"
   },
   {
    "duration": 43,
    "start_time": "2022-03-12T12:35:50.113Z"
   },
   {
    "duration": 8,
    "start_time": "2022-03-12T12:35:50.158Z"
   },
   {
    "duration": 10,
    "start_time": "2022-03-12T12:35:50.167Z"
   },
   {
    "duration": 19,
    "start_time": "2022-03-12T12:35:50.178Z"
   },
   {
    "duration": 34,
    "start_time": "2022-03-12T12:35:50.199Z"
   },
   {
    "duration": 9,
    "start_time": "2022-03-12T12:35:50.235Z"
   },
   {
    "duration": 16,
    "start_time": "2022-03-12T12:35:50.245Z"
   },
   {
    "duration": 38,
    "start_time": "2022-03-12T12:35:50.263Z"
   },
   {
    "duration": 7,
    "start_time": "2022-03-12T12:35:50.303Z"
   },
   {
    "duration": 19,
    "start_time": "2022-03-12T12:35:50.311Z"
   },
   {
    "duration": 18,
    "start_time": "2022-03-12T12:35:50.332Z"
   },
   {
    "duration": 8,
    "start_time": "2022-03-12T12:35:50.351Z"
   },
   {
    "duration": 11,
    "start_time": "2022-03-12T12:35:50.360Z"
   },
   {
    "duration": 30,
    "start_time": "2022-03-12T12:35:50.372Z"
   },
   {
    "duration": 9,
    "start_time": "2022-03-12T12:35:50.405Z"
   },
   {
    "duration": 10,
    "start_time": "2022-03-12T12:35:50.417Z"
   },
   {
    "duration": 11,
    "start_time": "2022-03-12T12:35:50.428Z"
   },
   {
    "duration": 17,
    "start_time": "2022-03-12T12:35:50.441Z"
   },
   {
    "duration": 43,
    "start_time": "2022-03-12T12:35:50.459Z"
   },
   {
    "duration": 10,
    "start_time": "2022-03-12T12:35:50.503Z"
   },
   {
    "duration": 5,
    "start_time": "2022-03-12T12:35:50.515Z"
   },
   {
    "duration": 6,
    "start_time": "2022-03-12T12:35:50.521Z"
   },
   {
    "duration": 31,
    "start_time": "2022-03-12T12:35:50.529Z"
   },
   {
    "duration": 50,
    "start_time": "2022-03-12T12:35:50.561Z"
   },
   {
    "duration": 10,
    "start_time": "2022-03-12T12:35:50.612Z"
   },
   {
    "duration": 22,
    "start_time": "2022-03-12T12:35:50.623Z"
   },
   {
    "duration": 15,
    "start_time": "2022-03-12T12:35:50.646Z"
   },
   {
    "duration": 23,
    "start_time": "2022-03-12T12:35:50.663Z"
   },
   {
    "duration": 19,
    "start_time": "2022-03-12T12:35:50.701Z"
   },
   {
    "duration": 18,
    "start_time": "2022-03-12T12:35:50.722Z"
   },
   {
    "duration": 13,
    "start_time": "2022-03-12T12:35:50.742Z"
   },
   {
    "duration": 45,
    "start_time": "2022-03-12T12:35:50.757Z"
   },
   {
    "duration": 16,
    "start_time": "2022-03-12T12:35:50.803Z"
   },
   {
    "duration": 11,
    "start_time": "2022-03-12T12:35:50.820Z"
   },
   {
    "duration": 14,
    "start_time": "2022-03-12T12:35:50.832Z"
   },
   {
    "duration": 17,
    "start_time": "2022-03-12T12:35:50.847Z"
   },
   {
    "duration": 51,
    "start_time": "2022-03-12T12:35:50.865Z"
   },
   {
    "duration": 6,
    "start_time": "2022-03-12T12:35:50.917Z"
   },
   {
    "duration": 8,
    "start_time": "2022-03-12T12:35:50.924Z"
   },
   {
    "duration": 16,
    "start_time": "2022-03-12T12:35:50.934Z"
   },
   {
    "duration": 8,
    "start_time": "2022-03-12T12:35:50.952Z"
   },
   {
    "duration": 49,
    "start_time": "2022-03-12T12:35:50.961Z"
   },
   {
    "duration": 23,
    "start_time": "2022-03-12T12:35:51.011Z"
   },
   {
    "duration": 15,
    "start_time": "2022-03-12T12:35:51.036Z"
   },
   {
    "duration": 13,
    "start_time": "2022-03-12T12:35:51.052Z"
   },
   {
    "duration": 36,
    "start_time": "2022-03-12T12:35:51.066Z"
   },
   {
    "duration": 9,
    "start_time": "2022-03-12T12:35:51.103Z"
   },
   {
    "duration": 14,
    "start_time": "2022-03-12T12:35:51.114Z"
   },
   {
    "duration": 15,
    "start_time": "2022-03-12T12:35:51.129Z"
   },
   {
    "duration": 16,
    "start_time": "2022-03-12T12:35:51.146Z"
   },
   {
    "duration": 39,
    "start_time": "2022-03-12T12:35:51.163Z"
   },
   {
    "duration": 6,
    "start_time": "2022-03-12T12:35:51.204Z"
   },
   {
    "duration": 9,
    "start_time": "2022-03-12T12:35:51.211Z"
   },
   {
    "duration": 16,
    "start_time": "2022-03-12T12:35:51.222Z"
   },
   {
    "duration": 8,
    "start_time": "2022-03-12T12:35:51.240Z"
   },
   {
    "duration": 11,
    "start_time": "2022-03-12T12:35:51.249Z"
   },
   {
    "duration": 56,
    "start_time": "2022-03-12T12:35:51.262Z"
   },
   {
    "duration": 19,
    "start_time": "2022-03-12T12:35:51.319Z"
   },
   {
    "duration": 20,
    "start_time": "2022-03-12T12:35:51.339Z"
   },
   {
    "duration": 52,
    "start_time": "2022-03-12T12:35:51.363Z"
   },
   {
    "duration": 7,
    "start_time": "2022-03-12T12:35:51.418Z"
   },
   {
    "duration": 8,
    "start_time": "2022-03-12T12:35:51.427Z"
   },
   {
    "duration": 7,
    "start_time": "2022-03-12T12:35:51.437Z"
   },
   {
    "duration": 57,
    "start_time": "2022-03-12T12:35:51.445Z"
   },
   {
    "duration": 13,
    "start_time": "2022-03-12T12:35:51.504Z"
   },
   {
    "duration": 8,
    "start_time": "2022-03-12T12:35:51.519Z"
   },
   {
    "duration": 8,
    "start_time": "2022-03-12T12:35:51.528Z"
   },
   {
    "duration": 237,
    "start_time": "2022-03-12T12:35:51.538Z"
   },
   {
    "duration": 182,
    "start_time": "2022-03-12T12:35:51.777Z"
   },
   {
    "duration": 8,
    "start_time": "2022-03-12T12:35:51.961Z"
   },
   {
    "duration": 31,
    "start_time": "2022-03-12T12:35:51.970Z"
   },
   {
    "duration": 11,
    "start_time": "2022-03-12T12:35:52.003Z"
   },
   {
    "duration": 205,
    "start_time": "2022-03-12T12:35:52.015Z"
   },
   {
    "duration": 178,
    "start_time": "2022-03-12T12:35:52.221Z"
   },
   {
    "duration": 13,
    "start_time": "2022-03-12T12:35:52.401Z"
   },
   {
    "duration": 11,
    "start_time": "2022-03-12T12:35:52.415Z"
   },
   {
    "duration": 210,
    "start_time": "2022-03-12T12:35:52.427Z"
   },
   {
    "duration": 194,
    "start_time": "2022-03-12T12:35:52.638Z"
   },
   {
    "duration": 19,
    "start_time": "2022-03-12T12:35:52.834Z"
   },
   {
    "duration": 125,
    "start_time": "2022-03-12T12:35:52.854Z"
   },
   {
    "duration": 189,
    "start_time": "2022-03-12T12:35:52.981Z"
   },
   {
    "duration": 9,
    "start_time": "2022-03-12T12:35:53.177Z"
   },
   {
    "duration": 20,
    "start_time": "2022-03-12T12:35:53.187Z"
   },
   {
    "duration": 292,
    "start_time": "2022-03-12T12:35:53.209Z"
   },
   {
    "duration": 25,
    "start_time": "2022-03-12T12:35:53.503Z"
   },
   {
    "duration": 7,
    "start_time": "2022-03-12T12:35:53.530Z"
   },
   {
    "duration": 11,
    "start_time": "2022-03-12T13:10:49.147Z"
   },
   {
    "duration": 2,
    "start_time": "2022-03-12T13:49:37.369Z"
   },
   {
    "duration": 6,
    "start_time": "2022-03-12T13:49:37.373Z"
   },
   {
    "duration": 20,
    "start_time": "2022-03-12T13:49:37.381Z"
   },
   {
    "duration": 2,
    "start_time": "2022-03-12T13:49:37.402Z"
   },
   {
    "duration": 128,
    "start_time": "2022-03-12T13:49:37.406Z"
   },
   {
    "duration": 106,
    "start_time": "2022-03-12T13:49:37.536Z"
   },
   {
    "duration": 75,
    "start_time": "2022-03-12T13:49:37.643Z"
   },
   {
    "duration": 16,
    "start_time": "2022-03-12T13:49:37.720Z"
   },
   {
    "duration": 45,
    "start_time": "2022-03-12T13:49:37.737Z"
   },
   {
    "duration": 10,
    "start_time": "2022-03-12T13:49:37.784Z"
   },
   {
    "duration": 21,
    "start_time": "2022-03-12T13:49:37.795Z"
   },
   {
    "duration": 29,
    "start_time": "2022-03-12T13:49:37.818Z"
   },
   {
    "duration": 25,
    "start_time": "2022-03-12T13:49:37.848Z"
   },
   {
    "duration": 7,
    "start_time": "2022-03-12T13:49:37.875Z"
   },
   {
    "duration": 40,
    "start_time": "2022-03-12T13:49:37.883Z"
   },
   {
    "duration": 19,
    "start_time": "2022-03-12T13:49:37.925Z"
   },
   {
    "duration": 8,
    "start_time": "2022-03-12T13:49:37.946Z"
   },
   {
    "duration": 38,
    "start_time": "2022-03-12T13:49:37.956Z"
   },
   {
    "duration": 58,
    "start_time": "2022-03-12T13:49:37.996Z"
   },
   {
    "duration": 7,
    "start_time": "2022-03-12T13:49:38.056Z"
   },
   {
    "duration": 23,
    "start_time": "2022-03-12T13:49:38.064Z"
   },
   {
    "duration": 25,
    "start_time": "2022-03-12T13:49:38.088Z"
   },
   {
    "duration": 28,
    "start_time": "2022-03-12T13:49:38.114Z"
   },
   {
    "duration": 26,
    "start_time": "2022-03-12T13:49:38.144Z"
   },
   {
    "duration": 11,
    "start_time": "2022-03-12T13:49:38.171Z"
   },
   {
    "duration": 44,
    "start_time": "2022-03-12T13:49:38.184Z"
   },
   {
    "duration": 15,
    "start_time": "2022-03-12T13:49:38.230Z"
   },
   {
    "duration": 12,
    "start_time": "2022-03-12T13:49:38.247Z"
   },
   {
    "duration": 39,
    "start_time": "2022-03-12T13:49:38.260Z"
   },
   {
    "duration": 20,
    "start_time": "2022-03-12T13:49:38.300Z"
   },
   {
    "duration": 39,
    "start_time": "2022-03-12T13:49:38.321Z"
   },
   {
    "duration": 20,
    "start_time": "2022-03-12T13:49:38.361Z"
   },
   {
    "duration": 10,
    "start_time": "2022-03-12T13:49:38.383Z"
   },
   {
    "duration": 24,
    "start_time": "2022-03-12T13:49:38.394Z"
   },
   {
    "duration": 10,
    "start_time": "2022-03-12T13:49:38.420Z"
   },
   {
    "duration": 32,
    "start_time": "2022-03-12T13:49:38.431Z"
   },
   {
    "duration": 23,
    "start_time": "2022-03-12T13:49:38.465Z"
   },
   {
    "duration": 26,
    "start_time": "2022-03-12T13:49:38.489Z"
   },
   {
    "duration": 21,
    "start_time": "2022-03-12T13:49:38.516Z"
   },
   {
    "duration": 27,
    "start_time": "2022-03-12T13:49:38.539Z"
   },
   {
    "duration": 16,
    "start_time": "2022-03-12T13:49:38.567Z"
   },
   {
    "duration": 19,
    "start_time": "2022-03-12T13:49:38.585Z"
   },
   {
    "duration": 14,
    "start_time": "2022-03-12T13:49:38.605Z"
   },
   {
    "duration": 33,
    "start_time": "2022-03-12T13:49:38.621Z"
   },
   {
    "duration": 23,
    "start_time": "2022-03-12T13:49:38.655Z"
   },
   {
    "duration": 16,
    "start_time": "2022-03-12T13:49:38.679Z"
   },
   {
    "duration": 18,
    "start_time": "2022-03-12T13:49:38.697Z"
   },
   {
    "duration": 51,
    "start_time": "2022-03-12T13:49:38.716Z"
   },
   {
    "duration": 21,
    "start_time": "2022-03-12T13:49:38.769Z"
   },
   {
    "duration": 15,
    "start_time": "2022-03-12T13:49:38.791Z"
   },
   {
    "duration": 13,
    "start_time": "2022-03-12T13:49:38.808Z"
   },
   {
    "duration": 30,
    "start_time": "2022-03-12T13:49:38.823Z"
   },
   {
    "duration": 14,
    "start_time": "2022-03-12T13:49:38.855Z"
   },
   {
    "duration": 36,
    "start_time": "2022-03-12T13:49:38.871Z"
   },
   {
    "duration": 9,
    "start_time": "2022-03-12T13:49:38.909Z"
   },
   {
    "duration": 17,
    "start_time": "2022-03-12T13:49:38.919Z"
   },
   {
    "duration": 40,
    "start_time": "2022-03-12T13:49:38.937Z"
   },
   {
    "duration": 35,
    "start_time": "2022-03-12T13:49:38.979Z"
   },
   {
    "duration": 5,
    "start_time": "2022-03-12T13:49:39.015Z"
   },
   {
    "duration": 22,
    "start_time": "2022-03-12T13:49:39.021Z"
   },
   {
    "duration": 24,
    "start_time": "2022-03-12T13:49:39.044Z"
   },
   {
    "duration": 30,
    "start_time": "2022-03-12T13:49:39.070Z"
   },
   {
    "duration": 16,
    "start_time": "2022-03-12T13:49:39.102Z"
   },
   {
    "duration": 17,
    "start_time": "2022-03-12T13:49:39.119Z"
   },
   {
    "duration": 23,
    "start_time": "2022-03-12T13:49:39.138Z"
   },
   {
    "duration": 22,
    "start_time": "2022-03-12T13:49:39.163Z"
   },
   {
    "duration": 19,
    "start_time": "2022-03-12T13:49:39.187Z"
   },
   {
    "duration": 22,
    "start_time": "2022-03-12T13:49:39.207Z"
   },
   {
    "duration": 5,
    "start_time": "2022-03-12T13:49:39.231Z"
   },
   {
    "duration": 32,
    "start_time": "2022-03-12T13:49:39.238Z"
   },
   {
    "duration": 21,
    "start_time": "2022-03-12T13:49:39.271Z"
   },
   {
    "duration": 31,
    "start_time": "2022-03-12T13:49:39.293Z"
   },
   {
    "duration": 30,
    "start_time": "2022-03-12T13:49:39.325Z"
   },
   {
    "duration": 25,
    "start_time": "2022-03-12T13:49:39.356Z"
   },
   {
    "duration": 15,
    "start_time": "2022-03-12T13:49:39.382Z"
   },
   {
    "duration": 203,
    "start_time": "2022-03-12T13:49:39.399Z"
   },
   {
    "duration": 173,
    "start_time": "2022-03-12T13:49:39.604Z"
   },
   {
    "duration": 7,
    "start_time": "2022-03-12T13:49:39.779Z"
   },
   {
    "duration": 20,
    "start_time": "2022-03-12T13:49:39.788Z"
   },
   {
    "duration": 10,
    "start_time": "2022-03-12T13:49:39.809Z"
   },
   {
    "duration": 198,
    "start_time": "2022-03-12T13:49:39.820Z"
   },
   {
    "duration": 254,
    "start_time": "2022-03-12T13:49:40.020Z"
   },
   {
    "duration": 12,
    "start_time": "2022-03-12T13:49:40.275Z"
   },
   {
    "duration": 21,
    "start_time": "2022-03-12T13:49:40.289Z"
   },
   {
    "duration": 190,
    "start_time": "2022-03-12T13:49:40.311Z"
   },
   {
    "duration": 184,
    "start_time": "2022-03-12T13:49:40.502Z"
   },
   {
    "duration": 25,
    "start_time": "2022-03-12T13:49:40.688Z"
   },
   {
    "duration": 4,
    "start_time": "2022-03-12T13:49:40.715Z"
   },
   {
    "duration": 11,
    "start_time": "2022-03-12T13:49:40.720Z"
   },
   {
    "duration": 184,
    "start_time": "2022-03-12T13:49:40.733Z"
   },
   {
    "duration": 5,
    "start_time": "2022-03-12T13:49:40.919Z"
   },
   {
    "duration": 198,
    "start_time": "2022-03-12T13:49:40.925Z"
   },
   {
    "duration": 5,
    "start_time": "2022-03-12T13:49:41.124Z"
   },
   {
    "duration": 8,
    "start_time": "2022-03-12T13:49:41.130Z"
   },
   {
    "duration": 13,
    "start_time": "2022-03-12T14:16:31.445Z"
   },
   {
    "duration": 90,
    "start_time": "2022-03-12T14:34:10.712Z"
   },
   {
    "duration": 2,
    "start_time": "2022-03-12T14:35:16.193Z"
   },
   {
    "duration": 19,
    "start_time": "2022-03-12T14:37:26.619Z"
   },
   {
    "duration": 4,
    "start_time": "2022-03-12T14:38:55.408Z"
   },
   {
    "duration": 12,
    "start_time": "2022-03-12T14:39:47.715Z"
   },
   {
    "duration": 7,
    "start_time": "2022-03-12T14:40:04.065Z"
   },
   {
    "duration": 13,
    "start_time": "2022-03-12T14:40:37.222Z"
   },
   {
    "duration": 11,
    "start_time": "2022-03-12T14:41:52.473Z"
   },
   {
    "duration": 7,
    "start_time": "2022-03-12T14:43:28.678Z"
   },
   {
    "duration": 3,
    "start_time": "2022-03-12T14:45:25.927Z"
   },
   {
    "duration": 4,
    "start_time": "2022-03-12T14:45:50.226Z"
   },
   {
    "duration": 182,
    "start_time": "2022-03-12T14:46:54.002Z"
   },
   {
    "duration": 183,
    "start_time": "2022-03-12T14:47:36.978Z"
   },
   {
    "duration": 3,
    "start_time": "2022-03-12T14:56:17.855Z"
   },
   {
    "duration": 367,
    "start_time": "2022-03-12T16:00:52.741Z"
   },
   {
    "duration": 14,
    "start_time": "2022-03-12T16:01:01.984Z"
   },
   {
    "duration": 259,
    "start_time": "2022-03-12T16:02:40.706Z"
   },
   {
    "duration": 263,
    "start_time": "2022-03-12T16:03:20.689Z"
   },
   {
    "duration": 262,
    "start_time": "2022-03-12T16:03:54.486Z"
   },
   {
    "duration": 267,
    "start_time": "2022-03-12T16:04:21.609Z"
   },
   {
    "duration": 488,
    "start_time": "2022-03-12T16:05:48.233Z"
   },
   {
    "duration": 454,
    "start_time": "2022-03-12T16:06:06.056Z"
   },
   {
    "duration": 182,
    "start_time": "2022-03-12T16:07:09.453Z"
   },
   {
    "duration": 11,
    "start_time": "2022-03-12T16:53:28.653Z"
   },
   {
    "duration": 11,
    "start_time": "2022-03-12T16:53:42.795Z"
   },
   {
    "duration": 274,
    "start_time": "2022-03-12T17:14:27.519Z"
   },
   {
    "duration": 275,
    "start_time": "2022-03-12T17:14:58.592Z"
   },
   {
    "duration": 612,
    "start_time": "2022-03-12T18:17:06.992Z"
   },
   {
    "duration": 68,
    "start_time": "2022-03-12T18:17:07.605Z"
   },
   {
    "duration": 2,
    "start_time": "2022-03-12T18:17:07.675Z"
   },
   {
    "duration": 425,
    "start_time": "2022-03-12T18:17:07.679Z"
   },
   {
    "duration": 3,
    "start_time": "2022-03-12T18:17:08.107Z"
   },
   {
    "duration": 179,
    "start_time": "2022-03-12T18:17:08.111Z"
   },
   {
    "duration": 114,
    "start_time": "2022-03-12T18:17:08.291Z"
   },
   {
    "duration": 77,
    "start_time": "2022-03-12T18:17:08.408Z"
   },
   {
    "duration": 16,
    "start_time": "2022-03-12T18:17:08.487Z"
   },
   {
    "duration": 28,
    "start_time": "2022-03-12T18:17:08.505Z"
   },
   {
    "duration": 10,
    "start_time": "2022-03-12T18:17:08.534Z"
   },
   {
    "duration": 10,
    "start_time": "2022-03-12T18:17:08.546Z"
   },
   {
    "duration": 19,
    "start_time": "2022-03-12T18:17:08.557Z"
   },
   {
    "duration": 39,
    "start_time": "2022-03-12T18:17:08.577Z"
   },
   {
    "duration": 8,
    "start_time": "2022-03-12T18:17:08.617Z"
   },
   {
    "duration": 16,
    "start_time": "2022-03-12T18:17:08.626Z"
   },
   {
    "duration": 19,
    "start_time": "2022-03-12T18:17:08.644Z"
   },
   {
    "duration": 6,
    "start_time": "2022-03-12T18:17:08.665Z"
   },
   {
    "duration": 41,
    "start_time": "2022-03-12T18:17:08.672Z"
   },
   {
    "duration": 17,
    "start_time": "2022-03-12T18:17:08.714Z"
   },
   {
    "duration": 7,
    "start_time": "2022-03-12T18:17:08.733Z"
   },
   {
    "duration": 8,
    "start_time": "2022-03-12T18:17:08.741Z"
   },
   {
    "duration": 5,
    "start_time": "2022-03-12T18:17:08.753Z"
   },
   {
    "duration": 46,
    "start_time": "2022-03-12T18:17:08.760Z"
   },
   {
    "duration": 6,
    "start_time": "2022-03-12T18:17:08.808Z"
   },
   {
    "duration": 5,
    "start_time": "2022-03-12T18:17:08.816Z"
   },
   {
    "duration": 16,
    "start_time": "2022-03-12T18:17:08.823Z"
   },
   {
    "duration": 11,
    "start_time": "2022-03-12T18:17:08.841Z"
   },
   {
    "duration": 48,
    "start_time": "2022-03-12T18:17:08.854Z"
   },
   {
    "duration": 6,
    "start_time": "2022-03-12T18:17:08.904Z"
   },
   {
    "duration": 7,
    "start_time": "2022-03-12T18:17:08.911Z"
   },
   {
    "duration": 31,
    "start_time": "2022-03-12T18:17:08.919Z"
   },
   {
    "duration": 51,
    "start_time": "2022-03-12T18:17:08.951Z"
   },
   {
    "duration": 10,
    "start_time": "2022-03-12T18:17:09.003Z"
   },
   {
    "duration": 27,
    "start_time": "2022-03-12T18:17:09.014Z"
   },
   {
    "duration": 10,
    "start_time": "2022-03-12T18:17:09.042Z"
   },
   {
    "duration": 13,
    "start_time": "2022-03-12T18:17:09.053Z"
   },
   {
    "duration": 50,
    "start_time": "2022-03-12T18:17:09.068Z"
   },
   {
    "duration": 21,
    "start_time": "2022-03-12T18:17:09.120Z"
   },
   {
    "duration": 9,
    "start_time": "2022-03-12T18:17:09.142Z"
   },
   {
    "duration": 48,
    "start_time": "2022-03-12T18:17:09.153Z"
   },
   {
    "duration": 18,
    "start_time": "2022-03-12T18:17:09.202Z"
   },
   {
    "duration": 11,
    "start_time": "2022-03-12T18:17:09.221Z"
   },
   {
    "duration": 14,
    "start_time": "2022-03-12T18:17:09.234Z"
   },
   {
    "duration": 15,
    "start_time": "2022-03-12T18:17:09.250Z"
   },
   {
    "duration": 51,
    "start_time": "2022-03-12T18:17:09.267Z"
   },
   {
    "duration": 6,
    "start_time": "2022-03-12T18:17:09.319Z"
   },
   {
    "duration": 7,
    "start_time": "2022-03-12T18:17:09.327Z"
   },
   {
    "duration": 16,
    "start_time": "2022-03-12T18:17:09.336Z"
   },
   {
    "duration": 50,
    "start_time": "2022-03-12T18:17:09.354Z"
   },
   {
    "duration": 13,
    "start_time": "2022-03-12T18:17:09.406Z"
   },
   {
    "duration": 15,
    "start_time": "2022-03-12T18:17:09.421Z"
   },
   {
    "duration": 14,
    "start_time": "2022-03-12T18:17:09.437Z"
   },
   {
    "duration": 13,
    "start_time": "2022-03-12T18:17:09.452Z"
   },
   {
    "duration": 13,
    "start_time": "2022-03-12T18:17:09.502Z"
   },
   {
    "duration": 9,
    "start_time": "2022-03-12T18:17:09.517Z"
   },
   {
    "duration": 12,
    "start_time": "2022-03-12T18:17:09.528Z"
   },
   {
    "duration": 16,
    "start_time": "2022-03-12T18:17:09.541Z"
   },
   {
    "duration": 55,
    "start_time": "2022-03-12T18:17:09.559Z"
   },
   {
    "duration": 5,
    "start_time": "2022-03-12T18:17:09.616Z"
   },
   {
    "duration": 6,
    "start_time": "2022-03-12T18:17:09.623Z"
   },
   {
    "duration": 8,
    "start_time": "2022-03-12T18:17:09.631Z"
   },
   {
    "duration": 21,
    "start_time": "2022-03-12T18:17:09.641Z"
   },
   {
    "duration": 44,
    "start_time": "2022-03-12T18:17:09.664Z"
   },
   {
    "duration": 13,
    "start_time": "2022-03-12T18:17:09.710Z"
   },
   {
    "duration": 18,
    "start_time": "2022-03-12T18:17:09.725Z"
   },
   {
    "duration": 61,
    "start_time": "2022-03-12T18:17:09.745Z"
   },
   {
    "duration": 18,
    "start_time": "2022-03-12T18:17:09.811Z"
   },
   {
    "duration": 20,
    "start_time": "2022-03-12T18:17:09.831Z"
   },
   {
    "duration": 6,
    "start_time": "2022-03-12T18:17:09.853Z"
   },
   {
    "duration": 6,
    "start_time": "2022-03-12T18:17:09.860Z"
   },
   {
    "duration": 39,
    "start_time": "2022-03-12T18:17:09.867Z"
   },
   {
    "duration": 18,
    "start_time": "2022-03-12T18:17:09.907Z"
   },
   {
    "duration": 12,
    "start_time": "2022-03-12T18:17:09.926Z"
   },
   {
    "duration": 6,
    "start_time": "2022-03-12T18:17:09.940Z"
   },
   {
    "duration": 11,
    "start_time": "2022-03-12T18:17:09.947Z"
   },
   {
    "duration": 320,
    "start_time": "2022-03-12T18:17:09.959Z"
   },
   {
    "duration": 190,
    "start_time": "2022-03-12T18:17:10.281Z"
   },
   {
    "duration": 10,
    "start_time": "2022-03-12T18:17:10.473Z"
   },
   {
    "duration": 23,
    "start_time": "2022-03-12T18:17:10.485Z"
   },
   {
    "duration": 193,
    "start_time": "2022-03-12T18:17:10.510Z"
   },
   {
    "duration": 173,
    "start_time": "2022-03-12T18:17:10.705Z"
   },
   {
    "duration": 25,
    "start_time": "2022-03-12T18:17:10.880Z"
   },
   {
    "duration": 10,
    "start_time": "2022-03-12T18:17:10.906Z"
   },
   {
    "duration": 189,
    "start_time": "2022-03-12T18:17:10.917Z"
   },
   {
    "duration": 182,
    "start_time": "2022-03-12T18:17:11.108Z"
   },
   {
    "duration": 9,
    "start_time": "2022-03-12T18:17:11.292Z"
   },
   {
    "duration": 17,
    "start_time": "2022-03-12T18:17:11.303Z"
   },
   {
    "duration": 5,
    "start_time": "2022-03-12T18:17:11.322Z"
   },
   {
    "duration": 11,
    "start_time": "2022-03-12T18:17:11.329Z"
   },
   {
    "duration": 200,
    "start_time": "2022-03-12T18:17:11.341Z"
   },
   {
    "duration": 4,
    "start_time": "2022-03-12T18:17:11.543Z"
   },
   {
    "duration": 190,
    "start_time": "2022-03-12T18:17:11.549Z"
   },
   {
    "duration": 5,
    "start_time": "2022-03-12T18:17:11.740Z"
   },
   {
    "duration": 6,
    "start_time": "2022-03-12T18:17:11.747Z"
   },
   {
    "duration": 3,
    "start_time": "2022-03-12T18:17:11.755Z"
   },
   {
    "duration": 4,
    "start_time": "2022-03-12T18:17:11.759Z"
   },
   {
    "duration": 44,
    "start_time": "2022-03-12T18:17:11.765Z"
   },
   {
    "duration": 11,
    "start_time": "2022-03-12T18:17:11.810Z"
   },
   {
    "duration": 239,
    "start_time": "2022-03-12T18:17:11.823Z"
   },
   {
    "duration": 184,
    "start_time": "2022-03-12T18:17:12.063Z"
   },
   {
    "duration": 6,
    "start_time": "2022-03-12T18:17:12.248Z"
   },
   {
    "duration": 313,
    "start_time": "2022-03-12T18:22:41.948Z"
   },
   {
    "duration": 16,
    "start_time": "2022-03-12T18:23:00.289Z"
   },
   {
    "duration": 10,
    "start_time": "2022-03-12T18:23:04.326Z"
   },
   {
    "duration": 11,
    "start_time": "2022-03-12T18:23:14.305Z"
   },
   {
    "duration": 15,
    "start_time": "2022-03-12T18:24:38.108Z"
   },
   {
    "duration": 10,
    "start_time": "2022-03-12T18:24:40.867Z"
   },
   {
    "duration": 13,
    "start_time": "2022-03-12T18:24:45.404Z"
   },
   {
    "duration": 24,
    "start_time": "2022-03-12T18:25:39.947Z"
   },
   {
    "duration": 31,
    "start_time": "2022-03-12T18:25:47.896Z"
   },
   {
    "duration": 21,
    "start_time": "2022-03-12T18:25:52.408Z"
   },
   {
    "duration": 23,
    "start_time": "2022-03-12T18:25:58.880Z"
   },
   {
    "duration": 5,
    "start_time": "2022-03-12T18:26:07.209Z"
   },
   {
    "duration": 22,
    "start_time": "2022-03-12T18:27:00.084Z"
   },
   {
    "duration": 572,
    "start_time": "2022-03-12T18:27:15.860Z"
   },
   {
    "duration": 64,
    "start_time": "2022-03-12T18:27:16.434Z"
   },
   {
    "duration": 3,
    "start_time": "2022-03-12T18:27:16.501Z"
   },
   {
    "duration": 356,
    "start_time": "2022-03-12T18:27:16.505Z"
   },
   {
    "duration": 2,
    "start_time": "2022-03-12T18:27:16.863Z"
   },
   {
    "duration": 130,
    "start_time": "2022-03-12T18:27:16.867Z"
   },
   {
    "duration": 104,
    "start_time": "2022-03-12T18:27:16.999Z"
   },
   {
    "duration": 74,
    "start_time": "2022-03-12T18:27:17.105Z"
   },
   {
    "duration": 16,
    "start_time": "2022-03-12T18:27:17.181Z"
   },
   {
    "duration": 30,
    "start_time": "2022-03-12T18:27:17.198Z"
   },
   {
    "duration": 10,
    "start_time": "2022-03-12T18:27:17.230Z"
   },
   {
    "duration": 10,
    "start_time": "2022-03-12T18:27:17.241Z"
   },
   {
    "duration": 18,
    "start_time": "2022-03-12T18:27:17.252Z"
   },
   {
    "duration": 38,
    "start_time": "2022-03-12T18:27:17.272Z"
   },
   {
    "duration": 8,
    "start_time": "2022-03-12T18:27:17.312Z"
   },
   {
    "duration": 16,
    "start_time": "2022-03-12T18:27:17.321Z"
   },
   {
    "duration": 17,
    "start_time": "2022-03-12T18:27:17.339Z"
   },
   {
    "duration": 6,
    "start_time": "2022-03-12T18:27:17.358Z"
   },
   {
    "duration": 42,
    "start_time": "2022-03-12T18:27:17.365Z"
   },
   {
    "duration": 17,
    "start_time": "2022-03-12T18:27:17.409Z"
   },
   {
    "duration": 6,
    "start_time": "2022-03-12T18:27:17.427Z"
   },
   {
    "duration": 8,
    "start_time": "2022-03-12T18:27:17.435Z"
   },
   {
    "duration": 9,
    "start_time": "2022-03-12T18:27:17.446Z"
   },
   {
    "duration": 13,
    "start_time": "2022-03-12T18:27:17.457Z"
   },
   {
    "duration": 34,
    "start_time": "2022-03-12T18:27:17.471Z"
   },
   {
    "duration": 7,
    "start_time": "2022-03-12T18:27:17.507Z"
   },
   {
    "duration": 15,
    "start_time": "2022-03-12T18:27:17.515Z"
   },
   {
    "duration": 10,
    "start_time": "2022-03-12T18:27:17.532Z"
   },
   {
    "duration": 9,
    "start_time": "2022-03-12T18:27:17.543Z"
   },
   {
    "duration": 6,
    "start_time": "2022-03-12T18:27:17.553Z"
   },
   {
    "duration": 44,
    "start_time": "2022-03-12T18:27:17.561Z"
   },
   {
    "duration": 27,
    "start_time": "2022-03-12T18:27:17.606Z"
   },
   {
    "duration": 27,
    "start_time": "2022-03-12T18:27:17.635Z"
   },
   {
    "duration": 40,
    "start_time": "2022-03-12T18:27:17.664Z"
   },
   {
    "duration": 22,
    "start_time": "2022-03-12T18:27:17.706Z"
   },
   {
    "duration": 11,
    "start_time": "2022-03-12T18:27:17.730Z"
   },
   {
    "duration": 15,
    "start_time": "2022-03-12T18:27:17.743Z"
   },
   {
    "duration": 52,
    "start_time": "2022-03-12T18:27:17.759Z"
   },
   {
    "duration": 20,
    "start_time": "2022-03-12T18:27:17.812Z"
   },
   {
    "duration": 11,
    "start_time": "2022-03-12T18:27:17.834Z"
   },
   {
    "duration": 21,
    "start_time": "2022-03-12T18:27:17.846Z"
   },
   {
    "duration": 49,
    "start_time": "2022-03-12T18:27:17.868Z"
   },
   {
    "duration": 10,
    "start_time": "2022-03-12T18:27:17.919Z"
   },
   {
    "duration": 12,
    "start_time": "2022-03-12T18:27:17.930Z"
   },
   {
    "duration": 14,
    "start_time": "2022-03-12T18:27:17.944Z"
   },
   {
    "duration": 50,
    "start_time": "2022-03-12T18:27:17.960Z"
   },
   {
    "duration": 7,
    "start_time": "2022-03-12T18:27:18.012Z"
   },
   {
    "duration": 8,
    "start_time": "2022-03-12T18:27:18.021Z"
   },
   {
    "duration": 15,
    "start_time": "2022-03-12T18:27:18.031Z"
   },
   {
    "duration": 10,
    "start_time": "2022-03-12T18:27:18.048Z"
   },
   {
    "duration": 53,
    "start_time": "2022-03-12T18:27:18.060Z"
   },
   {
    "duration": 15,
    "start_time": "2022-03-12T18:27:18.115Z"
   },
   {
    "duration": 15,
    "start_time": "2022-03-12T18:27:18.132Z"
   },
   {
    "duration": 53,
    "start_time": "2022-03-12T18:27:18.149Z"
   },
   {
    "duration": 15,
    "start_time": "2022-03-12T18:27:18.204Z"
   },
   {
    "duration": 10,
    "start_time": "2022-03-12T18:27:18.221Z"
   },
   {
    "duration": 13,
    "start_time": "2022-03-12T18:27:18.233Z"
   },
   {
    "duration": 57,
    "start_time": "2022-03-12T18:27:18.247Z"
   },
   {
    "duration": 18,
    "start_time": "2022-03-12T18:27:18.306Z"
   },
   {
    "duration": 6,
    "start_time": "2022-03-12T18:27:18.326Z"
   },
   {
    "duration": 8,
    "start_time": "2022-03-12T18:27:18.334Z"
   },
   {
    "duration": 10,
    "start_time": "2022-03-12T18:27:18.344Z"
   },
   {
    "duration": 50,
    "start_time": "2022-03-12T18:27:18.355Z"
   },
   {
    "duration": 8,
    "start_time": "2022-03-12T18:27:18.407Z"
   },
   {
    "duration": 11,
    "start_time": "2022-03-12T18:27:18.417Z"
   },
   {
    "duration": 17,
    "start_time": "2022-03-12T18:27:18.429Z"
   },
   {
    "duration": 18,
    "start_time": "2022-03-12T18:27:18.447Z"
   },
   {
    "duration": 21,
    "start_time": "2022-03-12T18:27:18.502Z"
   },
   {
    "duration": 22,
    "start_time": "2022-03-12T18:27:18.525Z"
   },
   {
    "duration": 6,
    "start_time": "2022-03-12T18:27:18.548Z"
   },
   {
    "duration": 9,
    "start_time": "2022-03-12T18:27:18.555Z"
   },
   {
    "duration": 6,
    "start_time": "2022-03-12T18:27:18.601Z"
   },
   {
    "duration": 18,
    "start_time": "2022-03-12T18:27:18.609Z"
   },
   {
    "duration": 14,
    "start_time": "2022-03-12T18:27:18.629Z"
   },
   {
    "duration": 7,
    "start_time": "2022-03-12T18:27:18.644Z"
   },
   {
    "duration": 8,
    "start_time": "2022-03-12T18:27:18.652Z"
   },
   {
    "duration": 226,
    "start_time": "2022-03-12T18:27:18.661Z"
   },
   {
    "duration": 179,
    "start_time": "2022-03-12T18:27:18.888Z"
   },
   {
    "duration": 10,
    "start_time": "2022-03-12T18:27:19.068Z"
   },
   {
    "duration": 23,
    "start_time": "2022-03-12T18:27:19.080Z"
   },
   {
    "duration": 188,
    "start_time": "2022-03-12T18:27:19.104Z"
   },
   {
    "duration": 177,
    "start_time": "2022-03-12T18:27:19.294Z"
   },
   {
    "duration": 14,
    "start_time": "2022-03-12T18:27:19.474Z"
   },
   {
    "duration": 12,
    "start_time": "2022-03-12T18:27:19.502Z"
   },
   {
    "duration": 201,
    "start_time": "2022-03-12T18:27:19.516Z"
   },
   {
    "duration": 188,
    "start_time": "2022-03-12T18:27:19.718Z"
   },
   {
    "duration": 3,
    "start_time": "2022-03-12T18:27:19.908Z"
   },
   {
    "duration": 21,
    "start_time": "2022-03-12T18:27:19.913Z"
   },
   {
    "duration": 5,
    "start_time": "2022-03-12T18:27:19.935Z"
   },
   {
    "duration": 13,
    "start_time": "2022-03-12T18:27:19.941Z"
   },
   {
    "duration": 206,
    "start_time": "2022-03-12T18:27:19.955Z"
   },
   {
    "duration": 7,
    "start_time": "2022-03-12T18:27:20.162Z"
   },
   {
    "duration": 191,
    "start_time": "2022-03-12T18:27:20.170Z"
   },
   {
    "duration": 6,
    "start_time": "2022-03-12T18:27:20.363Z"
   },
   {
    "duration": 8,
    "start_time": "2022-03-12T18:27:20.371Z"
   },
   {
    "duration": 2,
    "start_time": "2022-03-12T18:27:20.402Z"
   },
   {
    "duration": 4,
    "start_time": "2022-03-12T18:27:20.406Z"
   },
   {
    "duration": 16,
    "start_time": "2022-03-12T18:27:20.412Z"
   },
   {
    "duration": 12,
    "start_time": "2022-03-12T18:27:20.429Z"
   },
   {
    "duration": 255,
    "start_time": "2022-03-12T18:27:20.443Z"
   },
   {
    "duration": 190,
    "start_time": "2022-03-12T18:27:20.702Z"
   },
   {
    "duration": 11,
    "start_time": "2022-03-12T18:27:20.894Z"
   },
   {
    "duration": 13,
    "start_time": "2022-03-12T18:30:04.737Z"
   },
   {
    "duration": 14,
    "start_time": "2022-03-12T18:40:27.057Z"
   },
   {
    "duration": 12,
    "start_time": "2022-03-12T18:41:20.650Z"
   },
   {
    "duration": 170,
    "start_time": "2022-03-12T18:41:30.509Z"
   },
   {
    "duration": 6,
    "start_time": "2022-03-12T18:41:34.737Z"
   },
   {
    "duration": 125,
    "start_time": "2022-03-12T18:53:49.152Z"
   },
   {
    "duration": 458,
    "start_time": "2022-03-21T19:14:26.320Z"
   },
   {
    "duration": 331,
    "start_time": "2022-03-21T19:14:26.780Z"
   },
   {
    "duration": 4,
    "start_time": "2022-03-21T19:14:27.113Z"
   },
   {
    "duration": 436,
    "start_time": "2022-03-21T19:14:27.119Z"
   },
   {
    "duration": 2,
    "start_time": "2022-03-21T19:14:27.558Z"
   },
   {
    "duration": 159,
    "start_time": "2022-03-21T19:14:27.562Z"
   },
   {
    "duration": 134,
    "start_time": "2022-03-21T19:14:27.723Z"
   },
   {
    "duration": 83,
    "start_time": "2022-03-21T19:14:27.858Z"
   },
   {
    "duration": 11,
    "start_time": "2022-03-21T19:14:27.943Z"
   },
   {
    "duration": 28,
    "start_time": "2022-03-21T19:14:27.956Z"
   },
   {
    "duration": 17,
    "start_time": "2022-03-21T19:14:27.986Z"
   },
   {
    "duration": 41,
    "start_time": "2022-03-21T19:14:28.005Z"
   },
   {
    "duration": 37,
    "start_time": "2022-03-21T19:14:28.048Z"
   },
   {
    "duration": 9,
    "start_time": "2022-03-21T19:14:28.088Z"
   },
   {
    "duration": 46,
    "start_time": "2022-03-21T19:14:28.099Z"
   },
   {
    "duration": 27,
    "start_time": "2022-03-21T19:14:28.146Z"
   },
   {
    "duration": 8,
    "start_time": "2022-03-21T19:14:28.174Z"
   },
   {
    "duration": 21,
    "start_time": "2022-03-21T19:14:28.184Z"
   },
   {
    "duration": 53,
    "start_time": "2022-03-21T19:14:28.207Z"
   },
   {
    "duration": 12,
    "start_time": "2022-03-21T19:14:28.262Z"
   },
   {
    "duration": 17,
    "start_time": "2022-03-21T19:14:28.275Z"
   },
   {
    "duration": 12,
    "start_time": "2022-03-21T19:14:28.294Z"
   },
   {
    "duration": 40,
    "start_time": "2022-03-21T19:14:28.308Z"
   },
   {
    "duration": 21,
    "start_time": "2022-03-21T19:14:28.351Z"
   },
   {
    "duration": 11,
    "start_time": "2022-03-21T19:14:28.374Z"
   },
   {
    "duration": 29,
    "start_time": "2022-03-21T19:14:28.387Z"
   },
   {
    "duration": 29,
    "start_time": "2022-03-21T19:14:28.418Z"
   },
   {
    "duration": 16,
    "start_time": "2022-03-21T19:14:28.449Z"
   },
   {
    "duration": 7,
    "start_time": "2022-03-21T19:14:28.468Z"
   },
   {
    "duration": 19,
    "start_time": "2022-03-21T19:14:28.477Z"
   },
   {
    "duration": 46,
    "start_time": "2022-03-21T19:14:28.498Z"
   },
   {
    "duration": 33,
    "start_time": "2022-03-21T19:14:28.546Z"
   },
   {
    "duration": 12,
    "start_time": "2022-03-21T19:14:28.580Z"
   },
   {
    "duration": 49,
    "start_time": "2022-03-21T19:14:28.594Z"
   },
   {
    "duration": 12,
    "start_time": "2022-03-21T19:14:28.645Z"
   },
   {
    "duration": 15,
    "start_time": "2022-03-21T19:14:28.658Z"
   },
   {
    "duration": 20,
    "start_time": "2022-03-21T19:14:28.675Z"
   },
   {
    "duration": 52,
    "start_time": "2022-03-21T19:14:28.698Z"
   },
   {
    "duration": 37,
    "start_time": "2022-03-21T19:14:28.751Z"
   },
   {
    "duration": 32,
    "start_time": "2022-03-21T19:14:28.790Z"
   },
   {
    "duration": 23,
    "start_time": "2022-03-21T19:14:28.827Z"
   },
   {
    "duration": 11,
    "start_time": "2022-03-21T19:14:28.852Z"
   },
   {
    "duration": 15,
    "start_time": "2022-03-21T19:14:28.865Z"
   },
   {
    "duration": 17,
    "start_time": "2022-03-21T19:14:28.882Z"
   },
   {
    "duration": 49,
    "start_time": "2022-03-21T19:14:28.900Z"
   },
   {
    "duration": 7,
    "start_time": "2022-03-21T19:14:28.951Z"
   },
   {
    "duration": 18,
    "start_time": "2022-03-21T19:14:28.960Z"
   },
   {
    "duration": 18,
    "start_time": "2022-03-21T19:14:28.979Z"
   },
   {
    "duration": 12,
    "start_time": "2022-03-21T19:14:28.999Z"
   },
   {
    "duration": 14,
    "start_time": "2022-03-21T19:14:29.033Z"
   },
   {
    "duration": 20,
    "start_time": "2022-03-21T19:14:29.048Z"
   },
   {
    "duration": 18,
    "start_time": "2022-03-21T19:14:29.070Z"
   },
   {
    "duration": 17,
    "start_time": "2022-03-21T19:14:29.090Z"
   },
   {
    "duration": 13,
    "start_time": "2022-03-21T19:14:29.133Z"
   },
   {
    "duration": 10,
    "start_time": "2022-03-21T19:14:29.148Z"
   },
   {
    "duration": 14,
    "start_time": "2022-03-21T19:14:29.159Z"
   },
   {
    "duration": 19,
    "start_time": "2022-03-21T19:14:29.174Z"
   },
   {
    "duration": 54,
    "start_time": "2022-03-21T19:14:29.195Z"
   },
   {
    "duration": 7,
    "start_time": "2022-03-21T19:14:29.251Z"
   },
   {
    "duration": 11,
    "start_time": "2022-03-21T19:14:29.260Z"
   },
   {
    "duration": 7,
    "start_time": "2022-03-21T19:14:29.273Z"
   },
   {
    "duration": 15,
    "start_time": "2022-03-21T19:14:29.282Z"
   },
   {
    "duration": 41,
    "start_time": "2022-03-21T19:14:29.299Z"
   },
   {
    "duration": 12,
    "start_time": "2022-03-21T19:14:29.342Z"
   },
   {
    "duration": 20,
    "start_time": "2022-03-21T19:14:29.356Z"
   },
   {
    "duration": 21,
    "start_time": "2022-03-21T19:14:29.377Z"
   },
   {
    "duration": 53,
    "start_time": "2022-03-21T19:14:29.399Z"
   },
   {
    "duration": 23,
    "start_time": "2022-03-21T19:14:29.455Z"
   },
   {
    "duration": 6,
    "start_time": "2022-03-21T19:14:29.479Z"
   },
   {
    "duration": 8,
    "start_time": "2022-03-21T19:14:29.487Z"
   },
   {
    "duration": 37,
    "start_time": "2022-03-21T19:14:29.497Z"
   },
   {
    "duration": 21,
    "start_time": "2022-03-21T19:14:29.536Z"
   },
   {
    "duration": 20,
    "start_time": "2022-03-21T19:14:29.559Z"
   },
   {
    "duration": 7,
    "start_time": "2022-03-21T19:14:29.580Z"
   },
   {
    "duration": 8,
    "start_time": "2022-03-21T19:14:29.588Z"
   },
   {
    "duration": 193,
    "start_time": "2022-03-21T19:14:29.597Z"
   },
   {
    "duration": 127,
    "start_time": "2022-03-21T19:14:29.792Z"
   },
   {
    "duration": 22,
    "start_time": "2022-03-21T19:14:29.921Z"
   },
   {
    "duration": 12,
    "start_time": "2022-03-21T19:14:29.945Z"
   },
   {
    "duration": 176,
    "start_time": "2022-03-21T19:14:29.959Z"
   },
   {
    "duration": 133,
    "start_time": "2022-03-21T19:14:30.137Z"
   },
   {
    "duration": 15,
    "start_time": "2022-03-21T19:14:30.271Z"
   },
   {
    "duration": 16,
    "start_time": "2022-03-21T19:14:30.287Z"
   },
   {
    "duration": 163,
    "start_time": "2022-03-21T19:14:30.305Z"
   },
   {
    "duration": 219,
    "start_time": "2022-03-21T19:14:30.470Z"
   },
   {
    "duration": 3,
    "start_time": "2022-03-21T19:14:30.690Z"
   },
   {
    "duration": 34,
    "start_time": "2022-03-21T19:14:30.695Z"
   },
   {
    "duration": 10,
    "start_time": "2022-03-21T19:14:30.732Z"
   },
   {
    "duration": 142,
    "start_time": "2022-03-21T19:14:30.744Z"
   },
   {
    "duration": 147,
    "start_time": "2022-03-21T19:14:30.887Z"
   },
   {
    "duration": 8,
    "start_time": "2022-03-21T19:14:31.036Z"
   },
   {
    "duration": 5,
    "start_time": "2022-03-21T19:14:31.046Z"
   },
   {
    "duration": 6,
    "start_time": "2022-03-21T19:14:31.053Z"
   },
   {
    "duration": 23,
    "start_time": "2022-03-21T19:14:31.061Z"
   },
   {
    "duration": 13,
    "start_time": "2022-03-21T19:14:31.085Z"
   },
   {
    "duration": 157,
    "start_time": "2022-03-21T19:14:31.100Z"
   },
   {
    "duration": 305,
    "start_time": "2022-03-21T19:14:31.259Z"
   },
   {
    "duration": 8,
    "start_time": "2022-03-21T19:14:31.566Z"
   },
   {
    "duration": 0,
    "start_time": "2022-03-29T11:16:58.139Z"
   },
   {
    "duration": 0,
    "start_time": "2022-03-29T11:16:58.201Z"
   },
   {
    "duration": 0,
    "start_time": "2022-03-29T11:16:58.203Z"
   },
   {
    "duration": 0,
    "start_time": "2022-03-29T11:16:58.204Z"
   },
   {
    "duration": 0,
    "start_time": "2022-03-29T11:16:58.205Z"
   },
   {
    "duration": 0,
    "start_time": "2022-03-29T11:16:58.206Z"
   },
   {
    "duration": 0,
    "start_time": "2022-03-29T11:16:58.207Z"
   },
   {
    "duration": 0,
    "start_time": "2022-03-29T11:16:58.208Z"
   },
   {
    "duration": 0,
    "start_time": "2022-03-29T11:16:58.209Z"
   },
   {
    "duration": 0,
    "start_time": "2022-03-29T11:16:58.210Z"
   },
   {
    "duration": 0,
    "start_time": "2022-03-29T11:16:58.211Z"
   },
   {
    "duration": 0,
    "start_time": "2022-03-29T11:16:58.212Z"
   },
   {
    "duration": 0,
    "start_time": "2022-03-29T11:16:58.213Z"
   },
   {
    "duration": 0,
    "start_time": "2022-03-29T11:16:58.215Z"
   },
   {
    "duration": 0,
    "start_time": "2022-03-29T11:16:58.216Z"
   },
   {
    "duration": 0,
    "start_time": "2022-03-29T11:16:58.217Z"
   },
   {
    "duration": 0,
    "start_time": "2022-03-29T11:16:58.218Z"
   },
   {
    "duration": 0,
    "start_time": "2022-03-29T11:16:58.219Z"
   },
   {
    "duration": 0,
    "start_time": "2022-03-29T11:16:58.220Z"
   },
   {
    "duration": 0,
    "start_time": "2022-03-29T11:16:58.221Z"
   },
   {
    "duration": 0,
    "start_time": "2022-03-29T11:16:58.222Z"
   },
   {
    "duration": 0,
    "start_time": "2022-03-29T11:16:58.223Z"
   },
   {
    "duration": 0,
    "start_time": "2022-03-29T11:16:58.224Z"
   },
   {
    "duration": 0,
    "start_time": "2022-03-29T11:16:58.225Z"
   },
   {
    "duration": 0,
    "start_time": "2022-03-29T11:16:58.226Z"
   },
   {
    "duration": 0,
    "start_time": "2022-03-29T11:16:58.227Z"
   },
   {
    "duration": 0,
    "start_time": "2022-03-29T11:16:58.229Z"
   },
   {
    "duration": 0,
    "start_time": "2022-03-29T11:16:58.230Z"
   },
   {
    "duration": 0,
    "start_time": "2022-03-29T11:16:58.231Z"
   },
   {
    "duration": 0,
    "start_time": "2022-03-29T11:16:58.232Z"
   },
   {
    "duration": 0,
    "start_time": "2022-03-29T11:16:58.233Z"
   },
   {
    "duration": 0,
    "start_time": "2022-03-29T11:16:58.234Z"
   },
   {
    "duration": 0,
    "start_time": "2022-03-29T11:16:58.235Z"
   },
   {
    "duration": 0,
    "start_time": "2022-03-29T11:16:58.236Z"
   },
   {
    "duration": 0,
    "start_time": "2022-03-29T11:16:58.301Z"
   },
   {
    "duration": 0,
    "start_time": "2022-03-29T11:16:58.303Z"
   },
   {
    "duration": 0,
    "start_time": "2022-03-29T11:16:58.304Z"
   },
   {
    "duration": 0,
    "start_time": "2022-03-29T11:16:58.305Z"
   },
   {
    "duration": 0,
    "start_time": "2022-03-29T11:16:58.306Z"
   },
   {
    "duration": 0,
    "start_time": "2022-03-29T11:16:58.307Z"
   },
   {
    "duration": 0,
    "start_time": "2022-03-29T11:16:58.308Z"
   },
   {
    "duration": 0,
    "start_time": "2022-03-29T11:16:58.309Z"
   },
   {
    "duration": 0,
    "start_time": "2022-03-29T11:16:58.310Z"
   },
   {
    "duration": 0,
    "start_time": "2022-03-29T11:16:58.311Z"
   },
   {
    "duration": 0,
    "start_time": "2022-03-29T11:16:58.312Z"
   },
   {
    "duration": 0,
    "start_time": "2022-03-29T11:16:58.313Z"
   },
   {
    "duration": 0,
    "start_time": "2022-03-29T11:16:58.314Z"
   },
   {
    "duration": 0,
    "start_time": "2022-03-29T11:16:58.315Z"
   },
   {
    "duration": 0,
    "start_time": "2022-03-29T11:16:58.316Z"
   },
   {
    "duration": 0,
    "start_time": "2022-03-29T11:16:58.318Z"
   },
   {
    "duration": 0,
    "start_time": "2022-03-29T11:16:58.319Z"
   },
   {
    "duration": 0,
    "start_time": "2022-03-29T11:16:58.320Z"
   },
   {
    "duration": 0,
    "start_time": "2022-03-29T11:16:58.321Z"
   },
   {
    "duration": 0,
    "start_time": "2022-03-29T11:16:58.322Z"
   },
   {
    "duration": 0,
    "start_time": "2022-03-29T11:16:58.323Z"
   },
   {
    "duration": 0,
    "start_time": "2022-03-29T11:16:58.324Z"
   },
   {
    "duration": 0,
    "start_time": "2022-03-29T11:16:58.325Z"
   },
   {
    "duration": 0,
    "start_time": "2022-03-29T11:16:58.326Z"
   },
   {
    "duration": 0,
    "start_time": "2022-03-29T11:16:58.327Z"
   },
   {
    "duration": 0,
    "start_time": "2022-03-29T11:16:58.328Z"
   },
   {
    "duration": 0,
    "start_time": "2022-03-29T11:16:58.330Z"
   },
   {
    "duration": 0,
    "start_time": "2022-03-29T11:16:58.331Z"
   },
   {
    "duration": 0,
    "start_time": "2022-03-29T11:16:58.332Z"
   },
   {
    "duration": 0,
    "start_time": "2022-03-29T11:16:58.333Z"
   },
   {
    "duration": 0,
    "start_time": "2022-03-29T11:16:58.334Z"
   },
   {
    "duration": 0,
    "start_time": "2022-03-29T11:16:58.335Z"
   },
   {
    "duration": 0,
    "start_time": "2022-03-29T11:16:58.336Z"
   },
   {
    "duration": 0,
    "start_time": "2022-03-29T11:16:58.402Z"
   },
   {
    "duration": 0,
    "start_time": "2022-03-29T11:16:58.408Z"
   },
   {
    "duration": 0,
    "start_time": "2022-03-29T11:16:58.409Z"
   },
   {
    "duration": 0,
    "start_time": "2022-03-29T11:16:58.412Z"
   },
   {
    "duration": 0,
    "start_time": "2022-03-29T11:16:58.414Z"
   },
   {
    "duration": 0,
    "start_time": "2022-03-29T11:16:58.415Z"
   },
   {
    "duration": 0,
    "start_time": "2022-03-29T11:16:58.416Z"
   },
   {
    "duration": 0,
    "start_time": "2022-03-29T11:16:58.417Z"
   },
   {
    "duration": 0,
    "start_time": "2022-03-29T11:16:58.418Z"
   },
   {
    "duration": 0,
    "start_time": "2022-03-29T11:16:58.419Z"
   },
   {
    "duration": 0,
    "start_time": "2022-03-29T11:16:58.421Z"
   },
   {
    "duration": 0,
    "start_time": "2022-03-29T11:16:58.422Z"
   },
   {
    "duration": 0,
    "start_time": "2022-03-29T11:16:58.424Z"
   },
   {
    "duration": 0,
    "start_time": "2022-03-29T11:16:58.425Z"
   },
   {
    "duration": 0,
    "start_time": "2022-03-29T11:16:58.427Z"
   },
   {
    "duration": 0,
    "start_time": "2022-03-29T11:16:58.429Z"
   },
   {
    "duration": 0,
    "start_time": "2022-03-29T11:16:58.430Z"
   },
   {
    "duration": 0,
    "start_time": "2022-03-29T11:16:58.432Z"
   },
   {
    "duration": 0,
    "start_time": "2022-03-29T11:16:58.434Z"
   },
   {
    "duration": 0,
    "start_time": "2022-03-29T11:16:58.436Z"
   },
   {
    "duration": 0,
    "start_time": "2022-03-29T11:16:58.437Z"
   },
   {
    "duration": 0,
    "start_time": "2022-03-29T11:16:58.500Z"
   },
   {
    "duration": 0,
    "start_time": "2022-03-29T11:16:58.502Z"
   },
   {
    "duration": 0,
    "start_time": "2022-03-29T11:16:58.504Z"
   },
   {
    "duration": 0,
    "start_time": "2022-03-29T11:16:58.506Z"
   },
   {
    "duration": 0,
    "start_time": "2022-03-29T11:16:58.508Z"
   },
   {
    "duration": 0,
    "start_time": "2022-03-29T11:16:58.509Z"
   },
   {
    "duration": 0,
    "start_time": "2022-03-29T11:16:58.511Z"
   },
   {
    "duration": 0,
    "start_time": "2022-03-29T11:16:58.512Z"
   },
   {
    "duration": 0,
    "start_time": "2022-03-29T11:16:58.514Z"
   },
   {
    "duration": 0,
    "start_time": "2022-03-29T11:16:58.516Z"
   },
   {
    "duration": 30,
    "start_time": "2022-03-29T11:17:56.838Z"
   },
   {
    "duration": 6,
    "start_time": "2022-03-29T11:17:56.875Z"
   },
   {
    "duration": 5,
    "start_time": "2022-03-29T11:17:56.883Z"
   },
   {
    "duration": 4,
    "start_time": "2022-03-29T11:18:22.926Z"
   },
   {
    "duration": 3,
    "start_time": "2022-03-29T11:18:24.267Z"
   },
   {
    "duration": 2,
    "start_time": "2022-03-29T11:18:26.402Z"
   },
   {
    "duration": 2,
    "start_time": "2022-03-29T11:18:28.474Z"
   },
   {
    "duration": 179,
    "start_time": "2022-03-29T11:18:31.018Z"
   },
   {
    "duration": 145,
    "start_time": "2022-03-29T11:18:32.649Z"
   },
   {
    "duration": 107,
    "start_time": "2022-03-29T11:18:33.834Z"
   },
   {
    "duration": 11,
    "start_time": "2022-03-29T11:18:34.850Z"
   },
   {
    "duration": 18,
    "start_time": "2022-03-29T11:18:35.714Z"
   },
   {
    "duration": 10,
    "start_time": "2022-03-29T11:18:36.814Z"
   },
   {
    "duration": 43,
    "start_time": "2022-03-29T11:18:38.690Z"
   },
   {
    "duration": 33,
    "start_time": "2022-03-29T11:18:40.649Z"
   },
   {
    "duration": 12,
    "start_time": "2022-03-29T11:18:41.713Z"
   },
   {
    "duration": 27,
    "start_time": "2022-03-29T11:18:44.713Z"
   },
   {
    "duration": 25,
    "start_time": "2022-03-29T11:18:46.429Z"
   },
   {
    "duration": 8,
    "start_time": "2022-03-29T11:18:48.544Z"
   },
   {
    "duration": 21,
    "start_time": "2022-03-29T11:18:50.349Z"
   },
   {
    "duration": 22,
    "start_time": "2022-03-29T11:18:51.777Z"
   },
   {
    "duration": 8,
    "start_time": "2022-03-29T11:18:53.072Z"
   },
   {
    "duration": 9,
    "start_time": "2022-03-29T11:18:58.364Z"
   },
   {
    "duration": 13,
    "start_time": "2022-03-29T11:19:00.991Z"
   },
   {
    "duration": 13,
    "start_time": "2022-03-29T11:19:01.781Z"
   },
   {
    "duration": 16,
    "start_time": "2022-03-29T11:19:04.691Z"
   },
   {
    "duration": 5,
    "start_time": "2022-03-29T11:19:05.545Z"
   },
   {
    "duration": 16,
    "start_time": "2022-03-29T11:19:06.816Z"
   },
   {
    "duration": 15,
    "start_time": "2022-03-29T11:19:09.278Z"
   },
   {
    "duration": 18,
    "start_time": "2022-03-29T11:19:10.355Z"
   },
   {
    "duration": 6,
    "start_time": "2022-03-29T11:19:11.389Z"
   },
   {
    "duration": 6,
    "start_time": "2022-03-29T11:19:11.990Z"
   },
   {
    "duration": 39,
    "start_time": "2022-03-29T11:19:22.189Z"
   },
   {
    "duration": 32,
    "start_time": "2022-03-29T11:19:30.191Z"
   },
   {
    "duration": 11,
    "start_time": "2022-03-29T11:19:34.587Z"
   },
   {
    "duration": 26,
    "start_time": "2022-03-29T11:19:43.717Z"
   },
   {
    "duration": 14,
    "start_time": "2022-03-29T11:19:46.829Z"
   },
   {
    "duration": 24,
    "start_time": "2022-03-29T11:20:00.030Z"
   },
   {
    "duration": 21,
    "start_time": "2022-03-29T11:20:38.044Z"
   },
   {
    "duration": 37,
    "start_time": "2022-03-29T11:20:45.705Z"
   },
   {
    "duration": 21,
    "start_time": "2022-03-29T11:20:49.777Z"
   },
   {
    "duration": 26,
    "start_time": "2022-03-29T11:20:56.553Z"
   },
   {
    "duration": 22,
    "start_time": "2022-03-29T11:21:02.354Z"
   },
   {
    "duration": 15,
    "start_time": "2022-03-29T11:21:06.570Z"
   },
   {
    "duration": 14,
    "start_time": "2022-03-29T11:21:58.527Z"
   },
   {
    "duration": 14,
    "start_time": "2022-03-29T11:22:56.003Z"
   },
   {
    "duration": 13,
    "start_time": "2022-03-29T11:22:58.186Z"
   },
   {
    "duration": 20,
    "start_time": "2022-03-29T11:23:07.906Z"
   },
   {
    "duration": 20,
    "start_time": "2022-03-29T11:23:26.039Z"
   },
   {
    "duration": 24,
    "start_time": "2022-03-29T11:24:14.602Z"
   },
   {
    "duration": 7,
    "start_time": "2022-03-29T11:24:18.929Z"
   },
   {
    "duration": 7,
    "start_time": "2022-03-29T11:24:22.547Z"
   },
   {
    "duration": 16,
    "start_time": "2022-03-29T11:24:29.781Z"
   },
   {
    "duration": 11,
    "start_time": "2022-03-29T11:24:39.199Z"
   },
   {
    "duration": 16,
    "start_time": "2022-03-29T11:24:51.397Z"
   },
   {
    "duration": 18,
    "start_time": "2022-03-29T11:25:25.843Z"
   },
   {
    "duration": 23,
    "start_time": "2022-03-29T11:25:29.461Z"
   },
   {
    "duration": 142,
    "start_time": "2022-03-29T11:34:35.083Z"
   },
   {
    "duration": 126,
    "start_time": "2022-03-29T11:35:12.062Z"
   },
   {
    "duration": 16,
    "start_time": "2022-03-29T11:37:15.971Z"
   },
   {
    "duration": 453,
    "start_time": "2022-03-29T11:37:29.475Z"
   },
   {
    "duration": 267,
    "start_time": "2022-03-29T11:37:29.930Z"
   },
   {
    "duration": 3,
    "start_time": "2022-03-29T11:37:30.199Z"
   },
   {
    "duration": 462,
    "start_time": "2022-03-29T11:37:30.205Z"
   },
   {
    "duration": 3,
    "start_time": "2022-03-29T11:37:30.670Z"
   },
   {
    "duration": 176,
    "start_time": "2022-03-29T11:37:30.674Z"
   },
   {
    "duration": 139,
    "start_time": "2022-03-29T11:37:30.853Z"
   },
   {
    "duration": 106,
    "start_time": "2022-03-29T11:37:30.994Z"
   },
   {
    "duration": 11,
    "start_time": "2022-03-29T11:37:31.102Z"
   },
   {
    "duration": 18,
    "start_time": "2022-03-29T11:37:31.116Z"
   },
   {
    "duration": 26,
    "start_time": "2022-03-29T11:37:31.137Z"
   },
   {
    "duration": 30,
    "start_time": "2022-03-29T11:37:31.165Z"
   },
   {
    "duration": 44,
    "start_time": "2022-03-29T11:37:31.200Z"
   },
   {
    "duration": 10,
    "start_time": "2022-03-29T11:37:31.246Z"
   },
   {
    "duration": 43,
    "start_time": "2022-03-29T11:37:31.258Z"
   },
   {
    "duration": 28,
    "start_time": "2022-03-29T11:37:31.303Z"
   },
   {
    "duration": 9,
    "start_time": "2022-03-29T11:37:31.334Z"
   },
   {
    "duration": 23,
    "start_time": "2022-03-29T11:37:31.346Z"
   },
   {
    "duration": 49,
    "start_time": "2022-03-29T11:37:31.371Z"
   },
   {
    "duration": 9,
    "start_time": "2022-03-29T11:37:31.422Z"
   },
   {
    "duration": 18,
    "start_time": "2022-03-29T11:37:31.433Z"
   },
   {
    "duration": 23,
    "start_time": "2022-03-29T11:37:31.453Z"
   },
   {
    "duration": 33,
    "start_time": "2022-03-29T11:37:31.478Z"
   },
   {
    "duration": 19,
    "start_time": "2022-03-29T11:37:31.513Z"
   },
   {
    "duration": 8,
    "start_time": "2022-03-29T11:37:31.534Z"
   },
   {
    "duration": 27,
    "start_time": "2022-03-29T11:37:31.544Z"
   },
   {
    "duration": 14,
    "start_time": "2022-03-29T11:37:31.573Z"
   },
   {
    "duration": 12,
    "start_time": "2022-03-29T11:37:31.604Z"
   },
   {
    "duration": 11,
    "start_time": "2022-03-29T11:37:31.617Z"
   },
   {
    "duration": 11,
    "start_time": "2022-03-29T11:37:31.630Z"
   },
   {
    "duration": 36,
    "start_time": "2022-03-29T11:37:31.643Z"
   },
   {
    "duration": 25,
    "start_time": "2022-03-29T11:37:31.702Z"
   },
   {
    "duration": 3,
    "start_time": "2022-03-29T11:37:31.729Z"
   },
   {
    "duration": 29,
    "start_time": "2022-03-29T11:37:31.734Z"
   },
   {
    "duration": 3,
    "start_time": "2022-03-29T11:37:31.765Z"
   },
   {
    "duration": 124,
    "start_time": "2022-03-29T11:37:31.769Z"
   },
   {
    "duration": 0,
    "start_time": "2022-03-29T11:37:31.902Z"
   },
   {
    "duration": 0,
    "start_time": "2022-03-29T11:37:31.903Z"
   },
   {
    "duration": 0,
    "start_time": "2022-03-29T11:37:31.905Z"
   },
   {
    "duration": 0,
    "start_time": "2022-03-29T11:37:31.906Z"
   },
   {
    "duration": 0,
    "start_time": "2022-03-29T11:37:31.908Z"
   },
   {
    "duration": 0,
    "start_time": "2022-03-29T11:37:31.909Z"
   },
   {
    "duration": 0,
    "start_time": "2022-03-29T11:37:31.911Z"
   },
   {
    "duration": 0,
    "start_time": "2022-03-29T11:37:31.912Z"
   },
   {
    "duration": 0,
    "start_time": "2022-03-29T11:37:31.913Z"
   },
   {
    "duration": 0,
    "start_time": "2022-03-29T11:37:31.914Z"
   },
   {
    "duration": 0,
    "start_time": "2022-03-29T11:37:31.914Z"
   },
   {
    "duration": 0,
    "start_time": "2022-03-29T11:37:31.916Z"
   },
   {
    "duration": 0,
    "start_time": "2022-03-29T11:37:31.917Z"
   },
   {
    "duration": 0,
    "start_time": "2022-03-29T11:37:31.918Z"
   },
   {
    "duration": 0,
    "start_time": "2022-03-29T11:37:31.918Z"
   },
   {
    "duration": 0,
    "start_time": "2022-03-29T11:37:31.920Z"
   },
   {
    "duration": 0,
    "start_time": "2022-03-29T11:37:31.920Z"
   },
   {
    "duration": 0,
    "start_time": "2022-03-29T11:37:31.921Z"
   },
   {
    "duration": 0,
    "start_time": "2022-03-29T11:37:31.922Z"
   },
   {
    "duration": 0,
    "start_time": "2022-03-29T11:37:31.924Z"
   },
   {
    "duration": 0,
    "start_time": "2022-03-29T11:37:31.925Z"
   },
   {
    "duration": 0,
    "start_time": "2022-03-29T11:37:31.926Z"
   },
   {
    "duration": 0,
    "start_time": "2022-03-29T11:37:31.927Z"
   },
   {
    "duration": 0,
    "start_time": "2022-03-29T11:37:31.928Z"
   },
   {
    "duration": 0,
    "start_time": "2022-03-29T11:37:31.929Z"
   },
   {
    "duration": 0,
    "start_time": "2022-03-29T11:37:31.930Z"
   },
   {
    "duration": 0,
    "start_time": "2022-03-29T11:37:31.931Z"
   },
   {
    "duration": 0,
    "start_time": "2022-03-29T11:37:31.933Z"
   },
   {
    "duration": 0,
    "start_time": "2022-03-29T11:37:31.934Z"
   },
   {
    "duration": 0,
    "start_time": "2022-03-29T11:37:31.935Z"
   },
   {
    "duration": 0,
    "start_time": "2022-03-29T11:37:31.936Z"
   },
   {
    "duration": 0,
    "start_time": "2022-03-29T11:37:31.938Z"
   },
   {
    "duration": 0,
    "start_time": "2022-03-29T11:37:31.938Z"
   },
   {
    "duration": 0,
    "start_time": "2022-03-29T11:37:31.940Z"
   },
   {
    "duration": 0,
    "start_time": "2022-03-29T11:37:32.001Z"
   },
   {
    "duration": 0,
    "start_time": "2022-03-29T11:37:32.002Z"
   },
   {
    "duration": 0,
    "start_time": "2022-03-29T11:37:32.004Z"
   },
   {
    "duration": 0,
    "start_time": "2022-03-29T11:37:32.005Z"
   },
   {
    "duration": 0,
    "start_time": "2022-03-29T11:37:32.007Z"
   },
   {
    "duration": 0,
    "start_time": "2022-03-29T11:37:32.008Z"
   },
   {
    "duration": 0,
    "start_time": "2022-03-29T11:37:32.009Z"
   },
   {
    "duration": 0,
    "start_time": "2022-03-29T11:37:32.010Z"
   },
   {
    "duration": 0,
    "start_time": "2022-03-29T11:37:32.011Z"
   },
   {
    "duration": 0,
    "start_time": "2022-03-29T11:37:32.012Z"
   },
   {
    "duration": 0,
    "start_time": "2022-03-29T11:37:32.013Z"
   },
   {
    "duration": 0,
    "start_time": "2022-03-29T11:37:32.014Z"
   },
   {
    "duration": 0,
    "start_time": "2022-03-29T11:37:32.016Z"
   },
   {
    "duration": 0,
    "start_time": "2022-03-29T11:37:32.016Z"
   },
   {
    "duration": 0,
    "start_time": "2022-03-29T11:37:32.018Z"
   },
   {
    "duration": 0,
    "start_time": "2022-03-29T11:37:32.019Z"
   },
   {
    "duration": 0,
    "start_time": "2022-03-29T11:37:32.020Z"
   },
   {
    "duration": 0,
    "start_time": "2022-03-29T11:37:32.021Z"
   },
   {
    "duration": 0,
    "start_time": "2022-03-29T11:37:32.022Z"
   },
   {
    "duration": 0,
    "start_time": "2022-03-29T11:37:32.023Z"
   },
   {
    "duration": 0,
    "start_time": "2022-03-29T11:37:32.024Z"
   },
   {
    "duration": 0,
    "start_time": "2022-03-29T11:37:32.025Z"
   },
   {
    "duration": 0,
    "start_time": "2022-03-29T11:37:32.026Z"
   },
   {
    "duration": 0,
    "start_time": "2022-03-29T11:37:32.028Z"
   },
   {
    "duration": 0,
    "start_time": "2022-03-29T11:37:32.029Z"
   },
   {
    "duration": 0,
    "start_time": "2022-03-29T11:37:32.030Z"
   },
   {
    "duration": 0,
    "start_time": "2022-03-29T11:37:32.031Z"
   },
   {
    "duration": 0,
    "start_time": "2022-03-29T11:37:32.032Z"
   },
   {
    "duration": 12,
    "start_time": "2022-03-29T11:38:24.734Z"
   },
   {
    "duration": 24,
    "start_time": "2022-03-29T11:38:27.738Z"
   },
   {
    "duration": 15,
    "start_time": "2022-03-29T11:38:30.054Z"
   },
   {
    "duration": 17,
    "start_time": "2022-03-29T11:38:32.412Z"
   },
   {
    "duration": 27,
    "start_time": "2022-03-29T11:38:47.404Z"
   },
   {
    "duration": 22,
    "start_time": "2022-03-29T11:38:51.418Z"
   },
   {
    "duration": 17,
    "start_time": "2022-03-29T11:38:54.390Z"
   },
   {
    "duration": 27,
    "start_time": "2022-03-29T11:38:57.525Z"
   },
   {
    "duration": 21,
    "start_time": "2022-03-29T11:39:00.674Z"
   },
   {
    "duration": 15,
    "start_time": "2022-03-29T11:39:03.584Z"
   },
   {
    "duration": 2159,
    "start_time": "2022-03-29T11:41:11.825Z"
   },
   {
    "duration": 17,
    "start_time": "2022-03-29T11:41:17.395Z"
   },
   {
    "duration": 20,
    "start_time": "2022-03-29T11:41:20.767Z"
   },
   {
    "duration": 22,
    "start_time": "2022-03-29T11:41:23.840Z"
   },
   {
    "duration": 8,
    "start_time": "2022-03-29T11:41:26.920Z"
   },
   {
    "duration": 12,
    "start_time": "2022-03-29T11:41:59.536Z"
   },
   {
    "duration": 19,
    "start_time": "2022-03-29T11:44:58.275Z"
   },
   {
    "duration": 7,
    "start_time": "2022-03-29T11:45:10.183Z"
   },
   {
    "duration": 8,
    "start_time": "2022-03-29T11:45:36.130Z"
   },
   {
    "duration": 17,
    "start_time": "2022-03-29T11:45:41.923Z"
   },
   {
    "duration": 13,
    "start_time": "2022-03-29T11:46:56.741Z"
   },
   {
    "duration": 12,
    "start_time": "2022-03-29T11:47:15.978Z"
   },
   {
    "duration": 12,
    "start_time": "2022-03-29T11:47:19.271Z"
   },
   {
    "duration": 18,
    "start_time": "2022-03-29T11:47:24.375Z"
   },
   {
    "duration": 10,
    "start_time": "2022-03-29T11:47:27.040Z"
   },
   {
    "duration": 14,
    "start_time": "2022-03-29T11:47:35.599Z"
   },
   {
    "duration": 16,
    "start_time": "2022-03-29T11:48:32.350Z"
   },
   {
    "duration": 18,
    "start_time": "2022-03-29T11:48:46.268Z"
   },
   {
    "duration": 26,
    "start_time": "2022-03-29T11:49:08.996Z"
   },
   {
    "duration": 15,
    "start_time": "2022-03-29T11:49:26.528Z"
   },
   {
    "duration": 10,
    "start_time": "2022-03-29T11:49:48.272Z"
   },
   {
    "duration": 13,
    "start_time": "2022-03-29T11:49:53.041Z"
   },
   {
    "duration": 21,
    "start_time": "2022-03-29T11:50:00.165Z"
   },
   {
    "duration": 19,
    "start_time": "2022-03-29T11:50:06.149Z"
   },
   {
    "duration": 8,
    "start_time": "2022-03-29T11:50:11.042Z"
   },
   {
    "duration": 6,
    "start_time": "2022-03-29T11:50:15.979Z"
   },
   {
    "duration": 7,
    "start_time": "2022-03-29T11:50:20.111Z"
   },
   {
    "duration": 19,
    "start_time": "2022-03-29T11:50:24.351Z"
   },
   {
    "duration": 69,
    "start_time": "2022-03-29T12:09:28.105Z"
   },
   {
    "duration": 9,
    "start_time": "2022-03-29T12:09:57.379Z"
   },
   {
    "duration": 518,
    "start_time": "2022-03-29T12:10:09.402Z"
   },
   {
    "duration": 726,
    "start_time": "2022-03-29T12:10:09.923Z"
   },
   {
    "duration": 4,
    "start_time": "2022-03-29T12:10:10.651Z"
   },
   {
    "duration": 602,
    "start_time": "2022-03-29T12:10:10.657Z"
   },
   {
    "duration": 3,
    "start_time": "2022-03-29T12:10:11.262Z"
   },
   {
    "duration": 251,
    "start_time": "2022-03-29T12:10:11.274Z"
   },
   {
    "duration": 189,
    "start_time": "2022-03-29T12:10:11.527Z"
   },
   {
    "duration": 113,
    "start_time": "2022-03-29T12:10:11.718Z"
   },
   {
    "duration": 11,
    "start_time": "2022-03-29T12:10:11.833Z"
   },
   {
    "duration": 39,
    "start_time": "2022-03-29T12:10:11.848Z"
   },
   {
    "duration": 27,
    "start_time": "2022-03-29T12:10:11.889Z"
   },
   {
    "duration": 52,
    "start_time": "2022-03-29T12:10:11.918Z"
   },
   {
    "duration": 61,
    "start_time": "2022-03-29T12:10:11.972Z"
   },
   {
    "duration": 14,
    "start_time": "2022-03-29T12:10:12.035Z"
   },
   {
    "duration": 65,
    "start_time": "2022-03-29T12:10:12.052Z"
   },
   {
    "duration": 68,
    "start_time": "2022-03-29T12:10:12.120Z"
   },
   {
    "duration": 23,
    "start_time": "2022-03-29T12:10:12.192Z"
   },
   {
    "duration": 31,
    "start_time": "2022-03-29T12:10:12.217Z"
   },
   {
    "duration": 35,
    "start_time": "2022-03-29T12:10:12.250Z"
   },
   {
    "duration": 14,
    "start_time": "2022-03-29T12:10:12.287Z"
   },
   {
    "duration": 20,
    "start_time": "2022-03-29T12:10:12.304Z"
   },
   {
    "duration": 36,
    "start_time": "2022-03-29T12:10:12.326Z"
   },
   {
    "duration": 24,
    "start_time": "2022-03-29T12:10:12.365Z"
   },
   {
    "duration": 28,
    "start_time": "2022-03-29T12:10:12.391Z"
   },
   {
    "duration": 28,
    "start_time": "2022-03-29T12:10:12.421Z"
   },
   {
    "duration": 30,
    "start_time": "2022-03-29T12:10:12.451Z"
   },
   {
    "duration": 18,
    "start_time": "2022-03-29T12:10:12.483Z"
   },
   {
    "duration": 14,
    "start_time": "2022-03-29T12:10:12.508Z"
   },
   {
    "duration": 24,
    "start_time": "2022-03-29T12:10:12.525Z"
   },
   {
    "duration": 27,
    "start_time": "2022-03-29T12:10:12.551Z"
   },
   {
    "duration": 55,
    "start_time": "2022-03-29T12:10:12.580Z"
   },
   {
    "duration": 39,
    "start_time": "2022-03-29T12:10:12.637Z"
   },
   {
    "duration": 16,
    "start_time": "2022-03-29T12:10:12.678Z"
   },
   {
    "duration": 51,
    "start_time": "2022-03-29T12:10:12.697Z"
   },
   {
    "duration": 31,
    "start_time": "2022-03-29T12:10:12.750Z"
   },
   {
    "duration": 34,
    "start_time": "2022-03-29T12:10:12.783Z"
   },
   {
    "duration": 28,
    "start_time": "2022-03-29T12:10:12.819Z"
   },
   {
    "duration": 52,
    "start_time": "2022-03-29T12:10:12.849Z"
   },
   {
    "duration": 16,
    "start_time": "2022-03-29T12:10:12.904Z"
   },
   {
    "duration": 61,
    "start_time": "2022-03-29T12:10:12.923Z"
   },
   {
    "duration": 26,
    "start_time": "2022-03-29T12:10:12.986Z"
   },
   {
    "duration": 27,
    "start_time": "2022-03-29T12:10:13.014Z"
   },
   {
    "duration": 39,
    "start_time": "2022-03-29T12:10:13.043Z"
   },
   {
    "duration": 26,
    "start_time": "2022-03-29T12:10:13.085Z"
   },
   {
    "duration": 38,
    "start_time": "2022-03-29T12:10:13.113Z"
   },
   {
    "duration": 25,
    "start_time": "2022-03-29T12:10:13.153Z"
   },
   {
    "duration": 35,
    "start_time": "2022-03-29T12:10:13.181Z"
   },
   {
    "duration": 28,
    "start_time": "2022-03-29T12:10:13.219Z"
   },
   {
    "duration": 23,
    "start_time": "2022-03-29T12:10:13.250Z"
   },
   {
    "duration": 34,
    "start_time": "2022-03-29T12:10:13.275Z"
   },
   {
    "duration": 48,
    "start_time": "2022-03-29T12:10:13.313Z"
   },
   {
    "duration": 35,
    "start_time": "2022-03-29T12:10:13.363Z"
   },
   {
    "duration": 33,
    "start_time": "2022-03-29T12:10:13.401Z"
   },
   {
    "duration": 46,
    "start_time": "2022-03-29T12:10:13.437Z"
   },
   {
    "duration": 36,
    "start_time": "2022-03-29T12:10:13.486Z"
   },
   {
    "duration": 29,
    "start_time": "2022-03-29T12:10:13.525Z"
   },
   {
    "duration": 44,
    "start_time": "2022-03-29T12:10:13.557Z"
   },
   {
    "duration": 41,
    "start_time": "2022-03-29T12:10:13.604Z"
   },
   {
    "duration": 31,
    "start_time": "2022-03-29T12:10:13.648Z"
   },
   {
    "duration": 11,
    "start_time": "2022-03-29T12:10:13.682Z"
   },
   {
    "duration": 13,
    "start_time": "2022-03-29T12:10:13.696Z"
   },
   {
    "duration": 29,
    "start_time": "2022-03-29T12:10:13.710Z"
   },
   {
    "duration": 43,
    "start_time": "2022-03-29T12:10:13.741Z"
   },
   {
    "duration": 16,
    "start_time": "2022-03-29T12:10:13.786Z"
   },
   {
    "duration": 32,
    "start_time": "2022-03-29T12:10:13.804Z"
   },
   {
    "duration": 35,
    "start_time": "2022-03-29T12:10:13.875Z"
   },
   {
    "duration": 62,
    "start_time": "2022-03-29T12:10:13.913Z"
   },
   {
    "duration": 41,
    "start_time": "2022-03-29T12:10:13.977Z"
   },
   {
    "duration": 12,
    "start_time": "2022-03-29T12:10:14.020Z"
   },
   {
    "duration": 40,
    "start_time": "2022-03-29T12:10:14.035Z"
   },
   {
    "duration": 14,
    "start_time": "2022-03-29T12:10:14.078Z"
   },
   {
    "duration": 31,
    "start_time": "2022-03-29T12:10:14.095Z"
   },
   {
    "duration": 57,
    "start_time": "2022-03-29T12:10:14.128Z"
   },
   {
    "duration": 11,
    "start_time": "2022-03-29T12:10:14.187Z"
   },
   {
    "duration": 13,
    "start_time": "2022-03-29T12:10:14.200Z"
   },
   {
    "duration": 297,
    "start_time": "2022-03-29T12:10:14.215Z"
   },
   {
    "duration": 250,
    "start_time": "2022-03-29T12:10:14.515Z"
   },
   {
    "duration": 23,
    "start_time": "2022-03-29T12:10:14.767Z"
   },
   {
    "duration": 20,
    "start_time": "2022-03-29T12:10:14.792Z"
   },
   {
    "duration": 418,
    "start_time": "2022-03-29T12:10:14.814Z"
   },
   {
    "duration": 229,
    "start_time": "2022-03-29T12:10:15.234Z"
   },
   {
    "duration": 21,
    "start_time": "2022-03-29T12:10:15.477Z"
   },
   {
    "duration": 17,
    "start_time": "2022-03-29T12:10:15.501Z"
   },
   {
    "duration": 278,
    "start_time": "2022-03-29T12:10:15.521Z"
   },
   {
    "duration": 253,
    "start_time": "2022-03-29T12:10:15.801Z"
   },
   {
    "duration": 3,
    "start_time": "2022-03-29T12:10:16.056Z"
   },
   {
    "duration": 39,
    "start_time": "2022-03-29T12:10:16.062Z"
   },
   {
    "duration": 18,
    "start_time": "2022-03-29T12:10:16.104Z"
   },
   {
    "duration": 253,
    "start_time": "2022-03-29T12:10:16.125Z"
   },
   {
    "duration": 259,
    "start_time": "2022-03-29T12:10:16.380Z"
   },
   {
    "duration": 13,
    "start_time": "2022-03-29T12:10:16.641Z"
   },
   {
    "duration": 17,
    "start_time": "2022-03-29T12:10:16.656Z"
   },
   {
    "duration": 7,
    "start_time": "2022-03-29T12:10:16.675Z"
   },
   {
    "duration": 26,
    "start_time": "2022-03-29T12:10:16.684Z"
   },
   {
    "duration": 17,
    "start_time": "2022-03-29T12:10:16.712Z"
   },
   {
    "duration": 283,
    "start_time": "2022-03-29T12:10:16.731Z"
   },
   {
    "duration": 319,
    "start_time": "2022-03-29T12:10:17.016Z"
   },
   {
    "duration": 13,
    "start_time": "2022-03-29T12:10:17.338Z"
   },
   {
    "duration": 68,
    "start_time": "2022-03-29T12:12:37.936Z"
   },
   {
    "duration": 44,
    "start_time": "2022-03-29T12:13:33.213Z"
   },
   {
    "duration": 44,
    "start_time": "2022-03-29T12:17:05.381Z"
   },
   {
    "duration": 49,
    "start_time": "2022-03-29T12:17:20.916Z"
   },
   {
    "duration": 185,
    "start_time": "2022-03-29T12:22:38.046Z"
   },
   {
    "duration": 41,
    "start_time": "2022-03-29T12:23:22.991Z"
   },
   {
    "duration": 148,
    "start_time": "2022-03-29T12:25:39.972Z"
   },
   {
    "duration": 82,
    "start_time": "2022-03-29T12:25:44.490Z"
   },
   {
    "duration": 93,
    "start_time": "2022-03-29T12:26:06.397Z"
   },
   {
    "duration": 698,
    "start_time": "2022-03-29T12:26:24.355Z"
   },
   {
    "duration": 685,
    "start_time": "2022-03-29T12:26:25.056Z"
   },
   {
    "duration": 4,
    "start_time": "2022-03-29T12:26:25.745Z"
   },
   {
    "duration": 601,
    "start_time": "2022-03-29T12:26:25.752Z"
   },
   {
    "duration": 4,
    "start_time": "2022-03-29T12:26:26.355Z"
   },
   {
    "duration": 217,
    "start_time": "2022-03-29T12:26:26.361Z"
   },
   {
    "duration": 176,
    "start_time": "2022-03-29T12:26:26.580Z"
   },
   {
    "duration": 123,
    "start_time": "2022-03-29T12:26:26.758Z"
   },
   {
    "duration": 12,
    "start_time": "2022-03-29T12:26:26.883Z"
   },
   {
    "duration": 19,
    "start_time": "2022-03-29T12:26:26.900Z"
   },
   {
    "duration": 23,
    "start_time": "2022-03-29T12:26:26.921Z"
   },
   {
    "duration": 79,
    "start_time": "2022-03-29T12:26:26.947Z"
   },
   {
    "duration": 111,
    "start_time": "2022-03-29T12:26:27.030Z"
   },
   {
    "duration": 39,
    "start_time": "2022-03-29T12:26:27.145Z"
   },
   {
    "duration": 44,
    "start_time": "2022-03-29T12:26:27.187Z"
   },
   {
    "duration": 66,
    "start_time": "2022-03-29T12:26:27.234Z"
   },
   {
    "duration": 13,
    "start_time": "2022-03-29T12:26:27.305Z"
   },
   {
    "duration": 25,
    "start_time": "2022-03-29T12:26:27.323Z"
   },
   {
    "duration": 31,
    "start_time": "2022-03-29T12:26:27.377Z"
   },
   {
    "duration": 12,
    "start_time": "2022-03-29T12:26:27.410Z"
   },
   {
    "duration": 51,
    "start_time": "2022-03-29T12:26:27.424Z"
   },
   {
    "duration": 20,
    "start_time": "2022-03-29T12:26:27.478Z"
   },
   {
    "duration": 24,
    "start_time": "2022-03-29T12:26:27.501Z"
   },
   {
    "duration": 60,
    "start_time": "2022-03-29T12:26:27.527Z"
   },
   {
    "duration": 9,
    "start_time": "2022-03-29T12:26:27.590Z"
   },
   {
    "duration": 27,
    "start_time": "2022-03-29T12:26:27.602Z"
   },
   {
    "duration": 44,
    "start_time": "2022-03-29T12:26:27.632Z"
   },
   {
    "duration": 17,
    "start_time": "2022-03-29T12:26:27.683Z"
   },
   {
    "duration": 11,
    "start_time": "2022-03-29T12:26:27.703Z"
   },
   {
    "duration": 11,
    "start_time": "2022-03-29T12:26:27.717Z"
   },
   {
    "duration": 83,
    "start_time": "2022-03-29T12:26:27.731Z"
   },
   {
    "duration": 60,
    "start_time": "2022-03-29T12:26:27.816Z"
   },
   {
    "duration": 20,
    "start_time": "2022-03-29T12:26:27.878Z"
   },
   {
    "duration": 31,
    "start_time": "2022-03-29T12:26:27.901Z"
   },
   {
    "duration": 61,
    "start_time": "2022-03-29T12:26:27.934Z"
   },
   {
    "duration": 25,
    "start_time": "2022-03-29T12:26:27.998Z"
   },
   {
    "duration": 64,
    "start_time": "2022-03-29T12:26:28.025Z"
   },
   {
    "duration": 27,
    "start_time": "2022-03-29T12:26:28.091Z"
   },
   {
    "duration": 18,
    "start_time": "2022-03-29T12:26:28.120Z"
   },
   {
    "duration": 36,
    "start_time": "2022-03-29T12:26:28.174Z"
   },
   {
    "duration": 61,
    "start_time": "2022-03-29T12:26:28.212Z"
   },
   {
    "duration": 19,
    "start_time": "2022-03-29T12:26:28.275Z"
   },
   {
    "duration": 55,
    "start_time": "2022-03-29T12:26:28.296Z"
   },
   {
    "duration": 36,
    "start_time": "2022-03-29T12:26:28.374Z"
   },
   {
    "duration": 32,
    "start_time": "2022-03-29T12:26:28.413Z"
   },
   {
    "duration": 76,
    "start_time": "2022-03-29T12:26:28.448Z"
   },
   {
    "duration": 50,
    "start_time": "2022-03-29T12:26:28.528Z"
   },
   {
    "duration": 10,
    "start_time": "2022-03-29T12:26:28.581Z"
   },
   {
    "duration": 13,
    "start_time": "2022-03-29T12:26:28.593Z"
   },
   {
    "duration": 26,
    "start_time": "2022-03-29T12:26:28.610Z"
   },
   {
    "duration": 15,
    "start_time": "2022-03-29T12:26:28.674Z"
   },
   {
    "duration": 17,
    "start_time": "2022-03-29T12:26:28.691Z"
   },
   {
    "duration": 22,
    "start_time": "2022-03-29T12:26:28.711Z"
   },
   {
    "duration": 63,
    "start_time": "2022-03-29T12:26:28.736Z"
   },
   {
    "duration": 22,
    "start_time": "2022-03-29T12:26:28.801Z"
   },
   {
    "duration": 60,
    "start_time": "2022-03-29T12:26:28.825Z"
   },
   {
    "duration": 13,
    "start_time": "2022-03-29T12:26:28.888Z"
   },
   {
    "duration": 20,
    "start_time": "2022-03-29T12:26:28.903Z"
   },
   {
    "duration": 81,
    "start_time": "2022-03-29T12:26:28.926Z"
   },
   {
    "duration": 72,
    "start_time": "2022-03-29T12:26:29.011Z"
   },
   {
    "duration": 11,
    "start_time": "2022-03-29T12:26:29.086Z"
   },
   {
    "duration": 10,
    "start_time": "2022-03-29T12:26:29.099Z"
   },
   {
    "duration": 10,
    "start_time": "2022-03-29T12:26:29.111Z"
   },
   {
    "duration": 71,
    "start_time": "2022-03-29T12:26:29.123Z"
   },
   {
    "duration": 12,
    "start_time": "2022-03-29T12:26:29.197Z"
   },
   {
    "duration": 63,
    "start_time": "2022-03-29T12:26:29.213Z"
   },
   {
    "duration": 52,
    "start_time": "2022-03-29T12:26:29.279Z"
   },
   {
    "duration": 86,
    "start_time": "2022-03-29T12:26:29.334Z"
   },
   {
    "duration": 89,
    "start_time": "2022-03-29T12:26:29.423Z"
   },
   {
    "duration": 61,
    "start_time": "2022-03-29T12:26:29.514Z"
   },
   {
    "duration": 9,
    "start_time": "2022-03-29T12:26:29.577Z"
   },
   {
    "duration": 24,
    "start_time": "2022-03-29T12:26:29.588Z"
   },
   {
    "duration": 18,
    "start_time": "2022-03-29T12:26:29.614Z"
   },
   {
    "duration": 74,
    "start_time": "2022-03-29T12:26:29.634Z"
   },
   {
    "duration": 37,
    "start_time": "2022-03-29T12:26:29.711Z"
   },
   {
    "duration": 23,
    "start_time": "2022-03-29T12:26:29.751Z"
   },
   {
    "duration": 16,
    "start_time": "2022-03-29T12:26:29.777Z"
   },
   {
    "duration": 458,
    "start_time": "2022-03-29T12:26:29.795Z"
   },
   {
    "duration": 469,
    "start_time": "2022-03-29T12:26:30.256Z"
   },
   {
    "duration": 48,
    "start_time": "2022-03-29T12:26:30.729Z"
   },
   {
    "duration": 17,
    "start_time": "2022-03-29T12:26:30.779Z"
   },
   {
    "duration": 395,
    "start_time": "2022-03-29T12:26:30.807Z"
   },
   {
    "duration": 225,
    "start_time": "2022-03-29T12:26:31.206Z"
   },
   {
    "duration": 23,
    "start_time": "2022-03-29T12:26:31.433Z"
   },
   {
    "duration": 33,
    "start_time": "2022-03-29T12:26:31.458Z"
   },
   {
    "duration": 264,
    "start_time": "2022-03-29T12:26:31.494Z"
   },
   {
    "duration": 513,
    "start_time": "2022-03-29T12:26:31.761Z"
   },
   {
    "duration": 5,
    "start_time": "2022-03-29T12:26:32.279Z"
   },
   {
    "duration": 50,
    "start_time": "2022-03-29T12:26:32.286Z"
   },
   {
    "duration": 38,
    "start_time": "2022-03-29T12:26:32.339Z"
   },
   {
    "duration": 241,
    "start_time": "2022-03-29T12:26:32.380Z"
   },
   {
    "duration": 266,
    "start_time": "2022-03-29T12:26:32.623Z"
   },
   {
    "duration": 10,
    "start_time": "2022-03-29T12:26:32.892Z"
   },
   {
    "duration": 5,
    "start_time": "2022-03-29T12:26:32.904Z"
   },
   {
    "duration": 6,
    "start_time": "2022-03-29T12:26:32.911Z"
   },
   {
    "duration": 66,
    "start_time": "2022-03-29T12:26:32.920Z"
   },
   {
    "duration": 17,
    "start_time": "2022-03-29T12:26:32.989Z"
   },
   {
    "duration": 259,
    "start_time": "2022-03-29T12:26:33.009Z"
   },
   {
    "duration": 325,
    "start_time": "2022-03-29T12:26:33.275Z"
   },
   {
    "duration": 17,
    "start_time": "2022-03-29T12:26:33.603Z"
   },
   {
    "duration": 150,
    "start_time": "2022-03-29T12:33:41.702Z"
   },
   {
    "duration": 56,
    "start_time": "2022-03-29T12:33:51.894Z"
   },
   {
    "duration": 165,
    "start_time": "2022-03-29T12:34:14.661Z"
   },
   {
    "duration": 150,
    "start_time": "2022-03-29T12:35:45.979Z"
   },
   {
    "duration": 53,
    "start_time": "2022-03-29T12:37:07.499Z"
   },
   {
    "duration": 5,
    "start_time": "2022-03-29T12:41:14.822Z"
   },
   {
    "duration": 14,
    "start_time": "2022-03-29T12:41:25.652Z"
   },
   {
    "duration": 21,
    "start_time": "2022-03-29T13:08:33.087Z"
   },
   {
    "duration": 18,
    "start_time": "2022-03-29T13:09:16.888Z"
   },
   {
    "duration": 82,
    "start_time": "2022-03-29T13:13:19.157Z"
   },
   {
    "duration": 598,
    "start_time": "2022-03-29T13:13:19.320Z"
   },
   {
    "duration": 355,
    "start_time": "2022-03-29T13:13:19.920Z"
   },
   {
    "duration": 4,
    "start_time": "2022-03-29T13:13:20.280Z"
   },
   {
    "duration": 634,
    "start_time": "2022-03-29T13:13:20.286Z"
   },
   {
    "duration": 4,
    "start_time": "2022-03-29T13:13:20.923Z"
   },
   {
    "duration": 228,
    "start_time": "2022-03-29T13:13:20.930Z"
   },
   {
    "duration": 188,
    "start_time": "2022-03-29T13:13:21.160Z"
   },
   {
    "duration": 117,
    "start_time": "2022-03-29T13:13:21.350Z"
   },
   {
    "duration": 21,
    "start_time": "2022-03-29T13:13:21.469Z"
   },
   {
    "duration": 18,
    "start_time": "2022-03-29T13:13:21.495Z"
   },
   {
    "duration": 20,
    "start_time": "2022-03-29T13:13:21.515Z"
   },
   {
    "duration": 61,
    "start_time": "2022-03-29T13:13:21.537Z"
   },
   {
    "duration": 55,
    "start_time": "2022-03-29T13:13:21.600Z"
   },
   {
    "duration": 36,
    "start_time": "2022-03-29T13:13:21.657Z"
   },
   {
    "duration": 29,
    "start_time": "2022-03-29T13:13:21.695Z"
   },
   {
    "duration": 68,
    "start_time": "2022-03-29T13:13:21.726Z"
   },
   {
    "duration": 11,
    "start_time": "2022-03-29T13:13:21.796Z"
   },
   {
    "duration": 31,
    "start_time": "2022-03-29T13:13:21.809Z"
   },
   {
    "duration": 51,
    "start_time": "2022-03-29T13:13:21.843Z"
   },
   {
    "duration": 11,
    "start_time": "2022-03-29T13:13:21.896Z"
   },
   {
    "duration": 13,
    "start_time": "2022-03-29T13:13:21.910Z"
   },
   {
    "duration": 21,
    "start_time": "2022-03-29T13:13:21.926Z"
   },
   {
    "duration": 21,
    "start_time": "2022-03-29T13:13:21.977Z"
   },
   {
    "duration": 17,
    "start_time": "2022-03-29T13:13:22.001Z"
   },
   {
    "duration": 8,
    "start_time": "2022-03-29T13:13:22.020Z"
   },
   {
    "duration": 48,
    "start_time": "2022-03-29T13:13:22.031Z"
   },
   {
    "duration": 17,
    "start_time": "2022-03-29T13:13:22.089Z"
   },
   {
    "duration": 15,
    "start_time": "2022-03-29T13:13:22.112Z"
   },
   {
    "duration": 9,
    "start_time": "2022-03-29T13:13:22.129Z"
   },
   {
    "duration": 38,
    "start_time": "2022-03-29T13:13:22.140Z"
   },
   {
    "duration": 47,
    "start_time": "2022-03-29T13:13:22.179Z"
   },
   {
    "duration": 50,
    "start_time": "2022-03-29T13:13:22.228Z"
   },
   {
    "duration": 25,
    "start_time": "2022-03-29T13:13:22.281Z"
   },
   {
    "duration": 28,
    "start_time": "2022-03-29T13:13:22.308Z"
   },
   {
    "duration": 52,
    "start_time": "2022-03-29T13:13:22.338Z"
   },
   {
    "duration": 25,
    "start_time": "2022-03-29T13:13:22.393Z"
   },
   {
    "duration": 60,
    "start_time": "2022-03-29T13:13:22.420Z"
   },
   {
    "duration": 31,
    "start_time": "2022-03-29T13:13:22.484Z"
   },
   {
    "duration": 15,
    "start_time": "2022-03-29T13:13:22.518Z"
   },
   {
    "duration": 68,
    "start_time": "2022-03-29T13:13:22.535Z"
   },
   {
    "duration": 25,
    "start_time": "2022-03-29T13:13:22.606Z"
   },
   {
    "duration": 48,
    "start_time": "2022-03-29T13:13:22.633Z"
   },
   {
    "duration": 10,
    "start_time": "2022-03-29T13:13:22.683Z"
   },
   {
    "duration": 10,
    "start_time": "2022-03-29T13:13:22.695Z"
   },
   {
    "duration": 6,
    "start_time": "2022-03-29T13:13:22.708Z"
   },
   {
    "duration": 6,
    "start_time": "2022-03-29T13:13:22.716Z"
   },
   {
    "duration": 27,
    "start_time": "2022-03-29T13:13:22.724Z"
   },
   {
    "duration": 52,
    "start_time": "2022-03-29T13:13:22.753Z"
   },
   {
    "duration": 31,
    "start_time": "2022-03-29T13:13:22.806Z"
   },
   {
    "duration": 9,
    "start_time": "2022-03-29T13:13:22.839Z"
   },
   {
    "duration": 37,
    "start_time": "2022-03-29T13:13:22.849Z"
   },
   {
    "duration": 28,
    "start_time": "2022-03-29T13:13:22.889Z"
   },
   {
    "duration": 14,
    "start_time": "2022-03-29T13:13:22.919Z"
   },
   {
    "duration": 58,
    "start_time": "2022-03-29T13:13:22.935Z"
   },
   {
    "duration": 22,
    "start_time": "2022-03-29T13:13:22.995Z"
   },
   {
    "duration": 24,
    "start_time": "2022-03-29T13:13:23.019Z"
   },
   {
    "duration": 53,
    "start_time": "2022-03-29T13:13:23.045Z"
   },
   {
    "duration": 19,
    "start_time": "2022-03-29T13:13:23.100Z"
   },
   {
    "duration": 12,
    "start_time": "2022-03-29T13:13:23.121Z"
   },
   {
    "duration": 54,
    "start_time": "2022-03-29T13:13:23.135Z"
   },
   {
    "duration": 30,
    "start_time": "2022-03-29T13:13:23.193Z"
   },
   {
    "duration": 58,
    "start_time": "2022-03-29T13:13:23.226Z"
   },
   {
    "duration": 10,
    "start_time": "2022-03-29T13:13:23.286Z"
   },
   {
    "duration": 9,
    "start_time": "2022-03-29T13:13:23.298Z"
   },
   {
    "duration": 8,
    "start_time": "2022-03-29T13:13:23.309Z"
   },
   {
    "duration": 60,
    "start_time": "2022-03-29T13:13:23.319Z"
   },
   {
    "duration": 15,
    "start_time": "2022-03-29T13:13:23.384Z"
   },
   {
    "duration": 16,
    "start_time": "2022-03-29T13:13:23.401Z"
   },
   {
    "duration": 22,
    "start_time": "2022-03-29T13:13:23.419Z"
   },
   {
    "duration": 68,
    "start_time": "2022-03-29T13:13:23.443Z"
   },
   {
    "duration": 38,
    "start_time": "2022-03-29T13:13:23.513Z"
   },
   {
    "duration": 58,
    "start_time": "2022-03-29T13:13:23.553Z"
   },
   {
    "duration": 2154,
    "start_time": "2022-03-29T13:13:23.614Z"
   },
   {
    "duration": 0,
    "start_time": "2022-03-29T13:13:25.773Z"
   },
   {
    "duration": 0,
    "start_time": "2022-03-29T13:13:25.775Z"
   },
   {
    "duration": 0,
    "start_time": "2022-03-29T13:13:25.778Z"
   },
   {
    "duration": 0,
    "start_time": "2022-03-29T13:13:25.781Z"
   },
   {
    "duration": 0,
    "start_time": "2022-03-29T13:13:25.783Z"
   },
   {
    "duration": 0,
    "start_time": "2022-03-29T13:13:25.786Z"
   },
   {
    "duration": 0,
    "start_time": "2022-03-29T13:13:25.789Z"
   },
   {
    "duration": 0,
    "start_time": "2022-03-29T13:13:25.791Z"
   },
   {
    "duration": 0,
    "start_time": "2022-03-29T13:13:25.793Z"
   },
   {
    "duration": 0,
    "start_time": "2022-03-29T13:13:25.794Z"
   },
   {
    "duration": 0,
    "start_time": "2022-03-29T13:13:25.796Z"
   },
   {
    "duration": 0,
    "start_time": "2022-03-29T13:13:25.798Z"
   },
   {
    "duration": 0,
    "start_time": "2022-03-29T13:13:25.799Z"
   },
   {
    "duration": 0,
    "start_time": "2022-03-29T13:13:25.801Z"
   },
   {
    "duration": 0,
    "start_time": "2022-03-29T13:13:25.802Z"
   },
   {
    "duration": 0,
    "start_time": "2022-03-29T13:13:25.803Z"
   },
   {
    "duration": 0,
    "start_time": "2022-03-29T13:13:25.806Z"
   },
   {
    "duration": 0,
    "start_time": "2022-03-29T13:13:25.807Z"
   },
   {
    "duration": 0,
    "start_time": "2022-03-29T13:13:25.809Z"
   },
   {
    "duration": 0,
    "start_time": "2022-03-29T13:13:25.811Z"
   },
   {
    "duration": 0,
    "start_time": "2022-03-29T13:13:25.813Z"
   },
   {
    "duration": 0,
    "start_time": "2022-03-29T13:13:25.815Z"
   },
   {
    "duration": 0,
    "start_time": "2022-03-29T13:13:25.878Z"
   },
   {
    "duration": 0,
    "start_time": "2022-03-29T13:13:25.881Z"
   },
   {
    "duration": 0,
    "start_time": "2022-03-29T13:13:25.883Z"
   },
   {
    "duration": 0,
    "start_time": "2022-03-29T13:13:25.886Z"
   },
   {
    "duration": 0,
    "start_time": "2022-03-29T13:13:25.889Z"
   },
   {
    "duration": 0,
    "start_time": "2022-03-29T13:13:25.892Z"
   },
   {
    "duration": 0,
    "start_time": "2022-03-29T13:13:25.894Z"
   },
   {
    "duration": 24,
    "start_time": "2022-03-29T13:14:22.719Z"
   },
   {
    "duration": 549,
    "start_time": "2022-03-29T13:15:21.888Z"
   },
   {
    "duration": 368,
    "start_time": "2022-03-29T13:15:22.439Z"
   },
   {
    "duration": 4,
    "start_time": "2022-03-29T13:15:22.812Z"
   },
   {
    "duration": 630,
    "start_time": "2022-03-29T13:15:22.819Z"
   },
   {
    "duration": 3,
    "start_time": "2022-03-29T13:15:23.452Z"
   },
   {
    "duration": 228,
    "start_time": "2022-03-29T13:15:23.457Z"
   },
   {
    "duration": 175,
    "start_time": "2022-03-29T13:15:23.687Z"
   },
   {
    "duration": 124,
    "start_time": "2022-03-29T13:15:23.865Z"
   },
   {
    "duration": 11,
    "start_time": "2022-03-29T13:15:23.991Z"
   },
   {
    "duration": 18,
    "start_time": "2022-03-29T13:15:24.004Z"
   },
   {
    "duration": 18,
    "start_time": "2022-03-29T13:15:24.023Z"
   },
   {
    "duration": 59,
    "start_time": "2022-03-29T13:15:24.043Z"
   },
   {
    "duration": 50,
    "start_time": "2022-03-29T13:15:24.107Z"
   },
   {
    "duration": 15,
    "start_time": "2022-03-29T13:15:24.179Z"
   },
   {
    "duration": 29,
    "start_time": "2022-03-29T13:15:24.196Z"
   },
   {
    "duration": 67,
    "start_time": "2022-03-29T13:15:24.227Z"
   },
   {
    "duration": 11,
    "start_time": "2022-03-29T13:15:24.296Z"
   },
   {
    "duration": 26,
    "start_time": "2022-03-29T13:15:24.309Z"
   },
   {
    "duration": 59,
    "start_time": "2022-03-29T13:15:24.338Z"
   },
   {
    "duration": 11,
    "start_time": "2022-03-29T13:15:24.400Z"
   },
   {
    "duration": 13,
    "start_time": "2022-03-29T13:15:24.413Z"
   },
   {
    "duration": 50,
    "start_time": "2022-03-29T13:15:24.429Z"
   },
   {
    "duration": 22,
    "start_time": "2022-03-29T13:15:24.484Z"
   },
   {
    "duration": 17,
    "start_time": "2022-03-29T13:15:24.508Z"
   },
   {
    "duration": 11,
    "start_time": "2022-03-29T13:15:24.527Z"
   },
   {
    "duration": 35,
    "start_time": "2022-03-29T13:15:24.540Z"
   },
   {
    "duration": 19,
    "start_time": "2022-03-29T13:15:24.581Z"
   },
   {
    "duration": 14,
    "start_time": "2022-03-29T13:15:24.602Z"
   },
   {
    "duration": 8,
    "start_time": "2022-03-29T13:15:24.618Z"
   },
   {
    "duration": 52,
    "start_time": "2022-03-29T13:15:24.628Z"
   },
   {
    "duration": 43,
    "start_time": "2022-03-29T13:15:24.683Z"
   },
   {
    "duration": 55,
    "start_time": "2022-03-29T13:15:24.728Z"
   },
   {
    "duration": 19,
    "start_time": "2022-03-29T13:15:24.786Z"
   },
   {
    "duration": 32,
    "start_time": "2022-03-29T13:15:24.807Z"
   },
   {
    "duration": 51,
    "start_time": "2022-03-29T13:15:24.842Z"
   },
   {
    "duration": 25,
    "start_time": "2022-03-29T13:15:24.896Z"
   },
   {
    "duration": 65,
    "start_time": "2022-03-29T13:15:24.923Z"
   },
   {
    "duration": 29,
    "start_time": "2022-03-29T13:15:24.991Z"
   },
   {
    "duration": 17,
    "start_time": "2022-03-29T13:15:25.023Z"
   },
   {
    "duration": 36,
    "start_time": "2022-03-29T13:15:25.085Z"
   },
   {
    "duration": 28,
    "start_time": "2022-03-29T13:15:25.124Z"
   },
   {
    "duration": 43,
    "start_time": "2022-03-29T13:15:25.154Z"
   },
   {
    "duration": 5,
    "start_time": "2022-03-29T13:15:25.199Z"
   },
   {
    "duration": 5,
    "start_time": "2022-03-29T13:15:25.206Z"
   },
   {
    "duration": 5,
    "start_time": "2022-03-29T13:15:25.213Z"
   },
   {
    "duration": 5,
    "start_time": "2022-03-29T13:15:25.220Z"
   },
   {
    "duration": 68,
    "start_time": "2022-03-29T13:15:25.227Z"
   },
   {
    "duration": 29,
    "start_time": "2022-03-29T13:15:25.297Z"
   },
   {
    "duration": 46,
    "start_time": "2022-03-29T13:15:25.328Z"
   },
   {
    "duration": 13,
    "start_time": "2022-03-29T13:15:25.376Z"
   },
   {
    "duration": 10,
    "start_time": "2022-03-29T13:15:25.392Z"
   },
   {
    "duration": 42,
    "start_time": "2022-03-29T13:15:25.404Z"
   },
   {
    "duration": 40,
    "start_time": "2022-03-29T13:15:25.449Z"
   },
   {
    "duration": 25,
    "start_time": "2022-03-29T13:15:25.492Z"
   },
   {
    "duration": 22,
    "start_time": "2022-03-29T13:15:25.519Z"
   },
   {
    "duration": 52,
    "start_time": "2022-03-29T13:15:25.543Z"
   },
   {
    "duration": 27,
    "start_time": "2022-03-29T13:15:25.606Z"
   },
   {
    "duration": 24,
    "start_time": "2022-03-29T13:15:25.636Z"
   },
   {
    "duration": 35,
    "start_time": "2022-03-29T13:15:25.663Z"
   },
   {
    "duration": 48,
    "start_time": "2022-03-29T13:15:25.700Z"
   },
   {
    "duration": 75,
    "start_time": "2022-03-29T13:15:25.750Z"
   },
   {
    "duration": 47,
    "start_time": "2022-03-29T13:15:25.828Z"
   },
   {
    "duration": 13,
    "start_time": "2022-03-29T13:15:25.884Z"
   },
   {
    "duration": 39,
    "start_time": "2022-03-29T13:15:25.900Z"
   },
   {
    "duration": 62,
    "start_time": "2022-03-29T13:15:25.942Z"
   },
   {
    "duration": 56,
    "start_time": "2022-03-29T13:15:26.006Z"
   },
   {
    "duration": 40,
    "start_time": "2022-03-29T13:15:26.064Z"
   },
   {
    "duration": 39,
    "start_time": "2022-03-29T13:15:26.106Z"
   },
   {
    "duration": 51,
    "start_time": "2022-03-29T13:15:26.147Z"
   },
   {
    "duration": 68,
    "start_time": "2022-03-29T13:15:26.200Z"
   },
   {
    "duration": 46,
    "start_time": "2022-03-29T13:15:26.271Z"
   },
   {
    "duration": 38,
    "start_time": "2022-03-29T13:15:26.320Z"
   },
   {
    "duration": 2277,
    "start_time": "2022-03-29T13:15:26.374Z"
   },
   {
    "duration": 0,
    "start_time": "2022-03-29T13:15:28.653Z"
   },
   {
    "duration": 0,
    "start_time": "2022-03-29T13:15:28.655Z"
   },
   {
    "duration": 0,
    "start_time": "2022-03-29T13:15:28.656Z"
   },
   {
    "duration": 0,
    "start_time": "2022-03-29T13:15:28.658Z"
   },
   {
    "duration": 0,
    "start_time": "2022-03-29T13:15:28.660Z"
   },
   {
    "duration": 0,
    "start_time": "2022-03-29T13:15:28.661Z"
   },
   {
    "duration": 0,
    "start_time": "2022-03-29T13:15:28.662Z"
   },
   {
    "duration": 0,
    "start_time": "2022-03-29T13:15:28.664Z"
   },
   {
    "duration": 0,
    "start_time": "2022-03-29T13:15:28.665Z"
   },
   {
    "duration": 1,
    "start_time": "2022-03-29T13:15:28.666Z"
   },
   {
    "duration": 0,
    "start_time": "2022-03-29T13:15:28.667Z"
   },
   {
    "duration": 0,
    "start_time": "2022-03-29T13:15:28.669Z"
   },
   {
    "duration": 0,
    "start_time": "2022-03-29T13:15:28.670Z"
   },
   {
    "duration": 0,
    "start_time": "2022-03-29T13:15:28.671Z"
   },
   {
    "duration": 0,
    "start_time": "2022-03-29T13:15:28.672Z"
   },
   {
    "duration": 0,
    "start_time": "2022-03-29T13:15:28.680Z"
   },
   {
    "duration": 0,
    "start_time": "2022-03-29T13:15:28.683Z"
   },
   {
    "duration": 0,
    "start_time": "2022-03-29T13:15:28.686Z"
   },
   {
    "duration": 0,
    "start_time": "2022-03-29T13:15:28.688Z"
   },
   {
    "duration": 0,
    "start_time": "2022-03-29T13:15:28.690Z"
   },
   {
    "duration": 0,
    "start_time": "2022-03-29T13:15:28.692Z"
   },
   {
    "duration": 0,
    "start_time": "2022-03-29T13:15:28.694Z"
   },
   {
    "duration": 0,
    "start_time": "2022-03-29T13:15:28.696Z"
   },
   {
    "duration": 0,
    "start_time": "2022-03-29T13:15:28.698Z"
   },
   {
    "duration": 0,
    "start_time": "2022-03-29T13:15:28.701Z"
   },
   {
    "duration": 0,
    "start_time": "2022-03-29T13:15:28.703Z"
   },
   {
    "duration": 0,
    "start_time": "2022-03-29T13:15:28.705Z"
   },
   {
    "duration": 0,
    "start_time": "2022-03-29T13:15:28.707Z"
   },
   {
    "duration": 0,
    "start_time": "2022-03-29T13:15:28.709Z"
   },
   {
    "duration": 23,
    "start_time": "2022-03-29T13:19:43.092Z"
   },
   {
    "duration": 57,
    "start_time": "2022-03-29T13:29:07.134Z"
   },
   {
    "duration": 182,
    "start_time": "2022-03-29T13:30:16.021Z"
   },
   {
    "duration": 21,
    "start_time": "2022-03-29T13:30:22.448Z"
   },
   {
    "duration": 22,
    "start_time": "2022-03-29T13:30:53.541Z"
   },
   {
    "duration": 94,
    "start_time": "2022-03-29T13:31:00.194Z"
   },
   {
    "duration": 85,
    "start_time": "2022-03-29T13:32:33.694Z"
   },
   {
    "duration": 51,
    "start_time": "2022-03-29T13:33:53.949Z"
   },
   {
    "duration": 50,
    "start_time": "2022-03-29T13:34:52.753Z"
   },
   {
    "duration": 127,
    "start_time": "2022-03-29T13:35:28.927Z"
   },
   {
    "duration": 49,
    "start_time": "2022-03-29T13:36:39.869Z"
   },
   {
    "duration": 116,
    "start_time": "2022-03-29T13:36:53.920Z"
   },
   {
    "duration": 131,
    "start_time": "2022-03-29T13:38:07.897Z"
   },
   {
    "duration": 592,
    "start_time": "2022-03-29T13:40:28.533Z"
   },
   {
    "duration": 408,
    "start_time": "2022-03-29T13:40:29.128Z"
   },
   {
    "duration": 7,
    "start_time": "2022-03-29T13:40:29.538Z"
   },
   {
    "duration": 604,
    "start_time": "2022-03-29T13:40:29.550Z"
   },
   {
    "duration": 4,
    "start_time": "2022-03-29T13:40:30.156Z"
   },
   {
    "duration": 226,
    "start_time": "2022-03-29T13:40:30.163Z"
   },
   {
    "duration": 185,
    "start_time": "2022-03-29T13:40:30.392Z"
   },
   {
    "duration": 115,
    "start_time": "2022-03-29T13:40:30.580Z"
   },
   {
    "duration": 12,
    "start_time": "2022-03-29T13:40:30.697Z"
   },
   {
    "duration": 17,
    "start_time": "2022-03-29T13:40:30.713Z"
   },
   {
    "duration": 17,
    "start_time": "2022-03-29T13:40:30.732Z"
   },
   {
    "duration": 53,
    "start_time": "2022-03-29T13:40:30.752Z"
   },
   {
    "duration": 71,
    "start_time": "2022-03-29T13:40:30.807Z"
   },
   {
    "duration": 17,
    "start_time": "2022-03-29T13:40:30.881Z"
   },
   {
    "duration": 31,
    "start_time": "2022-03-29T13:40:30.901Z"
   },
   {
    "duration": 72,
    "start_time": "2022-03-29T13:40:30.935Z"
   },
   {
    "duration": 12,
    "start_time": "2022-03-29T13:40:31.010Z"
   },
   {
    "duration": 58,
    "start_time": "2022-03-29T13:40:31.025Z"
   },
   {
    "duration": 33,
    "start_time": "2022-03-29T13:40:31.085Z"
   },
   {
    "duration": 13,
    "start_time": "2022-03-29T13:40:31.120Z"
   },
   {
    "duration": 46,
    "start_time": "2022-03-29T13:40:31.135Z"
   },
   {
    "duration": 21,
    "start_time": "2022-03-29T13:40:31.184Z"
   },
   {
    "duration": 26,
    "start_time": "2022-03-29T13:40:31.207Z"
   },
   {
    "duration": 22,
    "start_time": "2022-03-29T13:40:31.235Z"
   },
   {
    "duration": 12,
    "start_time": "2022-03-29T13:40:31.279Z"
   },
   {
    "duration": 23,
    "start_time": "2022-03-29T13:40:31.293Z"
   },
   {
    "duration": 17,
    "start_time": "2022-03-29T13:40:31.318Z"
   },
   {
    "duration": 60,
    "start_time": "2022-03-29T13:40:31.343Z"
   },
   {
    "duration": 14,
    "start_time": "2022-03-29T13:40:31.406Z"
   },
   {
    "duration": 14,
    "start_time": "2022-03-29T13:40:31.422Z"
   },
   {
    "duration": 52,
    "start_time": "2022-03-29T13:40:31.438Z"
   },
   {
    "duration": 30,
    "start_time": "2022-03-29T13:40:31.492Z"
   },
   {
    "duration": 16,
    "start_time": "2022-03-29T13:40:31.525Z"
   },
   {
    "duration": 65,
    "start_time": "2022-03-29T13:40:31.544Z"
   },
   {
    "duration": 18,
    "start_time": "2022-03-29T13:40:31.611Z"
   },
   {
    "duration": 28,
    "start_time": "2022-03-29T13:40:31.631Z"
   },
   {
    "duration": 32,
    "start_time": "2022-03-29T13:40:31.681Z"
   },
   {
    "duration": 29,
    "start_time": "2022-03-29T13:40:31.716Z"
   },
   {
    "duration": 48,
    "start_time": "2022-03-29T13:40:31.747Z"
   },
   {
    "duration": 40,
    "start_time": "2022-03-29T13:40:31.797Z"
   },
   {
    "duration": 58,
    "start_time": "2022-03-29T13:40:31.839Z"
   },
   {
    "duration": 19,
    "start_time": "2022-03-29T13:40:31.900Z"
   },
   {
    "duration": 3,
    "start_time": "2022-03-29T13:40:31.921Z"
   },
   {
    "duration": 20,
    "start_time": "2022-03-29T13:40:31.926Z"
   },
   {
    "duration": 9,
    "start_time": "2022-03-29T13:40:31.948Z"
   },
   {
    "duration": 18,
    "start_time": "2022-03-29T13:40:31.960Z"
   },
   {
    "duration": 27,
    "start_time": "2022-03-29T13:40:31.981Z"
   },
   {
    "duration": 25,
    "start_time": "2022-03-29T13:40:32.011Z"
   },
   {
    "duration": 62,
    "start_time": "2022-03-29T13:40:32.038Z"
   },
   {
    "duration": 9,
    "start_time": "2022-03-29T13:40:32.102Z"
   },
   {
    "duration": 8,
    "start_time": "2022-03-29T13:40:32.113Z"
   },
   {
    "duration": 53,
    "start_time": "2022-03-29T13:40:32.123Z"
   },
   {
    "duration": 17,
    "start_time": "2022-03-29T13:40:32.178Z"
   },
   {
    "duration": 18,
    "start_time": "2022-03-29T13:40:32.197Z"
   },
   {
    "duration": 61,
    "start_time": "2022-03-29T13:40:32.218Z"
   },
   {
    "duration": 35,
    "start_time": "2022-03-29T13:40:32.281Z"
   },
   {
    "duration": 21,
    "start_time": "2022-03-29T13:40:32.318Z"
   },
   {
    "duration": 54,
    "start_time": "2022-03-29T13:40:32.341Z"
   },
   {
    "duration": 13,
    "start_time": "2022-03-29T13:40:32.397Z"
   },
   {
    "duration": 17,
    "start_time": "2022-03-29T13:40:32.412Z"
   },
   {
    "duration": 52,
    "start_time": "2022-03-29T13:40:32.432Z"
   },
   {
    "duration": 32,
    "start_time": "2022-03-29T13:40:32.486Z"
   },
   {
    "duration": 11,
    "start_time": "2022-03-29T13:40:32.521Z"
   },
   {
    "duration": 50,
    "start_time": "2022-03-29T13:40:32.533Z"
   },
   {
    "duration": 26,
    "start_time": "2022-03-29T13:40:32.586Z"
   },
   {
    "duration": 28,
    "start_time": "2022-03-29T13:40:32.614Z"
   },
   {
    "duration": 15,
    "start_time": "2022-03-29T13:40:32.645Z"
   },
   {
    "duration": 21,
    "start_time": "2022-03-29T13:40:32.679Z"
   },
   {
    "duration": 36,
    "start_time": "2022-03-29T13:40:32.702Z"
   },
   {
    "duration": 73,
    "start_time": "2022-03-29T13:40:32.740Z"
   },
   {
    "duration": 167,
    "start_time": "2022-03-29T13:40:32.815Z"
   },
   {
    "duration": 0,
    "start_time": "2022-03-29T13:40:32.990Z"
   },
   {
    "duration": 0,
    "start_time": "2022-03-29T13:40:32.992Z"
   },
   {
    "duration": 0,
    "start_time": "2022-03-29T13:40:32.994Z"
   },
   {
    "duration": 0,
    "start_time": "2022-03-29T13:40:32.995Z"
   },
   {
    "duration": 0,
    "start_time": "2022-03-29T13:40:32.997Z"
   },
   {
    "duration": 0,
    "start_time": "2022-03-29T13:40:32.999Z"
   },
   {
    "duration": 0,
    "start_time": "2022-03-29T13:40:33.000Z"
   },
   {
    "duration": 0,
    "start_time": "2022-03-29T13:40:33.001Z"
   },
   {
    "duration": 0,
    "start_time": "2022-03-29T13:40:33.003Z"
   },
   {
    "duration": 0,
    "start_time": "2022-03-29T13:40:33.004Z"
   },
   {
    "duration": 0,
    "start_time": "2022-03-29T13:40:33.006Z"
   },
   {
    "duration": 0,
    "start_time": "2022-03-29T13:40:33.008Z"
   },
   {
    "duration": 0,
    "start_time": "2022-03-29T13:40:33.009Z"
   },
   {
    "duration": 0,
    "start_time": "2022-03-29T13:40:33.011Z"
   },
   {
    "duration": 0,
    "start_time": "2022-03-29T13:40:33.012Z"
   },
   {
    "duration": 0,
    "start_time": "2022-03-29T13:40:33.014Z"
   },
   {
    "duration": 0,
    "start_time": "2022-03-29T13:40:33.015Z"
   },
   {
    "duration": 0,
    "start_time": "2022-03-29T13:40:33.017Z"
   },
   {
    "duration": 0,
    "start_time": "2022-03-29T13:40:33.018Z"
   },
   {
    "duration": 0,
    "start_time": "2022-03-29T13:40:33.021Z"
   },
   {
    "duration": 0,
    "start_time": "2022-03-29T13:40:33.022Z"
   },
   {
    "duration": 0,
    "start_time": "2022-03-29T13:40:33.079Z"
   },
   {
    "duration": 0,
    "start_time": "2022-03-29T13:40:33.081Z"
   },
   {
    "duration": 0,
    "start_time": "2022-03-29T13:40:33.084Z"
   },
   {
    "duration": 0,
    "start_time": "2022-03-29T13:40:33.085Z"
   },
   {
    "duration": 0,
    "start_time": "2022-03-29T13:40:33.086Z"
   },
   {
    "duration": 1,
    "start_time": "2022-03-29T13:40:33.087Z"
   },
   {
    "duration": 0,
    "start_time": "2022-03-29T13:40:33.089Z"
   },
   {
    "duration": 0,
    "start_time": "2022-03-29T13:40:33.090Z"
   },
   {
    "duration": 0,
    "start_time": "2022-03-29T13:40:33.092Z"
   },
   {
    "duration": 0,
    "start_time": "2022-03-29T13:40:33.094Z"
   },
   {
    "duration": 0,
    "start_time": "2022-03-29T13:40:33.095Z"
   },
   {
    "duration": 25,
    "start_time": "2022-03-29T13:43:06.102Z"
   },
   {
    "duration": 27,
    "start_time": "2022-03-29T13:51:57.051Z"
   },
   {
    "duration": 605,
    "start_time": "2022-03-29T13:52:09.966Z"
   },
   {
    "duration": 369,
    "start_time": "2022-03-29T13:52:10.574Z"
   },
   {
    "duration": 3,
    "start_time": "2022-03-29T13:52:10.946Z"
   },
   {
    "duration": 625,
    "start_time": "2022-03-29T13:52:10.953Z"
   },
   {
    "duration": 5,
    "start_time": "2022-03-29T13:52:11.582Z"
   },
   {
    "duration": 304,
    "start_time": "2022-03-29T13:52:11.591Z"
   },
   {
    "duration": 186,
    "start_time": "2022-03-29T13:52:11.898Z"
   },
   {
    "duration": 115,
    "start_time": "2022-03-29T13:52:12.087Z"
   },
   {
    "duration": 11,
    "start_time": "2022-03-29T13:52:12.205Z"
   },
   {
    "duration": 17,
    "start_time": "2022-03-29T13:52:12.221Z"
   },
   {
    "duration": 33,
    "start_time": "2022-03-29T13:52:12.241Z"
   },
   {
    "duration": 43,
    "start_time": "2022-03-29T13:52:12.279Z"
   },
   {
    "duration": 75,
    "start_time": "2022-03-29T13:52:12.325Z"
   },
   {
    "duration": 14,
    "start_time": "2022-03-29T13:52:12.403Z"
   },
   {
    "duration": 34,
    "start_time": "2022-03-29T13:52:12.419Z"
   },
   {
    "duration": 61,
    "start_time": "2022-03-29T13:52:12.455Z"
   },
   {
    "duration": 11,
    "start_time": "2022-03-29T13:52:12.518Z"
   },
   {
    "duration": 56,
    "start_time": "2022-03-29T13:52:12.531Z"
   },
   {
    "duration": 31,
    "start_time": "2022-03-29T13:52:12.590Z"
   },
   {
    "duration": 12,
    "start_time": "2022-03-29T13:52:12.624Z"
   },
   {
    "duration": 51,
    "start_time": "2022-03-29T13:52:12.639Z"
   },
   {
    "duration": 18,
    "start_time": "2022-03-29T13:52:12.693Z"
   },
   {
    "duration": 18,
    "start_time": "2022-03-29T13:52:12.714Z"
   },
   {
    "duration": 48,
    "start_time": "2022-03-29T13:52:12.734Z"
   },
   {
    "duration": 19,
    "start_time": "2022-03-29T13:52:12.785Z"
   },
   {
    "duration": 26,
    "start_time": "2022-03-29T13:52:12.807Z"
   },
   {
    "duration": 16,
    "start_time": "2022-03-29T13:52:12.836Z"
   },
   {
    "duration": 24,
    "start_time": "2022-03-29T13:52:12.881Z"
   },
   {
    "duration": 9,
    "start_time": "2022-03-29T13:52:12.908Z"
   },
   {
    "duration": 11,
    "start_time": "2022-03-29T13:52:12.920Z"
   },
   {
    "duration": 87,
    "start_time": "2022-03-29T13:52:12.934Z"
   },
   {
    "duration": 61,
    "start_time": "2022-03-29T13:52:13.024Z"
   },
   {
    "duration": 17,
    "start_time": "2022-03-29T13:52:13.089Z"
   },
   {
    "duration": 34,
    "start_time": "2022-03-29T13:52:13.109Z"
   },
   {
    "duration": 48,
    "start_time": "2022-03-29T13:52:13.145Z"
   },
   {
    "duration": 36,
    "start_time": "2022-03-29T13:52:13.196Z"
   },
   {
    "duration": 62,
    "start_time": "2022-03-29T13:52:13.235Z"
   },
   {
    "duration": 41,
    "start_time": "2022-03-29T13:52:13.300Z"
   },
   {
    "duration": 43,
    "start_time": "2022-03-29T13:52:13.344Z"
   },
   {
    "duration": 37,
    "start_time": "2022-03-29T13:52:13.389Z"
   },
   {
    "duration": 61,
    "start_time": "2022-03-29T13:52:13.429Z"
   },
   {
    "duration": 19,
    "start_time": "2022-03-29T13:52:13.493Z"
   },
   {
    "duration": 8,
    "start_time": "2022-03-29T13:52:13.515Z"
   },
   {
    "duration": 11,
    "start_time": "2022-03-29T13:52:13.526Z"
   },
   {
    "duration": 11,
    "start_time": "2022-03-29T13:52:13.539Z"
   },
   {
    "duration": 25,
    "start_time": "2022-03-29T13:52:13.552Z"
   },
   {
    "duration": 36,
    "start_time": "2022-03-29T13:52:13.579Z"
   },
   {
    "duration": 60,
    "start_time": "2022-03-29T13:52:13.617Z"
   },
   {
    "duration": 44,
    "start_time": "2022-03-29T13:52:13.680Z"
   },
   {
    "duration": 9,
    "start_time": "2022-03-29T13:52:13.726Z"
   },
   {
    "duration": 53,
    "start_time": "2022-03-29T13:52:13.737Z"
   },
   {
    "duration": 25,
    "start_time": "2022-03-29T13:52:13.793Z"
   },
   {
    "duration": 13,
    "start_time": "2022-03-29T13:52:13.820Z"
   },
   {
    "duration": 49,
    "start_time": "2022-03-29T13:52:13.835Z"
   },
   {
    "duration": 23,
    "start_time": "2022-03-29T13:52:13.887Z"
   },
   {
    "duration": 26,
    "start_time": "2022-03-29T13:52:13.913Z"
   },
   {
    "duration": 59,
    "start_time": "2022-03-29T13:52:13.941Z"
   },
   {
    "duration": 23,
    "start_time": "2022-03-29T13:52:14.003Z"
   },
   {
    "duration": 12,
    "start_time": "2022-03-29T13:52:14.028Z"
   },
   {
    "duration": 59,
    "start_time": "2022-03-29T13:52:14.042Z"
   },
   {
    "duration": 35,
    "start_time": "2022-03-29T13:52:14.103Z"
   },
   {
    "duration": 46,
    "start_time": "2022-03-29T13:52:14.141Z"
   },
   {
    "duration": 12,
    "start_time": "2022-03-29T13:52:14.191Z"
   },
   {
    "duration": 12,
    "start_time": "2022-03-29T13:52:14.207Z"
   },
   {
    "duration": 12,
    "start_time": "2022-03-29T13:52:14.221Z"
   },
   {
    "duration": 79,
    "start_time": "2022-03-29T13:52:14.235Z"
   },
   {
    "duration": 12,
    "start_time": "2022-03-29T13:52:14.316Z"
   },
   {
    "duration": 16,
    "start_time": "2022-03-29T13:52:14.330Z"
   },
   {
    "duration": 92,
    "start_time": "2022-03-29T13:52:14.349Z"
   },
   {
    "duration": 48,
    "start_time": "2022-03-29T13:52:14.443Z"
   },
   {
    "duration": 179,
    "start_time": "2022-03-29T13:52:14.494Z"
   },
   {
    "duration": 0,
    "start_time": "2022-03-29T13:52:14.687Z"
   },
   {
    "duration": 0,
    "start_time": "2022-03-29T13:52:14.690Z"
   },
   {
    "duration": 0,
    "start_time": "2022-03-29T13:52:14.692Z"
   },
   {
    "duration": 0,
    "start_time": "2022-03-29T13:52:14.693Z"
   },
   {
    "duration": 0,
    "start_time": "2022-03-29T13:52:14.694Z"
   },
   {
    "duration": 0,
    "start_time": "2022-03-29T13:52:14.696Z"
   },
   {
    "duration": 0,
    "start_time": "2022-03-29T13:52:14.697Z"
   },
   {
    "duration": 0,
    "start_time": "2022-03-29T13:52:14.699Z"
   },
   {
    "duration": 0,
    "start_time": "2022-03-29T13:52:14.700Z"
   },
   {
    "duration": 0,
    "start_time": "2022-03-29T13:52:14.701Z"
   },
   {
    "duration": 0,
    "start_time": "2022-03-29T13:52:14.702Z"
   },
   {
    "duration": 0,
    "start_time": "2022-03-29T13:52:14.705Z"
   },
   {
    "duration": 0,
    "start_time": "2022-03-29T13:52:14.706Z"
   },
   {
    "duration": 0,
    "start_time": "2022-03-29T13:52:14.707Z"
   },
   {
    "duration": 0,
    "start_time": "2022-03-29T13:52:14.708Z"
   },
   {
    "duration": 0,
    "start_time": "2022-03-29T13:52:14.710Z"
   },
   {
    "duration": 0,
    "start_time": "2022-03-29T13:52:14.711Z"
   },
   {
    "duration": 0,
    "start_time": "2022-03-29T13:52:14.713Z"
   },
   {
    "duration": 0,
    "start_time": "2022-03-29T13:52:14.714Z"
   },
   {
    "duration": 0,
    "start_time": "2022-03-29T13:52:14.715Z"
   },
   {
    "duration": 0,
    "start_time": "2022-03-29T13:52:14.716Z"
   },
   {
    "duration": 0,
    "start_time": "2022-03-29T13:52:14.717Z"
   },
   {
    "duration": 0,
    "start_time": "2022-03-29T13:52:14.719Z"
   },
   {
    "duration": 0,
    "start_time": "2022-03-29T13:52:14.720Z"
   },
   {
    "duration": 0,
    "start_time": "2022-03-29T13:52:14.723Z"
   },
   {
    "duration": 0,
    "start_time": "2022-03-29T13:52:14.725Z"
   },
   {
    "duration": 0,
    "start_time": "2022-03-29T13:52:14.778Z"
   },
   {
    "duration": 0,
    "start_time": "2022-03-29T13:52:14.789Z"
   },
   {
    "duration": 0,
    "start_time": "2022-03-29T13:52:14.794Z"
   },
   {
    "duration": 0,
    "start_time": "2022-03-29T13:52:14.796Z"
   },
   {
    "duration": 0,
    "start_time": "2022-03-29T13:52:14.797Z"
   },
   {
    "duration": 0,
    "start_time": "2022-03-29T13:52:14.798Z"
   },
   {
    "duration": 25,
    "start_time": "2022-03-29T13:52:37.231Z"
   },
   {
    "duration": 588,
    "start_time": "2022-03-29T13:53:13.195Z"
   },
   {
    "duration": 379,
    "start_time": "2022-03-29T13:53:13.790Z"
   },
   {
    "duration": 4,
    "start_time": "2022-03-29T13:53:14.173Z"
   },
   {
    "duration": 635,
    "start_time": "2022-03-29T13:53:14.180Z"
   },
   {
    "duration": 4,
    "start_time": "2022-03-29T13:53:14.817Z"
   },
   {
    "duration": 222,
    "start_time": "2022-03-29T13:53:14.824Z"
   },
   {
    "duration": 195,
    "start_time": "2022-03-29T13:53:15.048Z"
   },
   {
    "duration": 164,
    "start_time": "2022-03-29T13:53:15.245Z"
   },
   {
    "duration": 15,
    "start_time": "2022-03-29T13:53:15.413Z"
   },
   {
    "duration": 21,
    "start_time": "2022-03-29T13:53:15.434Z"
   },
   {
    "duration": 30,
    "start_time": "2022-03-29T13:53:15.458Z"
   },
   {
    "duration": 58,
    "start_time": "2022-03-29T13:53:15.491Z"
   },
   {
    "duration": 97,
    "start_time": "2022-03-29T13:53:15.551Z"
   },
   {
    "duration": 31,
    "start_time": "2022-03-29T13:53:15.651Z"
   },
   {
    "duration": 41,
    "start_time": "2022-03-29T13:53:15.691Z"
   },
   {
    "duration": 55,
    "start_time": "2022-03-29T13:53:15.734Z"
   },
   {
    "duration": 16,
    "start_time": "2022-03-29T13:53:15.792Z"
   },
   {
    "duration": 59,
    "start_time": "2022-03-29T13:53:15.810Z"
   },
   {
    "duration": 47,
    "start_time": "2022-03-29T13:53:15.871Z"
   },
   {
    "duration": 18,
    "start_time": "2022-03-29T13:53:15.921Z"
   },
   {
    "duration": 39,
    "start_time": "2022-03-29T13:53:15.942Z"
   },
   {
    "duration": 34,
    "start_time": "2022-03-29T13:53:15.994Z"
   },
   {
    "duration": 30,
    "start_time": "2022-03-29T13:53:16.031Z"
   },
   {
    "duration": 44,
    "start_time": "2022-03-29T13:53:16.064Z"
   },
   {
    "duration": 25,
    "start_time": "2022-03-29T13:53:16.111Z"
   },
   {
    "duration": 52,
    "start_time": "2022-03-29T13:53:16.139Z"
   },
   {
    "duration": 16,
    "start_time": "2022-03-29T13:53:16.194Z"
   },
   {
    "duration": 15,
    "start_time": "2022-03-29T13:53:16.218Z"
   },
   {
    "duration": 8,
    "start_time": "2022-03-29T13:53:16.236Z"
   },
   {
    "duration": 49,
    "start_time": "2022-03-29T13:53:16.246Z"
   },
   {
    "duration": 45,
    "start_time": "2022-03-29T13:53:16.297Z"
   },
   {
    "duration": 53,
    "start_time": "2022-03-29T13:53:16.344Z"
   },
   {
    "duration": 22,
    "start_time": "2022-03-29T13:53:16.400Z"
   },
   {
    "duration": 67,
    "start_time": "2022-03-29T13:53:16.425Z"
   },
   {
    "duration": 17,
    "start_time": "2022-03-29T13:53:16.495Z"
   },
   {
    "duration": 24,
    "start_time": "2022-03-29T13:53:16.515Z"
   },
   {
    "duration": 62,
    "start_time": "2022-03-29T13:53:16.542Z"
   },
   {
    "duration": 31,
    "start_time": "2022-03-29T13:53:16.608Z"
   },
   {
    "duration": 46,
    "start_time": "2022-03-29T13:53:16.641Z"
   },
   {
    "duration": 38,
    "start_time": "2022-03-29T13:53:16.690Z"
   },
   {
    "duration": 58,
    "start_time": "2022-03-29T13:53:16.730Z"
   },
   {
    "duration": 20,
    "start_time": "2022-03-29T13:53:16.790Z"
   },
   {
    "duration": 3,
    "start_time": "2022-03-29T13:53:16.813Z"
   },
   {
    "duration": 9,
    "start_time": "2022-03-29T13:53:16.818Z"
   },
   {
    "duration": 10,
    "start_time": "2022-03-29T13:53:16.830Z"
   },
   {
    "duration": 37,
    "start_time": "2022-03-29T13:53:16.843Z"
   },
   {
    "duration": 39,
    "start_time": "2022-03-29T13:53:16.882Z"
   },
   {
    "duration": 28,
    "start_time": "2022-03-29T13:53:16.923Z"
   },
   {
    "duration": 46,
    "start_time": "2022-03-29T13:53:16.953Z"
   },
   {
    "duration": 8,
    "start_time": "2022-03-29T13:53:17.001Z"
   },
   {
    "duration": 10,
    "start_time": "2022-03-29T13:53:17.011Z"
   },
   {
    "duration": 64,
    "start_time": "2022-03-29T13:53:17.022Z"
   },
   {
    "duration": 17,
    "start_time": "2022-03-29T13:53:17.089Z"
   },
   {
    "duration": 22,
    "start_time": "2022-03-29T13:53:17.109Z"
   },
   {
    "duration": 60,
    "start_time": "2022-03-29T13:53:17.134Z"
   },
   {
    "duration": 25,
    "start_time": "2022-03-29T13:53:17.196Z"
   },
   {
    "duration": 22,
    "start_time": "2022-03-29T13:53:17.224Z"
   },
   {
    "duration": 25,
    "start_time": "2022-03-29T13:53:17.274Z"
   },
   {
    "duration": 19,
    "start_time": "2022-03-29T13:53:17.302Z"
   },
   {
    "duration": 23,
    "start_time": "2022-03-29T13:53:17.324Z"
   },
   {
    "duration": 40,
    "start_time": "2022-03-29T13:53:17.374Z"
   },
   {
    "duration": 30,
    "start_time": "2022-03-29T13:53:17.416Z"
   },
   {
    "duration": 14,
    "start_time": "2022-03-29T13:53:17.474Z"
   },
   {
    "duration": 12,
    "start_time": "2022-03-29T13:53:17.491Z"
   },
   {
    "duration": 9,
    "start_time": "2022-03-29T13:53:17.505Z"
   },
   {
    "duration": 61,
    "start_time": "2022-03-29T13:53:17.516Z"
   },
   {
    "duration": 18,
    "start_time": "2022-03-29T13:53:17.580Z"
   },
   {
    "duration": 17,
    "start_time": "2022-03-29T13:53:17.601Z"
   },
   {
    "duration": 73,
    "start_time": "2022-03-29T13:53:17.620Z"
   },
   {
    "duration": 41,
    "start_time": "2022-03-29T13:53:17.696Z"
   },
   {
    "duration": 238,
    "start_time": "2022-03-29T13:53:17.740Z"
   },
   {
    "duration": 0,
    "start_time": "2022-03-29T13:53:17.982Z"
   },
   {
    "duration": 0,
    "start_time": "2022-03-29T13:53:17.985Z"
   },
   {
    "duration": 0,
    "start_time": "2022-03-29T13:53:17.987Z"
   },
   {
    "duration": 0,
    "start_time": "2022-03-29T13:53:17.989Z"
   },
   {
    "duration": 0,
    "start_time": "2022-03-29T13:53:17.992Z"
   },
   {
    "duration": 0,
    "start_time": "2022-03-29T13:53:17.993Z"
   },
   {
    "duration": 0,
    "start_time": "2022-03-29T13:53:17.995Z"
   },
   {
    "duration": 0,
    "start_time": "2022-03-29T13:53:17.996Z"
   },
   {
    "duration": 0,
    "start_time": "2022-03-29T13:53:17.997Z"
   },
   {
    "duration": 0,
    "start_time": "2022-03-29T13:53:18.000Z"
   },
   {
    "duration": 0,
    "start_time": "2022-03-29T13:53:18.001Z"
   },
   {
    "duration": 0,
    "start_time": "2022-03-29T13:53:18.002Z"
   },
   {
    "duration": 0,
    "start_time": "2022-03-29T13:53:18.003Z"
   },
   {
    "duration": 0,
    "start_time": "2022-03-29T13:53:18.005Z"
   },
   {
    "duration": 0,
    "start_time": "2022-03-29T13:53:18.006Z"
   },
   {
    "duration": 0,
    "start_time": "2022-03-29T13:53:18.008Z"
   },
   {
    "duration": 0,
    "start_time": "2022-03-29T13:53:18.009Z"
   },
   {
    "duration": 0,
    "start_time": "2022-03-29T13:53:18.011Z"
   },
   {
    "duration": 0,
    "start_time": "2022-03-29T13:53:18.012Z"
   },
   {
    "duration": 0,
    "start_time": "2022-03-29T13:53:18.015Z"
   },
   {
    "duration": 0,
    "start_time": "2022-03-29T13:53:18.017Z"
   },
   {
    "duration": 0,
    "start_time": "2022-03-29T13:53:18.019Z"
   },
   {
    "duration": 0,
    "start_time": "2022-03-29T13:53:18.022Z"
   },
   {
    "duration": 0,
    "start_time": "2022-03-29T13:53:18.024Z"
   },
   {
    "duration": 0,
    "start_time": "2022-03-29T13:53:18.074Z"
   },
   {
    "duration": 0,
    "start_time": "2022-03-29T13:53:18.075Z"
   },
   {
    "duration": 0,
    "start_time": "2022-03-29T13:53:18.077Z"
   },
   {
    "duration": 0,
    "start_time": "2022-03-29T13:53:18.079Z"
   },
   {
    "duration": 0,
    "start_time": "2022-03-29T13:53:18.081Z"
   },
   {
    "duration": 0,
    "start_time": "2022-03-29T13:53:18.083Z"
   },
   {
    "duration": 0,
    "start_time": "2022-03-29T13:53:18.085Z"
   },
   {
    "duration": 0,
    "start_time": "2022-03-29T13:53:18.087Z"
   },
   {
    "duration": 34,
    "start_time": "2022-03-29T13:58:36.904Z"
   },
   {
    "duration": 29,
    "start_time": "2022-03-29T14:00:07.120Z"
   },
   {
    "duration": 51,
    "start_time": "2022-03-29T14:00:50.480Z"
   },
   {
    "duration": 46,
    "start_time": "2022-03-29T14:01:02.275Z"
   },
   {
    "duration": 37,
    "start_time": "2022-03-29T14:01:06.710Z"
   },
   {
    "duration": 3,
    "start_time": "2022-03-29T14:10:20.748Z"
   },
   {
    "duration": 408,
    "start_time": "2022-03-29T14:10:20.752Z"
   },
   {
    "duration": 3,
    "start_time": "2022-03-29T14:10:21.162Z"
   },
   {
    "duration": 438,
    "start_time": "2022-03-29T14:10:21.168Z"
   },
   {
    "duration": 3,
    "start_time": "2022-03-29T14:10:21.608Z"
   },
   {
    "duration": 167,
    "start_time": "2022-03-29T14:10:21.613Z"
   },
   {
    "duration": 132,
    "start_time": "2022-03-29T14:10:21.782Z"
   },
   {
    "duration": 79,
    "start_time": "2022-03-29T14:10:21.916Z"
   },
   {
    "duration": 16,
    "start_time": "2022-03-29T14:10:21.997Z"
   },
   {
    "duration": 15,
    "start_time": "2022-03-29T14:10:22.015Z"
   },
   {
    "duration": 14,
    "start_time": "2022-03-29T14:10:22.032Z"
   },
   {
    "duration": 29,
    "start_time": "2022-03-29T14:10:22.048Z"
   },
   {
    "duration": 52,
    "start_time": "2022-03-29T14:10:22.081Z"
   },
   {
    "duration": 10,
    "start_time": "2022-03-29T14:10:22.135Z"
   },
   {
    "duration": 27,
    "start_time": "2022-03-29T14:10:22.147Z"
   },
   {
    "duration": 25,
    "start_time": "2022-03-29T14:10:22.176Z"
   },
   {
    "duration": 31,
    "start_time": "2022-03-29T14:10:22.203Z"
   },
   {
    "duration": 18,
    "start_time": "2022-03-29T14:10:22.236Z"
   },
   {
    "duration": 27,
    "start_time": "2022-03-29T14:10:22.256Z"
   },
   {
    "duration": 9,
    "start_time": "2022-03-29T14:10:22.284Z"
   },
   {
    "duration": 15,
    "start_time": "2022-03-29T14:10:22.295Z"
   },
   {
    "duration": 33,
    "start_time": "2022-03-29T14:10:22.311Z"
   },
   {
    "duration": 24,
    "start_time": "2022-03-29T14:10:22.345Z"
   },
   {
    "duration": 18,
    "start_time": "2022-03-29T14:10:22.370Z"
   },
   {
    "duration": 12,
    "start_time": "2022-03-29T14:10:22.389Z"
   },
   {
    "duration": 23,
    "start_time": "2022-03-29T14:10:22.403Z"
   },
   {
    "duration": 16,
    "start_time": "2022-03-29T14:10:22.428Z"
   },
   {
    "duration": 15,
    "start_time": "2022-03-29T14:10:22.445Z"
   },
   {
    "duration": 11,
    "start_time": "2022-03-29T14:10:22.461Z"
   },
   {
    "duration": 11,
    "start_time": "2022-03-29T14:10:22.474Z"
   },
   {
    "duration": 47,
    "start_time": "2022-03-29T14:10:22.487Z"
   },
   {
    "duration": 24,
    "start_time": "2022-03-29T14:10:22.536Z"
   },
   {
    "duration": 11,
    "start_time": "2022-03-29T14:10:22.562Z"
   },
   {
    "duration": 36,
    "start_time": "2022-03-29T14:10:22.575Z"
   },
   {
    "duration": 29,
    "start_time": "2022-03-29T14:10:22.612Z"
   },
   {
    "duration": 22,
    "start_time": "2022-03-29T14:10:22.642Z"
   },
   {
    "duration": 20,
    "start_time": "2022-03-29T14:10:22.665Z"
   },
   {
    "duration": 20,
    "start_time": "2022-03-29T14:10:22.687Z"
   },
   {
    "duration": 11,
    "start_time": "2022-03-29T14:10:22.733Z"
   },
   {
    "duration": 24,
    "start_time": "2022-03-29T14:10:22.748Z"
   },
   {
    "duration": 20,
    "start_time": "2022-03-29T14:10:22.774Z"
   },
   {
    "duration": 38,
    "start_time": "2022-03-29T14:10:22.796Z"
   },
   {
    "duration": 2,
    "start_time": "2022-03-29T14:10:22.835Z"
   },
   {
    "duration": 16,
    "start_time": "2022-03-29T14:10:22.838Z"
   },
   {
    "duration": 14,
    "start_time": "2022-03-29T14:10:22.856Z"
   },
   {
    "duration": 12,
    "start_time": "2022-03-29T14:10:22.871Z"
   },
   {
    "duration": 21,
    "start_time": "2022-03-29T14:10:22.884Z"
   },
   {
    "duration": 18,
    "start_time": "2022-03-29T14:10:22.906Z"
   },
   {
    "duration": 18,
    "start_time": "2022-03-29T14:10:22.925Z"
   },
   {
    "duration": 6,
    "start_time": "2022-03-29T14:10:22.945Z"
   },
   {
    "duration": 11,
    "start_time": "2022-03-29T14:10:22.952Z"
   },
   {
    "duration": 18,
    "start_time": "2022-03-29T14:10:22.965Z"
   },
   {
    "duration": 8,
    "start_time": "2022-03-29T14:10:22.985Z"
   },
   {
    "duration": 13,
    "start_time": "2022-03-29T14:10:22.995Z"
   },
   {
    "duration": 37,
    "start_time": "2022-03-29T14:10:23.009Z"
   },
   {
    "duration": 23,
    "start_time": "2022-03-29T14:10:23.048Z"
   },
   {
    "duration": 14,
    "start_time": "2022-03-29T14:10:23.072Z"
   },
   {
    "duration": 15,
    "start_time": "2022-03-29T14:10:23.088Z"
   },
   {
    "duration": 35,
    "start_time": "2022-03-29T14:10:23.105Z"
   },
   {
    "duration": 11,
    "start_time": "2022-03-29T14:10:23.141Z"
   },
   {
    "duration": 18,
    "start_time": "2022-03-29T14:10:23.154Z"
   },
   {
    "duration": 18,
    "start_time": "2022-03-29T14:10:23.174Z"
   },
   {
    "duration": 7,
    "start_time": "2022-03-29T14:10:23.193Z"
   },
   {
    "duration": 6,
    "start_time": "2022-03-29T14:10:23.234Z"
   },
   {
    "duration": 13,
    "start_time": "2022-03-29T14:10:23.242Z"
   },
   {
    "duration": 18,
    "start_time": "2022-03-29T14:10:23.256Z"
   },
   {
    "duration": 9,
    "start_time": "2022-03-29T14:10:23.276Z"
   },
   {
    "duration": 13,
    "start_time": "2022-03-29T14:10:23.287Z"
   },
   {
    "duration": 45,
    "start_time": "2022-03-29T14:10:23.302Z"
   },
   {
    "duration": 20,
    "start_time": "2022-03-29T14:10:23.349Z"
   },
   {
    "duration": 20,
    "start_time": "2022-03-29T14:10:23.371Z"
   },
   {
    "duration": 54,
    "start_time": "2022-03-29T14:10:23.393Z"
   },
   {
    "duration": 25,
    "start_time": "2022-03-29T14:10:23.450Z"
   },
   {
    "duration": 27,
    "start_time": "2022-03-29T14:10:23.477Z"
   },
   {
    "duration": 50,
    "start_time": "2022-03-29T14:10:23.506Z"
   },
   {
    "duration": 1367,
    "start_time": "2022-03-29T14:10:23.558Z"
   },
   {
    "duration": 0,
    "start_time": "2022-03-29T14:10:24.927Z"
   },
   {
    "duration": 0,
    "start_time": "2022-03-29T14:10:24.928Z"
   },
   {
    "duration": 0,
    "start_time": "2022-03-29T14:10:24.929Z"
   },
   {
    "duration": 0,
    "start_time": "2022-03-29T14:10:24.930Z"
   },
   {
    "duration": 0,
    "start_time": "2022-03-29T14:10:24.931Z"
   },
   {
    "duration": 0,
    "start_time": "2022-03-29T14:10:24.932Z"
   },
   {
    "duration": 0,
    "start_time": "2022-03-29T14:10:24.933Z"
   },
   {
    "duration": 0,
    "start_time": "2022-03-29T14:10:24.934Z"
   },
   {
    "duration": 0,
    "start_time": "2022-03-29T14:10:24.935Z"
   },
   {
    "duration": 0,
    "start_time": "2022-03-29T14:10:24.936Z"
   },
   {
    "duration": 0,
    "start_time": "2022-03-29T14:10:24.937Z"
   },
   {
    "duration": 0,
    "start_time": "2022-03-29T14:10:24.938Z"
   },
   {
    "duration": 0,
    "start_time": "2022-03-29T14:10:24.940Z"
   },
   {
    "duration": 0,
    "start_time": "2022-03-29T14:10:24.941Z"
   },
   {
    "duration": 0,
    "start_time": "2022-03-29T14:10:24.942Z"
   },
   {
    "duration": 0,
    "start_time": "2022-03-29T14:10:24.943Z"
   },
   {
    "duration": 0,
    "start_time": "2022-03-29T14:10:24.944Z"
   },
   {
    "duration": 0,
    "start_time": "2022-03-29T14:10:24.945Z"
   },
   {
    "duration": 0,
    "start_time": "2022-03-29T14:10:24.947Z"
   },
   {
    "duration": 0,
    "start_time": "2022-03-29T14:10:24.948Z"
   },
   {
    "duration": 0,
    "start_time": "2022-03-29T14:10:24.949Z"
   },
   {
    "duration": 0,
    "start_time": "2022-03-29T14:10:24.950Z"
   },
   {
    "duration": 0,
    "start_time": "2022-03-29T14:10:24.951Z"
   },
   {
    "duration": 0,
    "start_time": "2022-03-29T14:10:24.952Z"
   },
   {
    "duration": 0,
    "start_time": "2022-03-29T14:10:24.953Z"
   },
   {
    "duration": 0,
    "start_time": "2022-03-29T14:10:24.954Z"
   },
   {
    "duration": 0,
    "start_time": "2022-03-29T14:10:24.955Z"
   },
   {
    "duration": 0,
    "start_time": "2022-03-29T14:10:24.956Z"
   },
   {
    "duration": 0,
    "start_time": "2022-03-29T14:10:24.957Z"
   },
   {
    "duration": 20,
    "start_time": "2022-03-29T14:12:19.402Z"
   },
   {
    "duration": 48,
    "start_time": "2022-03-29T14:14:00.011Z"
   },
   {
    "duration": 422,
    "start_time": "2022-03-29T14:14:00.127Z"
   },
   {
    "duration": 236,
    "start_time": "2022-03-29T14:14:00.551Z"
   },
   {
    "duration": 3,
    "start_time": "2022-03-29T14:14:00.789Z"
   },
   {
    "duration": 485,
    "start_time": "2022-03-29T14:14:00.793Z"
   },
   {
    "duration": 2,
    "start_time": "2022-03-29T14:14:01.281Z"
   },
   {
    "duration": 168,
    "start_time": "2022-03-29T14:14:01.284Z"
   },
   {
    "duration": 126,
    "start_time": "2022-03-29T14:14:01.454Z"
   },
   {
    "duration": 88,
    "start_time": "2022-03-29T14:14:01.582Z"
   },
   {
    "duration": 9,
    "start_time": "2022-03-29T14:14:01.672Z"
   },
   {
    "duration": 29,
    "start_time": "2022-03-29T14:14:01.683Z"
   },
   {
    "duration": 16,
    "start_time": "2022-03-29T14:14:01.713Z"
   },
   {
    "duration": 46,
    "start_time": "2022-03-29T14:14:01.730Z"
   },
   {
    "duration": 34,
    "start_time": "2022-03-29T14:14:01.778Z"
   },
   {
    "duration": 9,
    "start_time": "2022-03-29T14:14:01.815Z"
   },
   {
    "duration": 36,
    "start_time": "2022-03-29T14:14:01.825Z"
   },
   {
    "duration": 23,
    "start_time": "2022-03-29T14:14:01.863Z"
   },
   {
    "duration": 9,
    "start_time": "2022-03-29T14:14:01.887Z"
   },
   {
    "duration": 34,
    "start_time": "2022-03-29T14:14:01.897Z"
   },
   {
    "duration": 31,
    "start_time": "2022-03-29T14:14:01.933Z"
   },
   {
    "duration": 9,
    "start_time": "2022-03-29T14:14:01.965Z"
   },
   {
    "duration": 22,
    "start_time": "2022-03-29T14:14:01.976Z"
   },
   {
    "duration": 18,
    "start_time": "2022-03-29T14:14:02.000Z"
   },
   {
    "duration": 18,
    "start_time": "2022-03-29T14:14:02.020Z"
   },
   {
    "duration": 21,
    "start_time": "2022-03-29T14:14:02.040Z"
   },
   {
    "duration": 10,
    "start_time": "2022-03-29T14:14:02.063Z"
   },
   {
    "duration": 20,
    "start_time": "2022-03-29T14:14:02.074Z"
   },
   {
    "duration": 13,
    "start_time": "2022-03-29T14:14:02.095Z"
   },
   {
    "duration": 29,
    "start_time": "2022-03-29T14:14:02.109Z"
   },
   {
    "duration": 7,
    "start_time": "2022-03-29T14:14:02.139Z"
   },
   {
    "duration": 23,
    "start_time": "2022-03-29T14:14:02.147Z"
   },
   {
    "duration": 34,
    "start_time": "2022-03-29T14:14:02.171Z"
   },
   {
    "duration": 27,
    "start_time": "2022-03-29T14:14:02.207Z"
   },
   {
    "duration": 10,
    "start_time": "2022-03-29T14:14:02.236Z"
   },
   {
    "duration": 23,
    "start_time": "2022-03-29T14:14:02.248Z"
   },
   {
    "duration": 11,
    "start_time": "2022-03-29T14:14:02.273Z"
   },
   {
    "duration": 17,
    "start_time": "2022-03-29T14:14:02.286Z"
   },
   {
    "duration": 43,
    "start_time": "2022-03-29T14:14:02.305Z"
   },
   {
    "duration": 19,
    "start_time": "2022-03-29T14:14:02.350Z"
   },
   {
    "duration": 10,
    "start_time": "2022-03-29T14:14:02.371Z"
   },
   {
    "duration": 51,
    "start_time": "2022-03-29T14:14:02.383Z"
   },
   {
    "duration": 21,
    "start_time": "2022-03-29T14:14:02.439Z"
   },
   {
    "duration": 11,
    "start_time": "2022-03-29T14:14:02.461Z"
   },
   {
    "duration": 2,
    "start_time": "2022-03-29T14:14:02.474Z"
   },
   {
    "duration": 12,
    "start_time": "2022-03-29T14:14:02.477Z"
   },
   {
    "duration": 5,
    "start_time": "2022-03-29T14:14:02.490Z"
   },
   {
    "duration": 4,
    "start_time": "2022-03-29T14:14:02.497Z"
   },
   {
    "duration": 40,
    "start_time": "2022-03-29T14:14:02.503Z"
   },
   {
    "duration": 17,
    "start_time": "2022-03-29T14:14:02.545Z"
   },
   {
    "duration": 22,
    "start_time": "2022-03-29T14:14:02.563Z"
   },
   {
    "duration": 7,
    "start_time": "2022-03-29T14:14:02.586Z"
   },
   {
    "duration": 9,
    "start_time": "2022-03-29T14:14:02.594Z"
   },
   {
    "duration": 41,
    "start_time": "2022-03-29T14:14:02.604Z"
   },
   {
    "duration": 9,
    "start_time": "2022-03-29T14:14:02.646Z"
   },
   {
    "duration": 28,
    "start_time": "2022-03-29T14:14:02.656Z"
   },
   {
    "duration": 14,
    "start_time": "2022-03-29T14:14:02.686Z"
   },
   {
    "duration": 15,
    "start_time": "2022-03-29T14:14:02.702Z"
   },
   {
    "duration": 26,
    "start_time": "2022-03-29T14:14:02.718Z"
   },
   {
    "duration": 24,
    "start_time": "2022-03-29T14:14:02.745Z"
   },
   {
    "duration": 29,
    "start_time": "2022-03-29T14:14:02.771Z"
   },
   {
    "duration": 62,
    "start_time": "2022-03-29T14:14:02.801Z"
   },
   {
    "duration": 44,
    "start_time": "2022-03-29T14:14:02.864Z"
   },
   {
    "duration": 17,
    "start_time": "2022-03-29T14:14:02.909Z"
   },
   {
    "duration": 7,
    "start_time": "2022-03-29T14:14:02.927Z"
   },
   {
    "duration": 10,
    "start_time": "2022-03-29T14:14:02.935Z"
   },
   {
    "duration": 14,
    "start_time": "2022-03-29T14:14:02.946Z"
   },
   {
    "duration": 19,
    "start_time": "2022-03-29T14:14:02.961Z"
   },
   {
    "duration": 9,
    "start_time": "2022-03-29T14:14:02.982Z"
   },
   {
    "duration": 11,
    "start_time": "2022-03-29T14:14:02.993Z"
   },
   {
    "duration": 44,
    "start_time": "2022-03-29T14:14:03.005Z"
   },
   {
    "duration": 18,
    "start_time": "2022-03-29T14:14:03.050Z"
   },
   {
    "duration": 22,
    "start_time": "2022-03-29T14:14:03.070Z"
   },
   {
    "duration": 51,
    "start_time": "2022-03-29T14:14:03.094Z"
   },
   {
    "duration": 24,
    "start_time": "2022-03-29T14:14:03.147Z"
   },
   {
    "duration": 27,
    "start_time": "2022-03-29T14:14:03.173Z"
   },
   {
    "duration": 51,
    "start_time": "2022-03-29T14:14:03.201Z"
   },
   {
    "duration": 1382,
    "start_time": "2022-03-29T14:14:03.254Z"
   },
   {
    "duration": 0,
    "start_time": "2022-03-29T14:14:04.638Z"
   },
   {
    "duration": 0,
    "start_time": "2022-03-29T14:14:04.639Z"
   },
   {
    "duration": 0,
    "start_time": "2022-03-29T14:14:04.640Z"
   },
   {
    "duration": 0,
    "start_time": "2022-03-29T14:14:04.641Z"
   },
   {
    "duration": 0,
    "start_time": "2022-03-29T14:14:04.643Z"
   },
   {
    "duration": 0,
    "start_time": "2022-03-29T14:14:04.644Z"
   },
   {
    "duration": 0,
    "start_time": "2022-03-29T14:14:04.646Z"
   },
   {
    "duration": 0,
    "start_time": "2022-03-29T14:14:04.647Z"
   },
   {
    "duration": 0,
    "start_time": "2022-03-29T14:14:04.648Z"
   },
   {
    "duration": 0,
    "start_time": "2022-03-29T14:14:04.649Z"
   },
   {
    "duration": 0,
    "start_time": "2022-03-29T14:14:04.651Z"
   },
   {
    "duration": 0,
    "start_time": "2022-03-29T14:14:04.652Z"
   },
   {
    "duration": 0,
    "start_time": "2022-03-29T14:14:04.653Z"
   },
   {
    "duration": 0,
    "start_time": "2022-03-29T14:14:04.655Z"
   },
   {
    "duration": 0,
    "start_time": "2022-03-29T14:14:04.656Z"
   },
   {
    "duration": 0,
    "start_time": "2022-03-29T14:14:04.657Z"
   },
   {
    "duration": 0,
    "start_time": "2022-03-29T14:14:04.658Z"
   },
   {
    "duration": 0,
    "start_time": "2022-03-29T14:14:04.659Z"
   },
   {
    "duration": 0,
    "start_time": "2022-03-29T14:14:04.660Z"
   },
   {
    "duration": 0,
    "start_time": "2022-03-29T14:14:04.661Z"
   },
   {
    "duration": 0,
    "start_time": "2022-03-29T14:14:04.662Z"
   },
   {
    "duration": 0,
    "start_time": "2022-03-29T14:14:04.663Z"
   },
   {
    "duration": 0,
    "start_time": "2022-03-29T14:14:04.664Z"
   },
   {
    "duration": 0,
    "start_time": "2022-03-29T14:14:04.665Z"
   },
   {
    "duration": 0,
    "start_time": "2022-03-29T14:14:04.666Z"
   },
   {
    "duration": 0,
    "start_time": "2022-03-29T14:14:04.667Z"
   },
   {
    "duration": 0,
    "start_time": "2022-03-29T14:14:04.667Z"
   },
   {
    "duration": 0,
    "start_time": "2022-03-29T14:14:04.668Z"
   },
   {
    "duration": 0,
    "start_time": "2022-03-29T14:14:04.669Z"
   },
   {
    "duration": 22,
    "start_time": "2022-03-29T14:17:39.020Z"
   },
   {
    "duration": 7,
    "start_time": "2022-03-29T14:18:20.903Z"
   },
   {
    "duration": 7,
    "start_time": "2022-03-29T14:18:51.626Z"
   },
   {
    "duration": 10,
    "start_time": "2022-03-29T14:19:10.884Z"
   },
   {
    "duration": 19,
    "start_time": "2022-03-29T14:19:55.739Z"
   },
   {
    "duration": 14,
    "start_time": "2022-03-29T14:21:07.232Z"
   },
   {
    "duration": 6,
    "start_time": "2022-03-29T14:21:12.424Z"
   },
   {
    "duration": 7,
    "start_time": "2022-03-29T14:21:17.863Z"
   },
   {
    "duration": 150,
    "start_time": "2022-03-29T14:21:21.160Z"
   },
   {
    "duration": 117,
    "start_time": "2022-03-29T14:21:24.377Z"
   },
   {
    "duration": 12,
    "start_time": "2022-03-29T14:21:27.138Z"
   },
   {
    "duration": 13,
    "start_time": "2022-03-29T14:21:29.941Z"
   },
   {
    "duration": 136,
    "start_time": "2022-03-29T14:21:32.958Z"
   },
   {
    "duration": 122,
    "start_time": "2022-03-29T14:21:36.978Z"
   },
   {
    "duration": 14,
    "start_time": "2022-03-29T14:21:39.841Z"
   },
   {
    "duration": 11,
    "start_time": "2022-03-29T14:21:42.442Z"
   },
   {
    "duration": 140,
    "start_time": "2022-03-29T14:21:44.884Z"
   },
   {
    "duration": 138,
    "start_time": "2022-03-29T14:21:47.859Z"
   },
   {
    "duration": 3,
    "start_time": "2022-03-29T14:22:15.732Z"
   },
   {
    "duration": 19,
    "start_time": "2022-03-29T14:22:17.334Z"
   },
   {
    "duration": 11,
    "start_time": "2022-03-29T14:22:21.963Z"
   },
   {
    "duration": 129,
    "start_time": "2022-03-29T14:22:44.866Z"
   },
   {
    "duration": 133,
    "start_time": "2022-03-29T14:22:58.578Z"
   },
   {
    "duration": 17,
    "start_time": "2022-03-29T14:23:02.499Z"
   },
   {
    "duration": 8,
    "start_time": "2022-03-29T14:23:27.498Z"
   },
   {
    "duration": 3,
    "start_time": "2022-03-29T14:25:03.802Z"
   },
   {
    "duration": 3,
    "start_time": "2022-03-29T14:25:14.826Z"
   },
   {
    "duration": 12,
    "start_time": "2022-03-29T14:25:40.438Z"
   },
   {
    "duration": 14,
    "start_time": "2022-03-29T14:25:59.089Z"
   },
   {
    "duration": 123,
    "start_time": "2022-03-29T14:26:17.715Z"
   },
   {
    "duration": 208,
    "start_time": "2022-03-29T14:26:31.431Z"
   },
   {
    "duration": 8,
    "start_time": "2022-03-29T14:27:00.975Z"
   },
   {
    "duration": 105,
    "start_time": "2022-03-29T15:17:46.261Z"
   },
   {
    "duration": 553,
    "start_time": "2022-03-29T15:29:05.355Z"
   },
   {
    "duration": 392,
    "start_time": "2022-03-29T15:29:05.911Z"
   },
   {
    "duration": 4,
    "start_time": "2022-03-29T15:29:06.305Z"
   },
   {
    "duration": 482,
    "start_time": "2022-03-29T15:29:06.310Z"
   },
   {
    "duration": 3,
    "start_time": "2022-03-29T15:29:06.795Z"
   },
   {
    "duration": 167,
    "start_time": "2022-03-29T15:29:06.799Z"
   },
   {
    "duration": 146,
    "start_time": "2022-03-29T15:29:06.968Z"
   },
   {
    "duration": 97,
    "start_time": "2022-03-29T15:29:07.116Z"
   },
   {
    "duration": 10,
    "start_time": "2022-03-29T15:29:07.215Z"
   },
   {
    "duration": 20,
    "start_time": "2022-03-29T15:29:07.227Z"
   },
   {
    "duration": 21,
    "start_time": "2022-03-29T15:29:07.249Z"
   },
   {
    "duration": 61,
    "start_time": "2022-03-29T15:29:07.273Z"
   },
   {
    "duration": 56,
    "start_time": "2022-03-29T15:29:07.336Z"
   },
   {
    "duration": 10,
    "start_time": "2022-03-29T15:29:07.395Z"
   },
   {
    "duration": 44,
    "start_time": "2022-03-29T15:29:07.408Z"
   },
   {
    "duration": 27,
    "start_time": "2022-03-29T15:29:07.454Z"
   },
   {
    "duration": 18,
    "start_time": "2022-03-29T15:29:07.483Z"
   },
   {
    "duration": 38,
    "start_time": "2022-03-29T15:29:07.503Z"
   },
   {
    "duration": 22,
    "start_time": "2022-03-29T15:29:07.543Z"
   },
   {
    "duration": 9,
    "start_time": "2022-03-29T15:29:07.567Z"
   },
   {
    "duration": 11,
    "start_time": "2022-03-29T15:29:07.578Z"
   },
   {
    "duration": 45,
    "start_time": "2022-03-29T15:29:07.591Z"
   },
   {
    "duration": 18,
    "start_time": "2022-03-29T15:29:07.639Z"
   },
   {
    "duration": 16,
    "start_time": "2022-03-29T15:29:07.660Z"
   },
   {
    "duration": 10,
    "start_time": "2022-03-29T15:29:07.679Z"
   },
   {
    "duration": 42,
    "start_time": "2022-03-29T15:29:07.692Z"
   },
   {
    "duration": 15,
    "start_time": "2022-03-29T15:29:07.737Z"
   },
   {
    "duration": 13,
    "start_time": "2022-03-29T15:29:07.754Z"
   },
   {
    "duration": 6,
    "start_time": "2022-03-29T15:29:07.769Z"
   },
   {
    "duration": 16,
    "start_time": "2022-03-29T15:29:07.777Z"
   },
   {
    "duration": 66,
    "start_time": "2022-03-29T15:29:07.795Z"
   },
   {
    "duration": 25,
    "start_time": "2022-03-29T15:29:07.863Z"
   },
   {
    "duration": 43,
    "start_time": "2022-03-29T15:29:07.890Z"
   },
   {
    "duration": 38,
    "start_time": "2022-03-29T15:29:07.935Z"
   },
   {
    "duration": 21,
    "start_time": "2022-03-29T15:29:07.975Z"
   },
   {
    "duration": 46,
    "start_time": "2022-03-29T15:29:07.998Z"
   },
   {
    "duration": 22,
    "start_time": "2022-03-29T15:29:08.046Z"
   },
   {
    "duration": 22,
    "start_time": "2022-03-29T15:29:08.070Z"
   },
   {
    "duration": 48,
    "start_time": "2022-03-29T15:29:08.094Z"
   },
   {
    "duration": 36,
    "start_time": "2022-03-29T15:29:08.145Z"
   },
   {
    "duration": 54,
    "start_time": "2022-03-29T15:29:08.190Z"
   },
   {
    "duration": 19,
    "start_time": "2022-03-29T15:29:08.247Z"
   },
   {
    "duration": 26,
    "start_time": "2022-03-29T15:29:08.269Z"
   },
   {
    "duration": 49,
    "start_time": "2022-03-29T15:29:08.297Z"
   },
   {
    "duration": 30,
    "start_time": "2022-03-29T15:29:08.348Z"
   },
   {
    "duration": 9,
    "start_time": "2022-03-29T15:29:08.381Z"
   },
   {
    "duration": 15,
    "start_time": "2022-03-29T15:29:08.393Z"
   },
   {
    "duration": 25,
    "start_time": "2022-03-29T15:29:08.432Z"
   },
   {
    "duration": 10,
    "start_time": "2022-03-29T15:29:08.458Z"
   },
   {
    "duration": 17,
    "start_time": "2022-03-29T15:29:08.471Z"
   },
   {
    "duration": 56,
    "start_time": "2022-03-29T15:29:08.491Z"
   },
   {
    "duration": 28,
    "start_time": "2022-03-29T15:29:08.549Z"
   },
   {
    "duration": 20,
    "start_time": "2022-03-29T15:29:08.579Z"
   },
   {
    "duration": 49,
    "start_time": "2022-03-29T15:29:08.601Z"
   },
   {
    "duration": 12,
    "start_time": "2022-03-29T15:29:08.653Z"
   },
   {
    "duration": 17,
    "start_time": "2022-03-29T15:29:08.667Z"
   },
   {
    "duration": 19,
    "start_time": "2022-03-29T15:29:08.686Z"
   },
   {
    "duration": 21,
    "start_time": "2022-03-29T15:29:08.733Z"
   },
   {
    "duration": 8,
    "start_time": "2022-03-29T15:29:08.756Z"
   },
   {
    "duration": 40,
    "start_time": "2022-03-29T15:29:08.766Z"
   },
   {
    "duration": 10,
    "start_time": "2022-03-29T15:29:08.807Z"
   },
   {
    "duration": 22,
    "start_time": "2022-03-29T15:29:08.818Z"
   },
   {
    "duration": 15,
    "start_time": "2022-03-29T15:29:08.842Z"
   },
   {
    "duration": 18,
    "start_time": "2022-03-29T15:29:08.859Z"
   },
   {
    "duration": 28,
    "start_time": "2022-03-29T15:29:08.879Z"
   },
   {
    "duration": 32,
    "start_time": "2022-03-29T15:29:08.934Z"
   },
   {
    "duration": 204,
    "start_time": "2022-03-29T15:29:08.968Z"
   },
   {
    "duration": 0,
    "start_time": "2022-03-29T15:29:09.175Z"
   },
   {
    "duration": 0,
    "start_time": "2022-03-29T15:29:09.177Z"
   },
   {
    "duration": 0,
    "start_time": "2022-03-29T15:29:09.178Z"
   },
   {
    "duration": 0,
    "start_time": "2022-03-29T15:29:09.180Z"
   },
   {
    "duration": 0,
    "start_time": "2022-03-29T15:29:09.181Z"
   },
   {
    "duration": 0,
    "start_time": "2022-03-29T15:29:09.183Z"
   },
   {
    "duration": 0,
    "start_time": "2022-03-29T15:29:09.185Z"
   },
   {
    "duration": 0,
    "start_time": "2022-03-29T15:29:09.186Z"
   },
   {
    "duration": 0,
    "start_time": "2022-03-29T15:29:09.188Z"
   },
   {
    "duration": 0,
    "start_time": "2022-03-29T15:29:09.190Z"
   },
   {
    "duration": 0,
    "start_time": "2022-03-29T15:29:09.191Z"
   },
   {
    "duration": 0,
    "start_time": "2022-03-29T15:29:09.193Z"
   },
   {
    "duration": 0,
    "start_time": "2022-03-29T15:29:09.195Z"
   },
   {
    "duration": 0,
    "start_time": "2022-03-29T15:29:09.196Z"
   },
   {
    "duration": 1,
    "start_time": "2022-03-29T15:29:09.233Z"
   },
   {
    "duration": 0,
    "start_time": "2022-03-29T15:29:09.236Z"
   },
   {
    "duration": 0,
    "start_time": "2022-03-29T15:29:09.238Z"
   },
   {
    "duration": 0,
    "start_time": "2022-03-29T15:29:09.240Z"
   },
   {
    "duration": 0,
    "start_time": "2022-03-29T15:29:09.242Z"
   },
   {
    "duration": 0,
    "start_time": "2022-03-29T15:29:09.243Z"
   },
   {
    "duration": 0,
    "start_time": "2022-03-29T15:29:09.246Z"
   },
   {
    "duration": 0,
    "start_time": "2022-03-29T15:29:09.249Z"
   },
   {
    "duration": 0,
    "start_time": "2022-03-29T15:29:09.251Z"
   },
   {
    "duration": 1,
    "start_time": "2022-03-29T15:29:09.252Z"
   },
   {
    "duration": 0,
    "start_time": "2022-03-29T15:29:09.254Z"
   },
   {
    "duration": 0,
    "start_time": "2022-03-29T15:29:09.256Z"
   },
   {
    "duration": 0,
    "start_time": "2022-03-29T15:29:09.258Z"
   },
   {
    "duration": 0,
    "start_time": "2022-03-29T15:29:09.259Z"
   },
   {
    "duration": 0,
    "start_time": "2022-03-29T15:29:09.260Z"
   },
   {
    "duration": 0,
    "start_time": "2022-03-29T15:29:09.262Z"
   },
   {
    "duration": 0,
    "start_time": "2022-03-29T15:29:09.264Z"
   },
   {
    "duration": 21,
    "start_time": "2022-03-29T15:30:37.368Z"
   },
   {
    "duration": 10,
    "start_time": "2022-03-29T16:02:27.324Z"
   },
   {
    "duration": 166,
    "start_time": "2022-03-29T16:03:34.162Z"
   },
   {
    "duration": 161,
    "start_time": "2022-03-29T16:09:59.736Z"
   },
   {
    "duration": 11,
    "start_time": "2022-03-29T16:10:16.750Z"
   },
   {
    "duration": 12,
    "start_time": "2022-03-29T16:10:28.407Z"
   },
   {
    "duration": 11,
    "start_time": "2022-03-29T16:10:38.442Z"
   },
   {
    "duration": 12,
    "start_time": "2022-03-29T16:10:55.710Z"
   },
   {
    "duration": 4,
    "start_time": "2022-03-29T16:18:40.763Z"
   },
   {
    "duration": 41,
    "start_time": "2022-03-29T16:18:55.661Z"
   },
   {
    "duration": 34,
    "start_time": "2022-03-29T16:19:14.339Z"
   },
   {
    "duration": 36,
    "start_time": "2022-03-29T16:19:58.061Z"
   },
   {
    "duration": 42,
    "start_time": "2022-03-29T16:20:59.669Z"
   },
   {
    "duration": 34,
    "start_time": "2022-03-29T16:21:28.544Z"
   },
   {
    "duration": 14,
    "start_time": "2022-03-29T16:21:42.145Z"
   },
   {
    "duration": 66,
    "start_time": "2022-03-29T16:21:56.006Z"
   },
   {
    "duration": 42,
    "start_time": "2022-03-29T16:25:07.152Z"
   },
   {
    "duration": 37,
    "start_time": "2022-03-29T16:27:18.840Z"
   },
   {
    "duration": 31,
    "start_time": "2022-03-29T16:28:49.668Z"
   },
   {
    "duration": 534,
    "start_time": "2022-03-29T16:46:44.238Z"
   },
   {
    "duration": 634,
    "start_time": "2022-03-29T16:46:46.428Z"
   },
   {
    "duration": 4,
    "start_time": "2022-03-29T16:46:47.065Z"
   },
   {
    "duration": 573,
    "start_time": "2022-03-29T16:46:47.202Z"
   },
   {
    "duration": 3,
    "start_time": "2022-03-29T16:46:47.778Z"
   },
   {
    "duration": 207,
    "start_time": "2022-03-29T16:46:49.589Z"
   },
   {
    "duration": 172,
    "start_time": "2022-03-29T16:46:49.853Z"
   },
   {
    "duration": 115,
    "start_time": "2022-03-29T16:46:50.129Z"
   },
   {
    "duration": 13,
    "start_time": "2022-03-29T16:46:50.398Z"
   },
   {
    "duration": 19,
    "start_time": "2022-03-29T16:46:50.945Z"
   },
   {
    "duration": 22,
    "start_time": "2022-03-29T16:46:52.441Z"
   },
   {
    "duration": 35,
    "start_time": "2022-03-29T16:46:53.058Z"
   },
   {
    "duration": 56,
    "start_time": "2022-03-29T16:46:55.144Z"
   },
   {
    "duration": 15,
    "start_time": "2022-03-29T16:46:55.651Z"
   },
   {
    "duration": 31,
    "start_time": "2022-03-29T16:46:56.781Z"
   },
   {
    "duration": 35,
    "start_time": "2022-03-29T16:46:59.081Z"
   },
   {
    "duration": 11,
    "start_time": "2022-03-29T16:46:59.942Z"
   },
   {
    "duration": 26,
    "start_time": "2022-03-29T16:47:01.415Z"
   },
   {
    "duration": 30,
    "start_time": "2022-03-29T16:47:02.585Z"
   },
   {
    "duration": 12,
    "start_time": "2022-03-29T16:47:02.982Z"
   },
   {
    "duration": 14,
    "start_time": "2022-03-29T16:47:04.536Z"
   },
   {
    "duration": 15,
    "start_time": "2022-03-29T16:47:05.775Z"
   },
   {
    "duration": 16,
    "start_time": "2022-03-29T16:47:06.054Z"
   },
   {
    "duration": 16,
    "start_time": "2022-03-29T16:47:07.339Z"
   },
   {
    "duration": 6,
    "start_time": "2022-03-29T16:47:07.622Z"
   },
   {
    "duration": 21,
    "start_time": "2022-03-29T16:47:09.137Z"
   },
   {
    "duration": 17,
    "start_time": "2022-03-29T16:47:09.496Z"
   },
   {
    "duration": 15,
    "start_time": "2022-03-29T16:47:10.461Z"
   },
   {
    "duration": 9,
    "start_time": "2022-03-29T16:47:11.596Z"
   },
   {
    "duration": 10,
    "start_time": "2022-03-29T16:47:11.918Z"
   },
   {
    "duration": 256,
    "start_time": "2022-03-29T16:47:13.620Z"
   },
   {
    "duration": 41,
    "start_time": "2022-03-29T16:47:24.519Z"
   },
   {
    "duration": 58,
    "start_time": "2022-03-29T16:47:25.797Z"
   },
   {
    "duration": 3,
    "start_time": "2022-03-29T16:47:33.921Z"
   },
   {
    "duration": 4,
    "start_time": "2022-03-29T16:47:44.049Z"
   },
   {
    "duration": 4,
    "start_time": "2022-03-29T16:47:48.844Z"
   },
   {
    "duration": 3,
    "start_time": "2022-03-29T16:47:53.481Z"
   },
   {
    "duration": 3,
    "start_time": "2022-03-29T16:47:58.105Z"
   },
   {
    "duration": 27,
    "start_time": "2022-03-29T16:48:09.388Z"
   },
   {
    "duration": 40,
    "start_time": "2022-03-29T16:48:11.708Z"
   },
   {
    "duration": 3,
    "start_time": "2022-03-29T16:48:17.610Z"
   },
   {
    "duration": 3,
    "start_time": "2022-03-29T16:48:21.599Z"
   },
   {
    "duration": 33,
    "start_time": "2022-03-29T16:48:27.987Z"
   },
   {
    "duration": 37,
    "start_time": "2022-03-29T16:48:29.820Z"
   },
   {
    "duration": 4,
    "start_time": "2022-03-29T16:48:35.615Z"
   },
   {
    "duration": 4,
    "start_time": "2022-03-29T16:48:40.035Z"
   },
   {
    "duration": 26,
    "start_time": "2022-03-29T16:50:43.060Z"
   },
   {
    "duration": 30,
    "start_time": "2022-03-29T16:52:03.729Z"
   },
   {
    "duration": 19,
    "start_time": "2022-03-29T16:52:35.863Z"
   },
   {
    "duration": 19,
    "start_time": "2022-03-29T16:52:42.298Z"
   },
   {
    "duration": 4,
    "start_time": "2022-03-29T16:53:00.172Z"
   },
   {
    "duration": 3,
    "start_time": "2022-03-29T16:53:07.037Z"
   },
   {
    "duration": 23,
    "start_time": "2022-03-29T16:53:53.064Z"
   },
   {
    "duration": 28,
    "start_time": "2022-03-29T16:55:26.981Z"
   },
   {
    "duration": 48,
    "start_time": "2022-03-29T16:56:25.353Z"
   },
   {
    "duration": 6,
    "start_time": "2022-03-29T17:01:15.007Z"
   },
   {
    "duration": 61,
    "start_time": "2022-03-29T17:02:03.368Z"
   },
   {
    "duration": 50,
    "start_time": "2022-03-29T18:52:53.429Z"
   },
   {
    "duration": 7,
    "start_time": "2022-03-29T18:52:59.395Z"
   },
   {
    "duration": 0,
    "start_time": "2022-03-29T18:56:02.018Z"
   },
   {
    "duration": 431,
    "start_time": "2022-03-29T18:56:02.067Z"
   },
   {
    "duration": 453,
    "start_time": "2022-03-29T18:56:02.500Z"
   },
   {
    "duration": 2,
    "start_time": "2022-03-29T18:56:02.956Z"
   },
   {
    "duration": 448,
    "start_time": "2022-03-29T18:56:02.960Z"
   },
   {
    "duration": 2,
    "start_time": "2022-03-29T18:56:03.411Z"
   },
   {
    "duration": 164,
    "start_time": "2022-03-29T18:56:03.415Z"
   },
   {
    "duration": 139,
    "start_time": "2022-03-29T18:56:03.581Z"
   },
   {
    "duration": 106,
    "start_time": "2022-03-29T18:56:03.722Z"
   },
   {
    "duration": 16,
    "start_time": "2022-03-29T18:56:03.831Z"
   },
   {
    "duration": 27,
    "start_time": "2022-03-29T18:56:03.848Z"
   },
   {
    "duration": 16,
    "start_time": "2022-03-29T18:56:03.877Z"
   },
   {
    "duration": 29,
    "start_time": "2022-03-29T18:56:03.894Z"
   },
   {
    "duration": 38,
    "start_time": "2022-03-29T18:56:03.924Z"
   },
   {
    "duration": 10,
    "start_time": "2022-03-29T18:56:03.966Z"
   },
   {
    "duration": 95,
    "start_time": "2022-03-29T18:56:03.978Z"
   },
   {
    "duration": 24,
    "start_time": "2022-03-29T18:56:04.075Z"
   },
   {
    "duration": 7,
    "start_time": "2022-03-29T18:56:04.101Z"
   },
   {
    "duration": 23,
    "start_time": "2022-03-29T18:56:04.110Z"
   },
   {
    "duration": 22,
    "start_time": "2022-03-29T18:56:04.135Z"
   },
   {
    "duration": 9,
    "start_time": "2022-03-29T18:56:04.159Z"
   },
   {
    "duration": 14,
    "start_time": "2022-03-29T18:56:04.171Z"
   },
   {
    "duration": 14,
    "start_time": "2022-03-29T18:56:04.187Z"
   },
   {
    "duration": 34,
    "start_time": "2022-03-29T18:56:04.204Z"
   },
   {
    "duration": 15,
    "start_time": "2022-03-29T18:56:04.240Z"
   },
   {
    "duration": 6,
    "start_time": "2022-03-29T18:56:04.257Z"
   },
   {
    "duration": 19,
    "start_time": "2022-03-29T18:56:04.265Z"
   },
   {
    "duration": 12,
    "start_time": "2022-03-29T18:56:04.286Z"
   },
   {
    "duration": 40,
    "start_time": "2022-03-29T18:56:04.300Z"
   },
   {
    "duration": 10,
    "start_time": "2022-03-29T18:56:04.342Z"
   },
   {
    "duration": 8,
    "start_time": "2022-03-29T18:56:04.354Z"
   },
   {
    "duration": 199,
    "start_time": "2022-03-29T18:56:04.364Z"
   },
   {
    "duration": 32,
    "start_time": "2022-03-29T18:56:04.565Z"
   },
   {
    "duration": 60,
    "start_time": "2022-03-29T18:56:04.599Z"
   },
   {
    "duration": 22,
    "start_time": "2022-03-29T18:56:04.661Z"
   },
   {
    "duration": 47,
    "start_time": "2022-03-29T18:56:04.684Z"
   },
   {
    "duration": 25,
    "start_time": "2022-03-29T18:56:04.733Z"
   },
   {
    "duration": 27,
    "start_time": "2022-03-29T18:56:04.759Z"
   },
   {
    "duration": 19,
    "start_time": "2022-03-29T18:56:04.788Z"
   },
   {
    "duration": 21,
    "start_time": "2022-03-29T18:56:04.832Z"
   },
   {
    "duration": 14,
    "start_time": "2022-03-29T18:56:04.855Z"
   },
   {
    "duration": 19,
    "start_time": "2022-03-29T18:56:04.874Z"
   },
   {
    "duration": 51,
    "start_time": "2022-03-29T18:56:04.895Z"
   },
   {
    "duration": 23,
    "start_time": "2022-03-29T18:56:04.948Z"
   },
   {
    "duration": 82,
    "start_time": "2022-03-29T18:56:04.973Z"
   },
   {
    "duration": 0,
    "start_time": "2022-03-29T18:56:05.057Z"
   },
   {
    "duration": 0,
    "start_time": "2022-03-29T18:56:05.058Z"
   },
   {
    "duration": 0,
    "start_time": "2022-03-29T18:56:05.059Z"
   },
   {
    "duration": 0,
    "start_time": "2022-03-29T18:56:05.060Z"
   },
   {
    "duration": 0,
    "start_time": "2022-03-29T18:56:05.061Z"
   },
   {
    "duration": 0,
    "start_time": "2022-03-29T18:56:05.062Z"
   },
   {
    "duration": 0,
    "start_time": "2022-03-29T18:56:05.063Z"
   },
   {
    "duration": 0,
    "start_time": "2022-03-29T18:56:05.064Z"
   },
   {
    "duration": 0,
    "start_time": "2022-03-29T18:56:05.065Z"
   },
   {
    "duration": 0,
    "start_time": "2022-03-29T18:56:05.066Z"
   },
   {
    "duration": 0,
    "start_time": "2022-03-29T18:56:05.068Z"
   },
   {
    "duration": 0,
    "start_time": "2022-03-29T18:56:05.069Z"
   },
   {
    "duration": 0,
    "start_time": "2022-03-29T18:56:05.070Z"
   },
   {
    "duration": 0,
    "start_time": "2022-03-29T18:56:05.071Z"
   },
   {
    "duration": 0,
    "start_time": "2022-03-29T18:56:05.072Z"
   },
   {
    "duration": 0,
    "start_time": "2022-03-29T18:56:05.073Z"
   },
   {
    "duration": 0,
    "start_time": "2022-03-29T18:56:05.075Z"
   },
   {
    "duration": 0,
    "start_time": "2022-03-29T18:56:05.076Z"
   },
   {
    "duration": 0,
    "start_time": "2022-03-29T18:56:05.077Z"
   },
   {
    "duration": 0,
    "start_time": "2022-03-29T18:56:05.078Z"
   },
   {
    "duration": 0,
    "start_time": "2022-03-29T18:56:05.079Z"
   },
   {
    "duration": 0,
    "start_time": "2022-03-29T18:56:05.080Z"
   },
   {
    "duration": 0,
    "start_time": "2022-03-29T18:56:05.082Z"
   },
   {
    "duration": 0,
    "start_time": "2022-03-29T18:56:05.083Z"
   },
   {
    "duration": 0,
    "start_time": "2022-03-29T18:56:05.084Z"
   },
   {
    "duration": 0,
    "start_time": "2022-03-29T18:56:05.085Z"
   },
   {
    "duration": 0,
    "start_time": "2022-03-29T18:56:05.132Z"
   },
   {
    "duration": 0,
    "start_time": "2022-03-29T18:56:05.133Z"
   },
   {
    "duration": 0,
    "start_time": "2022-03-29T18:56:05.134Z"
   },
   {
    "duration": 1,
    "start_time": "2022-03-29T18:56:05.135Z"
   },
   {
    "duration": 0,
    "start_time": "2022-03-29T18:56:05.137Z"
   },
   {
    "duration": 0,
    "start_time": "2022-03-29T18:56:05.138Z"
   },
   {
    "duration": 0,
    "start_time": "2022-03-29T18:56:05.139Z"
   },
   {
    "duration": 0,
    "start_time": "2022-03-29T18:56:05.140Z"
   },
   {
    "duration": 0,
    "start_time": "2022-03-29T18:56:05.142Z"
   },
   {
    "duration": 0,
    "start_time": "2022-03-29T18:56:05.142Z"
   },
   {
    "duration": 0,
    "start_time": "2022-03-29T18:56:05.143Z"
   },
   {
    "duration": 0,
    "start_time": "2022-03-29T18:56:05.145Z"
   },
   {
    "duration": 0,
    "start_time": "2022-03-29T18:56:05.146Z"
   },
   {
    "duration": 0,
    "start_time": "2022-03-29T18:56:05.147Z"
   },
   {
    "duration": 0,
    "start_time": "2022-03-29T18:56:05.148Z"
   },
   {
    "duration": 0,
    "start_time": "2022-03-29T18:56:05.149Z"
   },
   {
    "duration": 0,
    "start_time": "2022-03-29T18:56:05.151Z"
   },
   {
    "duration": 0,
    "start_time": "2022-03-29T18:56:05.152Z"
   },
   {
    "duration": 0,
    "start_time": "2022-03-29T18:56:05.153Z"
   },
   {
    "duration": 0,
    "start_time": "2022-03-29T18:56:05.154Z"
   },
   {
    "duration": 0,
    "start_time": "2022-03-29T18:56:05.155Z"
   },
   {
    "duration": 0,
    "start_time": "2022-03-29T18:56:05.156Z"
   },
   {
    "duration": 0,
    "start_time": "2022-03-29T18:56:05.157Z"
   },
   {
    "duration": 0,
    "start_time": "2022-03-29T18:56:05.158Z"
   },
   {
    "duration": 0,
    "start_time": "2022-03-29T18:56:05.159Z"
   },
   {
    "duration": 0,
    "start_time": "2022-03-29T18:56:05.160Z"
   },
   {
    "duration": 7,
    "start_time": "2022-03-29T18:58:17.146Z"
   },
   {
    "duration": 8,
    "start_time": "2022-03-29T18:58:56.270Z"
   },
   {
    "duration": 23,
    "start_time": "2022-03-29T19:00:01.605Z"
   },
   {
    "duration": 2426,
    "start_time": "2022-03-29T19:02:42.399Z"
   },
   {
    "duration": 23,
    "start_time": "2022-03-29T19:03:06.296Z"
   },
   {
    "duration": 10,
    "start_time": "2022-03-29T19:05:41.716Z"
   },
   {
    "duration": 6,
    "start_time": "2022-03-29T19:06:00.600Z"
   },
   {
    "duration": 6,
    "start_time": "2022-03-29T19:06:04.331Z"
   },
   {
    "duration": 7,
    "start_time": "2022-03-29T19:06:56.910Z"
   },
   {
    "duration": 12,
    "start_time": "2022-03-29T19:10:15.889Z"
   },
   {
    "duration": 1068,
    "start_time": "2022-03-29T19:13:46.069Z"
   },
   {
    "duration": 2322,
    "start_time": "2022-03-29T19:15:33.516Z"
   },
   {
    "duration": 2879,
    "start_time": "2022-03-29T19:16:13.899Z"
   },
   {
    "duration": 24,
    "start_time": "2022-03-29T19:17:03.920Z"
   },
   {
    "duration": 2429,
    "start_time": "2022-03-29T19:20:14.451Z"
   },
   {
    "duration": 8,
    "start_time": "2022-03-29T19:34:14.759Z"
   },
   {
    "duration": 8,
    "start_time": "2022-03-29T19:34:32.412Z"
   },
   {
    "duration": 8,
    "start_time": "2022-03-29T19:39:46.453Z"
   },
   {
    "duration": 50,
    "start_time": "2022-03-30T09:25:33.583Z"
   },
   {
    "duration": 490,
    "start_time": "2022-03-30T09:26:04.289Z"
   },
   {
    "duration": 459,
    "start_time": "2022-03-30T09:26:04.781Z"
   },
   {
    "duration": 2,
    "start_time": "2022-03-30T09:26:05.242Z"
   },
   {
    "duration": 527,
    "start_time": "2022-03-30T09:26:05.247Z"
   },
   {
    "duration": 3,
    "start_time": "2022-03-30T09:26:05.775Z"
   },
   {
    "duration": 187,
    "start_time": "2022-03-30T09:26:05.780Z"
   },
   {
    "duration": 139,
    "start_time": "2022-03-30T09:26:05.969Z"
   },
   {
    "duration": 89,
    "start_time": "2022-03-30T09:26:06.110Z"
   },
   {
    "duration": 10,
    "start_time": "2022-03-30T09:26:06.202Z"
   },
   {
    "duration": 19,
    "start_time": "2022-03-30T09:26:06.215Z"
   },
   {
    "duration": 55,
    "start_time": "2022-03-30T09:26:06.236Z"
   },
   {
    "duration": 35,
    "start_time": "2022-03-30T09:26:06.293Z"
   },
   {
    "duration": 43,
    "start_time": "2022-03-30T09:26:06.330Z"
   },
   {
    "duration": 11,
    "start_time": "2022-03-30T09:26:06.375Z"
   },
   {
    "duration": 35,
    "start_time": "2022-03-30T09:26:06.388Z"
   },
   {
    "duration": 26,
    "start_time": "2022-03-30T09:26:06.424Z"
   },
   {
    "duration": 10,
    "start_time": "2022-03-30T09:26:06.451Z"
   },
   {
    "duration": 54,
    "start_time": "2022-03-30T09:26:06.463Z"
   },
   {
    "duration": 22,
    "start_time": "2022-03-30T09:26:06.519Z"
   },
   {
    "duration": 9,
    "start_time": "2022-03-30T09:26:06.543Z"
   },
   {
    "duration": 21,
    "start_time": "2022-03-30T09:26:06.554Z"
   },
   {
    "duration": 34,
    "start_time": "2022-03-30T09:26:06.577Z"
   },
   {
    "duration": 18,
    "start_time": "2022-03-30T09:26:06.613Z"
   },
   {
    "duration": 17,
    "start_time": "2022-03-30T09:26:06.633Z"
   },
   {
    "duration": 9,
    "start_time": "2022-03-30T09:26:06.653Z"
   },
   {
    "duration": 20,
    "start_time": "2022-03-30T09:26:06.664Z"
   },
   {
    "duration": 16,
    "start_time": "2022-03-30T09:26:06.702Z"
   },
   {
    "duration": 12,
    "start_time": "2022-03-30T09:26:06.723Z"
   },
   {
    "duration": 15,
    "start_time": "2022-03-30T09:26:06.736Z"
   },
   {
    "duration": 13,
    "start_time": "2022-03-30T09:26:06.753Z"
   },
   {
    "duration": 192,
    "start_time": "2022-03-30T09:26:06.768Z"
   },
   {
    "duration": 159,
    "start_time": "2022-03-30T09:26:06.962Z"
   },
   {
    "duration": 31,
    "start_time": "2022-03-30T09:26:07.123Z"
   },
   {
    "duration": 63,
    "start_time": "2022-03-30T09:26:07.156Z"
   },
   {
    "duration": 21,
    "start_time": "2022-03-30T09:26:07.222Z"
   },
   {
    "duration": 30,
    "start_time": "2022-03-30T09:26:07.245Z"
   },
   {
    "duration": 49,
    "start_time": "2022-03-30T09:26:07.277Z"
   },
   {
    "duration": 36,
    "start_time": "2022-03-30T09:26:07.328Z"
   },
   {
    "duration": 41,
    "start_time": "2022-03-30T09:26:07.366Z"
   },
   {
    "duration": 19,
    "start_time": "2022-03-30T09:26:07.409Z"
   },
   {
    "duration": 16,
    "start_time": "2022-03-30T09:26:07.430Z"
   },
   {
    "duration": 20,
    "start_time": "2022-03-30T09:26:07.448Z"
   },
   {
    "duration": 23,
    "start_time": "2022-03-30T09:26:07.501Z"
   },
   {
    "duration": 37,
    "start_time": "2022-03-30T09:26:07.526Z"
   },
   {
    "duration": 65,
    "start_time": "2022-03-30T09:26:07.565Z"
   },
   {
    "duration": 28,
    "start_time": "2022-03-30T09:26:07.632Z"
   },
   {
    "duration": 23,
    "start_time": "2022-03-30T09:26:07.663Z"
   },
   {
    "duration": 19,
    "start_time": "2022-03-30T09:26:07.688Z"
   },
   {
    "duration": 19,
    "start_time": "2022-03-30T09:26:07.709Z"
   },
   {
    "duration": 26,
    "start_time": "2022-03-30T09:26:07.730Z"
   },
   {
    "duration": 3,
    "start_time": "2022-03-30T09:26:07.759Z"
   },
   {
    "duration": 12,
    "start_time": "2022-03-30T09:26:07.764Z"
   },
   {
    "duration": 12,
    "start_time": "2022-03-30T09:26:07.778Z"
   },
   {
    "duration": 15,
    "start_time": "2022-03-30T09:26:07.792Z"
   },
   {
    "duration": 14,
    "start_time": "2022-03-30T09:26:07.809Z"
   },
   {
    "duration": 29,
    "start_time": "2022-03-30T09:26:07.825Z"
   },
   {
    "duration": 593,
    "start_time": "2022-03-30T09:26:07.855Z"
   },
   {
    "duration": 0,
    "start_time": "2022-03-30T09:26:08.450Z"
   },
   {
    "duration": 0,
    "start_time": "2022-03-30T09:26:08.452Z"
   },
   {
    "duration": 0,
    "start_time": "2022-03-30T09:26:08.453Z"
   },
   {
    "duration": 0,
    "start_time": "2022-03-30T09:26:08.455Z"
   },
   {
    "duration": 0,
    "start_time": "2022-03-30T09:26:08.456Z"
   },
   {
    "duration": 0,
    "start_time": "2022-03-30T09:26:08.458Z"
   },
   {
    "duration": 0,
    "start_time": "2022-03-30T09:26:08.459Z"
   },
   {
    "duration": 0,
    "start_time": "2022-03-30T09:26:08.460Z"
   },
   {
    "duration": 0,
    "start_time": "2022-03-30T09:26:08.462Z"
   },
   {
    "duration": 0,
    "start_time": "2022-03-30T09:26:08.463Z"
   },
   {
    "duration": 0,
    "start_time": "2022-03-30T09:26:08.464Z"
   },
   {
    "duration": 0,
    "start_time": "2022-03-30T09:26:08.465Z"
   },
   {
    "duration": 0,
    "start_time": "2022-03-30T09:26:08.467Z"
   },
   {
    "duration": 0,
    "start_time": "2022-03-30T09:26:08.468Z"
   },
   {
    "duration": 0,
    "start_time": "2022-03-30T09:26:08.469Z"
   },
   {
    "duration": 0,
    "start_time": "2022-03-30T09:26:08.471Z"
   },
   {
    "duration": 0,
    "start_time": "2022-03-30T09:26:08.472Z"
   },
   {
    "duration": 0,
    "start_time": "2022-03-30T09:26:08.473Z"
   },
   {
    "duration": 0,
    "start_time": "2022-03-30T09:26:08.475Z"
   },
   {
    "duration": 0,
    "start_time": "2022-03-30T09:26:08.476Z"
   },
   {
    "duration": 0,
    "start_time": "2022-03-30T09:26:08.477Z"
   },
   {
    "duration": 0,
    "start_time": "2022-03-30T09:26:08.480Z"
   },
   {
    "duration": 0,
    "start_time": "2022-03-30T09:26:08.481Z"
   },
   {
    "duration": 0,
    "start_time": "2022-03-30T09:26:08.483Z"
   },
   {
    "duration": 0,
    "start_time": "2022-03-30T09:26:08.485Z"
   },
   {
    "duration": 0,
    "start_time": "2022-03-30T09:26:08.486Z"
   },
   {
    "duration": 0,
    "start_time": "2022-03-30T09:26:08.487Z"
   },
   {
    "duration": 25,
    "start_time": "2022-03-30T09:30:56.668Z"
   },
   {
    "duration": 26,
    "start_time": "2022-03-30T09:31:25.850Z"
   },
   {
    "duration": 12,
    "start_time": "2022-03-30T09:32:02.683Z"
   },
   {
    "duration": 12,
    "start_time": "2022-03-30T09:32:30.611Z"
   },
   {
    "duration": 9,
    "start_time": "2022-03-30T09:36:41.367Z"
   },
   {
    "duration": 123,
    "start_time": "2022-03-30T09:37:07.400Z"
   },
   {
    "duration": 9,
    "start_time": "2022-03-30T09:37:20.823Z"
   },
   {
    "duration": 9,
    "start_time": "2022-03-30T09:38:39.363Z"
   },
   {
    "duration": 9,
    "start_time": "2022-03-30T09:43:22.132Z"
   },
   {
    "duration": 10,
    "start_time": "2022-03-30T09:43:52.111Z"
   },
   {
    "duration": 10,
    "start_time": "2022-03-30T09:54:32.538Z"
   },
   {
    "duration": 0,
    "start_time": "2022-03-30T10:00:05.781Z"
   },
   {
    "duration": 0,
    "start_time": "2022-03-30T10:00:05.782Z"
   },
   {
    "duration": 0,
    "start_time": "2022-03-30T10:00:05.783Z"
   },
   {
    "duration": 0,
    "start_time": "2022-03-30T10:00:05.784Z"
   },
   {
    "duration": 0,
    "start_time": "2022-03-30T10:00:05.785Z"
   },
   {
    "duration": 0,
    "start_time": "2022-03-30T10:00:05.786Z"
   },
   {
    "duration": 0,
    "start_time": "2022-03-30T10:00:05.786Z"
   },
   {
    "duration": 0,
    "start_time": "2022-03-30T10:00:05.788Z"
   },
   {
    "duration": 0,
    "start_time": "2022-03-30T10:00:05.802Z"
   },
   {
    "duration": 0,
    "start_time": "2022-03-30T10:00:05.803Z"
   },
   {
    "duration": 0,
    "start_time": "2022-03-30T10:00:05.804Z"
   },
   {
    "duration": 0,
    "start_time": "2022-03-30T10:00:05.805Z"
   },
   {
    "duration": 0,
    "start_time": "2022-03-30T10:00:05.806Z"
   },
   {
    "duration": 0,
    "start_time": "2022-03-30T10:00:05.807Z"
   },
   {
    "duration": 0,
    "start_time": "2022-03-30T10:00:05.809Z"
   },
   {
    "duration": 0,
    "start_time": "2022-03-30T10:00:05.810Z"
   },
   {
    "duration": 0,
    "start_time": "2022-03-30T10:00:05.811Z"
   },
   {
    "duration": 0,
    "start_time": "2022-03-30T10:00:05.812Z"
   },
   {
    "duration": 0,
    "start_time": "2022-03-30T10:00:05.813Z"
   },
   {
    "duration": 0,
    "start_time": "2022-03-30T10:00:05.814Z"
   },
   {
    "duration": 0,
    "start_time": "2022-03-30T10:00:05.815Z"
   },
   {
    "duration": 0,
    "start_time": "2022-03-30T10:00:05.816Z"
   },
   {
    "duration": 0,
    "start_time": "2022-03-30T10:00:05.817Z"
   },
   {
    "duration": 0,
    "start_time": "2022-03-30T10:00:05.819Z"
   },
   {
    "duration": 0,
    "start_time": "2022-03-30T10:00:05.820Z"
   },
   {
    "duration": 0,
    "start_time": "2022-03-30T10:00:05.822Z"
   },
   {
    "duration": 0,
    "start_time": "2022-03-30T10:00:05.823Z"
   },
   {
    "duration": 0,
    "start_time": "2022-03-30T10:00:05.825Z"
   },
   {
    "duration": 0,
    "start_time": "2022-03-30T10:00:05.826Z"
   },
   {
    "duration": 0,
    "start_time": "2022-03-30T10:00:05.827Z"
   },
   {
    "duration": 0,
    "start_time": "2022-03-30T10:00:05.828Z"
   },
   {
    "duration": 0,
    "start_time": "2022-03-30T10:00:05.829Z"
   },
   {
    "duration": 0,
    "start_time": "2022-03-30T10:00:05.830Z"
   },
   {
    "duration": 0,
    "start_time": "2022-03-30T10:00:05.831Z"
   },
   {
    "duration": 0,
    "start_time": "2022-03-30T10:00:05.833Z"
   },
   {
    "duration": 0,
    "start_time": "2022-03-30T10:00:05.834Z"
   },
   {
    "duration": 0,
    "start_time": "2022-03-30T10:00:05.835Z"
   },
   {
    "duration": 0,
    "start_time": "2022-03-30T10:00:05.836Z"
   },
   {
    "duration": 0,
    "start_time": "2022-03-30T10:00:05.837Z"
   },
   {
    "duration": 0,
    "start_time": "2022-03-30T10:00:05.901Z"
   },
   {
    "duration": 0,
    "start_time": "2022-03-30T10:00:05.903Z"
   },
   {
    "duration": 0,
    "start_time": "2022-03-30T10:00:05.904Z"
   },
   {
    "duration": 0,
    "start_time": "2022-03-30T10:00:05.905Z"
   },
   {
    "duration": 0,
    "start_time": "2022-03-30T10:00:05.907Z"
   },
   {
    "duration": 0,
    "start_time": "2022-03-30T10:00:05.908Z"
   },
   {
    "duration": 0,
    "start_time": "2022-03-30T10:00:05.910Z"
   },
   {
    "duration": 0,
    "start_time": "2022-03-30T10:00:05.911Z"
   },
   {
    "duration": 0,
    "start_time": "2022-03-30T10:00:05.913Z"
   },
   {
    "duration": 0,
    "start_time": "2022-03-30T10:00:05.914Z"
   },
   {
    "duration": 0,
    "start_time": "2022-03-30T10:00:05.915Z"
   },
   {
    "duration": 0,
    "start_time": "2022-03-30T10:00:05.917Z"
   },
   {
    "duration": 0,
    "start_time": "2022-03-30T10:00:05.919Z"
   },
   {
    "duration": 0,
    "start_time": "2022-03-30T10:00:05.920Z"
   },
   {
    "duration": 0,
    "start_time": "2022-03-30T10:00:05.922Z"
   },
   {
    "duration": 0,
    "start_time": "2022-03-30T10:00:05.923Z"
   },
   {
    "duration": 0,
    "start_time": "2022-03-30T10:00:05.924Z"
   },
   {
    "duration": 0,
    "start_time": "2022-03-30T10:00:05.926Z"
   },
   {
    "duration": 0,
    "start_time": "2022-03-30T10:00:05.927Z"
   },
   {
    "duration": 0,
    "start_time": "2022-03-30T10:00:05.928Z"
   },
   {
    "duration": 0,
    "start_time": "2022-03-30T10:00:05.931Z"
   },
   {
    "duration": 0,
    "start_time": "2022-03-30T10:00:05.932Z"
   },
   {
    "duration": 0,
    "start_time": "2022-03-30T10:00:05.934Z"
   },
   {
    "duration": 0,
    "start_time": "2022-03-30T10:00:05.935Z"
   },
   {
    "duration": 0,
    "start_time": "2022-03-30T10:00:05.937Z"
   },
   {
    "duration": 0,
    "start_time": "2022-03-30T10:00:05.938Z"
   },
   {
    "duration": 0,
    "start_time": "2022-03-30T10:00:05.940Z"
   },
   {
    "duration": 0,
    "start_time": "2022-03-30T10:00:06.006Z"
   },
   {
    "duration": 0,
    "start_time": "2022-03-30T10:00:06.008Z"
   },
   {
    "duration": 0,
    "start_time": "2022-03-30T10:00:06.010Z"
   },
   {
    "duration": 0,
    "start_time": "2022-03-30T10:00:06.012Z"
   },
   {
    "duration": 0,
    "start_time": "2022-03-30T10:00:06.014Z"
   },
   {
    "duration": 0,
    "start_time": "2022-03-30T10:00:06.016Z"
   },
   {
    "duration": 0,
    "start_time": "2022-03-30T10:00:06.017Z"
   },
   {
    "duration": 0,
    "start_time": "2022-03-30T10:00:06.019Z"
   },
   {
    "duration": 0,
    "start_time": "2022-03-30T10:00:06.020Z"
   },
   {
    "duration": 0,
    "start_time": "2022-03-30T10:00:06.022Z"
   },
   {
    "duration": 0,
    "start_time": "2022-03-30T10:00:06.023Z"
   },
   {
    "duration": 0,
    "start_time": "2022-03-30T10:00:06.025Z"
   },
   {
    "duration": 0,
    "start_time": "2022-03-30T10:00:06.026Z"
   },
   {
    "duration": 0,
    "start_time": "2022-03-30T10:00:06.027Z"
   },
   {
    "duration": 0,
    "start_time": "2022-03-30T10:00:06.029Z"
   },
   {
    "duration": 3,
    "start_time": "2022-03-30T10:01:04.295Z"
   },
   {
    "duration": 11,
    "start_time": "2022-03-30T10:01:04.300Z"
   },
   {
    "duration": 8,
    "start_time": "2022-03-30T10:01:04.312Z"
   },
   {
    "duration": 11,
    "start_time": "2022-03-30T10:01:04.323Z"
   },
   {
    "duration": 12,
    "start_time": "2022-03-30T10:01:04.336Z"
   },
   {
    "duration": 167,
    "start_time": "2022-03-30T10:01:04.349Z"
   },
   {
    "duration": 141,
    "start_time": "2022-03-30T10:01:04.518Z"
   },
   {
    "duration": 98,
    "start_time": "2022-03-30T10:01:04.661Z"
   },
   {
    "duration": 15,
    "start_time": "2022-03-30T10:01:04.761Z"
   },
   {
    "duration": 16,
    "start_time": "2022-03-30T10:01:04.778Z"
   },
   {
    "duration": 12,
    "start_time": "2022-03-30T10:01:04.796Z"
   },
   {
    "duration": 33,
    "start_time": "2022-03-30T10:01:04.810Z"
   },
   {
    "duration": 37,
    "start_time": "2022-03-30T10:01:04.846Z"
   },
   {
    "duration": 24,
    "start_time": "2022-03-30T10:01:04.886Z"
   },
   {
    "duration": 27,
    "start_time": "2022-03-30T10:01:04.912Z"
   },
   {
    "duration": 24,
    "start_time": "2022-03-30T10:01:04.941Z"
   },
   {
    "duration": 9,
    "start_time": "2022-03-30T10:01:04.967Z"
   },
   {
    "duration": 21,
    "start_time": "2022-03-30T10:01:05.002Z"
   },
   {
    "duration": 25,
    "start_time": "2022-03-30T10:01:05.024Z"
   },
   {
    "duration": 10,
    "start_time": "2022-03-30T10:01:05.051Z"
   },
   {
    "duration": 46,
    "start_time": "2022-03-30T10:01:05.063Z"
   },
   {
    "duration": 16,
    "start_time": "2022-03-30T10:01:05.111Z"
   },
   {
    "duration": 27,
    "start_time": "2022-03-30T10:01:05.130Z"
   },
   {
    "duration": 64,
    "start_time": "2022-03-30T10:01:05.159Z"
   },
   {
    "duration": 12,
    "start_time": "2022-03-30T10:01:05.226Z"
   },
   {
    "duration": 24,
    "start_time": "2022-03-30T10:01:05.240Z"
   },
   {
    "duration": 17,
    "start_time": "2022-03-30T10:01:05.266Z"
   },
   {
    "duration": 30,
    "start_time": "2022-03-30T10:01:05.285Z"
   },
   {
    "duration": 15,
    "start_time": "2022-03-30T10:01:05.318Z"
   },
   {
    "duration": 15,
    "start_time": "2022-03-30T10:01:05.335Z"
   },
   {
    "duration": 166,
    "start_time": "2022-03-30T10:01:05.352Z"
   },
   {
    "duration": 175,
    "start_time": "2022-03-30T10:01:05.520Z"
   },
   {
    "duration": 39,
    "start_time": "2022-03-30T10:01:05.700Z"
   },
   {
    "duration": 78,
    "start_time": "2022-03-30T10:01:05.742Z"
   },
   {
    "duration": 26,
    "start_time": "2022-03-30T10:01:05.822Z"
   },
   {
    "duration": 63,
    "start_time": "2022-03-30T10:01:05.851Z"
   },
   {
    "duration": 32,
    "start_time": "2022-03-30T10:01:05.916Z"
   },
   {
    "duration": 55,
    "start_time": "2022-03-30T10:01:05.950Z"
   },
   {
    "duration": 19,
    "start_time": "2022-03-30T10:01:06.007Z"
   },
   {
    "duration": 23,
    "start_time": "2022-03-30T10:01:06.032Z"
   },
   {
    "duration": 45,
    "start_time": "2022-03-30T10:01:06.057Z"
   },
   {
    "duration": 20,
    "start_time": "2022-03-30T10:01:06.104Z"
   },
   {
    "duration": 22,
    "start_time": "2022-03-30T10:01:06.126Z"
   },
   {
    "duration": 54,
    "start_time": "2022-03-30T10:01:06.150Z"
   },
   {
    "duration": 8,
    "start_time": "2022-03-30T10:01:06.205Z"
   },
   {
    "duration": 34,
    "start_time": "2022-03-30T10:01:06.214Z"
   },
   {
    "duration": 9,
    "start_time": "2022-03-30T10:01:06.250Z"
   },
   {
    "duration": 8,
    "start_time": "2022-03-30T10:01:06.261Z"
   },
   {
    "duration": 7,
    "start_time": "2022-03-30T10:01:06.271Z"
   },
   {
    "duration": 40,
    "start_time": "2022-03-30T10:01:06.280Z"
   },
   {
    "duration": 7,
    "start_time": "2022-03-30T10:01:06.323Z"
   },
   {
    "duration": 11,
    "start_time": "2022-03-30T10:01:06.332Z"
   },
   {
    "duration": 26,
    "start_time": "2022-03-30T10:01:06.345Z"
   },
   {
    "duration": 49,
    "start_time": "2022-03-30T10:01:06.374Z"
   },
   {
    "duration": 889,
    "start_time": "2022-03-30T10:01:06.425Z"
   },
   {
    "duration": 0,
    "start_time": "2022-03-30T10:01:07.316Z"
   },
   {
    "duration": 0,
    "start_time": "2022-03-30T10:01:07.317Z"
   },
   {
    "duration": 0,
    "start_time": "2022-03-30T10:01:07.318Z"
   },
   {
    "duration": 0,
    "start_time": "2022-03-30T10:01:07.319Z"
   },
   {
    "duration": 0,
    "start_time": "2022-03-30T10:01:07.320Z"
   },
   {
    "duration": 0,
    "start_time": "2022-03-30T10:01:07.321Z"
   },
   {
    "duration": 0,
    "start_time": "2022-03-30T10:01:07.322Z"
   },
   {
    "duration": 0,
    "start_time": "2022-03-30T10:01:07.323Z"
   },
   {
    "duration": 0,
    "start_time": "2022-03-30T10:01:07.323Z"
   },
   {
    "duration": 0,
    "start_time": "2022-03-30T10:01:07.328Z"
   },
   {
    "duration": 0,
    "start_time": "2022-03-30T10:01:07.331Z"
   },
   {
    "duration": 0,
    "start_time": "2022-03-30T10:01:07.333Z"
   },
   {
    "duration": 0,
    "start_time": "2022-03-30T10:01:07.335Z"
   },
   {
    "duration": 0,
    "start_time": "2022-03-30T10:01:07.338Z"
   },
   {
    "duration": 0,
    "start_time": "2022-03-30T10:01:07.339Z"
   },
   {
    "duration": 0,
    "start_time": "2022-03-30T10:01:07.340Z"
   },
   {
    "duration": 0,
    "start_time": "2022-03-30T10:01:07.342Z"
   },
   {
    "duration": 0,
    "start_time": "2022-03-30T10:01:07.344Z"
   },
   {
    "duration": 0,
    "start_time": "2022-03-30T10:01:07.345Z"
   },
   {
    "duration": 0,
    "start_time": "2022-03-30T10:01:07.348Z"
   },
   {
    "duration": 0,
    "start_time": "2022-03-30T10:01:07.349Z"
   },
   {
    "duration": 0,
    "start_time": "2022-03-30T10:01:07.351Z"
   },
   {
    "duration": 0,
    "start_time": "2022-03-30T10:01:07.352Z"
   },
   {
    "duration": 0,
    "start_time": "2022-03-30T10:01:07.354Z"
   },
   {
    "duration": 0,
    "start_time": "2022-03-30T10:01:07.356Z"
   },
   {
    "duration": 0,
    "start_time": "2022-03-30T10:01:07.358Z"
   },
   {
    "duration": 26,
    "start_time": "2022-03-30T10:03:24.991Z"
   },
   {
    "duration": 31,
    "start_time": "2022-03-30T10:05:03.685Z"
   },
   {
    "duration": 16,
    "start_time": "2022-03-30T10:05:18.871Z"
   },
   {
    "duration": 19,
    "start_time": "2022-03-30T10:05:24.058Z"
   },
   {
    "duration": 11,
    "start_time": "2022-03-30T10:05:36.582Z"
   },
   {
    "duration": 419,
    "start_time": "2022-03-30T10:06:00.129Z"
   },
   {
    "duration": 302,
    "start_time": "2022-03-30T10:06:00.551Z"
   },
   {
    "duration": 4,
    "start_time": "2022-03-30T10:06:00.854Z"
   },
   {
    "duration": 515,
    "start_time": "2022-03-30T10:06:00.861Z"
   },
   {
    "duration": 4,
    "start_time": "2022-03-30T10:06:01.379Z"
   },
   {
    "duration": 189,
    "start_time": "2022-03-30T10:06:01.385Z"
   },
   {
    "duration": 162,
    "start_time": "2022-03-30T10:06:01.576Z"
   },
   {
    "duration": 101,
    "start_time": "2022-03-30T10:06:01.740Z"
   },
   {
    "duration": 16,
    "start_time": "2022-03-30T10:06:01.843Z"
   },
   {
    "duration": 17,
    "start_time": "2022-03-30T10:06:01.862Z"
   },
   {
    "duration": 22,
    "start_time": "2022-03-30T10:06:01.881Z"
   },
   {
    "duration": 31,
    "start_time": "2022-03-30T10:06:01.904Z"
   },
   {
    "duration": 44,
    "start_time": "2022-03-30T10:06:01.937Z"
   },
   {
    "duration": 13,
    "start_time": "2022-03-30T10:06:02.002Z"
   },
   {
    "duration": 30,
    "start_time": "2022-03-30T10:06:02.017Z"
   },
   {
    "duration": 27,
    "start_time": "2022-03-30T10:06:02.050Z"
   },
   {
    "duration": 30,
    "start_time": "2022-03-30T10:06:02.079Z"
   },
   {
    "duration": 26,
    "start_time": "2022-03-30T10:06:02.111Z"
   },
   {
    "duration": 33,
    "start_time": "2022-03-30T10:06:02.140Z"
   },
   {
    "duration": 10,
    "start_time": "2022-03-30T10:06:02.201Z"
   },
   {
    "duration": 14,
    "start_time": "2022-03-30T10:06:02.213Z"
   },
   {
    "duration": 17,
    "start_time": "2022-03-30T10:06:02.229Z"
   },
   {
    "duration": 19,
    "start_time": "2022-03-30T10:06:02.249Z"
   },
   {
    "duration": 51,
    "start_time": "2022-03-30T10:06:02.270Z"
   },
   {
    "duration": 13,
    "start_time": "2022-03-30T10:06:02.324Z"
   },
   {
    "duration": 27,
    "start_time": "2022-03-30T10:06:02.339Z"
   },
   {
    "duration": 15,
    "start_time": "2022-03-30T10:06:02.367Z"
   },
   {
    "duration": 21,
    "start_time": "2022-03-30T10:06:02.387Z"
   },
   {
    "duration": 9,
    "start_time": "2022-03-30T10:06:02.411Z"
   },
   {
    "duration": 12,
    "start_time": "2022-03-30T10:06:02.422Z"
   },
   {
    "duration": 234,
    "start_time": "2022-03-30T10:06:02.437Z"
   },
   {
    "duration": 178,
    "start_time": "2022-03-30T10:06:02.674Z"
   },
   {
    "duration": 33,
    "start_time": "2022-03-30T10:06:02.854Z"
   },
   {
    "duration": 46,
    "start_time": "2022-03-30T10:06:02.903Z"
   },
   {
    "duration": 23,
    "start_time": "2022-03-30T10:06:02.951Z"
   },
   {
    "duration": 60,
    "start_time": "2022-03-30T10:06:02.976Z"
   },
   {
    "duration": 26,
    "start_time": "2022-03-30T10:06:03.038Z"
   },
   {
    "duration": 56,
    "start_time": "2022-03-30T10:06:03.066Z"
   },
   {
    "duration": 28,
    "start_time": "2022-03-30T10:06:03.124Z"
   },
   {
    "duration": 55,
    "start_time": "2022-03-30T10:06:03.154Z"
   },
   {
    "duration": 20,
    "start_time": "2022-03-30T10:06:03.211Z"
   },
   {
    "duration": 27,
    "start_time": "2022-03-30T10:06:03.233Z"
   },
   {
    "duration": 54,
    "start_time": "2022-03-30T10:06:03.263Z"
   },
   {
    "duration": 30,
    "start_time": "2022-03-30T10:06:03.319Z"
   },
   {
    "duration": 9,
    "start_time": "2022-03-30T10:06:03.352Z"
   },
   {
    "duration": 59,
    "start_time": "2022-03-30T10:06:03.363Z"
   },
   {
    "duration": 41,
    "start_time": "2022-03-30T10:06:03.424Z"
   },
   {
    "duration": 12,
    "start_time": "2022-03-30T10:06:03.467Z"
   },
   {
    "duration": 11,
    "start_time": "2022-03-30T10:06:03.481Z"
   },
   {
    "duration": 29,
    "start_time": "2022-03-30T10:06:03.494Z"
   },
   {
    "duration": 9,
    "start_time": "2022-03-30T10:06:03.525Z"
   },
   {
    "duration": 16,
    "start_time": "2022-03-30T10:06:03.536Z"
   },
   {
    "duration": 51,
    "start_time": "2022-03-30T10:06:03.554Z"
   },
   {
    "duration": 28,
    "start_time": "2022-03-30T10:06:03.607Z"
   },
   {
    "duration": 31,
    "start_time": "2022-03-30T10:06:03.638Z"
   },
   {
    "duration": 39,
    "start_time": "2022-03-30T10:06:03.672Z"
   },
   {
    "duration": 128,
    "start_time": "2022-03-30T10:06:03.713Z"
   },
   {
    "duration": 0,
    "start_time": "2022-03-30T10:06:03.843Z"
   },
   {
    "duration": 0,
    "start_time": "2022-03-30T10:06:03.844Z"
   },
   {
    "duration": 1,
    "start_time": "2022-03-30T10:06:03.845Z"
   },
   {
    "duration": 0,
    "start_time": "2022-03-30T10:06:03.847Z"
   },
   {
    "duration": 0,
    "start_time": "2022-03-30T10:06:03.848Z"
   },
   {
    "duration": 0,
    "start_time": "2022-03-30T10:06:03.849Z"
   },
   {
    "duration": 0,
    "start_time": "2022-03-30T10:06:03.850Z"
   },
   {
    "duration": 0,
    "start_time": "2022-03-30T10:06:03.851Z"
   },
   {
    "duration": 0,
    "start_time": "2022-03-30T10:06:03.852Z"
   },
   {
    "duration": 0,
    "start_time": "2022-03-30T10:06:03.853Z"
   },
   {
    "duration": 0,
    "start_time": "2022-03-30T10:06:03.855Z"
   },
   {
    "duration": 0,
    "start_time": "2022-03-30T10:06:03.857Z"
   },
   {
    "duration": 0,
    "start_time": "2022-03-30T10:06:03.858Z"
   },
   {
    "duration": 0,
    "start_time": "2022-03-30T10:06:03.859Z"
   },
   {
    "duration": 0,
    "start_time": "2022-03-30T10:06:03.861Z"
   },
   {
    "duration": 0,
    "start_time": "2022-03-30T10:06:03.862Z"
   },
   {
    "duration": 0,
    "start_time": "2022-03-30T10:06:03.863Z"
   },
   {
    "duration": 0,
    "start_time": "2022-03-30T10:06:03.902Z"
   },
   {
    "duration": 0,
    "start_time": "2022-03-30T10:06:03.903Z"
   },
   {
    "duration": 0,
    "start_time": "2022-03-30T10:06:03.905Z"
   },
   {
    "duration": 0,
    "start_time": "2022-03-30T10:06:03.907Z"
   },
   {
    "duration": 0,
    "start_time": "2022-03-30T10:06:03.908Z"
   },
   {
    "duration": 0,
    "start_time": "2022-03-30T10:06:03.909Z"
   },
   {
    "duration": 0,
    "start_time": "2022-03-30T10:06:03.911Z"
   },
   {
    "duration": 26,
    "start_time": "2022-03-30T10:09:30.866Z"
   },
   {
    "duration": 14,
    "start_time": "2022-03-30T10:09:34.883Z"
   },
   {
    "duration": 16,
    "start_time": "2022-03-30T10:10:13.081Z"
   },
   {
    "duration": 236,
    "start_time": "2022-03-30T10:11:17.042Z"
   },
   {
    "duration": 201,
    "start_time": "2022-03-30T10:11:46.579Z"
   },
   {
    "duration": 16,
    "start_time": "2022-03-30T10:12:39.537Z"
   },
   {
    "duration": 150,
    "start_time": "2022-03-30T10:13:15.191Z"
   },
   {
    "duration": 139,
    "start_time": "2022-03-30T10:13:32.991Z"
   },
   {
    "duration": 13,
    "start_time": "2022-03-30T10:14:13.789Z"
   },
   {
    "duration": 215,
    "start_time": "2022-03-30T10:14:36.190Z"
   },
   {
    "duration": 219,
    "start_time": "2022-03-30T10:14:50.517Z"
   },
   {
    "duration": 4,
    "start_time": "2022-03-30T10:15:39.701Z"
   },
   {
    "duration": 15,
    "start_time": "2022-03-30T10:15:54.443Z"
   },
   {
    "duration": 241,
    "start_time": "2022-03-30T10:15:59.394Z"
   },
   {
    "duration": 140,
    "start_time": "2022-03-30T10:16:10.129Z"
   },
   {
    "duration": 8,
    "start_time": "2022-03-30T10:16:15.817Z"
   },
   {
    "duration": 3,
    "start_time": "2022-03-30T10:16:46.804Z"
   },
   {
    "duration": 4,
    "start_time": "2022-03-30T10:16:48.865Z"
   },
   {
    "duration": 1964,
    "start_time": "2022-03-30T10:16:52.387Z"
   },
   {
    "duration": 31,
    "start_time": "2022-03-30T10:19:45.594Z"
   },
   {
    "duration": 28,
    "start_time": "2022-03-30T10:19:52.188Z"
   },
   {
    "duration": 26,
    "start_time": "2022-03-30T10:19:58.050Z"
   },
   {
    "duration": 8,
    "start_time": "2022-03-30T10:20:01.703Z"
   },
   {
    "duration": 23,
    "start_time": "2022-03-30T10:20:04.086Z"
   },
   {
    "duration": 25,
    "start_time": "2022-03-30T10:20:06.474Z"
   },
   {
    "duration": 9,
    "start_time": "2022-03-30T10:20:10.333Z"
   },
   {
    "duration": 7,
    "start_time": "2022-03-30T10:20:13.234Z"
   },
   {
    "duration": 27,
    "start_time": "2022-03-30T10:20:18.365Z"
   },
   {
    "duration": 30,
    "start_time": "2022-03-30T10:20:20.981Z"
   },
   {
    "duration": 33,
    "start_time": "2022-03-30T10:20:23.360Z"
   },
   {
    "duration": 32,
    "start_time": "2022-03-30T10:20:32.178Z"
   },
   {
    "duration": 13,
    "start_time": "2022-03-30T10:20:34.756Z"
   },
   {
    "duration": 160,
    "start_time": "2022-03-30T10:20:35.986Z"
   },
   {
    "duration": 155,
    "start_time": "2022-03-30T10:20:37.169Z"
   },
   {
    "duration": 12,
    "start_time": "2022-03-30T10:20:39.702Z"
   },
   {
    "duration": 169,
    "start_time": "2022-03-30T10:20:40.840Z"
   },
   {
    "duration": 199,
    "start_time": "2022-03-30T10:20:44.073Z"
   },
   {
    "duration": 16,
    "start_time": "2022-03-30T10:20:45.443Z"
   },
   {
    "duration": 153,
    "start_time": "2022-03-30T10:20:47.397Z"
   },
   {
    "duration": 159,
    "start_time": "2022-03-30T10:20:50.974Z"
   },
   {
    "duration": 3,
    "start_time": "2022-03-30T10:21:03.530Z"
   },
   {
    "duration": 13,
    "start_time": "2022-03-30T10:21:04.478Z"
   },
   {
    "duration": 160,
    "start_time": "2022-03-30T10:21:05.386Z"
   },
   {
    "duration": 143,
    "start_time": "2022-03-30T10:21:06.415Z"
   },
   {
    "duration": 9,
    "start_time": "2022-03-30T10:21:08.219Z"
   },
   {
    "duration": 3,
    "start_time": "2022-03-30T10:21:11.791Z"
   },
   {
    "duration": 3,
    "start_time": "2022-03-30T10:21:13.544Z"
   },
   {
    "duration": 34,
    "start_time": "2022-03-30T10:21:41.666Z"
   },
   {
    "duration": 14,
    "start_time": "2022-03-30T10:21:49.091Z"
   },
   {
    "duration": 166,
    "start_time": "2022-03-30T10:21:51.105Z"
   },
   {
    "duration": 234,
    "start_time": "2022-03-30T10:21:54.800Z"
   },
   {
    "duration": 10,
    "start_time": "2022-03-30T10:21:57.266Z"
   },
   {
    "duration": 4,
    "start_time": "2022-03-30T10:25:53.850Z"
   },
   {
    "duration": 9,
    "start_time": "2022-03-30T10:25:53.855Z"
   },
   {
    "duration": 7,
    "start_time": "2022-03-30T10:25:53.866Z"
   },
   {
    "duration": 6,
    "start_time": "2022-03-30T10:25:53.874Z"
   },
   {
    "duration": 4,
    "start_time": "2022-03-30T10:25:53.902Z"
   },
   {
    "duration": 163,
    "start_time": "2022-03-30T10:25:53.907Z"
   },
   {
    "duration": 133,
    "start_time": "2022-03-30T10:25:54.072Z"
   },
   {
    "duration": 95,
    "start_time": "2022-03-30T10:25:54.213Z"
   },
   {
    "duration": 11,
    "start_time": "2022-03-30T10:25:54.311Z"
   },
   {
    "duration": 18,
    "start_time": "2022-03-30T10:25:54.324Z"
   },
   {
    "duration": 12,
    "start_time": "2022-03-30T10:25:54.344Z"
   },
   {
    "duration": 32,
    "start_time": "2022-03-30T10:25:54.357Z"
   },
   {
    "duration": 43,
    "start_time": "2022-03-30T10:25:54.391Z"
   },
   {
    "duration": 10,
    "start_time": "2022-03-30T10:25:54.436Z"
   },
   {
    "duration": 25,
    "start_time": "2022-03-30T10:25:54.448Z"
   },
   {
    "duration": 27,
    "start_time": "2022-03-30T10:25:54.500Z"
   },
   {
    "duration": 10,
    "start_time": "2022-03-30T10:25:54.529Z"
   },
   {
    "duration": 37,
    "start_time": "2022-03-30T10:25:54.541Z"
   },
   {
    "duration": 34,
    "start_time": "2022-03-30T10:25:54.579Z"
   },
   {
    "duration": 9,
    "start_time": "2022-03-30T10:25:54.615Z"
   },
   {
    "duration": 12,
    "start_time": "2022-03-30T10:25:54.625Z"
   },
   {
    "duration": 16,
    "start_time": "2022-03-30T10:25:54.639Z"
   },
   {
    "duration": 46,
    "start_time": "2022-03-30T10:25:54.657Z"
   },
   {
    "duration": 16,
    "start_time": "2022-03-30T10:25:54.705Z"
   },
   {
    "duration": 8,
    "start_time": "2022-03-30T10:25:54.723Z"
   },
   {
    "duration": 23,
    "start_time": "2022-03-30T10:25:54.734Z"
   },
   {
    "duration": 44,
    "start_time": "2022-03-30T10:25:54.759Z"
   },
   {
    "duration": 16,
    "start_time": "2022-03-30T10:25:54.805Z"
   },
   {
    "duration": 10,
    "start_time": "2022-03-30T10:25:54.824Z"
   },
   {
    "duration": 10,
    "start_time": "2022-03-30T10:25:54.836Z"
   },
   {
    "duration": 258,
    "start_time": "2022-03-30T10:25:54.849Z"
   },
   {
    "duration": 241,
    "start_time": "2022-03-30T10:25:55.110Z"
   },
   {
    "duration": 50,
    "start_time": "2022-03-30T10:25:55.353Z"
   },
   {
    "duration": 61,
    "start_time": "2022-03-30T10:25:55.405Z"
   },
   {
    "duration": 43,
    "start_time": "2022-03-30T10:25:55.468Z"
   },
   {
    "duration": 42,
    "start_time": "2022-03-30T10:25:55.513Z"
   },
   {
    "duration": 52,
    "start_time": "2022-03-30T10:25:55.557Z"
   },
   {
    "duration": 37,
    "start_time": "2022-03-30T10:25:55.611Z"
   },
   {
    "duration": 26,
    "start_time": "2022-03-30T10:25:55.650Z"
   },
   {
    "duration": 50,
    "start_time": "2022-03-30T10:25:55.678Z"
   },
   {
    "duration": 21,
    "start_time": "2022-03-30T10:25:55.730Z"
   },
   {
    "duration": 48,
    "start_time": "2022-03-30T10:25:55.754Z"
   },
   {
    "duration": 24,
    "start_time": "2022-03-30T10:25:55.804Z"
   },
   {
    "duration": 25,
    "start_time": "2022-03-30T10:25:55.829Z"
   },
   {
    "duration": 7,
    "start_time": "2022-03-30T10:25:55.856Z"
   },
   {
    "duration": 56,
    "start_time": "2022-03-30T10:25:55.865Z"
   },
   {
    "duration": 33,
    "start_time": "2022-03-30T10:25:55.924Z"
   },
   {
    "duration": 10,
    "start_time": "2022-03-30T10:25:55.959Z"
   },
   {
    "duration": 53,
    "start_time": "2022-03-30T10:25:55.971Z"
   },
   {
    "duration": 30,
    "start_time": "2022-03-30T10:25:56.026Z"
   },
   {
    "duration": 29,
    "start_time": "2022-03-30T10:25:56.058Z"
   },
   {
    "duration": 44,
    "start_time": "2022-03-30T10:25:56.089Z"
   },
   {
    "duration": 32,
    "start_time": "2022-03-30T10:25:56.136Z"
   },
   {
    "duration": 38,
    "start_time": "2022-03-30T10:25:56.170Z"
   },
   {
    "duration": 172,
    "start_time": "2022-03-30T10:25:56.211Z"
   },
   {
    "duration": 159,
    "start_time": "2022-03-30T10:25:56.386Z"
   },
   {
    "duration": 16,
    "start_time": "2022-03-30T10:25:56.548Z"
   },
   {
    "duration": 245,
    "start_time": "2022-03-30T10:25:56.566Z"
   },
   {
    "duration": 194,
    "start_time": "2022-03-30T10:25:56.814Z"
   },
   {
    "duration": 15,
    "start_time": "2022-03-30T10:25:57.011Z"
   },
   {
    "duration": 247,
    "start_time": "2022-03-30T10:25:57.028Z"
   },
   {
    "duration": 351,
    "start_time": "2022-03-30T10:25:57.277Z"
   },
   {
    "duration": 4,
    "start_time": "2022-03-30T10:25:57.630Z"
   },
   {
    "duration": 18,
    "start_time": "2022-03-30T10:25:57.636Z"
   },
   {
    "duration": 295,
    "start_time": "2022-03-30T10:25:57.656Z"
   },
   {
    "duration": 241,
    "start_time": "2022-03-30T10:25:57.954Z"
   },
   {
    "duration": 11,
    "start_time": "2022-03-30T10:25:58.197Z"
   },
   {
    "duration": 4,
    "start_time": "2022-03-30T10:25:58.210Z"
   },
   {
    "duration": 7,
    "start_time": "2022-03-30T10:25:58.216Z"
   },
   {
    "duration": 35,
    "start_time": "2022-03-30T10:25:58.226Z"
   },
   {
    "duration": 49,
    "start_time": "2022-03-30T10:25:58.263Z"
   },
   {
    "duration": 235,
    "start_time": "2022-03-30T10:25:58.314Z"
   },
   {
    "duration": 154,
    "start_time": "2022-03-30T10:25:58.551Z"
   },
   {
    "duration": 8,
    "start_time": "2022-03-30T10:25:58.708Z"
   },
   {
    "duration": 418,
    "start_time": "2022-03-30T10:28:47.248Z"
   },
   {
    "duration": 326,
    "start_time": "2022-03-30T10:28:47.668Z"
   },
   {
    "duration": 3,
    "start_time": "2022-03-30T10:28:47.996Z"
   },
   {
    "duration": 531,
    "start_time": "2022-03-30T10:28:48.002Z"
   },
   {
    "duration": 3,
    "start_time": "2022-03-30T10:28:48.535Z"
   },
   {
    "duration": 211,
    "start_time": "2022-03-30T10:28:48.539Z"
   },
   {
    "duration": 148,
    "start_time": "2022-03-30T10:28:48.752Z"
   },
   {
    "duration": 96,
    "start_time": "2022-03-30T10:28:48.903Z"
   },
   {
    "duration": 10,
    "start_time": "2022-03-30T10:28:49.001Z"
   },
   {
    "duration": 19,
    "start_time": "2022-03-30T10:28:49.015Z"
   },
   {
    "duration": 22,
    "start_time": "2022-03-30T10:28:49.037Z"
   },
   {
    "duration": 52,
    "start_time": "2022-03-30T10:28:49.061Z"
   },
   {
    "duration": 44,
    "start_time": "2022-03-30T10:28:49.115Z"
   },
   {
    "duration": 11,
    "start_time": "2022-03-30T10:28:49.161Z"
   },
   {
    "duration": 56,
    "start_time": "2022-03-30T10:28:49.174Z"
   },
   {
    "duration": 35,
    "start_time": "2022-03-30T10:28:49.233Z"
   },
   {
    "duration": 11,
    "start_time": "2022-03-30T10:28:49.270Z"
   },
   {
    "duration": 30,
    "start_time": "2022-03-30T10:28:49.301Z"
   },
   {
    "duration": 31,
    "start_time": "2022-03-30T10:28:49.333Z"
   },
   {
    "duration": 36,
    "start_time": "2022-03-30T10:28:49.367Z"
   },
   {
    "duration": 17,
    "start_time": "2022-03-30T10:28:49.406Z"
   },
   {
    "duration": 18,
    "start_time": "2022-03-30T10:28:49.425Z"
   },
   {
    "duration": 16,
    "start_time": "2022-03-30T10:28:49.445Z"
   },
   {
    "duration": 42,
    "start_time": "2022-03-30T10:28:49.462Z"
   },
   {
    "duration": 10,
    "start_time": "2022-03-30T10:28:49.506Z"
   },
   {
    "duration": 22,
    "start_time": "2022-03-30T10:28:49.518Z"
   },
   {
    "duration": 14,
    "start_time": "2022-03-30T10:28:49.542Z"
   },
   {
    "duration": 12,
    "start_time": "2022-03-30T10:28:49.562Z"
   },
   {
    "duration": 28,
    "start_time": "2022-03-30T10:28:49.576Z"
   },
   {
    "duration": 8,
    "start_time": "2022-03-30T10:28:49.606Z"
   },
   {
    "duration": 185,
    "start_time": "2022-03-30T10:28:49.616Z"
   },
   {
    "duration": 168,
    "start_time": "2022-03-30T10:28:49.803Z"
   },
   {
    "duration": 40,
    "start_time": "2022-03-30T10:28:49.973Z"
   },
   {
    "duration": 45,
    "start_time": "2022-03-30T10:28:50.014Z"
   },
   {
    "duration": 43,
    "start_time": "2022-03-30T10:28:50.061Z"
   },
   {
    "duration": 31,
    "start_time": "2022-03-30T10:28:50.106Z"
   },
   {
    "duration": 26,
    "start_time": "2022-03-30T10:28:50.139Z"
   },
   {
    "duration": 57,
    "start_time": "2022-03-30T10:28:50.167Z"
   },
   {
    "duration": 19,
    "start_time": "2022-03-30T10:28:50.225Z"
   },
   {
    "duration": 26,
    "start_time": "2022-03-30T10:28:50.246Z"
   },
   {
    "duration": 36,
    "start_time": "2022-03-30T10:28:50.274Z"
   },
   {
    "duration": 20,
    "start_time": "2022-03-30T10:28:50.311Z"
   },
   {
    "duration": 23,
    "start_time": "2022-03-30T10:28:50.333Z"
   },
   {
    "duration": 48,
    "start_time": "2022-03-30T10:28:50.358Z"
   },
   {
    "duration": 8,
    "start_time": "2022-03-30T10:28:50.408Z"
   },
   {
    "duration": 28,
    "start_time": "2022-03-30T10:28:50.418Z"
   },
   {
    "duration": 30,
    "start_time": "2022-03-30T10:28:50.448Z"
   },
   {
    "duration": 27,
    "start_time": "2022-03-30T10:28:50.480Z"
   },
   {
    "duration": 12,
    "start_time": "2022-03-30T10:28:50.509Z"
   },
   {
    "duration": 29,
    "start_time": "2022-03-30T10:28:50.523Z"
   },
   {
    "duration": 51,
    "start_time": "2022-03-30T10:28:50.554Z"
   },
   {
    "duration": 33,
    "start_time": "2022-03-30T10:28:50.607Z"
   },
   {
    "duration": 31,
    "start_time": "2022-03-30T10:28:50.642Z"
   },
   {
    "duration": 37,
    "start_time": "2022-03-30T10:28:50.675Z"
   },
   {
    "duration": 177,
    "start_time": "2022-03-30T10:28:50.714Z"
   },
   {
    "duration": 147,
    "start_time": "2022-03-30T10:28:50.893Z"
   },
   {
    "duration": 12,
    "start_time": "2022-03-30T10:28:51.042Z"
   },
   {
    "duration": 168,
    "start_time": "2022-03-30T10:28:51.056Z"
   },
   {
    "duration": 156,
    "start_time": "2022-03-30T10:28:51.225Z"
   },
   {
    "duration": 22,
    "start_time": "2022-03-30T10:28:51.383Z"
   },
   {
    "duration": 166,
    "start_time": "2022-03-30T10:28:51.407Z"
   },
   {
    "duration": 155,
    "start_time": "2022-03-30T10:28:51.575Z"
   },
   {
    "duration": 3,
    "start_time": "2022-03-30T10:28:51.732Z"
   },
   {
    "duration": 14,
    "start_time": "2022-03-30T10:28:51.738Z"
   },
   {
    "duration": 175,
    "start_time": "2022-03-30T10:28:51.754Z"
   },
   {
    "duration": 232,
    "start_time": "2022-03-30T10:28:51.931Z"
   },
   {
    "duration": 10,
    "start_time": "2022-03-30T10:28:52.165Z"
   },
   {
    "duration": 3,
    "start_time": "2022-03-30T10:28:52.177Z"
   },
   {
    "duration": 4,
    "start_time": "2022-03-30T10:28:52.200Z"
   },
   {
    "duration": 24,
    "start_time": "2022-03-30T10:28:52.206Z"
   },
   {
    "duration": 18,
    "start_time": "2022-03-30T10:28:52.232Z"
   },
   {
    "duration": 205,
    "start_time": "2022-03-30T10:28:52.253Z"
   },
   {
    "duration": 148,
    "start_time": "2022-03-30T10:28:52.460Z"
   },
   {
    "duration": 9,
    "start_time": "2022-03-30T10:28:52.610Z"
   },
   {
    "duration": 519,
    "start_time": "2022-03-31T08:19:33.703Z"
   },
   {
    "duration": 357,
    "start_time": "2022-03-31T08:19:34.224Z"
   },
   {
    "duration": 4,
    "start_time": "2022-03-31T08:19:34.583Z"
   },
   {
    "duration": 550,
    "start_time": "2022-03-31T08:19:34.590Z"
   },
   {
    "duration": 5,
    "start_time": "2022-03-31T08:19:35.143Z"
   },
   {
    "duration": 208,
    "start_time": "2022-03-31T08:19:35.150Z"
   },
   {
    "duration": 195,
    "start_time": "2022-03-31T08:19:35.361Z"
   },
   {
    "duration": 116,
    "start_time": "2022-03-31T08:19:35.559Z"
   },
   {
    "duration": 12,
    "start_time": "2022-03-31T08:19:35.677Z"
   },
   {
    "duration": 18,
    "start_time": "2022-03-31T08:19:35.692Z"
   },
   {
    "duration": 20,
    "start_time": "2022-03-31T08:19:35.713Z"
   },
   {
    "duration": 53,
    "start_time": "2022-03-31T08:19:35.735Z"
   },
   {
    "duration": 52,
    "start_time": "2022-03-31T08:19:35.790Z"
   },
   {
    "duration": 13,
    "start_time": "2022-03-31T08:19:35.844Z"
   },
   {
    "duration": 49,
    "start_time": "2022-03-31T08:19:35.859Z"
   },
   {
    "duration": 34,
    "start_time": "2022-03-31T08:19:35.910Z"
   },
   {
    "duration": 39,
    "start_time": "2022-03-31T08:19:35.947Z"
   },
   {
    "duration": 40,
    "start_time": "2022-03-31T08:19:35.989Z"
   },
   {
    "duration": 31,
    "start_time": "2022-03-31T08:19:36.032Z"
   },
   {
    "duration": 21,
    "start_time": "2022-03-31T08:19:36.065Z"
   },
   {
    "duration": 19,
    "start_time": "2022-03-31T08:19:36.088Z"
   },
   {
    "duration": 29,
    "start_time": "2022-03-31T08:19:36.110Z"
   },
   {
    "duration": 20,
    "start_time": "2022-03-31T08:19:36.141Z"
   },
   {
    "duration": 35,
    "start_time": "2022-03-31T08:19:36.163Z"
   },
   {
    "duration": 11,
    "start_time": "2022-03-31T08:19:36.200Z"
   },
   {
    "duration": 22,
    "start_time": "2022-03-31T08:19:36.213Z"
   },
   {
    "duration": 16,
    "start_time": "2022-03-31T08:19:36.237Z"
   },
   {
    "duration": 13,
    "start_time": "2022-03-31T08:19:36.288Z"
   },
   {
    "duration": 8,
    "start_time": "2022-03-31T08:19:36.304Z"
   },
   {
    "duration": 14,
    "start_time": "2022-03-31T08:19:36.314Z"
   },
   {
    "duration": 277,
    "start_time": "2022-03-31T08:19:36.330Z"
   },
   {
    "duration": 248,
    "start_time": "2022-03-31T08:19:36.610Z"
   },
   {
    "duration": 53,
    "start_time": "2022-03-31T08:19:36.860Z"
   },
   {
    "duration": 75,
    "start_time": "2022-03-31T08:19:36.915Z"
   },
   {
    "duration": 28,
    "start_time": "2022-03-31T08:19:36.992Z"
   },
   {
    "duration": 72,
    "start_time": "2022-03-31T08:19:37.022Z"
   },
   {
    "duration": 33,
    "start_time": "2022-03-31T08:19:37.097Z"
   },
   {
    "duration": 67,
    "start_time": "2022-03-31T08:19:37.132Z"
   },
   {
    "duration": 27,
    "start_time": "2022-03-31T08:19:37.201Z"
   },
   {
    "duration": 55,
    "start_time": "2022-03-31T08:19:37.230Z"
   },
   {
    "duration": 20,
    "start_time": "2022-03-31T08:19:37.287Z"
   },
   {
    "duration": 28,
    "start_time": "2022-03-31T08:19:37.309Z"
   },
   {
    "duration": 70,
    "start_time": "2022-03-31T08:19:37.339Z"
   },
   {
    "duration": 33,
    "start_time": "2022-03-31T08:19:37.411Z"
   },
   {
    "duration": 39,
    "start_time": "2022-03-31T08:19:37.446Z"
   },
   {
    "duration": 33,
    "start_time": "2022-03-31T08:19:37.487Z"
   },
   {
    "duration": 69,
    "start_time": "2022-03-31T08:19:37.522Z"
   },
   {
    "duration": 10,
    "start_time": "2022-03-31T08:19:37.593Z"
   },
   {
    "duration": 17,
    "start_time": "2022-03-31T08:19:37.605Z"
   },
   {
    "duration": 63,
    "start_time": "2022-03-31T08:19:37.625Z"
   },
   {
    "duration": 42,
    "start_time": "2022-03-31T08:19:37.690Z"
   },
   {
    "duration": 84,
    "start_time": "2022-03-31T08:19:37.734Z"
   },
   {
    "duration": 46,
    "start_time": "2022-03-31T08:19:37.820Z"
   },
   {
    "duration": 17,
    "start_time": "2022-03-31T08:19:37.883Z"
   },
   {
    "duration": 279,
    "start_time": "2022-03-31T08:19:37.902Z"
   },
   {
    "duration": 221,
    "start_time": "2022-03-31T08:19:38.184Z"
   },
   {
    "duration": 132,
    "start_time": "2022-03-31T08:19:38.407Z"
   },
   {
    "duration": 235,
    "start_time": "2022-03-31T08:19:38.541Z"
   },
   {
    "duration": 227,
    "start_time": "2022-03-31T08:19:38.778Z"
   },
   {
    "duration": 17,
    "start_time": "2022-03-31T08:19:39.007Z"
   },
   {
    "duration": 265,
    "start_time": "2022-03-31T08:19:39.026Z"
   },
   {
    "duration": 248,
    "start_time": "2022-03-31T08:19:39.294Z"
   },
   {
    "duration": 4,
    "start_time": "2022-03-31T08:19:39.544Z"
   },
   {
    "duration": 34,
    "start_time": "2022-03-31T08:19:39.550Z"
   },
   {
    "duration": 256,
    "start_time": "2022-03-31T08:19:39.586Z"
   },
   {
    "duration": 309,
    "start_time": "2022-03-31T08:19:39.845Z"
   },
   {
    "duration": 11,
    "start_time": "2022-03-31T08:19:40.156Z"
   },
   {
    "duration": 3,
    "start_time": "2022-03-31T08:19:40.184Z"
   },
   {
    "duration": 18,
    "start_time": "2022-03-31T08:19:40.189Z"
   },
   {
    "duration": 37,
    "start_time": "2022-03-31T08:19:40.209Z"
   },
   {
    "duration": 35,
    "start_time": "2022-03-31T08:19:40.248Z"
   },
   {
    "duration": 254,
    "start_time": "2022-03-31T08:19:40.286Z"
   },
   {
    "duration": 220,
    "start_time": "2022-03-31T08:19:40.542Z"
   },
   {
    "duration": 20,
    "start_time": "2022-03-31T08:19:40.764Z"
   }
  ],
  "kernelspec": {
   "display_name": "Python 3 (ipykernel)",
   "language": "python",
   "name": "python3"
  },
  "language_info": {
   "codemirror_mode": {
    "name": "ipython",
    "version": 3
   },
   "file_extension": ".py",
   "mimetype": "text/x-python",
   "name": "python",
   "nbconvert_exporter": "python",
   "pygments_lexer": "ipython3",
   "version": "3.10.2"
  },
  "toc": {
   "base_numbering": 1,
   "nav_menu": {},
   "number_sections": false,
   "sideBar": true,
   "skip_h1_title": false,
   "title_cell": "Table of Contents",
   "title_sidebar": "Contents",
   "toc_cell": false,
   "toc_position": {},
   "toc_section_display": true,
   "toc_window_display": true
  }
 },
 "nbformat": 4,
 "nbformat_minor": 4
}
